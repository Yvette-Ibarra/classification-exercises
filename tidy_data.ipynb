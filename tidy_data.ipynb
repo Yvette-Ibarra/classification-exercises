{
 "cells": [
  {
   "cell_type": "markdown",
   "id": "20fefdd9",
   "metadata": {},
   "source": [
    "# $ Tidy Data $"
   ]
  },
  {
   "cell_type": "markdown",
   "id": "0bc08039",
   "metadata": {},
   "source": [
    "#### Imports"
   ]
  },
  {
   "cell_type": "code",
   "execution_count": 3,
   "id": "d7777b60",
   "metadata": {},
   "outputs": [],
   "source": [
    "import pandas as pd\n",
    "import env\n",
    "from pydataset import data\n",
    "import acquire\n",
    "\n",
    "# train test split from sklearn\n",
    "from sklearn.model_selection import train_test_split\n",
    "# imputer from sklearn\n",
    "# help with missing value by replacing blank with: median, mode, average, calculate using other column\n",
    "from sklearn.impute import SimpleImputer\n",
    "\n",
    "db_url = f'mysql+pymysql://{env.user}:{env.password}@{env.host}/tidy_data'"
   ]
  },
  {
   "cell_type": "markdown",
   "id": "67cb50ad",
   "metadata": {},
   "source": [
    "### 1. Attendance Data\n",
    "\n",
    "Read the data from the attendance table and calculate an attendance percentage for each student. One half day is worth 50% of a full day, and 10 tardies is equal to one absence.\n",
    "\n",
    "You should end up with something like this:\n",
    "\n",
    "\n",
    "name\n",
    "\n",
    "Billy    0.5250 \n",
    "\n",
    "Jane     0.6875\n",
    "\n",
    "John     0.9125\n",
    "\n",
    "Sally    0.7625\n",
    "\n",
    "Name: grade, dtype: float64\n",
    "Coffee Levels"
   ]
  },
  {
   "cell_type": "code",
   "execution_count": null,
   "id": "be0ce1a3",
   "metadata": {},
   "outputs": [],
   "source": [
    "db_url = f'mysql+pymysql://{env.user}:{env.password}@{env.host}/tidy_data'\n",
    "\n",
    "   \n",
    "\n",
    "sql_query = \"\"\"\n",
    "                SELECT * \n",
    "                From attendance;\n",
    "                \"\"\"\n",
    "\n",
    "attendance = pd.read_sql(sql_query, db_url)"
   ]
  },
  {
   "cell_type": "code",
   "execution_count": null,
   "id": "53903054",
   "metadata": {},
   "outputs": [],
   "source": [
    "# check to see what attendance looks like\n",
    "attendance"
   ]
  },
  {
   "cell_type": "code",
   "execution_count": null,
   "id": "5519723d",
   "metadata": {},
   "outputs": [],
   "source": [
    "# create a dataframe where we melt data and attendance\n",
    "df = attendance.melt(id_vars='Unnamed: 0',var_name= 'date', value_name='attendance')\n",
    "df"
   ]
  },
  {
   "cell_type": "code",
   "execution_count": null,
   "id": "c8a8672d",
   "metadata": {},
   "outputs": [],
   "source": [
    "# rename columns to name\n",
    "df.rename(columns={'Unnamed: 0':'name'}, inplace = True)\n",
    "\n",
    "# drop date column\n",
    "df.drop(columns ='date', inplace = True)"
   ]
  },
  {
   "cell_type": "code",
   "execution_count": null,
   "id": "5fd994f9",
   "metadata": {},
   "outputs": [],
   "source": [
    "# replace data values of attendance with floats relating to attendance\n",
    "df['attendance'].replace({'A':0,'P':1,'T':.9,'H':0.5}, inplace = True)"
   ]
  },
  {
   "cell_type": "code",
   "execution_count": null,
   "id": "c36ae453",
   "metadata": {},
   "outputs": [],
   "source": [
    "# group by name to obtain average attendance\n",
    "attendance_avg = df.groupby('name').mean().astype('float')"
   ]
  },
  {
   "cell_type": "code",
   "execution_count": null,
   "id": "514dd906",
   "metadata": {},
   "outputs": [],
   "source": [
    "attendance_avg"
   ]
  },
  {
   "cell_type": "markdown",
   "id": "a3326f10",
   "metadata": {},
   "source": [
    "### 2. Coffee Levels"
   ]
  },
  {
   "cell_type": "markdown",
   "id": "63a398b1",
   "metadata": {},
   "source": [
    "### a) Read the coffee_levels table."
   ]
  },
  {
   "cell_type": "code",
   "execution_count": 21,
   "id": "f6345a16",
   "metadata": {},
   "outputs": [],
   "source": [
    "# read the coffee_levels table from codeup database\n",
    "sql_query = \"\"\"\n",
    "                SELECT * \n",
    "                From coffee_levels;\n",
    "                \"\"\"\n",
    "\n",
    "coffee_levels = pd.read_sql(sql_query, db_url )"
   ]
  },
  {
   "cell_type": "code",
   "execution_count": 22,
   "id": "e900bc98",
   "metadata": {
    "scrolled": false
   },
   "outputs": [
    {
     "data": {
      "text/html": [
       "<div>\n",
       "<style scoped>\n",
       "    .dataframe tbody tr th:only-of-type {\n",
       "        vertical-align: middle;\n",
       "    }\n",
       "\n",
       "    .dataframe tbody tr th {\n",
       "        vertical-align: top;\n",
       "    }\n",
       "\n",
       "    .dataframe thead th {\n",
       "        text-align: right;\n",
       "    }\n",
       "</style>\n",
       "<table border=\"1\" class=\"dataframe\">\n",
       "  <thead>\n",
       "    <tr style=\"text-align: right;\">\n",
       "      <th></th>\n",
       "      <th>hour</th>\n",
       "      <th>coffee_carafe</th>\n",
       "      <th>coffee_amount</th>\n",
       "    </tr>\n",
       "  </thead>\n",
       "  <tbody>\n",
       "    <tr>\n",
       "      <th>0</th>\n",
       "      <td>8</td>\n",
       "      <td>x</td>\n",
       "      <td>0.816164</td>\n",
       "    </tr>\n",
       "    <tr>\n",
       "      <th>1</th>\n",
       "      <td>9</td>\n",
       "      <td>x</td>\n",
       "      <td>0.451018</td>\n",
       "    </tr>\n",
       "    <tr>\n",
       "      <th>2</th>\n",
       "      <td>10</td>\n",
       "      <td>x</td>\n",
       "      <td>0.843279</td>\n",
       "    </tr>\n",
       "    <tr>\n",
       "      <th>3</th>\n",
       "      <td>11</td>\n",
       "      <td>x</td>\n",
       "      <td>0.335533</td>\n",
       "    </tr>\n",
       "    <tr>\n",
       "      <th>4</th>\n",
       "      <td>12</td>\n",
       "      <td>x</td>\n",
       "      <td>0.898291</td>\n",
       "    </tr>\n",
       "    <tr>\n",
       "      <th>5</th>\n",
       "      <td>13</td>\n",
       "      <td>x</td>\n",
       "      <td>0.310711</td>\n",
       "    </tr>\n",
       "    <tr>\n",
       "      <th>6</th>\n",
       "      <td>14</td>\n",
       "      <td>x</td>\n",
       "      <td>0.507288</td>\n",
       "    </tr>\n",
       "    <tr>\n",
       "      <th>7</th>\n",
       "      <td>15</td>\n",
       "      <td>x</td>\n",
       "      <td>0.215043</td>\n",
       "    </tr>\n",
       "    <tr>\n",
       "      <th>8</th>\n",
       "      <td>16</td>\n",
       "      <td>x</td>\n",
       "      <td>0.183891</td>\n",
       "    </tr>\n",
       "    <tr>\n",
       "      <th>9</th>\n",
       "      <td>17</td>\n",
       "      <td>x</td>\n",
       "      <td>0.391560</td>\n",
       "    </tr>\n",
       "    <tr>\n",
       "      <th>10</th>\n",
       "      <td>8</td>\n",
       "      <td>y</td>\n",
       "      <td>0.189297</td>\n",
       "    </tr>\n",
       "    <tr>\n",
       "      <th>11</th>\n",
       "      <td>9</td>\n",
       "      <td>y</td>\n",
       "      <td>0.521502</td>\n",
       "    </tr>\n",
       "    <tr>\n",
       "      <th>12</th>\n",
       "      <td>10</td>\n",
       "      <td>y</td>\n",
       "      <td>0.023163</td>\n",
       "    </tr>\n",
       "    <tr>\n",
       "      <th>13</th>\n",
       "      <td>11</td>\n",
       "      <td>y</td>\n",
       "      <td>0.235529</td>\n",
       "    </tr>\n",
       "    <tr>\n",
       "      <th>14</th>\n",
       "      <td>12</td>\n",
       "      <td>y</td>\n",
       "      <td>0.017009</td>\n",
       "    </tr>\n",
       "    <tr>\n",
       "      <th>15</th>\n",
       "      <td>13</td>\n",
       "      <td>y</td>\n",
       "      <td>0.997464</td>\n",
       "    </tr>\n",
       "    <tr>\n",
       "      <th>16</th>\n",
       "      <td>14</td>\n",
       "      <td>y</td>\n",
       "      <td>0.058361</td>\n",
       "    </tr>\n",
       "    <tr>\n",
       "      <th>17</th>\n",
       "      <td>15</td>\n",
       "      <td>y</td>\n",
       "      <td>0.144644</td>\n",
       "    </tr>\n",
       "    <tr>\n",
       "      <th>18</th>\n",
       "      <td>16</td>\n",
       "      <td>y</td>\n",
       "      <td>0.544676</td>\n",
       "    </tr>\n",
       "    <tr>\n",
       "      <th>19</th>\n",
       "      <td>17</td>\n",
       "      <td>y</td>\n",
       "      <td>0.594126</td>\n",
       "    </tr>\n",
       "    <tr>\n",
       "      <th>20</th>\n",
       "      <td>8</td>\n",
       "      <td>z</td>\n",
       "      <td>0.999264</td>\n",
       "    </tr>\n",
       "    <tr>\n",
       "      <th>21</th>\n",
       "      <td>9</td>\n",
       "      <td>z</td>\n",
       "      <td>0.915990</td>\n",
       "    </tr>\n",
       "    <tr>\n",
       "      <th>22</th>\n",
       "      <td>10</td>\n",
       "      <td>z</td>\n",
       "      <td>0.144928</td>\n",
       "    </tr>\n",
       "    <tr>\n",
       "      <th>23</th>\n",
       "      <td>11</td>\n",
       "      <td>z</td>\n",
       "      <td>0.311495</td>\n",
       "    </tr>\n",
       "    <tr>\n",
       "      <th>24</th>\n",
       "      <td>12</td>\n",
       "      <td>z</td>\n",
       "      <td>0.771947</td>\n",
       "    </tr>\n",
       "    <tr>\n",
       "      <th>25</th>\n",
       "      <td>13</td>\n",
       "      <td>z</td>\n",
       "      <td>0.398520</td>\n",
       "    </tr>\n",
       "    <tr>\n",
       "      <th>26</th>\n",
       "      <td>14</td>\n",
       "      <td>z</td>\n",
       "      <td>0.864464</td>\n",
       "    </tr>\n",
       "    <tr>\n",
       "      <th>27</th>\n",
       "      <td>15</td>\n",
       "      <td>z</td>\n",
       "      <td>0.436364</td>\n",
       "    </tr>\n",
       "    <tr>\n",
       "      <th>28</th>\n",
       "      <td>16</td>\n",
       "      <td>z</td>\n",
       "      <td>0.280621</td>\n",
       "    </tr>\n",
       "    <tr>\n",
       "      <th>29</th>\n",
       "      <td>17</td>\n",
       "      <td>z</td>\n",
       "      <td>0.436677</td>\n",
       "    </tr>\n",
       "  </tbody>\n",
       "</table>\n",
       "</div>"
      ],
      "text/plain": [
       "    hour coffee_carafe  coffee_amount\n",
       "0      8             x       0.816164\n",
       "1      9             x       0.451018\n",
       "2     10             x       0.843279\n",
       "3     11             x       0.335533\n",
       "4     12             x       0.898291\n",
       "5     13             x       0.310711\n",
       "6     14             x       0.507288\n",
       "7     15             x       0.215043\n",
       "8     16             x       0.183891\n",
       "9     17             x       0.391560\n",
       "10     8             y       0.189297\n",
       "11     9             y       0.521502\n",
       "12    10             y       0.023163\n",
       "13    11             y       0.235529\n",
       "14    12             y       0.017009\n",
       "15    13             y       0.997464\n",
       "16    14             y       0.058361\n",
       "17    15             y       0.144644\n",
       "18    16             y       0.544676\n",
       "19    17             y       0.594126\n",
       "20     8             z       0.999264\n",
       "21     9             z       0.915990\n",
       "22    10             z       0.144928\n",
       "23    11             z       0.311495\n",
       "24    12             z       0.771947\n",
       "25    13             z       0.398520\n",
       "26    14             z       0.864464\n",
       "27    15             z       0.436364\n",
       "28    16             z       0.280621\n",
       "29    17             z       0.436677"
      ]
     },
     "execution_count": 22,
     "metadata": {},
     "output_type": "execute_result"
    }
   ],
   "source": [
    "coffee_levels\n"
   ]
  },
  {
   "cell_type": "markdown",
   "id": "5e319e54",
   "metadata": {},
   "source": [
    "### b) Transform the data so that each carafe is in it's own column."
   ]
  },
  {
   "cell_type": "code",
   "execution_count": 24,
   "id": "1d6a1c1d",
   "metadata": {
    "scrolled": true
   },
   "outputs": [
    {
     "data": {
      "text/html": [
       "<div>\n",
       "<style scoped>\n",
       "    .dataframe tbody tr th:only-of-type {\n",
       "        vertical-align: middle;\n",
       "    }\n",
       "\n",
       "    .dataframe tbody tr th {\n",
       "        vertical-align: top;\n",
       "    }\n",
       "\n",
       "    .dataframe thead th {\n",
       "        text-align: right;\n",
       "    }\n",
       "</style>\n",
       "<table border=\"1\" class=\"dataframe\">\n",
       "  <thead>\n",
       "    <tr style=\"text-align: right;\">\n",
       "      <th>coffee_carafe</th>\n",
       "      <th>hour</th>\n",
       "      <th>x</th>\n",
       "      <th>y</th>\n",
       "      <th>z</th>\n",
       "    </tr>\n",
       "  </thead>\n",
       "  <tbody>\n",
       "    <tr>\n",
       "      <th>0</th>\n",
       "      <td>8</td>\n",
       "      <td>0.816164</td>\n",
       "      <td>0.189297</td>\n",
       "      <td>0.999264</td>\n",
       "    </tr>\n",
       "    <tr>\n",
       "      <th>1</th>\n",
       "      <td>9</td>\n",
       "      <td>0.451018</td>\n",
       "      <td>0.521502</td>\n",
       "      <td>0.915990</td>\n",
       "    </tr>\n",
       "    <tr>\n",
       "      <th>2</th>\n",
       "      <td>10</td>\n",
       "      <td>0.843279</td>\n",
       "      <td>0.023163</td>\n",
       "      <td>0.144928</td>\n",
       "    </tr>\n",
       "    <tr>\n",
       "      <th>3</th>\n",
       "      <td>11</td>\n",
       "      <td>0.335533</td>\n",
       "      <td>0.235529</td>\n",
       "      <td>0.311495</td>\n",
       "    </tr>\n",
       "    <tr>\n",
       "      <th>4</th>\n",
       "      <td>12</td>\n",
       "      <td>0.898291</td>\n",
       "      <td>0.017009</td>\n",
       "      <td>0.771947</td>\n",
       "    </tr>\n",
       "    <tr>\n",
       "      <th>5</th>\n",
       "      <td>13</td>\n",
       "      <td>0.310711</td>\n",
       "      <td>0.997464</td>\n",
       "      <td>0.398520</td>\n",
       "    </tr>\n",
       "    <tr>\n",
       "      <th>6</th>\n",
       "      <td>14</td>\n",
       "      <td>0.507288</td>\n",
       "      <td>0.058361</td>\n",
       "      <td>0.864464</td>\n",
       "    </tr>\n",
       "    <tr>\n",
       "      <th>7</th>\n",
       "      <td>15</td>\n",
       "      <td>0.215043</td>\n",
       "      <td>0.144644</td>\n",
       "      <td>0.436364</td>\n",
       "    </tr>\n",
       "    <tr>\n",
       "      <th>8</th>\n",
       "      <td>16</td>\n",
       "      <td>0.183891</td>\n",
       "      <td>0.544676</td>\n",
       "      <td>0.280621</td>\n",
       "    </tr>\n",
       "    <tr>\n",
       "      <th>9</th>\n",
       "      <td>17</td>\n",
       "      <td>0.391560</td>\n",
       "      <td>0.594126</td>\n",
       "      <td>0.436677</td>\n",
       "    </tr>\n",
       "  </tbody>\n",
       "</table>\n",
       "</div>"
      ],
      "text/plain": [
       "coffee_carafe  hour         x         y         z\n",
       "0                 8  0.816164  0.189297  0.999264\n",
       "1                 9  0.451018  0.521502  0.915990\n",
       "2                10  0.843279  0.023163  0.144928\n",
       "3                11  0.335533  0.235529  0.311495\n",
       "4                12  0.898291  0.017009  0.771947\n",
       "5                13  0.310711  0.997464  0.398520\n",
       "6                14  0.507288  0.058361  0.864464\n",
       "7                15  0.215043  0.144644  0.436364\n",
       "8                16  0.183891  0.544676  0.280621\n",
       "9                17  0.391560  0.594126  0.436677"
      ]
     },
     "execution_count": 24,
     "metadata": {},
     "output_type": "execute_result"
    }
   ],
   "source": [
    "# Transform the data so that each carafe is its own columns\n",
    "coffee_levels.pivot_table(index=['hour'],\n",
    "                         columns = 'coffee_carafe',\n",
    "                         values = 'coffee_amount').reset_index()"
   ]
  },
  {
   "cell_type": "code",
   "execution_count": null,
   "id": "24561282",
   "metadata": {},
   "outputs": [],
   "source": []
  },
  {
   "cell_type": "markdown",
   "id": "ca7bf2f1",
   "metadata": {},
   "source": [
    "### c) Is this the best shape for the data?"
   ]
  },
  {
   "cell_type": "markdown",
   "id": "0ba061ea",
   "metadata": {},
   "source": [
    "The shape above is a better shape for the table because coffee_carafe is best seen as a column."
   ]
  },
  {
   "cell_type": "markdown",
   "id": "2a8efb03",
   "metadata": {},
   "source": [
    "### 3. Cake Recipes"
   ]
  },
  {
   "cell_type": "markdown",
   "id": "9b8ea08e",
   "metadata": {},
   "source": [
    "### a) Read the cake_recipes table. This data set contains cake tastiness scores for combinations of different recipes, oven rack positions, and oven temperatures."
   ]
  },
  {
   "cell_type": "code",
   "execution_count": null,
   "id": "20d086e6",
   "metadata": {},
   "outputs": [],
   "source": [
    "# read the coffee_levels table from codeup database\n",
    "sql_query = \"\"\"\n",
    "                SELECT * \n",
    "                From cake_recipes;\n",
    "                \"\"\"\n",
    "\n",
    "cake_recipes = pd.read_sql(sql_query, db_url)"
   ]
  },
  {
   "cell_type": "code",
   "execution_count": null,
   "id": "3a8ab74d",
   "metadata": {
    "scrolled": true
   },
   "outputs": [],
   "source": [
    "# see the data\n",
    "cake_recipes"
   ]
  },
  {
   "cell_type": "markdown",
   "id": "eacbc067",
   "metadata": {},
   "source": [
    "### b) Tidy the data as necessary."
   ]
  },
  {
   "cell_type": "code",
   "execution_count": null,
   "id": "c120a1ce",
   "metadata": {},
   "outputs": [],
   "source": [
    "# split recipe and position to create individual observations, set expand = True so each variable gets its own columns\n",
    "recipe_position_df = cake_recipes['recipe:position'].str.split(':', expand= True)\n",
    "recipe_position_df.columns =['recipe', 'position']\n",
    "recipe_position_df.head()"
   ]
  },
  {
   "cell_type": "code",
   "execution_count": null,
   "id": "b713c5c5",
   "metadata": {},
   "outputs": [],
   "source": [
    "# dropped concat original dataframe with split variable dataframe and drop column\n",
    "cake2=pd.concat([recipe_position_df,cake_recipes], axis = 1).drop(columns = 'recipe:position')\n",
    "cake2.head()"
   ]
  },
  {
   "cell_type": "code",
   "execution_count": null,
   "id": "2c23d359",
   "metadata": {},
   "outputs": [],
   "source": [
    "# create a melt and keep vairables as columns ['recipe','position'] and convert the rest to 'temp'column, use values as rate values\n",
    "cake_melt = cake2.melt(id_vars=['recipe','position'],\n",
    "                 var_name='temp',\n",
    "                 value_name='rate')"
   ]
  },
  {
   "cell_type": "code",
   "execution_count": null,
   "id": "61472e61",
   "metadata": {
    "scrolled": true
   },
   "outputs": [],
   "source": [
    "# tidy data\n",
    "cake_melt"
   ]
  },
  {
   "cell_type": "markdown",
   "id": "f332edc7",
   "metadata": {},
   "source": [
    "### c) Which recipe, on average, is the best? \n",
    "Recipe b has the highest mean 76.73607"
   ]
  },
  {
   "cell_type": "code",
   "execution_count": null,
   "id": "0a75c655",
   "metadata": {
    "scrolled": true
   },
   "outputs": [],
   "source": [
    "# group by recipe type and calculate the mean\n",
    "cake_melt.groupby('recipe').mean()"
   ]
  },
  {
   "cell_type": "markdown",
   "id": "8828bdb4",
   "metadata": {},
   "source": [
    "### d) Which oven temperature, on average, produces the best results? \n",
    "The oven temperature of 275 producees the best results according to the rating of 74.886754\n"
   ]
  },
  {
   "cell_type": "code",
   "execution_count": null,
   "id": "1b87862a",
   "metadata": {
    "scrolled": true
   },
   "outputs": [],
   "source": [
    "cake_melt.groupby('temp').mean()"
   ]
  },
  {
   "cell_type": "markdown",
   "id": "c35643e4",
   "metadata": {},
   "source": [
    "### e) Which combination of recipe, rack position, and temperature gives the best result?\n",
    "Recipe B in bottom position at 300 degrees has the highest rating at 99.248541"
   ]
  },
  {
   "cell_type": "code",
   "execution_count": null,
   "id": "f8a59409",
   "metadata": {
    "scrolled": true
   },
   "outputs": [],
   "source": [
    "cake_melt[cake_melt.rate == cake_melt.rate.max()]"
   ]
  },
  {
   "cell_type": "markdown",
   "id": "36198f4a",
   "metadata": {},
   "source": [
    "# 4 Bonus: explore the other tables in the tidy_data database and reshape them as necessary so that they are in a tidy format."
   ]
  },
  {
   "cell_type": "code",
   "execution_count": 4,
   "id": "1b5ea7ae",
   "metadata": {},
   "outputs": [],
   "source": [
    "# read the coffee_levels table from codeup database\n",
    "sql_query = \"\"\"\n",
    "                SELECT * \n",
    "                From gapminder1;\n",
    "                \"\"\"\n",
    "\n",
    "gapminder1 = pd.read_sql(sql_query, db_url)"
   ]
  },
  {
   "cell_type": "code",
   "execution_count": 14,
   "id": "fac45c6e",
   "metadata": {},
   "outputs": [
    {
     "data": {
      "text/html": [
       "<div>\n",
       "<style scoped>\n",
       "    .dataframe tbody tr th:only-of-type {\n",
       "        vertical-align: middle;\n",
       "    }\n",
       "\n",
       "    .dataframe tbody tr th {\n",
       "        vertical-align: top;\n",
       "    }\n",
       "\n",
       "    .dataframe thead th {\n",
       "        text-align: right;\n",
       "    }\n",
       "</style>\n",
       "<table border=\"1\" class=\"dataframe\">\n",
       "  <thead>\n",
       "    <tr style=\"text-align: right;\">\n",
       "      <th></th>\n",
       "      <th>year</th>\n",
       "      <th>country</th>\n",
       "      <th>measure</th>\n",
       "      <th>measurement</th>\n",
       "    </tr>\n",
       "  </thead>\n",
       "  <tbody>\n",
       "    <tr>\n",
       "      <th>225</th>\n",
       "      <td>1980</td>\n",
       "      <td>Egypt</td>\n",
       "      <td>pop</td>\n",
       "      <td>4.263422e+07</td>\n",
       "    </tr>\n",
       "    <tr>\n",
       "      <th>1531</th>\n",
       "      <td>1965</td>\n",
       "      <td>China</td>\n",
       "      <td>fertility</td>\n",
       "      <td>6.060000e+00</td>\n",
       "    </tr>\n",
       "    <tr>\n",
       "      <th>1466</th>\n",
       "      <td>1970</td>\n",
       "      <td>Barbados</td>\n",
       "      <td>fertility</td>\n",
       "      <td>2.740000e+00</td>\n",
       "    </tr>\n",
       "    <tr>\n",
       "      <th>1316</th>\n",
       "      <td>1990</td>\n",
       "      <td>South Africa</td>\n",
       "      <td>life_expect</td>\n",
       "      <td>6.188800e+01</td>\n",
       "    </tr>\n",
       "    <tr>\n",
       "      <th>1408</th>\n",
       "      <td>1955</td>\n",
       "      <td>Aruba</td>\n",
       "      <td>fertility</td>\n",
       "      <td>5.150000e+00</td>\n",
       "    </tr>\n",
       "    <tr>\n",
       "      <th>1697</th>\n",
       "      <td>1970</td>\n",
       "      <td>Haiti</td>\n",
       "      <td>fertility</td>\n",
       "      <td>5.600500e+00</td>\n",
       "    </tr>\n",
       "    <tr>\n",
       "      <th>816</th>\n",
       "      <td>1965</td>\n",
       "      <td>Canada</td>\n",
       "      <td>life_expect</td>\n",
       "      <td>7.213000e+01</td>\n",
       "    </tr>\n",
       "    <tr>\n",
       "      <th>246</th>\n",
       "      <td>1975</td>\n",
       "      <td>Finland</td>\n",
       "      <td>pop</td>\n",
       "      <td>4.711439e+06</td>\n",
       "    </tr>\n",
       "    <tr>\n",
       "      <th>641</th>\n",
       "      <td>1970</td>\n",
       "      <td>Switzerland</td>\n",
       "      <td>pop</td>\n",
       "      <td>6.267000e+06</td>\n",
       "    </tr>\n",
       "    <tr>\n",
       "      <th>1881</th>\n",
       "      <td>1955</td>\n",
       "      <td>Netherlands</td>\n",
       "      <td>fertility</td>\n",
       "      <td>3.095000e+00</td>\n",
       "    </tr>\n",
       "  </tbody>\n",
       "</table>\n",
       "</div>"
      ],
      "text/plain": [
       "      year       country      measure   measurement\n",
       "225   1980         Egypt          pop  4.263422e+07\n",
       "1531  1965         China    fertility  6.060000e+00\n",
       "1466  1970      Barbados    fertility  2.740000e+00\n",
       "1316  1990  South Africa  life_expect  6.188800e+01\n",
       "1408  1955         Aruba    fertility  5.150000e+00\n",
       "1697  1970         Haiti    fertility  5.600500e+00\n",
       "816   1965        Canada  life_expect  7.213000e+01\n",
       "246   1975       Finland          pop  4.711439e+06\n",
       "641   1970   Switzerland          pop  6.267000e+06\n",
       "1881  1955   Netherlands    fertility  3.095000e+00"
      ]
     },
     "execution_count": 14,
     "metadata": {},
     "output_type": "execute_result"
    }
   ],
   "source": [
    "gapminder1.sample(10)"
   ]
  },
  {
   "cell_type": "markdown",
   "id": "3d24f095",
   "metadata": {},
   "source": [
    " Measure pop, fertility, life_expect look like variables with measurement as values,\n",
    " So we need to go up ...pivot table"
   ]
  },
  {
   "cell_type": "code",
   "execution_count": 9,
   "id": "7069eb33",
   "metadata": {},
   "outputs": [
    {
     "data": {
      "text/plain": [
       "Index(['year', 'country', 'measure', 'measurement'], dtype='object')"
      ]
     },
     "execution_count": 9,
     "metadata": {},
     "output_type": "execute_result"
    }
   ],
   "source": [
    "gapminder1.columns"
   ]
  },
  {
   "cell_type": "code",
   "execution_count": 12,
   "id": "45d3416f",
   "metadata": {
    "scrolled": true
   },
   "outputs": [
    {
     "data": {
      "text/plain": [
       "year             int64\n",
       "country         object\n",
       "measure         object\n",
       "measurement    float64\n",
       "dtype: object"
      ]
     },
     "execution_count": 12,
     "metadata": {},
     "output_type": "execute_result"
    }
   ],
   "source": [
    "gapminder1.dtypes"
   ]
  },
  {
   "cell_type": "code",
   "execution_count": 20,
   "id": "d78b2473",
   "metadata": {},
   "outputs": [
    {
     "data": {
      "text/html": [
       "<div>\n",
       "<style scoped>\n",
       "    .dataframe tbody tr th:only-of-type {\n",
       "        vertical-align: middle;\n",
       "    }\n",
       "\n",
       "    .dataframe tbody tr th {\n",
       "        vertical-align: top;\n",
       "    }\n",
       "\n",
       "    .dataframe thead th {\n",
       "        text-align: right;\n",
       "    }\n",
       "</style>\n",
       "<table border=\"1\" class=\"dataframe\">\n",
       "  <thead>\n",
       "    <tr style=\"text-align: right;\">\n",
       "      <th>measure</th>\n",
       "      <th>year</th>\n",
       "      <th>country</th>\n",
       "      <th>fertility</th>\n",
       "      <th>life_expect</th>\n",
       "      <th>pop</th>\n",
       "    </tr>\n",
       "  </thead>\n",
       "  <tbody>\n",
       "    <tr>\n",
       "      <th>0</th>\n",
       "      <td>1955</td>\n",
       "      <td>Afghanistan</td>\n",
       "      <td>7.7000</td>\n",
       "      <td>30.332</td>\n",
       "      <td>8891209.0</td>\n",
       "    </tr>\n",
       "    <tr>\n",
       "      <th>1</th>\n",
       "      <td>1955</td>\n",
       "      <td>Argentina</td>\n",
       "      <td>3.1265</td>\n",
       "      <td>64.399</td>\n",
       "      <td>18927821.0</td>\n",
       "    </tr>\n",
       "    <tr>\n",
       "      <th>2</th>\n",
       "      <td>1955</td>\n",
       "      <td>Aruba</td>\n",
       "      <td>5.1500</td>\n",
       "      <td>64.381</td>\n",
       "      <td>53865.0</td>\n",
       "    </tr>\n",
       "    <tr>\n",
       "      <th>3</th>\n",
       "      <td>1955</td>\n",
       "      <td>Australia</td>\n",
       "      <td>3.4060</td>\n",
       "      <td>70.330</td>\n",
       "      <td>9277087.0</td>\n",
       "    </tr>\n",
       "    <tr>\n",
       "      <th>4</th>\n",
       "      <td>1955</td>\n",
       "      <td>Austria</td>\n",
       "      <td>2.5200</td>\n",
       "      <td>67.480</td>\n",
       "      <td>6946885.0</td>\n",
       "    </tr>\n",
       "    <tr>\n",
       "      <th>...</th>\n",
       "      <td>...</td>\n",
       "      <td>...</td>\n",
       "      <td>...</td>\n",
       "      <td>...</td>\n",
       "      <td>...</td>\n",
       "    </tr>\n",
       "    <tr>\n",
       "      <th>688</th>\n",
       "      <td>2005</td>\n",
       "      <td>Switzerland</td>\n",
       "      <td>1.4200</td>\n",
       "      <td>81.701</td>\n",
       "      <td>7489370.0</td>\n",
       "    </tr>\n",
       "    <tr>\n",
       "      <th>689</th>\n",
       "      <td>2005</td>\n",
       "      <td>Turkey</td>\n",
       "      <td>2.1430</td>\n",
       "      <td>71.777</td>\n",
       "      <td>69660559.0</td>\n",
       "    </tr>\n",
       "    <tr>\n",
       "      <th>690</th>\n",
       "      <td>2005</td>\n",
       "      <td>United Kingdom</td>\n",
       "      <td>1.8150</td>\n",
       "      <td>79.425</td>\n",
       "      <td>60441457.0</td>\n",
       "    </tr>\n",
       "    <tr>\n",
       "      <th>691</th>\n",
       "      <td>2005</td>\n",
       "      <td>United States</td>\n",
       "      <td>2.0540</td>\n",
       "      <td>78.242</td>\n",
       "      <td>295734134.0</td>\n",
       "    </tr>\n",
       "    <tr>\n",
       "      <th>692</th>\n",
       "      <td>2005</td>\n",
       "      <td>Venezuela</td>\n",
       "      <td>2.5470</td>\n",
       "      <td>73.747</td>\n",
       "      <td>25375281.0</td>\n",
       "    </tr>\n",
       "  </tbody>\n",
       "</table>\n",
       "<p>693 rows × 5 columns</p>\n",
       "</div>"
      ],
      "text/plain": [
       "measure  year         country  fertility  life_expect          pop\n",
       "0        1955     Afghanistan     7.7000       30.332    8891209.0\n",
       "1        1955       Argentina     3.1265       64.399   18927821.0\n",
       "2        1955           Aruba     5.1500       64.381      53865.0\n",
       "3        1955       Australia     3.4060       70.330    9277087.0\n",
       "4        1955         Austria     2.5200       67.480    6946885.0\n",
       "..        ...             ...        ...          ...          ...\n",
       "688      2005     Switzerland     1.4200       81.701    7489370.0\n",
       "689      2005          Turkey     2.1430       71.777   69660559.0\n",
       "690      2005  United Kingdom     1.8150       79.425   60441457.0\n",
       "691      2005   United States     2.0540       78.242  295734134.0\n",
       "692      2005       Venezuela     2.5470       73.747   25375281.0\n",
       "\n",
       "[693 rows x 5 columns]"
      ]
     },
     "execution_count": 20,
     "metadata": {},
     "output_type": "execute_result"
    }
   ],
   "source": [
    "gapminder1.pivot_table(index=['year','country'],\n",
    "                        columns = 'measure',\n",
    "                      values = 'measurement').reset_index()"
   ]
  }
 ],
 "metadata": {
  "kernelspec": {
   "display_name": "Python 3 (ipykernel)",
   "language": "python",
   "name": "python3"
  },
  "language_info": {
   "codemirror_mode": {
    "name": "ipython",
    "version": 3
   },
   "file_extension": ".py",
   "mimetype": "text/x-python",
   "name": "python",
   "nbconvert_exporter": "python",
   "pygments_lexer": "ipython3",
   "version": "3.9.12"
  }
 },
 "nbformat": 4,
 "nbformat_minor": 5
}
