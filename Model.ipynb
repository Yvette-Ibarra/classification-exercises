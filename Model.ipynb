{
 "cells": [
  {
   "cell_type": "markdown",
   "id": "9d470f64",
   "metadata": {},
   "source": [
    "# $Model$\n",
    "\n",
    "## Using the titanic data:\n",
    "\n"
   ]
  },
  {
   "cell_type": "markdown",
   "id": "f88107a1",
   "metadata": {},
   "source": [
    "### imports"
   ]
  },
  {
   "cell_type": "code",
   "execution_count": 97,
   "id": "7bb8d281",
   "metadata": {},
   "outputs": [],
   "source": [
    "# General DS Imports\n",
    "import matplotlib.pyplot as plt\n",
    "import numpy as np\n",
    "import pandas as pd\n",
    "import seaborn as sns\n",
    "\n",
    "import acquire\n",
    "import prepare\n",
    "\n",
    "np.random.seed(9)"
   ]
  },
  {
   "cell_type": "code",
   "execution_count": 98,
   "id": "89e0287a",
   "metadata": {},
   "outputs": [],
   "source": [
    "# Decision Tree and Model Evaluation Imports\n",
    "from sklearn.tree import DecisionTreeClassifier, plot_tree, export_text\n",
    "from sklearn.model_selection import train_test_split\n",
    "from sklearn.metrics import classification_report, confusion_matrix, plot_confusion_matrix"
   ]
  },
  {
   "cell_type": "markdown",
   "id": "a1ddcc6f",
   "metadata": {},
   "source": [
    "### Acquire"
   ]
  },
  {
   "cell_type": "code",
   "execution_count": 99,
   "id": "84805d3c",
   "metadata": {
    "scrolled": true
   },
   "outputs": [],
   "source": [
    "titanic_df =acquire.new_titanic_data()"
   ]
  },
  {
   "cell_type": "markdown",
   "id": "cbc440eb",
   "metadata": {},
   "source": [
    "### Prepare"
   ]
  },
  {
   "cell_type": "code",
   "execution_count": 100,
   "id": "46b4c28b",
   "metadata": {},
   "outputs": [],
   "source": [
    "titanic_df=prepare.prep_titanic(titanic_df)"
   ]
  },
  {
   "cell_type": "code",
   "execution_count": 101,
   "id": "d2599de1",
   "metadata": {
    "scrolled": true
   },
   "outputs": [
    {
     "data": {
      "text/html": [
       "<div>\n",
       "<style scoped>\n",
       "    .dataframe tbody tr th:only-of-type {\n",
       "        vertical-align: middle;\n",
       "    }\n",
       "\n",
       "    .dataframe tbody tr th {\n",
       "        vertical-align: top;\n",
       "    }\n",
       "\n",
       "    .dataframe thead th {\n",
       "        text-align: right;\n",
       "    }\n",
       "</style>\n",
       "<table border=\"1\" class=\"dataframe\">\n",
       "  <thead>\n",
       "    <tr style=\"text-align: right;\">\n",
       "      <th></th>\n",
       "      <th>survived</th>\n",
       "      <th>sex</th>\n",
       "      <th>age</th>\n",
       "      <th>sibsp</th>\n",
       "      <th>parch</th>\n",
       "      <th>fare</th>\n",
       "      <th>class</th>\n",
       "      <th>embark_town</th>\n",
       "      <th>alone</th>\n",
       "      <th>sex_male</th>\n",
       "      <th>class_Second</th>\n",
       "      <th>class_Third</th>\n",
       "      <th>embark_town_Queenstown</th>\n",
       "      <th>embark_town_Southampton</th>\n",
       "    </tr>\n",
       "  </thead>\n",
       "  <tbody>\n",
       "    <tr>\n",
       "      <th>0</th>\n",
       "      <td>0</td>\n",
       "      <td>male</td>\n",
       "      <td>22.0</td>\n",
       "      <td>1</td>\n",
       "      <td>0</td>\n",
       "      <td>7.2500</td>\n",
       "      <td>Third</td>\n",
       "      <td>Southampton</td>\n",
       "      <td>0</td>\n",
       "      <td>1</td>\n",
       "      <td>0</td>\n",
       "      <td>1</td>\n",
       "      <td>0</td>\n",
       "      <td>1</td>\n",
       "    </tr>\n",
       "    <tr>\n",
       "      <th>1</th>\n",
       "      <td>1</td>\n",
       "      <td>female</td>\n",
       "      <td>38.0</td>\n",
       "      <td>1</td>\n",
       "      <td>0</td>\n",
       "      <td>71.2833</td>\n",
       "      <td>First</td>\n",
       "      <td>Cherbourg</td>\n",
       "      <td>0</td>\n",
       "      <td>0</td>\n",
       "      <td>0</td>\n",
       "      <td>0</td>\n",
       "      <td>0</td>\n",
       "      <td>0</td>\n",
       "    </tr>\n",
       "    <tr>\n",
       "      <th>2</th>\n",
       "      <td>1</td>\n",
       "      <td>female</td>\n",
       "      <td>26.0</td>\n",
       "      <td>0</td>\n",
       "      <td>0</td>\n",
       "      <td>7.9250</td>\n",
       "      <td>Third</td>\n",
       "      <td>Southampton</td>\n",
       "      <td>1</td>\n",
       "      <td>0</td>\n",
       "      <td>0</td>\n",
       "      <td>1</td>\n",
       "      <td>0</td>\n",
       "      <td>1</td>\n",
       "    </tr>\n",
       "    <tr>\n",
       "      <th>3</th>\n",
       "      <td>1</td>\n",
       "      <td>female</td>\n",
       "      <td>35.0</td>\n",
       "      <td>1</td>\n",
       "      <td>0</td>\n",
       "      <td>53.1000</td>\n",
       "      <td>First</td>\n",
       "      <td>Southampton</td>\n",
       "      <td>0</td>\n",
       "      <td>0</td>\n",
       "      <td>0</td>\n",
       "      <td>0</td>\n",
       "      <td>0</td>\n",
       "      <td>1</td>\n",
       "    </tr>\n",
       "    <tr>\n",
       "      <th>4</th>\n",
       "      <td>0</td>\n",
       "      <td>male</td>\n",
       "      <td>35.0</td>\n",
       "      <td>0</td>\n",
       "      <td>0</td>\n",
       "      <td>8.0500</td>\n",
       "      <td>Third</td>\n",
       "      <td>Southampton</td>\n",
       "      <td>1</td>\n",
       "      <td>1</td>\n",
       "      <td>0</td>\n",
       "      <td>1</td>\n",
       "      <td>0</td>\n",
       "      <td>1</td>\n",
       "    </tr>\n",
       "  </tbody>\n",
       "</table>\n",
       "</div>"
      ],
      "text/plain": [
       "   survived     sex   age  sibsp  parch     fare  class  embark_town  alone  \\\n",
       "0         0    male  22.0      1      0   7.2500  Third  Southampton      0   \n",
       "1         1  female  38.0      1      0  71.2833  First    Cherbourg      0   \n",
       "2         1  female  26.0      0      0   7.9250  Third  Southampton      1   \n",
       "3         1  female  35.0      1      0  53.1000  First  Southampton      0   \n",
       "4         0    male  35.0      0      0   8.0500  Third  Southampton      1   \n",
       "\n",
       "   sex_male  class_Second  class_Third  embark_town_Queenstown  \\\n",
       "0         1             0            1                       0   \n",
       "1         0             0            0                       0   \n",
       "2         0             0            1                       0   \n",
       "3         0             0            0                       0   \n",
       "4         1             0            1                       0   \n",
       "\n",
       "   embark_town_Southampton  \n",
       "0                        1  \n",
       "1                        0  \n",
       "2                        1  \n",
       "3                        1  \n",
       "4                        1  "
      ]
     },
     "execution_count": 101,
     "metadata": {},
     "output_type": "execute_result"
    }
   ],
   "source": [
    "titanic_df.head()"
   ]
  },
  {
   "cell_type": "code",
   "execution_count": 102,
   "id": "5f73b6f6",
   "metadata": {},
   "outputs": [],
   "source": [
    "titanic_processing_df = titanic_df.drop(columns={'sex','class', 'embark_town'})"
   ]
  },
  {
   "cell_type": "code",
   "execution_count": 103,
   "id": "ea70084b",
   "metadata": {
    "scrolled": true
   },
   "outputs": [
    {
     "data": {
      "text/html": [
       "<div>\n",
       "<style scoped>\n",
       "    .dataframe tbody tr th:only-of-type {\n",
       "        vertical-align: middle;\n",
       "    }\n",
       "\n",
       "    .dataframe tbody tr th {\n",
       "        vertical-align: top;\n",
       "    }\n",
       "\n",
       "    .dataframe thead th {\n",
       "        text-align: right;\n",
       "    }\n",
       "</style>\n",
       "<table border=\"1\" class=\"dataframe\">\n",
       "  <thead>\n",
       "    <tr style=\"text-align: right;\">\n",
       "      <th></th>\n",
       "      <th>survived</th>\n",
       "      <th>age</th>\n",
       "      <th>sibsp</th>\n",
       "      <th>parch</th>\n",
       "      <th>fare</th>\n",
       "      <th>alone</th>\n",
       "      <th>sex_male</th>\n",
       "      <th>class_Second</th>\n",
       "      <th>class_Third</th>\n",
       "      <th>embark_town_Queenstown</th>\n",
       "      <th>embark_town_Southampton</th>\n",
       "    </tr>\n",
       "  </thead>\n",
       "  <tbody>\n",
       "    <tr>\n",
       "      <th>0</th>\n",
       "      <td>0</td>\n",
       "      <td>22.0</td>\n",
       "      <td>1</td>\n",
       "      <td>0</td>\n",
       "      <td>7.2500</td>\n",
       "      <td>0</td>\n",
       "      <td>1</td>\n",
       "      <td>0</td>\n",
       "      <td>1</td>\n",
       "      <td>0</td>\n",
       "      <td>1</td>\n",
       "    </tr>\n",
       "    <tr>\n",
       "      <th>1</th>\n",
       "      <td>1</td>\n",
       "      <td>38.0</td>\n",
       "      <td>1</td>\n",
       "      <td>0</td>\n",
       "      <td>71.2833</td>\n",
       "      <td>0</td>\n",
       "      <td>0</td>\n",
       "      <td>0</td>\n",
       "      <td>0</td>\n",
       "      <td>0</td>\n",
       "      <td>0</td>\n",
       "    </tr>\n",
       "    <tr>\n",
       "      <th>2</th>\n",
       "      <td>1</td>\n",
       "      <td>26.0</td>\n",
       "      <td>0</td>\n",
       "      <td>0</td>\n",
       "      <td>7.9250</td>\n",
       "      <td>1</td>\n",
       "      <td>0</td>\n",
       "      <td>0</td>\n",
       "      <td>1</td>\n",
       "      <td>0</td>\n",
       "      <td>1</td>\n",
       "    </tr>\n",
       "    <tr>\n",
       "      <th>3</th>\n",
       "      <td>1</td>\n",
       "      <td>35.0</td>\n",
       "      <td>1</td>\n",
       "      <td>0</td>\n",
       "      <td>53.1000</td>\n",
       "      <td>0</td>\n",
       "      <td>0</td>\n",
       "      <td>0</td>\n",
       "      <td>0</td>\n",
       "      <td>0</td>\n",
       "      <td>1</td>\n",
       "    </tr>\n",
       "    <tr>\n",
       "      <th>4</th>\n",
       "      <td>0</td>\n",
       "      <td>35.0</td>\n",
       "      <td>0</td>\n",
       "      <td>0</td>\n",
       "      <td>8.0500</td>\n",
       "      <td>1</td>\n",
       "      <td>1</td>\n",
       "      <td>0</td>\n",
       "      <td>1</td>\n",
       "      <td>0</td>\n",
       "      <td>1</td>\n",
       "    </tr>\n",
       "  </tbody>\n",
       "</table>\n",
       "</div>"
      ],
      "text/plain": [
       "   survived   age  sibsp  parch     fare  alone  sex_male  class_Second  \\\n",
       "0         0  22.0      1      0   7.2500      0         1             0   \n",
       "1         1  38.0      1      0  71.2833      0         0             0   \n",
       "2         1  26.0      0      0   7.9250      1         0             0   \n",
       "3         1  35.0      1      0  53.1000      0         0             0   \n",
       "4         0  35.0      0      0   8.0500      1         1             0   \n",
       "\n",
       "   class_Third  embark_town_Queenstown  embark_town_Southampton  \n",
       "0            1                       0                        1  \n",
       "1            0                       0                        0  \n",
       "2            1                       0                        1  \n",
       "3            0                       0                        1  \n",
       "4            1                       0                        1  "
      ]
     },
     "execution_count": 103,
     "metadata": {},
     "output_type": "execute_result"
    }
   ],
   "source": [
    "titanic_processing_df.head()"
   ]
  },
  {
   "cell_type": "code",
   "execution_count": 104,
   "id": "0ab9ab46",
   "metadata": {},
   "outputs": [
    {
     "data": {
      "text/plain": [
       "Index(['survived', 'age', 'sibsp', 'parch', 'fare', 'alone', 'sex_male',\n",
       "       'class_Second', 'class_Third', 'embark_town_Queenstown',\n",
       "       'embark_town_Southampton'],\n",
       "      dtype='object')"
      ]
     },
     "execution_count": 104,
     "metadata": {},
     "output_type": "execute_result"
    }
   ],
   "source": [
    "titanic_processing_df.columns"
   ]
  },
  {
   "cell_type": "code",
   "execution_count": 105,
   "id": "94b388e9",
   "metadata": {},
   "outputs": [],
   "source": [
    "# Splitting dataset into X and y components before doing the train/validate/test split\n",
    "X = titanic_processing_df[['age', 'sibsp', 'parch', 'fare', 'alone', 'sex_male',\n",
    "       'class_Second', 'class_Third', 'embark_town_Queenstown',\n",
    "       'embark_town_Southampton']]\n",
    "\n",
    "y = titanic_processing_df.survived\n",
    "\n",
    "X_train_and_validate, X_test, y_train_and_validate, y_test = train_test_split(X, y, random_state=123, test_size=.2)\n",
    "X_train, X_validate, y_train, y_validate = train_test_split(X_train_and_validate, y_train_and_validate, random_state=123, test_size=.3)"
   ]
  },
  {
   "cell_type": "code",
   "execution_count": 106,
   "id": "b5ddd0f2",
   "metadata": {},
   "outputs": [
    {
     "data": {
      "text/plain": [
       "((498, 10), (214, 10), (179, 10))"
      ]
     },
     "execution_count": 106,
     "metadata": {},
     "output_type": "execute_result"
    }
   ],
   "source": [
    "X_train.shape, X_validate.shape,X_test.shape"
   ]
  },
  {
   "cell_type": "code",
   "execution_count": 107,
   "id": "88203837",
   "metadata": {},
   "outputs": [],
   "source": [
    "X_train, X_validate, X_test = prepare.impute_mean_age(X_train, X_validate, X_test)\n"
   ]
  },
  {
   "cell_type": "code",
   "execution_count": 108,
   "id": "7e17fa12",
   "metadata": {
    "scrolled": false
   },
   "outputs": [
    {
     "data": {
      "text/html": [
       "<div>\n",
       "<style scoped>\n",
       "    .dataframe tbody tr th:only-of-type {\n",
       "        vertical-align: middle;\n",
       "    }\n",
       "\n",
       "    .dataframe tbody tr th {\n",
       "        vertical-align: top;\n",
       "    }\n",
       "\n",
       "    .dataframe thead th {\n",
       "        text-align: right;\n",
       "    }\n",
       "</style>\n",
       "<table border=\"1\" class=\"dataframe\">\n",
       "  <thead>\n",
       "    <tr style=\"text-align: right;\">\n",
       "      <th></th>\n",
       "      <th>age</th>\n",
       "      <th>sibsp</th>\n",
       "      <th>parch</th>\n",
       "      <th>fare</th>\n",
       "      <th>alone</th>\n",
       "      <th>sex_male</th>\n",
       "      <th>class_Second</th>\n",
       "      <th>class_Third</th>\n",
       "      <th>embark_town_Queenstown</th>\n",
       "      <th>embark_town_Southampton</th>\n",
       "    </tr>\n",
       "  </thead>\n",
       "  <tbody>\n",
       "    <tr>\n",
       "      <th>689</th>\n",
       "      <td>15.00000</td>\n",
       "      <td>0</td>\n",
       "      <td>1</td>\n",
       "      <td>211.3375</td>\n",
       "      <td>0</td>\n",
       "      <td>0</td>\n",
       "      <td>0</td>\n",
       "      <td>0</td>\n",
       "      <td>0</td>\n",
       "      <td>1</td>\n",
       "    </tr>\n",
       "    <tr>\n",
       "      <th>84</th>\n",
       "      <td>17.00000</td>\n",
       "      <td>0</td>\n",
       "      <td>0</td>\n",
       "      <td>10.5000</td>\n",
       "      <td>1</td>\n",
       "      <td>0</td>\n",
       "      <td>1</td>\n",
       "      <td>0</td>\n",
       "      <td>0</td>\n",
       "      <td>1</td>\n",
       "    </tr>\n",
       "    <tr>\n",
       "      <th>738</th>\n",
       "      <td>29.91794</td>\n",
       "      <td>0</td>\n",
       "      <td>0</td>\n",
       "      <td>7.8958</td>\n",
       "      <td>1</td>\n",
       "      <td>1</td>\n",
       "      <td>0</td>\n",
       "      <td>1</td>\n",
       "      <td>0</td>\n",
       "      <td>1</td>\n",
       "    </tr>\n",
       "    <tr>\n",
       "      <th>441</th>\n",
       "      <td>20.00000</td>\n",
       "      <td>0</td>\n",
       "      <td>0</td>\n",
       "      <td>9.5000</td>\n",
       "      <td>1</td>\n",
       "      <td>1</td>\n",
       "      <td>0</td>\n",
       "      <td>1</td>\n",
       "      <td>0</td>\n",
       "      <td>1</td>\n",
       "    </tr>\n",
       "    <tr>\n",
       "      <th>643</th>\n",
       "      <td>29.91794</td>\n",
       "      <td>0</td>\n",
       "      <td>0</td>\n",
       "      <td>56.4958</td>\n",
       "      <td>1</td>\n",
       "      <td>1</td>\n",
       "      <td>0</td>\n",
       "      <td>1</td>\n",
       "      <td>0</td>\n",
       "      <td>1</td>\n",
       "    </tr>\n",
       "  </tbody>\n",
       "</table>\n",
       "</div>"
      ],
      "text/plain": [
       "          age  sibsp  parch      fare  alone  sex_male  class_Second  \\\n",
       "689  15.00000      0      1  211.3375      0         0             0   \n",
       "84   17.00000      0      0   10.5000      1         0             1   \n",
       "738  29.91794      0      0    7.8958      1         1             0   \n",
       "441  20.00000      0      0    9.5000      1         1             0   \n",
       "643  29.91794      0      0   56.4958      1         1             0   \n",
       "\n",
       "     class_Third  embark_town_Queenstown  embark_town_Southampton  \n",
       "689            0                       0                        1  \n",
       "84             0                       0                        1  \n",
       "738            1                       0                        1  \n",
       "441            1                       0                        1  \n",
       "643            1                       0                        1  "
      ]
     },
     "execution_count": 108,
     "metadata": {},
     "output_type": "execute_result"
    }
   ],
   "source": [
    "X_train.head()"
   ]
  },
  {
   "cell_type": "code",
   "execution_count": 109,
   "id": "25ae19c1",
   "metadata": {},
   "outputs": [
    {
     "data": {
      "text/plain": [
       "689    1\n",
       "84     1\n",
       "738    0\n",
       "441    0\n",
       "643    1\n",
       "Name: survived, dtype: int64"
      ]
     },
     "execution_count": 109,
     "metadata": {},
     "output_type": "execute_result"
    }
   ],
   "source": [
    "y_train.head()"
   ]
  },
  {
   "cell_type": "markdown",
   "id": "cd29bb0f",
   "metadata": {},
   "source": [
    "### 1. What is your baseline prediction? What is your baseline accuracy? remember: your baseline prediction for a classification problem is predicting the most prevelant class in the training dataset (the mode). When you make those predictions, what is your accuracy? This is your baseline accuracy."
   ]
  },
  {
   "cell_type": "code",
   "execution_count": 110,
   "id": "85227035",
   "metadata": {},
   "outputs": [
    {
     "data": {
      "text/plain": [
       "0    0\n",
       "Name: survived, dtype: int64"
      ]
     },
     "execution_count": 110,
     "metadata": {},
     "output_type": "execute_result"
    }
   ],
   "source": [
    "# set target variable survived baseline\n",
    "baseline = y_train.mode()\n",
    "baseline"
   ]
  },
  {
   "cell_type": "code",
   "execution_count": 111,
   "id": "58ecedb2",
   "metadata": {},
   "outputs": [
    {
     "data": {
      "text/html": [
       "<div>\n",
       "<style scoped>\n",
       "    .dataframe tbody tr th:only-of-type {\n",
       "        vertical-align: middle;\n",
       "    }\n",
       "\n",
       "    .dataframe tbody tr th {\n",
       "        vertical-align: top;\n",
       "    }\n",
       "\n",
       "    .dataframe thead th {\n",
       "        text-align: right;\n",
       "    }\n",
       "</style>\n",
       "<table border=\"1\" class=\"dataframe\">\n",
       "  <thead>\n",
       "    <tr style=\"text-align: right;\">\n",
       "      <th></th>\n",
       "      <th>age</th>\n",
       "      <th>sibsp</th>\n",
       "      <th>parch</th>\n",
       "      <th>fare</th>\n",
       "      <th>alone</th>\n",
       "      <th>sex_male</th>\n",
       "      <th>class_Second</th>\n",
       "      <th>class_Third</th>\n",
       "      <th>embark_town_Queenstown</th>\n",
       "      <th>embark_town_Southampton</th>\n",
       "      <th>baseline_prediction</th>\n",
       "    </tr>\n",
       "  </thead>\n",
       "  <tbody>\n",
       "    <tr>\n",
       "      <th>689</th>\n",
       "      <td>15.00000</td>\n",
       "      <td>0</td>\n",
       "      <td>1</td>\n",
       "      <td>211.3375</td>\n",
       "      <td>0</td>\n",
       "      <td>0</td>\n",
       "      <td>0</td>\n",
       "      <td>0</td>\n",
       "      <td>0</td>\n",
       "      <td>1</td>\n",
       "      <td>0</td>\n",
       "    </tr>\n",
       "    <tr>\n",
       "      <th>84</th>\n",
       "      <td>17.00000</td>\n",
       "      <td>0</td>\n",
       "      <td>0</td>\n",
       "      <td>10.5000</td>\n",
       "      <td>1</td>\n",
       "      <td>0</td>\n",
       "      <td>1</td>\n",
       "      <td>0</td>\n",
       "      <td>0</td>\n",
       "      <td>1</td>\n",
       "      <td>0</td>\n",
       "    </tr>\n",
       "    <tr>\n",
       "      <th>738</th>\n",
       "      <td>29.91794</td>\n",
       "      <td>0</td>\n",
       "      <td>0</td>\n",
       "      <td>7.8958</td>\n",
       "      <td>1</td>\n",
       "      <td>1</td>\n",
       "      <td>0</td>\n",
       "      <td>1</td>\n",
       "      <td>0</td>\n",
       "      <td>1</td>\n",
       "      <td>0</td>\n",
       "    </tr>\n",
       "    <tr>\n",
       "      <th>441</th>\n",
       "      <td>20.00000</td>\n",
       "      <td>0</td>\n",
       "      <td>0</td>\n",
       "      <td>9.5000</td>\n",
       "      <td>1</td>\n",
       "      <td>1</td>\n",
       "      <td>0</td>\n",
       "      <td>1</td>\n",
       "      <td>0</td>\n",
       "      <td>1</td>\n",
       "      <td>0</td>\n",
       "    </tr>\n",
       "    <tr>\n",
       "      <th>643</th>\n",
       "      <td>29.91794</td>\n",
       "      <td>0</td>\n",
       "      <td>0</td>\n",
       "      <td>56.4958</td>\n",
       "      <td>1</td>\n",
       "      <td>1</td>\n",
       "      <td>0</td>\n",
       "      <td>1</td>\n",
       "      <td>0</td>\n",
       "      <td>1</td>\n",
       "      <td>0</td>\n",
       "    </tr>\n",
       "    <tr>\n",
       "      <th>...</th>\n",
       "      <td>...</td>\n",
       "      <td>...</td>\n",
       "      <td>...</td>\n",
       "      <td>...</td>\n",
       "      <td>...</td>\n",
       "      <td>...</td>\n",
       "      <td>...</td>\n",
       "      <td>...</td>\n",
       "      <td>...</td>\n",
       "      <td>...</td>\n",
       "      <td>...</td>\n",
       "    </tr>\n",
       "    <tr>\n",
       "      <th>653</th>\n",
       "      <td>29.91794</td>\n",
       "      <td>0</td>\n",
       "      <td>0</td>\n",
       "      <td>7.8292</td>\n",
       "      <td>1</td>\n",
       "      <td>0</td>\n",
       "      <td>0</td>\n",
       "      <td>1</td>\n",
       "      <td>1</td>\n",
       "      <td>0</td>\n",
       "      <td>0</td>\n",
       "    </tr>\n",
       "    <tr>\n",
       "      <th>20</th>\n",
       "      <td>35.00000</td>\n",
       "      <td>0</td>\n",
       "      <td>0</td>\n",
       "      <td>26.0000</td>\n",
       "      <td>1</td>\n",
       "      <td>1</td>\n",
       "      <td>1</td>\n",
       "      <td>0</td>\n",
       "      <td>0</td>\n",
       "      <td>1</td>\n",
       "      <td>0</td>\n",
       "    </tr>\n",
       "    <tr>\n",
       "      <th>589</th>\n",
       "      <td>29.91794</td>\n",
       "      <td>0</td>\n",
       "      <td>0</td>\n",
       "      <td>8.0500</td>\n",
       "      <td>1</td>\n",
       "      <td>1</td>\n",
       "      <td>0</td>\n",
       "      <td>1</td>\n",
       "      <td>0</td>\n",
       "      <td>1</td>\n",
       "      <td>0</td>\n",
       "    </tr>\n",
       "    <tr>\n",
       "      <th>514</th>\n",
       "      <td>24.00000</td>\n",
       "      <td>0</td>\n",
       "      <td>0</td>\n",
       "      <td>7.4958</td>\n",
       "      <td>1</td>\n",
       "      <td>1</td>\n",
       "      <td>0</td>\n",
       "      <td>1</td>\n",
       "      <td>0</td>\n",
       "      <td>1</td>\n",
       "      <td>0</td>\n",
       "    </tr>\n",
       "    <tr>\n",
       "      <th>281</th>\n",
       "      <td>28.00000</td>\n",
       "      <td>0</td>\n",
       "      <td>0</td>\n",
       "      <td>7.8542</td>\n",
       "      <td>1</td>\n",
       "      <td>1</td>\n",
       "      <td>0</td>\n",
       "      <td>1</td>\n",
       "      <td>0</td>\n",
       "      <td>1</td>\n",
       "      <td>0</td>\n",
       "    </tr>\n",
       "  </tbody>\n",
       "</table>\n",
       "<p>498 rows × 11 columns</p>\n",
       "</div>"
      ],
      "text/plain": [
       "          age  sibsp  parch      fare  alone  sex_male  class_Second  \\\n",
       "689  15.00000      0      1  211.3375      0         0             0   \n",
       "84   17.00000      0      0   10.5000      1         0             1   \n",
       "738  29.91794      0      0    7.8958      1         1             0   \n",
       "441  20.00000      0      0    9.5000      1         1             0   \n",
       "643  29.91794      0      0   56.4958      1         1             0   \n",
       "..        ...    ...    ...       ...    ...       ...           ...   \n",
       "653  29.91794      0      0    7.8292      1         0             0   \n",
       "20   35.00000      0      0   26.0000      1         1             1   \n",
       "589  29.91794      0      0    8.0500      1         1             0   \n",
       "514  24.00000      0      0    7.4958      1         1             0   \n",
       "281  28.00000      0      0    7.8542      1         1             0   \n",
       "\n",
       "     class_Third  embark_town_Queenstown  embark_town_Southampton  \\\n",
       "689            0                       0                        1   \n",
       "84             0                       0                        1   \n",
       "738            1                       0                        1   \n",
       "441            1                       0                        1   \n",
       "643            1                       0                        1   \n",
       "..           ...                     ...                      ...   \n",
       "653            1                       1                        0   \n",
       "20             0                       0                        1   \n",
       "589            1                       0                        1   \n",
       "514            1                       0                        1   \n",
       "281            1                       0                        1   \n",
       "\n",
       "     baseline_prediction  \n",
       "689                    0  \n",
       "84                     0  \n",
       "738                    0  \n",
       "441                    0  \n",
       "643                    0  \n",
       "..                   ...  \n",
       "653                    0  \n",
       "20                     0  \n",
       "589                    0  \n",
       "514                    0  \n",
       "281                    0  \n",
       "\n",
       "[498 rows x 11 columns]"
      ]
     },
     "execution_count": 111,
     "metadata": {},
     "output_type": "execute_result"
    }
   ],
   "source": [
    "X_train['baseline_prediction'] = int(baseline)\n",
    "X_train"
   ]
  },
  {
   "cell_type": "code",
   "execution_count": 112,
   "id": "12303279",
   "metadata": {},
   "outputs": [],
   "source": [
    "actual = y_train\n",
    "predictions = X_train.baseline_prediction"
   ]
  },
  {
   "cell_type": "code",
   "execution_count": 113,
   "id": "0a5cacde",
   "metadata": {},
   "outputs": [
    {
     "data": {
      "text/html": [
       "<div>\n",
       "<style scoped>\n",
       "    .dataframe tbody tr th:only-of-type {\n",
       "        vertical-align: middle;\n",
       "    }\n",
       "\n",
       "    .dataframe tbody tr th {\n",
       "        vertical-align: top;\n",
       "    }\n",
       "\n",
       "    .dataframe thead th {\n",
       "        text-align: right;\n",
       "    }\n",
       "</style>\n",
       "<table border=\"1\" class=\"dataframe\">\n",
       "  <thead>\n",
       "    <tr style=\"text-align: right;\">\n",
       "      <th>baseline_prediction</th>\n",
       "      <th>0</th>\n",
       "    </tr>\n",
       "    <tr>\n",
       "      <th>survived</th>\n",
       "      <th></th>\n",
       "    </tr>\n",
       "  </thead>\n",
       "  <tbody>\n",
       "    <tr>\n",
       "      <th>0</th>\n",
       "      <td>302</td>\n",
       "    </tr>\n",
       "    <tr>\n",
       "      <th>1</th>\n",
       "      <td>196</td>\n",
       "    </tr>\n",
       "  </tbody>\n",
       "</table>\n",
       "</div>"
      ],
      "text/plain": [
       "baseline_prediction    0\n",
       "survived                \n",
       "0                    302\n",
       "1                    196"
      ]
     },
     "execution_count": 113,
     "metadata": {},
     "output_type": "execute_result"
    }
   ],
   "source": [
    "pd.crosstab(actual, predictions)"
   ]
  },
  {
   "cell_type": "code",
   "execution_count": 114,
   "id": "ac5e478b",
   "metadata": {},
   "outputs": [
    {
     "name": "stdout",
     "output_type": "stream",
     "text": [
      "baseline accuracy : 0.5983935742971888\n"
     ]
    }
   ],
   "source": [
    "print('baseline accuracy :',(298)/(200+298))"
   ]
  },
  {
   "cell_type": "code",
   "execution_count": 115,
   "id": "776cdbeb",
   "metadata": {},
   "outputs": [],
   "source": [
    "X_train = X_train.drop(columns = ['baseline_prediction'])\n"
   ]
  },
  {
   "cell_type": "code",
   "execution_count": 116,
   "id": "5d7efefd",
   "metadata": {},
   "outputs": [
    {
     "name": "stdout",
     "output_type": "stream",
     "text": [
      "<class 'pandas.core.frame.DataFrame'>\n",
      "Int64Index: 498 entries, 689 to 281\n",
      "Data columns (total 10 columns):\n",
      " #   Column                   Non-Null Count  Dtype  \n",
      "---  ------                   --------------  -----  \n",
      " 0   age                      498 non-null    float64\n",
      " 1   sibsp                    498 non-null    int64  \n",
      " 2   parch                    498 non-null    int64  \n",
      " 3   fare                     498 non-null    float64\n",
      " 4   alone                    498 non-null    int64  \n",
      " 5   sex_male                 498 non-null    uint8  \n",
      " 6   class_Second             498 non-null    uint8  \n",
      " 7   class_Third              498 non-null    uint8  \n",
      " 8   embark_town_Queenstown   498 non-null    uint8  \n",
      " 9   embark_town_Southampton  498 non-null    uint8  \n",
      "dtypes: float64(2), int64(3), uint8(5)\n",
      "memory usage: 25.8 KB\n"
     ]
    }
   ],
   "source": [
    "X_train.info()"
   ]
  },
  {
   "cell_type": "markdown",
   "id": "abdae292",
   "metadata": {},
   "source": [
    "### 2. Fit the decision tree classifier to your training sample and transform (i.e. make predictions on the training sample)\n"
   ]
  },
  {
   "cell_type": "code",
   "execution_count": 117,
   "id": "0fc5af2f",
   "metadata": {},
   "outputs": [],
   "source": [
    "# Create the decision tree object and specify hyperparams\n",
    "tree_1 = DecisionTreeClassifier(max_depth = 5,min_samples_split = 5)"
   ]
  },
  {
   "cell_type": "code",
   "execution_count": 118,
   "id": "234e4c71",
   "metadata": {
    "scrolled": true
   },
   "outputs": [
    {
     "name": "stdout",
     "output_type": "stream",
     "text": [
      "|--- sex_male <= 0.50\n",
      "|   |--- class_Third <= 0.50\n",
      "|   |   |--- age <= 2.50\n",
      "|   |   |   |--- class: 0\n",
      "|   |   |--- age >  2.50\n",
      "|   |   |   |--- fare <= 26.12\n",
      "|   |   |   |   |--- sibsp <= 0.50\n",
      "|   |   |   |   |   |--- class: 1\n",
      "|   |   |   |   |--- sibsp >  0.50\n",
      "|   |   |   |   |   |--- class: 1\n",
      "|   |   |   |--- fare >  26.12\n",
      "|   |   |   |   |--- class: 1\n",
      "|   |--- class_Third >  0.50\n",
      "|   |   |--- embark_town_Southampton <= 0.50\n",
      "|   |   |   |--- age <= 30.21\n",
      "|   |   |   |   |--- fare <= 15.37\n",
      "|   |   |   |   |   |--- class: 1\n",
      "|   |   |   |   |--- fare >  15.37\n",
      "|   |   |   |   |   |--- class: 1\n",
      "|   |   |   |--- age >  30.21\n",
      "|   |   |   |   |--- class: 0\n",
      "|   |   |--- embark_town_Southampton >  0.50\n",
      "|   |   |   |--- fare <= 17.60\n",
      "|   |   |   |   |--- fare <= 10.82\n",
      "|   |   |   |   |   |--- class: 0\n",
      "|   |   |   |   |--- fare >  10.82\n",
      "|   |   |   |   |   |--- class: 1\n",
      "|   |   |   |--- fare >  17.60\n",
      "|   |   |   |   |--- age <= 33.00\n",
      "|   |   |   |   |   |--- class: 0\n",
      "|   |   |   |   |--- age >  33.00\n",
      "|   |   |   |   |   |--- class: 0\n",
      "|--- sex_male >  0.50\n",
      "|   |--- fare <= 15.17\n",
      "|   |   |--- age <= 13.50\n",
      "|   |   |   |--- class: 1\n",
      "|   |   |--- age >  13.50\n",
      "|   |   |   |--- fare <= 7.76\n",
      "|   |   |   |   |--- age <= 28.00\n",
      "|   |   |   |   |   |--- class: 0\n",
      "|   |   |   |   |--- age >  28.00\n",
      "|   |   |   |   |   |--- class: 0\n",
      "|   |   |   |--- fare >  7.76\n",
      "|   |   |   |   |--- age <= 30.50\n",
      "|   |   |   |   |   |--- class: 0\n",
      "|   |   |   |   |--- age >  30.50\n",
      "|   |   |   |   |   |--- class: 0\n",
      "|   |--- fare >  15.17\n",
      "|   |   |--- class_Second <= 0.50\n",
      "|   |   |   |--- sibsp <= 2.50\n",
      "|   |   |   |   |--- age <= 12.50\n",
      "|   |   |   |   |   |--- class: 1\n",
      "|   |   |   |   |--- age >  12.50\n",
      "|   |   |   |   |   |--- class: 0\n",
      "|   |   |   |--- sibsp >  2.50\n",
      "|   |   |   |   |--- class: 0\n",
      "|   |   |--- class_Second >  0.50\n",
      "|   |   |   |--- age <= 9.50\n",
      "|   |   |   |   |--- class: 1\n",
      "|   |   |   |--- age >  9.50\n",
      "|   |   |   |   |--- age <= 32.25\n",
      "|   |   |   |   |   |--- class: 0\n",
      "|   |   |   |   |--- age >  32.25\n",
      "|   |   |   |   |   |--- class: 0\n",
      "\n"
     ]
    }
   ],
   "source": [
    "tree_1.fit(X_train, y_train)\n",
    "\n",
    "# Rudimentary visualization of model structure\n",
    "print(export_text(tree_1, feature_names=X_train.columns.tolist()))"
   ]
  },
  {
   "cell_type": "code",
   "execution_count": 119,
   "id": "77667965",
   "metadata": {},
   "outputs": [],
   "source": [
    "# Use the model\n",
    "# We'll evaluate the model's performance on train, first\n",
    "y_predictions = tree_1.predict(X_train)"
   ]
  },
  {
   "cell_type": "code",
   "execution_count": 120,
   "id": "6c4d16e1",
   "metadata": {},
   "outputs": [
    {
     "data": {
      "image/png": "[encoded data removed]",
      "text/plain": [
       "<Figure size 864x504 with 1 Axes>"
      ]
     },
     "metadata": {
      "needs_background": "light"
     },
     "output_type": "display_data"
    }
   ],
   "source": [
    "# Visualize the tree\n",
    "plt.figure(figsize=(12, 7))\n",
    "plot_tree(tree_1, feature_names=X_train.columns, class_names=['0','1'])\n",
    "plt.show()"
   ]
  },
  {
   "cell_type": "markdown",
   "id": "1693c9fc",
   "metadata": {},
   "source": [
    "### 3. Evaluate your in-sample results using the model score, confusion matrix, and classification report.\n"
   ]
  },
  {
   "cell_type": "code",
   "execution_count": 121,
   "id": "03cd7a80",
   "metadata": {},
   "outputs": [],
   "source": [
    "predictions = tree_1.predict(X_train)\n",
    "actual = y_train"
   ]
  },
  {
   "cell_type": "code",
   "execution_count": 122,
   "id": "4b386d2a",
   "metadata": {},
   "outputs": [
    {
     "data": {
      "text/html": [
       "<div>\n",
       "<style scoped>\n",
       "    .dataframe tbody tr th:only-of-type {\n",
       "        vertical-align: middle;\n",
       "    }\n",
       "\n",
       "    .dataframe tbody tr th {\n",
       "        vertical-align: top;\n",
       "    }\n",
       "\n",
       "    .dataframe thead th {\n",
       "        text-align: right;\n",
       "    }\n",
       "</style>\n",
       "<table border=\"1\" class=\"dataframe\">\n",
       "  <thead>\n",
       "    <tr style=\"text-align: right;\">\n",
       "      <th>col_0</th>\n",
       "      <th>0</th>\n",
       "      <th>1</th>\n",
       "    </tr>\n",
       "    <tr>\n",
       "      <th>survived</th>\n",
       "      <th></th>\n",
       "      <th></th>\n",
       "    </tr>\n",
       "  </thead>\n",
       "  <tbody>\n",
       "    <tr>\n",
       "      <th>0</th>\n",
       "      <td>289</td>\n",
       "      <td>13</td>\n",
       "    </tr>\n",
       "    <tr>\n",
       "      <th>1</th>\n",
       "      <td>67</td>\n",
       "      <td>129</td>\n",
       "    </tr>\n",
       "  </tbody>\n",
       "</table>\n",
       "</div>"
      ],
      "text/plain": [
       "col_0       0    1\n",
       "survived          \n",
       "0         289   13\n",
       "1          67  129"
      ]
     },
     "execution_count": 122,
     "metadata": {},
     "output_type": "execute_result"
    }
   ],
   "source": [
    "pd.crosstab(actual, predictions)"
   ]
  },
  {
   "cell_type": "code",
   "execution_count": 123,
   "id": "b6977572",
   "metadata": {},
   "outputs": [
    {
     "name": "stdout",
     "output_type": "stream",
     "text": [
      "              precision    recall  f1-score   support\n",
      "\n",
      "           0       0.81      0.96      0.88       302\n",
      "           1       0.91      0.66      0.76       196\n",
      "\n",
      "    accuracy                           0.84       498\n",
      "   macro avg       0.86      0.81      0.82       498\n",
      "weighted avg       0.85      0.84      0.83       498\n",
      "\n"
     ]
    }
   ],
   "source": [
    "print(classification_report(actual, predictions))"
   ]
  },
  {
   "cell_type": "markdown",
   "id": "261dc44b",
   "metadata": {},
   "source": [
    "### 4. Compute: Accuracy, true positive rate, false positive rate, true negative rate, false negative rate, precision, recall, f1-score, and support.\n"
   ]
  },
  {
   "cell_type": "code",
   "execution_count": 124,
   "id": "b5359eef",
   "metadata": {},
   "outputs": [
    {
     "data": {
      "text/plain": [
       "(289, 13, 67, 129)"
      ]
     },
     "execution_count": 124,
     "metadata": {},
     "output_type": "execute_result"
    }
   ],
   "source": [
    "TN, FP, FN, TP = confusion_matrix(y_train, y_predictions).ravel()\n",
    "TN, FP, FN, TP "
   ]
  },
  {
   "cell_type": "code",
   "execution_count": 125,
   "id": "8e8b52c9",
   "metadata": {},
   "outputs": [
    {
     "data": {
      "text/html": [
       "<div>\n",
       "<style scoped>\n",
       "    .dataframe tbody tr th:only-of-type {\n",
       "        vertical-align: middle;\n",
       "    }\n",
       "\n",
       "    .dataframe tbody tr th {\n",
       "        vertical-align: top;\n",
       "    }\n",
       "\n",
       "    .dataframe thead th {\n",
       "        text-align: right;\n",
       "    }\n",
       "</style>\n",
       "<table border=\"1\" class=\"dataframe\">\n",
       "  <thead>\n",
       "    <tr style=\"text-align: right;\">\n",
       "      <th>col_0</th>\n",
       "      <th>0</th>\n",
       "      <th>1</th>\n",
       "    </tr>\n",
       "    <tr>\n",
       "      <th>survived</th>\n",
       "      <th></th>\n",
       "      <th></th>\n",
       "    </tr>\n",
       "  </thead>\n",
       "  <tbody>\n",
       "    <tr>\n",
       "      <th>0</th>\n",
       "      <td>289</td>\n",
       "      <td>13</td>\n",
       "    </tr>\n",
       "    <tr>\n",
       "      <th>1</th>\n",
       "      <td>67</td>\n",
       "      <td>129</td>\n",
       "    </tr>\n",
       "  </tbody>\n",
       "</table>\n",
       "</div>"
      ],
      "text/plain": [
       "col_0       0    1\n",
       "survived          \n",
       "0         289   13\n",
       "1          67  129"
      ]
     },
     "execution_count": 125,
     "metadata": {},
     "output_type": "execute_result"
    }
   ],
   "source": [
    "# create crosstab from tree_1 model after train\n",
    "pd.crosstab(actual, predictions)"
   ]
  },
  {
   "cell_type": "code",
   "execution_count": 126,
   "id": "a28ed2aa",
   "metadata": {},
   "outputs": [
    {
     "name": "stdout",
     "output_type": "stream",
     "text": [
      "              precision    recall  f1-score   support\n",
      "\n",
      "           0       0.81      0.96      0.88       302\n",
      "           1       0.91      0.66      0.76       196\n",
      "\n",
      "    accuracy                           0.84       498\n",
      "   macro avg       0.86      0.81      0.82       498\n",
      "weighted avg       0.85      0.84      0.83       498\n",
      "\n"
     ]
    }
   ],
   "source": [
    "# look at accuracy of tree_1 Model\n",
    "print(classification_report(actual, predictions))"
   ]
  },
  {
   "cell_type": "markdown",
   "id": "15451617",
   "metadata": {},
   "source": [
    "### Accuracy is 0.84 for tree_1 Model"
   ]
  },
  {
   "cell_type": "markdown",
   "id": "633fbeb2",
   "metadata": {},
   "source": [
    "### 5.Run through steps 2-4 using a different max_depth value.\n"
   ]
  },
  {
   "cell_type": "code",
   "execution_count": 127,
   "id": "cbdabfb6",
   "metadata": {},
   "outputs": [],
   "source": [
    "# Create the decision tree object and specify hyperparams\n",
    "tree_2 = DecisionTreeClassifier(max_depth = 7,min_samples_split = 13)"
   ]
  },
  {
   "cell_type": "code",
   "execution_count": 128,
   "id": "5406011f",
   "metadata": {
    "scrolled": true
   },
   "outputs": [
    {
     "name": "stdout",
     "output_type": "stream",
     "text": [
      "|--- sex_male <= 0.50\n",
      "|   |--- class_Third <= 0.50\n",
      "|   |   |--- age <= 2.50\n",
      "|   |   |   |--- class: 0\n",
      "|   |   |--- age >  2.50\n",
      "|   |   |   |--- fare <= 26.12\n",
      "|   |   |   |   |--- sibsp <= 0.50\n",
      "|   |   |   |   |   |--- age <= 24.50\n",
      "|   |   |   |   |   |   |--- class: 1\n",
      "|   |   |   |   |   |--- age >  24.50\n",
      "|   |   |   |   |   |   |--- class: 1\n",
      "|   |   |   |   |--- sibsp >  0.50\n",
      "|   |   |   |   |   |--- class: 1\n",
      "|   |   |   |--- fare >  26.12\n",
      "|   |   |   |   |--- class: 1\n",
      "|   |--- class_Third >  0.50\n",
      "|   |   |--- embark_town_Southampton <= 0.50\n",
      "|   |   |   |--- age <= 30.21\n",
      "|   |   |   |   |--- fare <= 15.37\n",
      "|   |   |   |   |   |--- alone <= 0.50\n",
      "|   |   |   |   |   |   |--- class: 0\n",
      "|   |   |   |   |   |--- alone >  0.50\n",
      "|   |   |   |   |   |   |--- fare <= 7.68\n",
      "|   |   |   |   |   |   |   |--- class: 0\n",
      "|   |   |   |   |   |   |--- fare >  7.68\n",
      "|   |   |   |   |   |   |   |--- class: 1\n",
      "|   |   |   |   |--- fare >  15.37\n",
      "|   |   |   |   |   |--- class: 1\n",
      "|   |   |   |--- age >  30.21\n",
      "|   |   |   |   |--- class: 0\n",
      "|   |   |--- embark_town_Southampton >  0.50\n",
      "|   |   |   |--- fare <= 17.60\n",
      "|   |   |   |   |--- fare <= 10.82\n",
      "|   |   |   |   |   |--- age <= 28.00\n",
      "|   |   |   |   |   |   |--- fare <= 8.29\n",
      "|   |   |   |   |   |   |   |--- class: 1\n",
      "|   |   |   |   |   |   |--- fare >  8.29\n",
      "|   |   |   |   |   |   |   |--- class: 0\n",
      "|   |   |   |   |   |--- age >  28.00\n",
      "|   |   |   |   |   |   |--- class: 0\n",
      "|   |   |   |   |--- fare >  10.82\n",
      "|   |   |   |   |   |--- class: 1\n",
      "|   |   |   |--- fare >  17.60\n",
      "|   |   |   |   |--- age <= 33.00\n",
      "|   |   |   |   |   |--- age <= 6.50\n",
      "|   |   |   |   |   |   |--- class: 0\n",
      "|   |   |   |   |   |--- age >  6.50\n",
      "|   |   |   |   |   |   |--- class: 0\n",
      "|   |   |   |   |--- age >  33.00\n",
      "|   |   |   |   |   |--- class: 0\n",
      "|--- sex_male >  0.50\n",
      "|   |--- fare <= 15.17\n",
      "|   |   |--- age <= 13.50\n",
      "|   |   |   |--- class: 1\n",
      "|   |   |--- age >  13.50\n",
      "|   |   |   |--- fare <= 7.76\n",
      "|   |   |   |   |--- age <= 28.00\n",
      "|   |   |   |   |   |--- age <= 26.00\n",
      "|   |   |   |   |   |   |--- embark_town_Southampton <= 0.50\n",
      "|   |   |   |   |   |   |   |--- class: 0\n",
      "|   |   |   |   |   |   |--- embark_town_Southampton >  0.50\n",
      "|   |   |   |   |   |   |   |--- class: 0\n",
      "|   |   |   |   |   |--- age >  26.00\n",
      "|   |   |   |   |   |   |--- class: 1\n",
      "|   |   |   |   |--- age >  28.00\n",
      "|   |   |   |   |   |--- class: 0\n",
      "|   |   |   |--- fare >  7.76\n",
      "|   |   |   |   |--- age <= 30.50\n",
      "|   |   |   |   |   |--- fare <= 7.81\n",
      "|   |   |   |   |   |   |--- class: 0\n",
      "|   |   |   |   |   |--- fare >  7.81\n",
      "|   |   |   |   |   |   |--- fare <= 9.67\n",
      "|   |   |   |   |   |   |   |--- class: 0\n",
      "|   |   |   |   |   |   |--- fare >  9.67\n",
      "|   |   |   |   |   |   |   |--- class: 0\n",
      "|   |   |   |   |--- age >  30.50\n",
      "|   |   |   |   |   |--- fare <= 7.91\n",
      "|   |   |   |   |   |   |--- class: 0\n",
      "|   |   |   |   |   |--- fare >  7.91\n",
      "|   |   |   |   |   |   |--- fare <= 7.99\n",
      "|   |   |   |   |   |   |   |--- class: 1\n",
      "|   |   |   |   |   |   |--- fare >  7.99\n",
      "|   |   |   |   |   |   |   |--- class: 0\n",
      "|   |--- fare >  15.17\n",
      "|   |   |--- class_Second <= 0.50\n",
      "|   |   |   |--- sibsp <= 2.50\n",
      "|   |   |   |   |--- age <= 12.50\n",
      "|   |   |   |   |   |--- class: 1\n",
      "|   |   |   |   |--- age >  12.50\n",
      "|   |   |   |   |   |--- fare <= 26.11\n",
      "|   |   |   |   |   |   |--- embark_town_Southampton <= 0.50\n",
      "|   |   |   |   |   |   |   |--- class: 1\n",
      "|   |   |   |   |   |   |--- embark_town_Southampton >  0.50\n",
      "|   |   |   |   |   |   |   |--- class: 0\n",
      "|   |   |   |   |   |--- fare >  26.11\n",
      "|   |   |   |   |   |   |--- fare <= 30.60\n",
      "|   |   |   |   |   |   |   |--- class: 1\n",
      "|   |   |   |   |   |   |--- fare >  30.60\n",
      "|   |   |   |   |   |   |   |--- class: 0\n",
      "|   |   |   |--- sibsp >  2.50\n",
      "|   |   |   |   |--- class: 0\n",
      "|   |   |--- class_Second >  0.50\n",
      "|   |   |   |--- age <= 9.50\n",
      "|   |   |   |   |--- class: 1\n",
      "|   |   |   |--- age >  9.50\n",
      "|   |   |   |   |--- age <= 32.25\n",
      "|   |   |   |   |   |--- class: 0\n",
      "|   |   |   |   |--- age >  32.25\n",
      "|   |   |   |   |   |--- class: 0\n",
      "\n"
     ]
    }
   ],
   "source": [
    "tree_2.fit(X_train, y_train)\n",
    "\n",
    "# Rudimentary visualization of model structure\n",
    "print(export_text(tree_2, feature_names=X_train.columns.tolist()))"
   ]
  },
  {
   "cell_type": "code",
   "execution_count": 129,
   "id": "da153fce",
   "metadata": {
    "scrolled": true
   },
   "outputs": [
    {
     "data": {
      "text/plain": [
       "array([1, 1, 0, 0, 0, 0, 0, 0, 1, 0, 0, 0, 0, 0, 0, 0, 0, 0, 1, 0, 0, 0,\n",
       "       0, 0, 0, 0, 0, 0, 0, 0, 1, 0, 1, 1, 1, 1, 0, 0, 0, 1, 0, 1, 0, 0,\n",
       "       1, 0, 0, 1, 1, 1, 0, 0, 0, 0, 0, 0, 0, 0, 1, 0, 0, 1, 1, 1, 0, 1,\n",
       "       0, 0, 0, 1, 0, 0, 0, 0, 0, 1, 0, 0, 1, 0, 0, 0, 1, 0, 0, 0, 0, 1,\n",
       "       0, 0, 0, 1, 1, 0, 1, 1, 1, 0, 0, 0, 1, 1, 0, 0, 1, 0, 1, 0, 1, 0,\n",
       "       0, 0, 1, 1, 0, 0, 1, 1, 0, 0, 1, 0, 1, 1, 0, 0, 0, 0, 1, 0, 0, 0,\n",
       "       0, 1, 0, 0, 1, 1, 1, 0, 1, 1, 1, 1, 0, 1, 0, 0, 1, 1, 0, 0, 0, 0,\n",
       "       0, 0, 0, 0, 0, 1, 0, 1, 0, 1, 0, 0, 0, 1, 0, 0, 1, 1, 0, 0, 0, 0,\n",
       "       0, 0, 0, 0, 0, 0, 1, 1, 1, 1, 1, 1, 1, 1, 0, 0, 0, 0, 0, 1, 0, 0,\n",
       "       0, 1, 1, 0, 0, 1, 0, 1, 0, 0, 0, 0, 1, 0, 1, 0, 0, 0, 0, 0, 0, 0,\n",
       "       0, 1, 0, 0, 0, 1, 0, 0, 0, 0, 0, 1, 1, 1, 1, 1, 0, 0, 0, 1, 0, 1,\n",
       "       1, 0, 0, 0, 0, 0, 1, 0, 0, 1, 0, 0, 1, 0, 0, 1, 0, 0, 0, 1, 1, 0,\n",
       "       0, 0, 0, 1, 0, 0, 1, 0, 1, 0, 1, 1, 1, 0, 0, 0, 0, 0, 0, 1, 1, 0,\n",
       "       0, 0, 1, 0, 1, 1, 1, 0, 0, 1, 0, 1, 0, 0, 0, 1, 0, 0, 0, 0, 0, 1,\n",
       "       0, 0, 0, 0, 0, 0, 1, 1, 0, 0, 0, 1, 1, 0, 1, 1, 1, 0, 1, 0, 0, 1,\n",
       "       1, 1, 0, 1, 0, 0, 0, 0, 0, 0, 0, 1, 0, 0, 0, 1, 1, 1, 1, 0, 0, 1,\n",
       "       0, 0, 0, 1, 0, 1, 0, 1, 0, 0, 0, 0, 0, 0, 1, 0, 1, 0, 0, 1, 0, 0,\n",
       "       1, 1, 0, 1, 1, 1, 1, 1, 0, 0, 1, 1, 1, 0, 0, 0, 0, 0, 0, 0, 1, 0,\n",
       "       1, 0, 0, 0, 1, 0, 0, 0, 0, 1, 0, 0, 0, 0, 0, 0, 1, 0, 1, 0, 0, 1,\n",
       "       0, 0, 0, 0, 1, 1, 1, 0, 0, 0, 0, 1, 0, 0, 0, 1, 0, 0, 1, 1, 0, 0,\n",
       "       0, 0, 1, 1, 0, 1, 0, 0, 1, 0, 1, 0, 0, 0, 0, 0, 1, 1, 0, 1, 0, 0,\n",
       "       0, 0, 1, 0, 0, 1, 1, 1, 0, 1, 0, 0, 1, 0, 1, 0, 0, 0, 0, 0, 0, 0,\n",
       "       0, 0, 1, 1, 1, 0, 1, 1, 0, 1, 0, 0, 0, 0])"
      ]
     },
     "execution_count": 129,
     "metadata": {},
     "output_type": "execute_result"
    }
   ],
   "source": [
    "# model predictions using tree\n",
    "tree_2.predict(X_train)"
   ]
  },
  {
   "cell_type": "code",
   "execution_count": 130,
   "id": "80097938",
   "metadata": {},
   "outputs": [],
   "source": [
    "predictions = tree_2.predict(X_train)\n",
    "actual = y_train"
   ]
  },
  {
   "cell_type": "code",
   "execution_count": 131,
   "id": "9c645360",
   "metadata": {},
   "outputs": [
    {
     "data": {
      "text/html": [
       "<div>\n",
       "<style scoped>\n",
       "    .dataframe tbody tr th:only-of-type {\n",
       "        vertical-align: middle;\n",
       "    }\n",
       "\n",
       "    .dataframe tbody tr th {\n",
       "        vertical-align: top;\n",
       "    }\n",
       "\n",
       "    .dataframe thead th {\n",
       "        text-align: right;\n",
       "    }\n",
       "</style>\n",
       "<table border=\"1\" class=\"dataframe\">\n",
       "  <thead>\n",
       "    <tr style=\"text-align: right;\">\n",
       "      <th>col_0</th>\n",
       "      <th>0</th>\n",
       "      <th>1</th>\n",
       "    </tr>\n",
       "    <tr>\n",
       "      <th>survived</th>\n",
       "      <th></th>\n",
       "      <th></th>\n",
       "    </tr>\n",
       "  </thead>\n",
       "  <tbody>\n",
       "    <tr>\n",
       "      <th>0</th>\n",
       "      <td>283</td>\n",
       "      <td>19</td>\n",
       "    </tr>\n",
       "    <tr>\n",
       "      <th>1</th>\n",
       "      <td>39</td>\n",
       "      <td>157</td>\n",
       "    </tr>\n",
       "  </tbody>\n",
       "</table>\n",
       "</div>"
      ],
      "text/plain": [
       "col_0       0    1\n",
       "survived          \n",
       "0         283   19\n",
       "1          39  157"
      ]
     },
     "execution_count": 131,
     "metadata": {},
     "output_type": "execute_result"
    }
   ],
   "source": [
    "# create crosstab from tree_1 model after train\n",
    "pd.crosstab(actual, predictions)"
   ]
  },
  {
   "cell_type": "code",
   "execution_count": 132,
   "id": "3cf74efc",
   "metadata": {
    "scrolled": true
   },
   "outputs": [
    {
     "name": "stdout",
     "output_type": "stream",
     "text": [
      "              precision    recall  f1-score   support\n",
      "\n",
      "           0       0.88      0.94      0.91       302\n",
      "           1       0.89      0.80      0.84       196\n",
      "\n",
      "    accuracy                           0.88       498\n",
      "   macro avg       0.89      0.87      0.88       498\n",
      "weighted avg       0.88      0.88      0.88       498\n",
      "\n"
     ]
    }
   ],
   "source": [
    "# look at accuracy of tree_2 Model\n",
    "print(classification_report(actual, predictions))"
   ]
  },
  {
   "cell_type": "markdown",
   "id": "a063edf3",
   "metadata": {},
   "source": [
    "### Accuracy for tree_2 Model is 0.88"
   ]
  },
  {
   "cell_type": "markdown",
   "id": "84c26c4b",
   "metadata": {},
   "source": [
    "### 6. Which model performs better on your in-sample data?\n"
   ]
  },
  {
   "cell_type": "markdown",
   "id": "ce30b3f4",
   "metadata": {},
   "source": [
    "Tree_2 Model performed slightly better by 4%.\n"
   ]
  },
  {
   "cell_type": "markdown",
   "id": "6f516333",
   "metadata": {},
   "source": [
    "### 7. Which model performs best on your out-of-sample data, the validate set?"
   ]
  },
  {
   "cell_type": "code",
   "execution_count": 133,
   "id": "f9160581",
   "metadata": {
    "scrolled": true
   },
   "outputs": [
    {
     "name": "stdout",
     "output_type": "stream",
     "text": [
      "              precision    recall  f1-score   support\n",
      "\n",
      "           0       0.83      0.96      0.89       133\n",
      "           1       0.92      0.68      0.78        81\n",
      "\n",
      "    accuracy                           0.86       214\n",
      "   macro avg       0.87      0.82      0.84       214\n",
      "weighted avg       0.86      0.86      0.85       214\n",
      "\n"
     ]
    }
   ],
   "source": [
    "predictions = tree_1.predict(X_validate)\n",
    "actual = y_validate\n",
    "\n",
    "print(classification_report(actual, predictions))"
   ]
  },
  {
   "cell_type": "code",
   "execution_count": 134,
   "id": "2db64988",
   "metadata": {
    "scrolled": true
   },
   "outputs": [
    {
     "name": "stdout",
     "output_type": "stream",
     "text": [
      "              precision    recall  f1-score   support\n",
      "\n",
      "           0       0.83      0.86      0.85       133\n",
      "           1       0.76      0.72      0.74        81\n",
      "\n",
      "    accuracy                           0.81       214\n",
      "   macro avg       0.80      0.79      0.79       214\n",
      "weighted avg       0.81      0.81      0.81       214\n",
      "\n"
     ]
    }
   ],
   "source": [
    "predictions = tree_2.predict(X_validate)\n",
    "actual = y_validate\n",
    "\n",
    "print(classification_report(actual, predictions))"
   ]
  },
  {
   "cell_type": "markdown",
   "id": "33e7bc30",
   "metadata": {},
   "source": [
    "### In terms of accuracy tree_1 Model performed better by 5%."
   ]
  },
  {
   "cell_type": "markdown",
   "id": "f96e7ad8",
   "metadata": {},
   "source": [
    "# Test Data"
   ]
  },
  {
   "cell_type": "code",
   "execution_count": 135,
   "id": "8eb30772",
   "metadata": {
    "scrolled": true
   },
   "outputs": [
    {
     "name": "stdout",
     "output_type": "stream",
     "text": [
      "              precision    recall  f1-score   support\n",
      "\n",
      "           0       0.86      0.94      0.90       114\n",
      "           1       0.87      0.74      0.80        65\n",
      "\n",
      "    accuracy                           0.87       179\n",
      "   macro avg       0.87      0.84      0.85       179\n",
      "weighted avg       0.87      0.87      0.86       179\n",
      "\n"
     ]
    }
   ],
   "source": [
    "predictions = tree_1.predict(X_test)\n",
    "actual = y_test\n",
    "\n",
    "print(classification_report(actual, predictions))"
   ]
  },
  {
   "cell_type": "markdown",
   "id": "055e4b74",
   "metadata": {},
   "source": [
    "### Tree_1 Model had an 87% accuracy in test data"
   ]
  },
  {
   "cell_type": "markdown",
   "id": "336e3b29",
   "metadata": {},
   "source": [
    "# Work through these same exercises using the Telco dataset.\n",
    "## Experiment with this model on other datasets with a higher number of output classes."
   ]
  },
  {
   "cell_type": "markdown",
   "id": "a9f25460",
   "metadata": {},
   "source": [
    "### Acquire"
   ]
  },
  {
   "cell_type": "code",
   "execution_count": 40,
   "id": "26600963",
   "metadata": {},
   "outputs": [],
   "source": [
    "telco_df =acquire.new_telco_data()"
   ]
  },
  {
   "cell_type": "code",
   "execution_count": 41,
   "id": "b704a297",
   "metadata": {},
   "outputs": [],
   "source": [
    "telco_df=prepare.prep_telco(telco_df)"
   ]
  },
  {
   "cell_type": "code",
   "execution_count": 42,
   "id": "d3a405d9",
   "metadata": {},
   "outputs": [
    {
     "data": {
      "text/html": [
       "<div>\n",
       "<style scoped>\n",
       "    .dataframe tbody tr th:only-of-type {\n",
       "        vertical-align: middle;\n",
       "    }\n",
       "\n",
       "    .dataframe tbody tr th {\n",
       "        vertical-align: top;\n",
       "    }\n",
       "\n",
       "    .dataframe thead th {\n",
       "        text-align: right;\n",
       "    }\n",
       "</style>\n",
       "<table border=\"1\" class=\"dataframe\">\n",
       "  <thead>\n",
       "    <tr style=\"text-align: right;\">\n",
       "      <th></th>\n",
       "      <th>customer_id</th>\n",
       "      <th>gender</th>\n",
       "      <th>senior_citizen</th>\n",
       "      <th>partner</th>\n",
       "      <th>dependents</th>\n",
       "      <th>tenure</th>\n",
       "      <th>phone_service</th>\n",
       "      <th>multiple_lines</th>\n",
       "      <th>online_security</th>\n",
       "      <th>online_backup</th>\n",
       "      <th>...</th>\n",
       "      <th>contract_type_Month-to-month</th>\n",
       "      <th>contract_type_One year</th>\n",
       "      <th>contract_type_Two year</th>\n",
       "      <th>internet_service_type_DSL</th>\n",
       "      <th>internet_service_type_Fiber optic</th>\n",
       "      <th>internet_service_type_None</th>\n",
       "      <th>payment_type_Bank transfer (automatic)</th>\n",
       "      <th>payment_type_Credit card (automatic)</th>\n",
       "      <th>payment_type_Electronic check</th>\n",
       "      <th>payment_type_Mailed check</th>\n",
       "    </tr>\n",
       "  </thead>\n",
       "  <tbody>\n",
       "    <tr>\n",
       "      <th>0</th>\n",
       "      <td>0002-ORFBO</td>\n",
       "      <td>Female</td>\n",
       "      <td>0</td>\n",
       "      <td>Yes</td>\n",
       "      <td>Yes</td>\n",
       "      <td>9</td>\n",
       "      <td>Yes</td>\n",
       "      <td>No</td>\n",
       "      <td>No</td>\n",
       "      <td>Yes</td>\n",
       "      <td>...</td>\n",
       "      <td>0</td>\n",
       "      <td>1</td>\n",
       "      <td>0</td>\n",
       "      <td>1</td>\n",
       "      <td>0</td>\n",
       "      <td>0</td>\n",
       "      <td>0</td>\n",
       "      <td>0</td>\n",
       "      <td>0</td>\n",
       "      <td>1</td>\n",
       "    </tr>\n",
       "    <tr>\n",
       "      <th>1</th>\n",
       "      <td>0003-MKNFE</td>\n",
       "      <td>Male</td>\n",
       "      <td>0</td>\n",
       "      <td>No</td>\n",
       "      <td>No</td>\n",
       "      <td>9</td>\n",
       "      <td>Yes</td>\n",
       "      <td>Yes</td>\n",
       "      <td>No</td>\n",
       "      <td>No</td>\n",
       "      <td>...</td>\n",
       "      <td>1</td>\n",
       "      <td>0</td>\n",
       "      <td>0</td>\n",
       "      <td>1</td>\n",
       "      <td>0</td>\n",
       "      <td>0</td>\n",
       "      <td>0</td>\n",
       "      <td>0</td>\n",
       "      <td>0</td>\n",
       "      <td>1</td>\n",
       "    </tr>\n",
       "    <tr>\n",
       "      <th>2</th>\n",
       "      <td>0004-TLHLJ</td>\n",
       "      <td>Male</td>\n",
       "      <td>0</td>\n",
       "      <td>No</td>\n",
       "      <td>No</td>\n",
       "      <td>4</td>\n",
       "      <td>Yes</td>\n",
       "      <td>No</td>\n",
       "      <td>No</td>\n",
       "      <td>No</td>\n",
       "      <td>...</td>\n",
       "      <td>1</td>\n",
       "      <td>0</td>\n",
       "      <td>0</td>\n",
       "      <td>0</td>\n",
       "      <td>1</td>\n",
       "      <td>0</td>\n",
       "      <td>0</td>\n",
       "      <td>0</td>\n",
       "      <td>1</td>\n",
       "      <td>0</td>\n",
       "    </tr>\n",
       "    <tr>\n",
       "      <th>3</th>\n",
       "      <td>0011-IGKFF</td>\n",
       "      <td>Male</td>\n",
       "      <td>1</td>\n",
       "      <td>Yes</td>\n",
       "      <td>No</td>\n",
       "      <td>13</td>\n",
       "      <td>Yes</td>\n",
       "      <td>No</td>\n",
       "      <td>No</td>\n",
       "      <td>Yes</td>\n",
       "      <td>...</td>\n",
       "      <td>1</td>\n",
       "      <td>0</td>\n",
       "      <td>0</td>\n",
       "      <td>0</td>\n",
       "      <td>1</td>\n",
       "      <td>0</td>\n",
       "      <td>0</td>\n",
       "      <td>0</td>\n",
       "      <td>1</td>\n",
       "      <td>0</td>\n",
       "    </tr>\n",
       "    <tr>\n",
       "      <th>4</th>\n",
       "      <td>0013-EXCHZ</td>\n",
       "      <td>Female</td>\n",
       "      <td>1</td>\n",
       "      <td>Yes</td>\n",
       "      <td>No</td>\n",
       "      <td>3</td>\n",
       "      <td>Yes</td>\n",
       "      <td>No</td>\n",
       "      <td>No</td>\n",
       "      <td>No</td>\n",
       "      <td>...</td>\n",
       "      <td>1</td>\n",
       "      <td>0</td>\n",
       "      <td>0</td>\n",
       "      <td>0</td>\n",
       "      <td>1</td>\n",
       "      <td>0</td>\n",
       "      <td>0</td>\n",
       "      <td>0</td>\n",
       "      <td>0</td>\n",
       "      <td>1</td>\n",
       "    </tr>\n",
       "  </tbody>\n",
       "</table>\n",
       "<p>5 rows × 64 columns</p>\n",
       "</div>"
      ],
      "text/plain": [
       "  customer_id  gender  senior_citizen partner dependents  tenure  \\\n",
       "0  0002-ORFBO  Female               0     Yes        Yes       9   \n",
       "1  0003-MKNFE    Male               0      No         No       9   \n",
       "2  0004-TLHLJ    Male               0      No         No       4   \n",
       "3  0011-IGKFF    Male               1     Yes         No      13   \n",
       "4  0013-EXCHZ  Female               1     Yes         No       3   \n",
       "\n",
       "  phone_service multiple_lines online_security online_backup  ...  \\\n",
       "0           Yes             No              No           Yes  ...   \n",
       "1           Yes            Yes              No            No  ...   \n",
       "2           Yes             No              No            No  ...   \n",
       "3           Yes             No              No           Yes  ...   \n",
       "4           Yes             No              No            No  ...   \n",
       "\n",
       "  contract_type_Month-to-month contract_type_One year contract_type_Two year  \\\n",
       "0                            0                      1                      0   \n",
       "1                            1                      0                      0   \n",
       "2                            1                      0                      0   \n",
       "3                            1                      0                      0   \n",
       "4                            1                      0                      0   \n",
       "\n",
       "  internet_service_type_DSL internet_service_type_Fiber optic  \\\n",
       "0                         1                                 0   \n",
       "1                         1                                 0   \n",
       "2                         0                                 1   \n",
       "3                         0                                 1   \n",
       "4                         0                                 1   \n",
       "\n",
       "   internet_service_type_None  payment_type_Bank transfer (automatic)  \\\n",
       "0                           0                                       0   \n",
       "1                           0                                       0   \n",
       "2                           0                                       0   \n",
       "3                           0                                       0   \n",
       "4                           0                                       0   \n",
       "\n",
       "  payment_type_Credit card (automatic) payment_type_Electronic check  \\\n",
       "0                                    0                             0   \n",
       "1                                    0                             0   \n",
       "2                                    0                             1   \n",
       "3                                    0                             1   \n",
       "4                                    0                             0   \n",
       "\n",
       "  payment_type_Mailed check  \n",
       "0                         1  \n",
       "1                         1  \n",
       "2                         0  \n",
       "3                         0  \n",
       "4                         1  \n",
       "\n",
       "[5 rows x 64 columns]"
      ]
     },
     "execution_count": 42,
     "metadata": {},
     "output_type": "execute_result"
    }
   ],
   "source": [
    "telco_df.head()"
   ]
  },
  {
   "cell_type": "code",
   "execution_count": 43,
   "id": "01c8284c",
   "metadata": {},
   "outputs": [
    {
     "data": {
      "text/plain": [
       "Index(['customer_id', 'gender', 'senior_citizen', 'partner', 'dependents',\n",
       "       'tenure', 'phone_service', 'multiple_lines', 'online_security',\n",
       "       'online_backup', 'device_protection', 'tech_support', 'streaming_tv',\n",
       "       'streaming_movies', 'paperless_billing', 'monthly_charges',\n",
       "       'total_charges', 'churn', 'contract_type', 'internet_service_type',\n",
       "       'payment_type', 'gender_Female', 'gender_Male', 'partner_No',\n",
       "       'partner_Yes', 'dependents_No', 'dependents_Yes', 'phone_service_No',\n",
       "       'phone_service_Yes', 'multiple_lines_No',\n",
       "       'multiple_lines_No phone service', 'multiple_lines_Yes',\n",
       "       'online_security_No', 'online_security_No internet service',\n",
       "       'online_security_Yes', 'online_backup_No',\n",
       "       'online_backup_No internet service', 'online_backup_Yes',\n",
       "       'device_protection_No', 'device_protection_No internet service',\n",
       "       'device_protection_Yes', 'tech_support_No',\n",
       "       'tech_support_No internet service', 'tech_support_Yes',\n",
       "       'streaming_tv_No', 'streaming_tv_No internet service',\n",
       "       'streaming_tv_Yes', 'streaming_movies_No',\n",
       "       'streaming_movies_No internet service', 'streaming_movies_Yes',\n",
       "       'paperless_billing_No', 'paperless_billing_Yes', 'churn_No',\n",
       "       'churn_Yes', 'contract_type_Month-to-month', 'contract_type_One year',\n",
       "       'contract_type_Two year', 'internet_service_type_DSL',\n",
       "       'internet_service_type_Fiber optic', 'internet_service_type_None',\n",
       "       'payment_type_Bank transfer (automatic)',\n",
       "       'payment_type_Credit card (automatic)', 'payment_type_Electronic check',\n",
       "       'payment_type_Mailed check'],\n",
       "      dtype='object')"
      ]
     },
     "execution_count": 43,
     "metadata": {},
     "output_type": "execute_result"
    }
   ],
   "source": [
    "telco_df.columns"
   ]
  },
  {
   "cell_type": "code",
   "execution_count": 44,
   "id": "646f1c87",
   "metadata": {},
   "outputs": [],
   "source": [
    "telco_process = telco_df.drop(columns={'customer_id','gender','partner',\n",
    "                                    'dependents',\n",
    "                                    'phone_service',\n",
    "                                    'multiple_lines',\n",
    "                                    'online_security',\n",
    "                                    'online_backup',\n",
    "                                    'device_protection', \n",
    "                                    'tech_support',\n",
    "                                    'streaming_tv',\n",
    "                                    'streaming_movies',\n",
    "                                    'paperless_billing',  \n",
    "                                    'contract_type',\n",
    "                                    'internet_service_type',\n",
    "                                    'payment_type',\n",
    "                                      'churn',\n",
    "                                       'churn_No'})"
   ]
  },
  {
   "cell_type": "code",
   "execution_count": 45,
   "id": "8ca6feea",
   "metadata": {},
   "outputs": [
    {
     "data": {
      "text/plain": [
       "['senior_citizen',\n",
       " 'tenure',\n",
       " 'monthly_charges',\n",
       " 'total_charges',\n",
       " 'gender_Female',\n",
       " 'gender_Male',\n",
       " 'partner_No',\n",
       " 'partner_Yes',\n",
       " 'dependents_No',\n",
       " 'dependents_Yes',\n",
       " 'phone_service_No',\n",
       " 'phone_service_Yes',\n",
       " 'multiple_lines_No',\n",
       " 'multiple_lines_No phone service',\n",
       " 'multiple_lines_Yes',\n",
       " 'online_security_No',\n",
       " 'online_security_No internet service',\n",
       " 'online_security_Yes',\n",
       " 'online_backup_No',\n",
       " 'online_backup_No internet service',\n",
       " 'online_backup_Yes',\n",
       " 'device_protection_No',\n",
       " 'device_protection_No internet service',\n",
       " 'device_protection_Yes',\n",
       " 'tech_support_No',\n",
       " 'tech_support_No internet service',\n",
       " 'tech_support_Yes',\n",
       " 'streaming_tv_No',\n",
       " 'streaming_tv_No internet service',\n",
       " 'streaming_tv_Yes',\n",
       " 'streaming_movies_No',\n",
       " 'streaming_movies_No internet service',\n",
       " 'streaming_movies_Yes',\n",
       " 'paperless_billing_No',\n",
       " 'paperless_billing_Yes',\n",
       " 'churn_Yes',\n",
       " 'contract_type_Month-to-month',\n",
       " 'contract_type_One year',\n",
       " 'contract_type_Two year',\n",
       " 'internet_service_type_DSL',\n",
       " 'internet_service_type_Fiber optic',\n",
       " 'internet_service_type_None',\n",
       " 'payment_type_Bank transfer (automatic)',\n",
       " 'payment_type_Credit card (automatic)',\n",
       " 'payment_type_Electronic check',\n",
       " 'payment_type_Mailed check']"
      ]
     },
     "execution_count": 45,
     "metadata": {},
     "output_type": "execute_result"
    }
   ],
   "source": [
    "telco_process.columns.to_list()"
   ]
  },
  {
   "cell_type": "code",
   "execution_count": 46,
   "id": "ff676e1a",
   "metadata": {
    "scrolled": true
   },
   "outputs": [
    {
     "data": {
      "text/plain": [
       "senior_citizen                              int64\n",
       "tenure                                      int64\n",
       "monthly_charges                           float64\n",
       "total_charges                             float64\n",
       "gender_Female                               uint8\n",
       "gender_Male                                 uint8\n",
       "partner_No                                  uint8\n",
       "partner_Yes                                 uint8\n",
       "dependents_No                               uint8\n",
       "dependents_Yes                              uint8\n",
       "phone_service_No                            uint8\n",
       "phone_service_Yes                           uint8\n",
       "multiple_lines_No                           uint8\n",
       "multiple_lines_No phone service             uint8\n",
       "multiple_lines_Yes                          uint8\n",
       "online_security_No                          uint8\n",
       "online_security_No internet service         uint8\n",
       "online_security_Yes                         uint8\n",
       "online_backup_No                            uint8\n",
       "online_backup_No internet service           uint8\n",
       "online_backup_Yes                           uint8\n",
       "device_protection_No                        uint8\n",
       "device_protection_No internet service       uint8\n",
       "device_protection_Yes                       uint8\n",
       "tech_support_No                             uint8\n",
       "tech_support_No internet service            uint8\n",
       "tech_support_Yes                            uint8\n",
       "streaming_tv_No                             uint8\n",
       "streaming_tv_No internet service            uint8\n",
       "streaming_tv_Yes                            uint8\n",
       "streaming_movies_No                         uint8\n",
       "streaming_movies_No internet service        uint8\n",
       "streaming_movies_Yes                        uint8\n",
       "paperless_billing_No                        uint8\n",
       "paperless_billing_Yes                       uint8\n",
       "churn_Yes                                   uint8\n",
       "contract_type_Month-to-month                uint8\n",
       "contract_type_One year                      uint8\n",
       "contract_type_Two year                      uint8\n",
       "internet_service_type_DSL                   uint8\n",
       "internet_service_type_Fiber optic           uint8\n",
       "internet_service_type_None                  uint8\n",
       "payment_type_Bank transfer (automatic)      uint8\n",
       "payment_type_Credit card (automatic)        uint8\n",
       "payment_type_Electronic check               uint8\n",
       "payment_type_Mailed check                   uint8\n",
       "dtype: object"
      ]
     },
     "execution_count": 46,
     "metadata": {},
     "output_type": "execute_result"
    }
   ],
   "source": [
    "# drop customer_id,gender,  \n",
    "telco_process.dtypes "
   ]
  },
  {
   "cell_type": "code",
   "execution_count": 47,
   "id": "32b89bcb",
   "metadata": {},
   "outputs": [
    {
     "data": {
      "text/plain": [
       "(7043, 46)"
      ]
     },
     "execution_count": 47,
     "metadata": {},
     "output_type": "execute_result"
    }
   ],
   "source": [
    "telco_process.shape"
   ]
  },
  {
   "cell_type": "code",
   "execution_count": 73,
   "id": "9459fbf1",
   "metadata": {},
   "outputs": [],
   "source": [
    "# Splitting dataset into X and y components before doing the train/validate/test split\n",
    "X = telco_process[['senior_citizen',\n",
    " 'tenure',\n",
    " 'monthly_charges',\n",
    " 'total_charges',\n",
    " 'gender_Female',\n",
    " 'gender_Male',\n",
    " 'partner_No',\n",
    " 'partner_Yes',\n",
    " 'dependents_No',\n",
    " 'dependents_Yes',\n",
    " 'phone_service_No',\n",
    " 'phone_service_Yes',\n",
    " 'multiple_lines_No',\n",
    " 'multiple_lines_No phone service',\n",
    " 'multiple_lines_Yes',\n",
    " 'online_security_No',\n",
    " 'online_security_No internet service',\n",
    " 'online_security_Yes',\n",
    " 'online_backup_No',\n",
    " 'online_backup_No internet service',\n",
    " 'online_backup_Yes',\n",
    " 'device_protection_No',\n",
    " 'device_protection_No internet service',\n",
    " 'device_protection_Yes',\n",
    " 'tech_support_No',\n",
    " 'tech_support_No internet service',\n",
    " 'tech_support_Yes',\n",
    " 'streaming_tv_No',\n",
    " 'streaming_tv_No internet service',\n",
    " 'streaming_tv_Yes',\n",
    " 'streaming_movies_No',\n",
    " 'streaming_movies_No internet service',\n",
    " 'streaming_movies_Yes',\n",
    " 'paperless_billing_No',\n",
    " 'paperless_billing_Yes',\n",
    " 'contract_type_Month-to-month',\n",
    " 'contract_type_One year',\n",
    " 'contract_type_Two year',\n",
    " 'internet_service_type_DSL',\n",
    " 'internet_service_type_Fiber optic',\n",
    " 'internet_service_type_None',\n",
    " 'payment_type_Bank transfer (automatic)',\n",
    " 'payment_type_Credit card (automatic)',\n",
    " 'payment_type_Electronic check',\n",
    " 'payment_type_Mailed check']]\n",
    "\n",
    "y = telco_process.churn_Yes\n",
    "\n",
    "X_train_and_validate, X_test, y_train_and_validate, y_test = train_test_split(X, y, random_state=123, test_size=.2)\n",
    "X_train, X_validate, y_train, y_validate = train_test_split(X_train_and_validate, y_train_and_validate, random_state=123, test_size=.3)"
   ]
  },
  {
   "cell_type": "code",
   "execution_count": 74,
   "id": "90807be3",
   "metadata": {},
   "outputs": [],
   "source": [
    "X_train, X_validate, X_test = prepare.impute_mean_total_charges(X_train, X_validate, X_test)"
   ]
  },
  {
   "cell_type": "code",
   "execution_count": 75,
   "id": "5c56351f",
   "metadata": {},
   "outputs": [
    {
     "data": {
      "text/plain": [
       "((3943, 45), (1691, 45), (1409, 45))"
      ]
     },
     "execution_count": 75,
     "metadata": {},
     "output_type": "execute_result"
    }
   ],
   "source": [
    "X_train.shape, X_validate.shape,X_test.shape"
   ]
  },
  {
   "cell_type": "code",
   "execution_count": 76,
   "id": "fbcd2366",
   "metadata": {},
   "outputs": [
    {
     "name": "stdout",
     "output_type": "stream",
     "text": [
      "<class 'pandas.core.frame.DataFrame'>\n",
      "Int64Index: 3943 entries, 4604 to 6958\n",
      "Data columns (total 45 columns):\n",
      " #   Column                                  Non-Null Count  Dtype  \n",
      "---  ------                                  --------------  -----  \n",
      " 0   senior_citizen                          3943 non-null   int64  \n",
      " 1   tenure                                  3943 non-null   int64  \n",
      " 2   monthly_charges                         3943 non-null   float64\n",
      " 3   total_charges                           3943 non-null   float64\n",
      " 4   gender_Female                           3943 non-null   uint8  \n",
      " 5   gender_Male                             3943 non-null   uint8  \n",
      " 6   partner_No                              3943 non-null   uint8  \n",
      " 7   partner_Yes                             3943 non-null   uint8  \n",
      " 8   dependents_No                           3943 non-null   uint8  \n",
      " 9   dependents_Yes                          3943 non-null   uint8  \n",
      " 10  phone_service_No                        3943 non-null   uint8  \n",
      " 11  phone_service_Yes                       3943 non-null   uint8  \n",
      " 12  multiple_lines_No                       3943 non-null   uint8  \n",
      " 13  multiple_lines_No phone service         3943 non-null   uint8  \n",
      " 14  multiple_lines_Yes                      3943 non-null   uint8  \n",
      " 15  online_security_No                      3943 non-null   uint8  \n",
      " 16  online_security_No internet service     3943 non-null   uint8  \n",
      " 17  online_security_Yes                     3943 non-null   uint8  \n",
      " 18  online_backup_No                        3943 non-null   uint8  \n",
      " 19  online_backup_No internet service       3943 non-null   uint8  \n",
      " 20  online_backup_Yes                       3943 non-null   uint8  \n",
      " 21  device_protection_No                    3943 non-null   uint8  \n",
      " 22  device_protection_No internet service   3943 non-null   uint8  \n",
      " 23  device_protection_Yes                   3943 non-null   uint8  \n",
      " 24  tech_support_No                         3943 non-null   uint8  \n",
      " 25  tech_support_No internet service        3943 non-null   uint8  \n",
      " 26  tech_support_Yes                        3943 non-null   uint8  \n",
      " 27  streaming_tv_No                         3943 non-null   uint8  \n",
      " 28  streaming_tv_No internet service        3943 non-null   uint8  \n",
      " 29  streaming_tv_Yes                        3943 non-null   uint8  \n",
      " 30  streaming_movies_No                     3943 non-null   uint8  \n",
      " 31  streaming_movies_No internet service    3943 non-null   uint8  \n",
      " 32  streaming_movies_Yes                    3943 non-null   uint8  \n",
      " 33  paperless_billing_No                    3943 non-null   uint8  \n",
      " 34  paperless_billing_Yes                   3943 non-null   uint8  \n",
      " 35  contract_type_Month-to-month            3943 non-null   uint8  \n",
      " 36  contract_type_One year                  3943 non-null   uint8  \n",
      " 37  contract_type_Two year                  3943 non-null   uint8  \n",
      " 38  internet_service_type_DSL               3943 non-null   uint8  \n",
      " 39  internet_service_type_Fiber optic       3943 non-null   uint8  \n",
      " 40  internet_service_type_None              3943 non-null   uint8  \n",
      " 41  payment_type_Bank transfer (automatic)  3943 non-null   uint8  \n",
      " 42  payment_type_Credit card (automatic)    3943 non-null   uint8  \n",
      " 43  payment_type_Electronic check           3943 non-null   uint8  \n",
      " 44  payment_type_Mailed check               3943 non-null   uint8  \n",
      "dtypes: float64(2), int64(2), uint8(41)\n",
      "memory usage: 311.9 KB\n"
     ]
    }
   ],
   "source": [
    "X_train.info()"
   ]
  },
  {
   "cell_type": "code",
   "execution_count": 77,
   "id": "ff3dc044",
   "metadata": {
    "scrolled": true
   },
   "outputs": [
    {
     "data": {
      "text/plain": [
       "(      senior_citizen  tenure  monthly_charges  total_charges  gender_Female  \\\n",
       " 4604               0       6            20.65         109.30              0   \n",
       " 5566               0      33            53.75        1857.30              1   \n",
       " 6204               1      65           105.85        6725.50              1   \n",
       " 5837               0      22            80.00        1706.45              1   \n",
       " 1276               0      64            90.60        5817.45              1   \n",
       " \n",
       "       gender_Male  partner_No  partner_Yes  dependents_No  dependents_Yes  \\\n",
       " 4604            1           1            0              1               0   \n",
       " 5566            0           0            1              1               0   \n",
       " 6204            0           0            1              1               0   \n",
       " 5837            0           0            1              1               0   \n",
       " 1276            0           0            1              0               1   \n",
       " \n",
       "       ...  contract_type_Month-to-month  contract_type_One year  \\\n",
       " 4604  ...                             1                       0   \n",
       " 5566  ...                             0                       1   \n",
       " 6204  ...                             0                       0   \n",
       " 5837  ...                             1                       0   \n",
       " 1276  ...                             0                       0   \n",
       " \n",
       "       contract_type_Two year  internet_service_type_DSL  \\\n",
       " 4604                       0                          0   \n",
       " 5566                       0                          1   \n",
       " 6204                       1                          0   \n",
       " 5837                       0                          0   \n",
       " 1276                       1                          1   \n",
       " \n",
       "       internet_service_type_Fiber optic  internet_service_type_None  \\\n",
       " 4604                                  0                           1   \n",
       " 5566                                  0                           0   \n",
       " 6204                                  1                           0   \n",
       " 5837                                  1                           0   \n",
       " 1276                                  0                           0   \n",
       " \n",
       "       payment_type_Bank transfer (automatic)  \\\n",
       " 4604                                       0   \n",
       " 5566                                       0   \n",
       " 6204                                       0   \n",
       " 5837                                       0   \n",
       " 1276                                       0   \n",
       " \n",
       "       payment_type_Credit card (automatic)  payment_type_Electronic check  \\\n",
       " 4604                                     0                              0   \n",
       " 5566                                     1                              0   \n",
       " 6204                                     1                              0   \n",
       " 5837                                     1                              0   \n",
       " 1276                                     0                              0   \n",
       " \n",
       "       payment_type_Mailed check  \n",
       " 4604                          1  \n",
       " 5566                          0  \n",
       " 6204                          0  \n",
       " 5837                          0  \n",
       " 1276                          1  \n",
       " \n",
       " [5 rows x 45 columns],\n",
       " 4604    0\n",
       " 5566    0\n",
       " 6204    0\n",
       " 5837    0\n",
       " 1276    0\n",
       " Name: churn_Yes, dtype: uint8)"
      ]
     },
     "execution_count": 77,
     "metadata": {},
     "output_type": "execute_result"
    }
   ],
   "source": [
    "X_train.head(), y_train.head()"
   ]
  },
  {
   "cell_type": "markdown",
   "id": "558bd0c6",
   "metadata": {},
   "source": [
    "### 1. What is your baseline prediction? What is your baseline accuracy? remember: your baseline prediction for a classification problem is predicting the most prevelant class in the training dataset (the mode). When you make those predictions, what is your accuracy? This is your baseline accuracy."
   ]
  },
  {
   "cell_type": "code",
   "execution_count": 78,
   "id": "cd6bee40",
   "metadata": {
    "scrolled": true
   },
   "outputs": [
    {
     "data": {
      "text/plain": [
       "2893"
      ]
     },
     "execution_count": 78,
     "metadata": {},
     "output_type": "execute_result"
    }
   ],
   "source": [
    "# 0 is the largest value count which represents customers who have not churn\n",
    "y_train.value_counts()[0]"
   ]
  },
  {
   "cell_type": "code",
   "execution_count": 79,
   "id": "93f320dc",
   "metadata": {},
   "outputs": [
    {
     "name": "stdout",
     "output_type": "stream",
     "text": [
      "baseline accuracy: 0.7337053005325894\n"
     ]
    }
   ],
   "source": [
    "baseline = y_train.value_counts()[0]/(y_train.value_counts()[0]+y_train.value_counts()[1])\n",
    "print('baseline accuracy:',baseline)"
   ]
  },
  {
   "cell_type": "markdown",
   "id": "06219545",
   "metadata": {},
   "source": [
    "### 2. Fit the decision tree classifier to your training sample and transform (i.e. make predictions on the training sample)"
   ]
  },
  {
   "cell_type": "code",
   "execution_count": 80,
   "id": "de352f22",
   "metadata": {},
   "outputs": [
    {
     "name": "stdout",
     "output_type": "stream",
     "text": [
      "|--- contract_type_Month-to-month <= 0.50\n",
      "|   |--- monthly_charges <= 92.42\n",
      "|   |   |--- online_security_No <= 0.50\n",
      "|   |   |   |--- class: 0\n",
      "|   |   |--- online_security_No >  0.50\n",
      "|   |   |   |--- class: 0\n",
      "|   |--- monthly_charges >  92.42\n",
      "|   |   |--- total_charges <= 6586.10\n",
      "|   |   |   |--- class: 0\n",
      "|   |   |--- total_charges >  6586.10\n",
      "|   |   |   |--- class: 0\n",
      "|--- contract_type_Month-to-month >  0.50\n",
      "|   |--- internet_service_type_Fiber optic <= 0.50\n",
      "|   |   |--- tenure <= 5.50\n",
      "|   |   |   |--- class: 0\n",
      "|   |   |--- tenure >  5.50\n",
      "|   |   |   |--- class: 0\n",
      "|   |--- internet_service_type_Fiber optic >  0.50\n",
      "|   |   |--- tenure <= 8.50\n",
      "|   |   |   |--- class: 1\n",
      "|   |   |--- tenure >  8.50\n",
      "|   |   |   |--- class: 0\n",
      "\n"
     ]
    }
   ],
   "source": [
    "# Create the decision tree object and specify hyperparams\n",
    "tree_1 = DecisionTreeClassifier(max_depth = 3,min_samples_split = 5)\n",
    "\n",
    "tree_1.fit(X_train, y_train)\n",
    "\n",
    "# Rudimentary visualization of model structure\n",
    "print(export_text(tree_1, feature_names=X_train.columns.tolist()))"
   ]
  },
  {
   "cell_type": "code",
   "execution_count": 81,
   "id": "df9e4865",
   "metadata": {},
   "outputs": [],
   "source": [
    "# Use the model\n",
    "# We'll evaluate the model's performance on train, first\n",
    "y_predictions = tree_1.predict(X_train)"
   ]
  },
  {
   "cell_type": "code",
   "execution_count": 82,
   "id": "29cbbf9a",
   "metadata": {
    "scrolled": true
   },
   "outputs": [
    {
     "data": {
      "image/png": "[encoded data removed]",
      "text/plain": [
       "<Figure size 1440x1440 with 1 Axes>"
      ]
     },
     "metadata": {
      "needs_background": "light"
     },
     "output_type": "display_data"
    }
   ],
   "source": [
    "# Visualize the tree\n",
    "plt.figure(figsize=(20, 20))\n",
    "plot_tree(tree_1, feature_names=X_train.columns, class_names=['0','1'])\n",
    "plt.show()"
   ]
  },
  {
   "cell_type": "markdown",
   "id": "7e1ef6a6",
   "metadata": {},
   "source": [
    "### 3. Evaluate your in-sample results using the model score, confusion matrix, and classification report."
   ]
  },
  {
   "cell_type": "code",
   "execution_count": 83,
   "id": "a42fa93a",
   "metadata": {
    "scrolled": true
   },
   "outputs": [
    {
     "name": "stdout",
     "output_type": "stream",
     "text": [
      "Accuracy of tree_1: 0.780877504438245\n"
     ]
    }
   ],
   "source": [
    "print('Accuracy of tree_1:',tree_1.score(X_train, y_train))"
   ]
  },
  {
   "cell_type": "code",
   "execution_count": 84,
   "id": "b5f69666",
   "metadata": {},
   "outputs": [
    {
     "name": "stderr",
     "output_type": "stream",
     "text": [
      "/opt/homebrew/anaconda3/lib/python3.9/site-packages/sklearn/utils/deprecation.py:87: FutureWarning: Function plot_confusion_matrix is deprecated; Function `plot_confusion_matrix` is deprecated in 1.0 and will be removed in 1.2. Use one of the class methods: ConfusionMatrixDisplay.from_predictions or ConfusionMatrixDisplay.from_estimator.\n",
      "  warnings.warn(msg, category=FutureWarning)\n"
     ]
    },
    {
     "data": {
      "text/plain": [
       "<sklearn.metrics._plot.confusion_matrix.ConfusionMatrixDisplay at 0x135058130>"
      ]
     },
     "execution_count": 84,
     "metadata": {},
     "output_type": "execute_result"
    },
    {
     "data": {
      "image/png": "[encoded data removed]",
      "text/plain": [
       "<Figure size 432x288 with 2 Axes>"
      ]
     },
     "metadata": {
      "needs_background": "light"
     },
     "output_type": "display_data"
    }
   ],
   "source": [
    "plot_confusion_matrix(tree_1, X_train, y_train, cmap='Purples')"
   ]
  },
  {
   "cell_type": "code",
   "execution_count": 85,
   "id": "b0ab2614",
   "metadata": {},
   "outputs": [
    {
     "name": "stdout",
     "output_type": "stream",
     "text": [
      "              precision    recall  f1-score   support\n",
      "\n",
      "           0       0.79      0.96      0.87      2893\n",
      "           1       0.73      0.28      0.41      1050\n",
      "\n",
      "    accuracy                           0.78      3943\n",
      "   macro avg       0.76      0.62      0.64      3943\n",
      "weighted avg       0.77      0.78      0.74      3943\n",
      "\n"
     ]
    }
   ],
   "source": [
    "print(classification_report(y_train, y_predictions))"
   ]
  },
  {
   "cell_type": "code",
   "execution_count": 86,
   "id": "3259c96c",
   "metadata": {
    "scrolled": true
   },
   "outputs": [
    {
     "name": "stdout",
     "output_type": "stream",
     "text": [
      "Tree of max_depth = 3,min_samples_split = 5\n"
     ]
    },
    {
     "data": {
      "text/html": [
       "<div>\n",
       "<style scoped>\n",
       "    .dataframe tbody tr th:only-of-type {\n",
       "        vertical-align: middle;\n",
       "    }\n",
       "\n",
       "    .dataframe tbody tr th {\n",
       "        vertical-align: top;\n",
       "    }\n",
       "\n",
       "    .dataframe thead th {\n",
       "        text-align: right;\n",
       "    }\n",
       "</style>\n",
       "<table border=\"1\" class=\"dataframe\">\n",
       "  <thead>\n",
       "    <tr style=\"text-align: right;\">\n",
       "      <th></th>\n",
       "      <th>0</th>\n",
       "      <th>1</th>\n",
       "      <th>accuracy</th>\n",
       "      <th>macro avg</th>\n",
       "      <th>weighted avg</th>\n",
       "    </tr>\n",
       "  </thead>\n",
       "  <tbody>\n",
       "    <tr>\n",
       "      <th>precision</th>\n",
       "      <td>0.787312</td>\n",
       "      <td>0.725728</td>\n",
       "      <td>0.780878</td>\n",
       "      <td>0.756520</td>\n",
       "      <td>0.770913</td>\n",
       "    </tr>\n",
       "    <tr>\n",
       "      <th>recall</th>\n",
       "      <td>0.960940</td>\n",
       "      <td>0.284762</td>\n",
       "      <td>0.780878</td>\n",
       "      <td>0.622851</td>\n",
       "      <td>0.780878</td>\n",
       "    </tr>\n",
       "    <tr>\n",
       "      <th>f1-score</th>\n",
       "      <td>0.865504</td>\n",
       "      <td>0.409029</td>\n",
       "      <td>0.780878</td>\n",
       "      <td>0.637267</td>\n",
       "      <td>0.743947</td>\n",
       "    </tr>\n",
       "    <tr>\n",
       "      <th>support</th>\n",
       "      <td>2893.000000</td>\n",
       "      <td>1050.000000</td>\n",
       "      <td>0.780878</td>\n",
       "      <td>3943.000000</td>\n",
       "      <td>3943.000000</td>\n",
       "    </tr>\n",
       "  </tbody>\n",
       "</table>\n",
       "</div>"
      ],
      "text/plain": [
       "                     0            1  accuracy    macro avg  weighted avg\n",
       "precision     0.787312     0.725728  0.780878     0.756520      0.770913\n",
       "recall        0.960940     0.284762  0.780878     0.622851      0.780878\n",
       "f1-score      0.865504     0.409029  0.780878     0.637267      0.743947\n",
       "support    2893.000000  1050.000000  0.780878  3943.000000   3943.000000"
      ]
     },
     "execution_count": 86,
     "metadata": {},
     "output_type": "execute_result"
    }
   ],
   "source": [
    "# Produce the classification report on the actual y values and this model's predicted y values\n",
    "report = classification_report(y_train, y_predictions, output_dict=True)\n",
    "print(\"Tree of max_depth = 3,min_samples_split = 5\")\n",
    "pd.DataFrame(report)"
   ]
  },
  {
   "cell_type": "markdown",
   "id": "48dfd6f3",
   "metadata": {},
   "source": [
    "### 4. Compute: Accuracy, true positive rate, false positive rate, true negative rate, false negative rate, precision, recall, f1-score, and support."
   ]
  },
  {
   "cell_type": "markdown",
   "id": "236e638b",
   "metadata": {},
   "source": [
    "Create a confusion matrix\n",
    "\n",
    "* True Positive: number of occurrences where y is true and y is predicted true.\n",
    "* True Negative: number of occurrences where y is false and y is predicted false.\n",
    "* False Positive: number of occurrences where y is false and y is predicted true.\n",
    "* False Negative: number of occurrences where y is true and y is predicted false."
   ]
  },
  {
   "cell_type": "code",
   "execution_count": 87,
   "id": "27638f06",
   "metadata": {},
   "outputs": [
    {
     "name": "stdout",
     "output_type": "stream",
     "text": [
      "True Negative: 2780\n",
      "False Positive: 113\n",
      "False Negative:  751\n",
      "True Positive: 299\n"
     ]
    }
   ],
   "source": [
    "TN, FP, FN, TP = confusion_matrix(y_train, y_predictions).ravel()\n",
    "print(f'True Negative: {TN}')\n",
    "print(f'False Positive: {FP}')\n",
    "print(f'False Negative:  {FN}')\n",
    "print(f'True Positive: {TP}')\n"
   ]
  },
  {
   "cell_type": "code",
   "execution_count": 88,
   "id": "cb6a7f43",
   "metadata": {
    "scrolled": false
   },
   "outputs": [
    {
     "data": {
      "text/plain": [
       "array([[2780,  113],\n",
       "       [ 751,  299]])"
      ]
     },
     "execution_count": 88,
     "metadata": {},
     "output_type": "execute_result"
    }
   ],
   "source": [
    " confusion_matrix(y_train, y_predictions)"
   ]
  },
  {
   "cell_type": "code",
   "execution_count": 89,
   "id": "dc91b431",
   "metadata": {},
   "outputs": [
    {
     "name": "stdout",
     "output_type": "stream",
     "text": [
      "Negative Cases: 2893\n",
      "Positive Cases: 1050\n",
      "0    2893\n",
      "1    1050\n",
      "Name: churn_Yes, dtype: int64\n"
     ]
    }
   ],
   "source": [
    "negative_cases = TN + FP\n",
    "positive_cases = FN + TP\n",
    "print(f\"Negative Cases: {negative_cases}\")\n",
    "print(f\"Positive Cases: {positive_cases}\")\n",
    "print(y_train.value_counts())"
   ]
  },
  {
   "cell_type": "markdown",
   "id": "585f050a",
   "metadata": {},
   "source": [
    "### churn_Yes (1) is the positive case"
   ]
  },
  {
   "cell_type": "code",
   "execution_count": 90,
   "id": "3a24832a",
   "metadata": {},
   "outputs": [
    {
     "name": "stdout",
     "output_type": "stream",
     "text": [
      "              precision    recall  f1-score   support\n",
      "\n",
      "           0       0.84      0.91      0.87       170\n",
      "           1       0.81      0.69      0.75        98\n",
      "\n",
      "    accuracy                           0.83       268\n",
      "   macro avg       0.82      0.80      0.81       268\n",
      "weighted avg       0.83      0.83      0.83       268\n",
      "\n"
     ]
    }
   ],
   "source": [
    "# look at classification report of tree_1 Model\n",
    "print(classification_report(actual, predictions))"
   ]
  },
  {
   "cell_type": "code",
   "execution_count": 91,
   "id": "d615b4fc",
   "metadata": {},
   "outputs": [],
   "source": [
    "ALL = TP + FP + FN + TN\n",
    "\n",
    "accuracy = (TP + TN)/ALL\n",
    "\n",
    "true_positive_rate = sensitivity = recall = power = TP/(TP+FN)\n",
    "\n",
    "false_positive_rate = false_alarm_ratio = fallout = FP/(FP+TN)\n",
    "\n",
    "true_negative_rate = specificity = selectivity = TN/(TN+FP)\n",
    "\n",
    "false_negative_rate = miss_rate = FN/(FN+TP)\n",
    "\n",
    "precision = PPV = TP/(TP+FP)\n",
    "\n",
    "f1_score = 2*(precision*recall)/(precision+recall)\n",
    "\n",
    "support_pos = TP + FN\n",
    "\n",
    "support_neg = FP + TN\n",
    "\n"
   ]
  },
  {
   "cell_type": "code",
   "execution_count": 92,
   "id": "deeda97f",
   "metadata": {
    "scrolled": true
   },
   "outputs": [
    {
     "name": "stdout",
     "output_type": "stream",
     "text": [
      "Accuracy: 0.780877504438245 \n",
      "\n",
      "True Positive Rate/Sensitivity/Recall/Power: 0.28476190476190477 \n",
      "\n",
      "False Positive Rate/False Alarm Ratio/Fall-out: 0.03905979951607328 \n",
      "\n",
      "True Negative Rate/Specificity/Selectivity: 0.9609402004839267 \n",
      "\n",
      "False Negative Rate/Miss Rate: 0.7152380952380952 \n",
      "\n",
      "Precision/PPV: 0.7257281553398058 \n",
      "\n",
      "F1 Score: 0.40902872777017785 \n",
      "\n",
      "Support (0): 2893 \n",
      "\n",
      "Support (1): 1050\n"
     ]
    }
   ],
   "source": [
    "print(f\"Accuracy: {accuracy}\", '\\n')\n",
    "print(f\"True Positive Rate/Sensitivity/Recall/Power: {true_positive_rate}\", '\\n')\n",
    "print(f\"False Positive Rate/False Alarm Ratio/Fall-out: {false_positive_rate}\", '\\n')\n",
    "print(f\"True Negative Rate/Specificity/Selectivity: {true_negative_rate}\", '\\n')\n",
    "print(f\"False Negative Rate/Miss Rate: {false_negative_rate}\", '\\n')\n",
    "print(f\"Precision/PPV: {precision}\", '\\n')\n",
    "print(f\"F1 Score: {f1_score}\", '\\n')\n",
    "print(f\"Support (0): {support_neg}\", '\\n')\n",
    "print(f\"Support (1): {support_pos}\")"
   ]
  },
  {
   "cell_type": "markdown",
   "id": "bee229ed",
   "metadata": {},
   "source": [
    "### 5. Run through steps 2-4 using a different max_depth value."
   ]
  },
  {
   "cell_type": "code",
   "execution_count": 93,
   "id": "61f16844",
   "metadata": {},
   "outputs": [
    {
     "name": "stderr",
     "output_type": "stream",
     "text": [
      "/opt/homebrew/anaconda3/lib/python3.9/site-packages/sklearn/metrics/_classification.py:1318: UndefinedMetricWarning: Precision and F-score are ill-defined and being set to 0.0 in labels with no predicted samples. Use `zero_division` parameter to control this behavior.\n",
      "  _warn_prf(average, modifier, msg_start, len(result))\n",
      "/opt/homebrew/anaconda3/lib/python3.9/site-packages/sklearn/metrics/_classification.py:1318: UndefinedMetricWarning: Precision and F-score are ill-defined and being set to 0.0 in labels with no predicted samples. Use `zero_division` parameter to control this behavior.\n",
      "  _warn_prf(average, modifier, msg_start, len(result))\n",
      "/opt/homebrew/anaconda3/lib/python3.9/site-packages/sklearn/metrics/_classification.py:1318: UndefinedMetricWarning: Precision and F-score are ill-defined and being set to 0.0 in labels with no predicted samples. Use `zero_division` parameter to control this behavior.\n",
      "  _warn_prf(average, modifier, msg_start, len(result))\n"
     ]
    },
    {
     "name": "stdout",
     "output_type": "stream",
     "text": [
      "Tree with max depth of 1\n",
      "                     0       1  accuracy    macro avg  weighted avg\n",
      "precision     0.733705     0.0  0.733705     0.366853      0.538323\n",
      "recall        1.000000     0.0  0.733705     0.500000      0.733705\n",
      "f1-score      0.846401     0.0  0.733705     0.423201      0.621009\n",
      "support    2893.000000  1050.0  0.733705  3943.000000   3943.000000\n",
      "\n",
      "Tree with max depth of 2\n",
      "                     0            1  accuracy    macro avg  weighted avg\n",
      "precision     0.855849     0.551607  0.764646     0.703728      0.774831\n",
      "recall        0.816799     0.620952  0.764646     0.718876      0.764646\n",
      "f1-score      0.835868     0.584229  0.764646     0.710049      0.768858\n",
      "support    2893.000000  1050.000000  0.764646  3943.000000   3943.000000\n",
      "\n",
      "Tree with max depth of 3\n",
      "                     0            1  accuracy    macro avg  weighted avg\n",
      "precision     0.787312     0.725728  0.780878     0.756520      0.770913\n",
      "recall        0.960940     0.284762  0.780878     0.622851      0.780878\n",
      "f1-score      0.865504     0.409029  0.780878     0.637267      0.743947\n",
      "support    2893.000000  1050.000000  0.780878  3943.000000   3943.000000\n",
      "\n",
      "Tree with max depth of 4\n",
      "                     0            1  accuracy    macro avg  weighted avg\n",
      "precision     0.875362     0.596788  0.791783     0.736075      0.801179\n",
      "recall        0.835119     0.672381  0.791783     0.753750      0.791783\n",
      "f1-score      0.854767     0.632333  0.791783     0.743550      0.795534\n",
      "support    2893.000000  1050.000000  0.791783  3943.000000   3943.000000\n",
      "\n",
      "Tree with max depth of 5\n",
      "                     0            1  accuracy    macro avg  weighted avg\n",
      "precision     0.852036     0.654013  0.805732     0.753024      0.799303\n",
      "recall        0.889734     0.574286  0.805732     0.732010      0.805732\n",
      "f1-score      0.870477     0.611562  0.805732     0.741019      0.801529\n",
      "support    2893.000000  1050.000000  0.805732  3943.000000   3943.000000\n",
      "\n",
      "Tree with max depth of 6\n",
      "                     0            1  accuracy    macro avg  weighted avg\n",
      "precision     0.856441     0.686099  0.817905     0.771270      0.811079\n",
      "recall        0.903215     0.582857  0.817905     0.743036      0.817905\n",
      "f1-score      0.879206     0.630278  0.817905     0.754742      0.812918\n",
      "support    2893.000000  1050.000000  0.817905  3943.000000   3943.000000\n",
      "\n",
      "Tree with max depth of 7\n",
      "                     0            1  accuracy    macro avg  weighted avg\n",
      "precision     0.863397     0.701657  0.826274     0.782527      0.820327\n",
      "recall        0.906671     0.604762  0.826274     0.755717      0.826274\n",
      "f1-score      0.884505     0.649616  0.826274     0.767061      0.821956\n",
      "support    2893.000000  1050.000000  0.826274  3943.000000   3943.000000\n",
      "\n",
      "Tree with max depth of 8\n",
      "                     0            1  accuracy    macro avg  weighted avg\n",
      "precision     0.874959     0.752252  0.847324     0.813606      0.842283\n",
      "recall        0.923954     0.636190  0.847324     0.780072      0.847324\n",
      "f1-score      0.898790     0.689370  0.847324     0.794080      0.843022\n",
      "support    2893.000000  1050.000000  0.847324  3943.000000   3943.000000\n",
      "\n",
      "Tree with max depth of 9\n",
      "                     0            1  accuracy    macro avg  weighted avg\n",
      "precision     0.881105     0.818291  0.867867     0.849698      0.864378\n",
      "recall        0.947805     0.647619  0.867867     0.797712      0.867867\n",
      "f1-score      0.913239     0.723020  0.867867     0.818129      0.862585\n",
      "support    2893.000000  1050.000000  0.867867  3943.000000   3943.000000\n",
      "\n",
      "Tree with max depth of 10\n",
      "                     0            1  accuracy    macro avg  weighted avg\n",
      "precision     0.899902     0.831473  0.884352     0.865687      0.881679\n",
      "recall        0.947805     0.709524  0.884352     0.828664      0.884352\n",
      "f1-score      0.923232     0.765673  0.884352     0.844453      0.881275\n",
      "support    2893.000000  1050.000000  0.884352  3943.000000   3943.000000\n",
      "\n",
      "Tree with max depth of 11\n",
      "                     0            1  accuracy    macro avg  weighted avg\n",
      "precision     0.915807     0.849680  0.900076     0.882744      0.898198\n",
      "recall        0.951262     0.759048  0.900076     0.855155      0.900076\n",
      "f1-score      0.933198     0.801811  0.900076     0.867504      0.898210\n",
      "support    2893.000000  1050.000000  0.900076  3943.000000   3943.000000\n",
      "\n",
      "Tree with max depth of 12\n",
      "                     0            1  accuracy    macro avg  weighted avg\n",
      "precision     0.919052     0.889381   0.91225     0.904216      0.911151\n",
      "recall        0.965434     0.765714   0.91225     0.865574      0.912250\n",
      "f1-score      0.941672     0.822927   0.91225     0.882300      0.910051\n",
      "support    2893.000000  1050.000000   0.91225  3943.000000   3943.000000\n",
      "\n",
      "Tree with max depth of 13\n",
      "                     0            1  accuracy    macro avg  weighted avg\n",
      "precision     0.930782     0.897655  0.922901     0.914218      0.921960\n",
      "recall        0.966816     0.801905  0.922901     0.884361      0.922901\n",
      "f1-score      0.948457     0.847082  0.922901     0.897770      0.921462\n",
      "support    2893.000000  1050.000000  0.922901  3943.000000   3943.000000\n",
      "\n",
      "Tree with max depth of 14\n",
      "                     0            1  accuracy    macro avg  weighted avg\n",
      "precision     0.930194     0.924945  0.928988     0.927570      0.928796\n",
      "recall        0.976495     0.798095  0.928988     0.887295      0.928988\n",
      "f1-score      0.952782     0.856851  0.928988     0.904817      0.927236\n",
      "support    2893.000000  1050.000000  0.928988  3943.000000   3943.000000\n",
      "\n",
      "Tree with max depth of 15\n",
      "                     0            1  accuracy    macro avg  weighted avg\n",
      "precision     0.948293     0.911585  0.939133     0.929939      0.938518\n",
      "recall        0.969927     0.854286  0.939133     0.912107      0.939133\n",
      "f1-score      0.958988     0.882006  0.939133     0.920497      0.938488\n",
      "support    2893.000000  1050.000000  0.939133  3943.000000   3943.000000\n",
      "\n",
      "Tree with max depth of 16\n",
      "                     0            1  accuracy    macro avg  weighted avg\n",
      "precision     0.944555     0.948443  0.945473     0.946499      0.945590\n",
      "recall        0.983408     0.840952  0.945473     0.912180      0.945473\n",
      "f1-score      0.963590     0.891469  0.945473     0.927530      0.944385\n",
      "support    2893.000000  1050.000000  0.945473  3943.000000   3943.000000\n",
      "\n",
      "Tree with max depth of 17\n",
      "                     0            1  accuracy    macro avg  weighted avg\n",
      "precision     0.955848     0.941598  0.952321     0.948723      0.952053\n",
      "recall        0.980297     0.875238  0.952321     0.927768      0.952321\n",
      "f1-score      0.967918     0.907206  0.952321     0.937562      0.951751\n",
      "support    2893.000000  1050.000000  0.952321  3943.000000   3943.000000\n",
      "\n",
      "Tree with max depth of 18\n",
      "                     0            1  accuracy    macro avg  weighted avg\n",
      "precision     0.951366     0.960680  0.953589     0.956023      0.953846\n",
      "recall        0.987211     0.860952  0.953589     0.924081      0.953589\n",
      "f1-score      0.968957     0.908086  0.953589     0.938522      0.952747\n",
      "support    2893.000000  1050.000000  0.953589  3943.000000   3943.000000\n",
      "\n",
      "Tree with max depth of 19\n",
      "                     0            1  accuracy    macro avg  weighted avg\n",
      "precision     0.953349     0.966030  0.956378     0.959689      0.956726\n",
      "recall        0.988939     0.866667  0.956378     0.927803      0.956378\n",
      "f1-score      0.970818     0.913655  0.956378     0.942236      0.955596\n",
      "support    2893.000000  1050.000000  0.956378  3943.000000   3943.000000\n",
      "\n",
      "Tree with max depth of 20\n",
      "                     0            1  accuracy    macro avg  weighted avg\n",
      "precision     0.955244     0.965227  0.957646     0.960235      0.957902\n",
      "recall        0.988593     0.872381  0.957646     0.930487      0.957646\n",
      "f1-score      0.971632     0.916458  0.957646     0.944045      0.956940\n",
      "support    2893.000000  1050.000000  0.957646  3943.000000   3943.000000\n",
      "\n"
     ]
    }
   ],
   "source": [
    "# Let's get loopy\n",
    "for i in range(1, 21):\n",
    "    # Make the model\n",
    "    tree = DecisionTreeClassifier(max_depth=i,min_samples_split = 5, random_state=123)\n",
    "\n",
    "    # Fit the model (on train and only train)\n",
    "    tree = tree.fit(X_train, y_train)\n",
    "\n",
    "    # Use the model\n",
    "    # We'll evaluate the model's performance on train, first\n",
    "    y_predictions = tree.predict(X_train)\n",
    "\n",
    "    # Produce the classification report on the actual y values and this model's predicted y values\n",
    "    report = classification_report(y_train, y_predictions, output_dict=True)\n",
    "    print(f\"Tree with max depth of {i}\")\n",
    "    print(pd.DataFrame(report))\n",
    "    print()"
   ]
  },
  {
   "cell_type": "code",
   "execution_count": 94,
   "id": "94b9a104",
   "metadata": {},
   "outputs": [
    {
     "data": {
      "text/html": [
       "<div>\n",
       "<style scoped>\n",
       "    .dataframe tbody tr th:only-of-type {\n",
       "        vertical-align: middle;\n",
       "    }\n",
       "\n",
       "    .dataframe tbody tr th {\n",
       "        vertical-align: top;\n",
       "    }\n",
       "\n",
       "    .dataframe thead th {\n",
       "        text-align: right;\n",
       "    }\n",
       "</style>\n",
       "<table border=\"1\" class=\"dataframe\">\n",
       "  <thead>\n",
       "    <tr style=\"text-align: right;\">\n",
       "      <th></th>\n",
       "      <th>max_depth</th>\n",
       "      <th>train_accuracy</th>\n",
       "      <th>validate_accuracy</th>\n",
       "      <th>difference</th>\n",
       "    </tr>\n",
       "  </thead>\n",
       "  <tbody>\n",
       "    <tr>\n",
       "      <th>0</th>\n",
       "      <td>1</td>\n",
       "      <td>0.733705</td>\n",
       "      <td>0.738616</td>\n",
       "      <td>-0.004911</td>\n",
       "    </tr>\n",
       "    <tr>\n",
       "      <th>1</th>\n",
       "      <td>2</td>\n",
       "      <td>0.764646</td>\n",
       "      <td>0.755174</td>\n",
       "      <td>0.009472</td>\n",
       "    </tr>\n",
       "    <tr>\n",
       "      <th>2</th>\n",
       "      <td>3</td>\n",
       "      <td>0.780878</td>\n",
       "      <td>0.786517</td>\n",
       "      <td>-0.005639</td>\n",
       "    </tr>\n",
       "    <tr>\n",
       "      <th>3</th>\n",
       "      <td>4</td>\n",
       "      <td>0.791783</td>\n",
       "      <td>0.778829</td>\n",
       "      <td>0.012954</td>\n",
       "    </tr>\n",
       "    <tr>\n",
       "      <th>4</th>\n",
       "      <td>5</td>\n",
       "      <td>0.805732</td>\n",
       "      <td>0.785925</td>\n",
       "      <td>0.019806</td>\n",
       "    </tr>\n",
       "    <tr>\n",
       "      <th>5</th>\n",
       "      <td>6</td>\n",
       "      <td>0.817905</td>\n",
       "      <td>0.778829</td>\n",
       "      <td>0.039076</td>\n",
       "    </tr>\n",
       "    <tr>\n",
       "      <th>6</th>\n",
       "      <td>7</td>\n",
       "      <td>0.827035</td>\n",
       "      <td>0.777055</td>\n",
       "      <td>0.049980</td>\n",
       "    </tr>\n",
       "    <tr>\n",
       "      <th>7</th>\n",
       "      <td>8</td>\n",
       "      <td>0.848592</td>\n",
       "      <td>0.772324</td>\n",
       "      <td>0.076268</td>\n",
       "    </tr>\n",
       "    <tr>\n",
       "      <th>8</th>\n",
       "      <td>9</td>\n",
       "      <td>0.871164</td>\n",
       "      <td>0.756949</td>\n",
       "      <td>0.114216</td>\n",
       "    </tr>\n",
       "    <tr>\n",
       "      <th>9</th>\n",
       "      <td>10</td>\n",
       "      <td>0.892975</td>\n",
       "      <td>0.749261</td>\n",
       "      <td>0.143714</td>\n",
       "    </tr>\n",
       "    <tr>\n",
       "      <th>10</th>\n",
       "      <td>11</td>\n",
       "      <td>0.913264</td>\n",
       "      <td>0.733294</td>\n",
       "      <td>0.179970</td>\n",
       "    </tr>\n",
       "    <tr>\n",
       "      <th>11</th>\n",
       "      <td>12</td>\n",
       "      <td>0.928227</td>\n",
       "      <td>0.726789</td>\n",
       "      <td>0.201438</td>\n",
       "    </tr>\n",
       "    <tr>\n",
       "      <th>12</th>\n",
       "      <td>13</td>\n",
       "      <td>0.943951</td>\n",
       "      <td>0.719692</td>\n",
       "      <td>0.224259</td>\n",
       "    </tr>\n",
       "    <tr>\n",
       "      <th>13</th>\n",
       "      <td>14</td>\n",
       "      <td>0.953335</td>\n",
       "      <td>0.722058</td>\n",
       "      <td>0.231277</td>\n",
       "    </tr>\n",
       "    <tr>\n",
       "      <th>14</th>\n",
       "      <td>15</td>\n",
       "      <td>0.963226</td>\n",
       "      <td>0.714370</td>\n",
       "      <td>0.248856</td>\n",
       "    </tr>\n",
       "    <tr>\n",
       "      <th>15</th>\n",
       "      <td>16</td>\n",
       "      <td>0.974639</td>\n",
       "      <td>0.722649</td>\n",
       "      <td>0.251989</td>\n",
       "    </tr>\n",
       "    <tr>\n",
       "      <th>16</th>\n",
       "      <td>17</td>\n",
       "      <td>0.983008</td>\n",
       "      <td>0.725015</td>\n",
       "      <td>0.257993</td>\n",
       "    </tr>\n",
       "    <tr>\n",
       "      <th>17</th>\n",
       "      <td>18</td>\n",
       "      <td>0.989348</td>\n",
       "      <td>0.720284</td>\n",
       "      <td>0.269064</td>\n",
       "    </tr>\n",
       "    <tr>\n",
       "      <th>18</th>\n",
       "      <td>19</td>\n",
       "      <td>0.991377</td>\n",
       "      <td>0.720284</td>\n",
       "      <td>0.271093</td>\n",
       "    </tr>\n",
       "    <tr>\n",
       "      <th>19</th>\n",
       "      <td>20</td>\n",
       "      <td>0.994674</td>\n",
       "      <td>0.720875</td>\n",
       "      <td>0.273799</td>\n",
       "    </tr>\n",
       "    <tr>\n",
       "      <th>20</th>\n",
       "      <td>21</td>\n",
       "      <td>0.995689</td>\n",
       "      <td>0.717918</td>\n",
       "      <td>0.277770</td>\n",
       "    </tr>\n",
       "    <tr>\n",
       "      <th>21</th>\n",
       "      <td>22</td>\n",
       "      <td>0.996703</td>\n",
       "      <td>0.719692</td>\n",
       "      <td>0.277011</td>\n",
       "    </tr>\n",
       "    <tr>\n",
       "      <th>22</th>\n",
       "      <td>23</td>\n",
       "      <td>0.997464</td>\n",
       "      <td>0.717918</td>\n",
       "      <td>0.279545</td>\n",
       "    </tr>\n",
       "    <tr>\n",
       "      <th>23</th>\n",
       "      <td>24</td>\n",
       "      <td>0.997971</td>\n",
       "      <td>0.719101</td>\n",
       "      <td>0.278870</td>\n",
       "    </tr>\n",
       "  </tbody>\n",
       "</table>\n",
       "</div>"
      ],
      "text/plain": [
       "    max_depth  train_accuracy  validate_accuracy  difference\n",
       "0           1        0.733705           0.738616   -0.004911\n",
       "1           2        0.764646           0.755174    0.009472\n",
       "2           3        0.780878           0.786517   -0.005639\n",
       "3           4        0.791783           0.778829    0.012954\n",
       "4           5        0.805732           0.785925    0.019806\n",
       "5           6        0.817905           0.778829    0.039076\n",
       "6           7        0.827035           0.777055    0.049980\n",
       "7           8        0.848592           0.772324    0.076268\n",
       "8           9        0.871164           0.756949    0.114216\n",
       "9          10        0.892975           0.749261    0.143714\n",
       "10         11        0.913264           0.733294    0.179970\n",
       "11         12        0.928227           0.726789    0.201438\n",
       "12         13        0.943951           0.719692    0.224259\n",
       "13         14        0.953335           0.722058    0.231277\n",
       "14         15        0.963226           0.714370    0.248856\n",
       "15         16        0.974639           0.722649    0.251989\n",
       "16         17        0.983008           0.725015    0.257993\n",
       "17         18        0.989348           0.720284    0.269064\n",
       "18         19        0.991377           0.720284    0.271093\n",
       "19         20        0.994674           0.720875    0.273799\n",
       "20         21        0.995689           0.717918    0.277770\n",
       "21         22        0.996703           0.719692    0.277011\n",
       "22         23        0.997464           0.717918    0.279545\n",
       "23         24        0.997971           0.719101    0.278870"
      ]
     },
     "execution_count": 94,
     "metadata": {},
     "output_type": "execute_result"
    }
   ],
   "source": [
    "# Let's continue getting loopy, so we can compare in-sample to out-of-sample\n",
    "metrics = []\n",
    "\n",
    "for i in range(1, 25):\n",
    "    # Make the model\n",
    "    tree = DecisionTreeClassifier(max_depth=i, random_state=123)\n",
    "\n",
    "    # Fit the model (on train and only train)\n",
    "    tree = tree.fit(X_train, y_train)\n",
    "\n",
    "    # Use the model\n",
    "    # We'll evaluate the model's performance on train, first\n",
    "    in_sample_accuracy = tree.score(X_train, y_train)\n",
    "    \n",
    "    out_of_sample_accuracy = tree.score(X_validate, y_validate)\n",
    "\n",
    "    output = {\n",
    "        \"max_depth\": i,\n",
    "        \"train_accuracy\": in_sample_accuracy,\n",
    "        \"validate_accuracy\": out_of_sample_accuracy\n",
    "    }\n",
    "    \n",
    "    metrics.append(output)\n",
    "    \n",
    "df = pd.DataFrame(metrics)\n",
    "df[\"difference\"] = df.train_accuracy - df.validate_accuracy\n",
    "df"
   ]
  },
  {
   "cell_type": "code",
   "execution_count": 95,
   "id": "bc44e999",
   "metadata": {
    "scrolled": false
   },
   "outputs": [
    {
     "data": {
      "image/png": "[encoded data removed]",
      "text/plain": [
       "<Figure size 864x432 with 1 Axes>"
      ]
     },
     "metadata": {
      "needs_background": "light"
     },
     "output_type": "display_data"
    }
   ],
   "source": [
    "plt.figure(figsize=(12, 6))\n",
    "plt.plot(df.max_depth, df.train_accuracy, marker = 'o', label = 'Train')\n",
    "plt.plot(df.max_depth, df.validate_accuracy, marker = 'o', label = 'Validate')\n",
    "\n",
    "\n",
    "#plt.plot(df_2.max_depth, df_2.validate_accuracy, marker = 'x', label = 'Validate')\n",
    "\n",
    "plt.title('Overfitting Occurs at Higher Values for Max Depth')\n",
    "plt.xlabel('Max Depth')\n",
    "plt.ylabel('Accuracy')\n",
    "plt.legend()\n",
    "plt.show()"
   ]
  },
  {
   "cell_type": "code",
   "execution_count": 96,
   "id": "174be165",
   "metadata": {},
   "outputs": [
    {
     "data": {
      "text/html": [
       "<div>\n",
       "<style scoped>\n",
       "    .dataframe tbody tr th:only-of-type {\n",
       "        vertical-align: middle;\n",
       "    }\n",
       "\n",
       "    .dataframe tbody tr th {\n",
       "        vertical-align: top;\n",
       "    }\n",
       "\n",
       "    .dataframe thead th {\n",
       "        text-align: right;\n",
       "    }\n",
       "</style>\n",
       "<table border=\"1\" class=\"dataframe\">\n",
       "  <thead>\n",
       "    <tr style=\"text-align: right;\">\n",
       "      <th></th>\n",
       "      <th>max_depth</th>\n",
       "      <th>train_accuracy</th>\n",
       "      <th>validate_accuracy</th>\n",
       "      <th>difference</th>\n",
       "    </tr>\n",
       "  </thead>\n",
       "  <tbody>\n",
       "    <tr>\n",
       "      <th>0</th>\n",
       "      <td>1</td>\n",
       "      <td>0.733705</td>\n",
       "      <td>0.738616</td>\n",
       "      <td>-0.004911</td>\n",
       "    </tr>\n",
       "    <tr>\n",
       "      <th>1</th>\n",
       "      <td>2</td>\n",
       "      <td>0.764646</td>\n",
       "      <td>0.755174</td>\n",
       "      <td>0.009472</td>\n",
       "    </tr>\n",
       "    <tr>\n",
       "      <th>2</th>\n",
       "      <td>3</td>\n",
       "      <td>0.780878</td>\n",
       "      <td>0.786517</td>\n",
       "      <td>-0.005639</td>\n",
       "    </tr>\n",
       "    <tr>\n",
       "      <th>3</th>\n",
       "      <td>4</td>\n",
       "      <td>0.791276</td>\n",
       "      <td>0.778238</td>\n",
       "      <td>0.013038</td>\n",
       "    </tr>\n",
       "    <tr>\n",
       "      <th>4</th>\n",
       "      <td>5</td>\n",
       "      <td>0.803956</td>\n",
       "      <td>0.785925</td>\n",
       "      <td>0.018031</td>\n",
       "    </tr>\n",
       "    <tr>\n",
       "      <th>5</th>\n",
       "      <td>6</td>\n",
       "      <td>0.814101</td>\n",
       "      <td>0.777055</td>\n",
       "      <td>0.037046</td>\n",
       "    </tr>\n",
       "    <tr>\n",
       "      <th>6</th>\n",
       "      <td>7</td>\n",
       "      <td>0.821456</td>\n",
       "      <td>0.767593</td>\n",
       "      <td>0.053863</td>\n",
       "    </tr>\n",
       "    <tr>\n",
       "      <th>7</th>\n",
       "      <td>8</td>\n",
       "      <td>0.834644</td>\n",
       "      <td>0.769367</td>\n",
       "      <td>0.065276</td>\n",
       "    </tr>\n",
       "    <tr>\n",
       "      <th>8</th>\n",
       "      <td>9</td>\n",
       "      <td>0.841491</td>\n",
       "      <td>0.763454</td>\n",
       "      <td>0.078038</td>\n",
       "    </tr>\n",
       "    <tr>\n",
       "      <th>9</th>\n",
       "      <td>10</td>\n",
       "      <td>0.845549</td>\n",
       "      <td>0.762271</td>\n",
       "      <td>0.083278</td>\n",
       "    </tr>\n",
       "    <tr>\n",
       "      <th>10</th>\n",
       "      <td>11</td>\n",
       "      <td>0.847578</td>\n",
       "      <td>0.761679</td>\n",
       "      <td>0.085899</td>\n",
       "    </tr>\n",
       "    <tr>\n",
       "      <th>11</th>\n",
       "      <td>12</td>\n",
       "      <td>0.848085</td>\n",
       "      <td>0.762862</td>\n",
       "      <td>0.085223</td>\n",
       "    </tr>\n",
       "    <tr>\n",
       "      <th>12</th>\n",
       "      <td>13</td>\n",
       "      <td>0.849353</td>\n",
       "      <td>0.759905</td>\n",
       "      <td>0.089448</td>\n",
       "    </tr>\n",
       "    <tr>\n",
       "      <th>13</th>\n",
       "      <td>14</td>\n",
       "      <td>0.849353</td>\n",
       "      <td>0.759905</td>\n",
       "      <td>0.089448</td>\n",
       "    </tr>\n",
       "    <tr>\n",
       "      <th>14</th>\n",
       "      <td>15</td>\n",
       "      <td>0.849353</td>\n",
       "      <td>0.759905</td>\n",
       "      <td>0.089448</td>\n",
       "    </tr>\n",
       "    <tr>\n",
       "      <th>15</th>\n",
       "      <td>16</td>\n",
       "      <td>0.849353</td>\n",
       "      <td>0.759905</td>\n",
       "      <td>0.089448</td>\n",
       "    </tr>\n",
       "    <tr>\n",
       "      <th>16</th>\n",
       "      <td>17</td>\n",
       "      <td>0.849353</td>\n",
       "      <td>0.759905</td>\n",
       "      <td>0.089448</td>\n",
       "    </tr>\n",
       "    <tr>\n",
       "      <th>17</th>\n",
       "      <td>18</td>\n",
       "      <td>0.849353</td>\n",
       "      <td>0.759905</td>\n",
       "      <td>0.089448</td>\n",
       "    </tr>\n",
       "    <tr>\n",
       "      <th>18</th>\n",
       "      <td>19</td>\n",
       "      <td>0.849353</td>\n",
       "      <td>0.759905</td>\n",
       "      <td>0.089448</td>\n",
       "    </tr>\n",
       "    <tr>\n",
       "      <th>19</th>\n",
       "      <td>20</td>\n",
       "      <td>0.849353</td>\n",
       "      <td>0.759905</td>\n",
       "      <td>0.089448</td>\n",
       "    </tr>\n",
       "    <tr>\n",
       "      <th>20</th>\n",
       "      <td>21</td>\n",
       "      <td>0.849353</td>\n",
       "      <td>0.759905</td>\n",
       "      <td>0.089448</td>\n",
       "    </tr>\n",
       "    <tr>\n",
       "      <th>21</th>\n",
       "      <td>22</td>\n",
       "      <td>0.849353</td>\n",
       "      <td>0.759905</td>\n",
       "      <td>0.089448</td>\n",
       "    </tr>\n",
       "    <tr>\n",
       "      <th>22</th>\n",
       "      <td>23</td>\n",
       "      <td>0.849353</td>\n",
       "      <td>0.759905</td>\n",
       "      <td>0.089448</td>\n",
       "    </tr>\n",
       "    <tr>\n",
       "      <th>23</th>\n",
       "      <td>24</td>\n",
       "      <td>0.849353</td>\n",
       "      <td>0.759905</td>\n",
       "      <td>0.089448</td>\n",
       "    </tr>\n",
       "  </tbody>\n",
       "</table>\n",
       "</div>"
      ],
      "text/plain": [
       "    max_depth  train_accuracy  validate_accuracy  difference\n",
       "0           1        0.733705           0.738616   -0.004911\n",
       "1           2        0.764646           0.755174    0.009472\n",
       "2           3        0.780878           0.786517   -0.005639\n",
       "3           4        0.791276           0.778238    0.013038\n",
       "4           5        0.803956           0.785925    0.018031\n",
       "5           6        0.814101           0.777055    0.037046\n",
       "6           7        0.821456           0.767593    0.053863\n",
       "7           8        0.834644           0.769367    0.065276\n",
       "8           9        0.841491           0.763454    0.078038\n",
       "9          10        0.845549           0.762271    0.083278\n",
       "10         11        0.847578           0.761679    0.085899\n",
       "11         12        0.848085           0.762862    0.085223\n",
       "12         13        0.849353           0.759905    0.089448\n",
       "13         14        0.849353           0.759905    0.089448\n",
       "14         15        0.849353           0.759905    0.089448\n",
       "15         16        0.849353           0.759905    0.089448\n",
       "16         17        0.849353           0.759905    0.089448\n",
       "17         18        0.849353           0.759905    0.089448\n",
       "18         19        0.849353           0.759905    0.089448\n",
       "19         20        0.849353           0.759905    0.089448\n",
       "20         21        0.849353           0.759905    0.089448\n",
       "21         22        0.849353           0.759905    0.089448\n",
       "22         23        0.849353           0.759905    0.089448\n",
       "23         24        0.849353           0.759905    0.089448"
      ]
     },
     "execution_count": 96,
     "metadata": {},
     "output_type": "execute_result"
    }
   ],
   "source": [
    "# Let's continue getting loopy, so we can compare in-sample to out-of-sample\n",
    "metrics = []\n",
    "\n",
    "for i in range(1, 25):\n",
    "    # Make the model\n",
    "    tree = DecisionTreeClassifier(max_depth=i,min_samples_leaf= 11, random_state=123)\n",
    "\n",
    "    # Fit the model (on train and only train)\n",
    "    tree = tree.fit(X_train, y_train)\n",
    "\n",
    "    # Use the model\n",
    "    # We'll evaluate the model's performance on train, first\n",
    "    in_sample_accuracy = tree.score(X_train, y_train)\n",
    "    \n",
    "    out_of_sample_accuracy = tree.score(X_validate, y_validate)\n",
    "\n",
    "    output = {\n",
    "        \"max_depth\": i,\n",
    "        \"train_accuracy\": in_sample_accuracy,\n",
    "        \"validate_accuracy\": out_of_sample_accuracy\n",
    "    }\n",
    "    \n",
    "    metrics.append(output)\n",
    "    \n",
    "df_2 = pd.DataFrame(metrics)\n",
    "df_2[\"difference\"] = df_2.train_accuracy - df_2.validate_accuracy\n",
    "df_2"
   ]
  },
  {
   "cell_type": "code",
   "execution_count": null,
   "id": "2a3bb834",
   "metadata": {},
   "outputs": [],
   "source": []
  },
  {
   "cell_type": "code",
   "execution_count": null,
   "id": "05d7b9a0",
   "metadata": {},
   "outputs": [],
   "source": [
    "https://raw.githubusercontent.com/CodeupClassroom/mirzakhani-classification-exercises/main/random_forest_lesson.ipynb"
   ]
  }
 ],
 "metadata": {
  "kernelspec": {
   "display_name": "Python 3 (ipykernel)",
   "language": "python",
   "name": "python3"
  },
  "language_info": {
   "codemirror_mode": {
    "name": "ipython",
    "version": 3
   },
   "file_extension": ".py",
   "mimetype": "text/x-python",
   "name": "python",
   "nbconvert_exporter": "python",
   "pygments_lexer": "ipython3",
   "version": "3.9.12"
  }
 },
 "nbformat": 4,
 "nbformat_minor": 5
}
