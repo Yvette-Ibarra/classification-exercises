{
 "cells": [
  {
   "cell_type": "markdown",
   "id": "9d470f64",
   "metadata": {},
   "source": [
    "# $Model$\n",
    "\n",
    "## Using the titanic data:\n",
    "\n"
   ]
  },
  {
   "cell_type": "markdown",
   "id": "f88107a1",
   "metadata": {},
   "source": [
    "### imports"
   ]
  },
  {
   "cell_type": "code",
   "execution_count": 1,
   "id": "7bb8d281",
   "metadata": {},
   "outputs": [],
   "source": [
    "# General DS Imports\n",
    "import matplotlib.pyplot as plt\n",
    "import numpy as np\n",
    "import pandas as pd\n",
    "import seaborn as sns\n",
    "\n",
    "import acquire\n",
    "import prepare\n",
    "\n",
    "np.random.seed(9)"
   ]
  },
  {
   "cell_type": "code",
   "execution_count": 2,
   "id": "89e0287a",
   "metadata": {},
   "outputs": [],
   "source": [
    "# Decision Tree and Model Evaluation Imports\n",
    "from sklearn.tree import DecisionTreeClassifier, plot_tree, export_text\n",
    "from sklearn.model_selection import train_test_split\n",
    "\n",
    "from sklearn.ensemble import RandomForestClassifier\n",
    "from sklearn.metrics import classification_report, confusion_matrix, ConfusionMatrixDisplay\n",
    "from sklearn.neighbors import KNeighborsClassifier"
   ]
  },
  {
   "cell_type": "markdown",
   "id": "a1ddcc6f",
   "metadata": {},
   "source": [
    "### Acquire"
   ]
  },
  {
   "cell_type": "code",
   "execution_count": null,
   "id": "84805d3c",
   "metadata": {
    "scrolled": true
   },
   "outputs": [],
   "source": [
    "titanic_df =acquire.new_titanic_data()"
   ]
  },
  {
   "cell_type": "markdown",
   "id": "cbc440eb",
   "metadata": {},
   "source": [
    "### Prepare"
   ]
  },
  {
   "cell_type": "code",
   "execution_count": null,
   "id": "46b4c28b",
   "metadata": {},
   "outputs": [],
   "source": [
    "titanic_df=prepare.prep_titanic(titanic_df)"
   ]
  },
  {
   "cell_type": "code",
   "execution_count": null,
   "id": "d2599de1",
   "metadata": {
    "scrolled": true
   },
   "outputs": [],
   "source": [
    "titanic_df.head()"
   ]
  },
  {
   "cell_type": "code",
   "execution_count": null,
   "id": "5f73b6f6",
   "metadata": {},
   "outputs": [],
   "source": [
    "titanic_processing_df = titanic_df.drop(columns={'sex','class', 'embark_town'})"
   ]
  },
  {
   "cell_type": "code",
   "execution_count": null,
   "id": "ea70084b",
   "metadata": {
    "scrolled": true
   },
   "outputs": [],
   "source": [
    "titanic_processing_df.head()"
   ]
  },
  {
   "cell_type": "code",
   "execution_count": null,
   "id": "0ab9ab46",
   "metadata": {},
   "outputs": [],
   "source": [
    "titanic_processing_df.columns"
   ]
  },
  {
   "cell_type": "code",
   "execution_count": null,
   "id": "94b388e9",
   "metadata": {},
   "outputs": [],
   "source": [
    "# Splitting dataset into X and y components before doing the train/validate/test split\n",
    "X = titanic_processing_df[['age', 'sibsp', 'parch', 'fare', 'alone', 'sex_male',\n",
    "       'class_Second', 'class_Third', 'embark_town_Queenstown',\n",
    "       'embark_town_Southampton']]\n",
    "\n",
    "y = titanic_processing_df.survived\n",
    "\n",
    "X_train_and_validate, X_test, y_train_and_validate, y_test = train_test_split(X, y, random_state=123, test_size=.2)\n",
    "X_train, X_validate, y_train, y_validate = train_test_split(X_train_and_validate, y_train_and_validate, random_state=123, test_size=.3)"
   ]
  },
  {
   "cell_type": "code",
   "execution_count": null,
   "id": "b5ddd0f2",
   "metadata": {},
   "outputs": [],
   "source": [
    "X_train.shape, X_validate.shape,X_test.shape"
   ]
  },
  {
   "cell_type": "code",
   "execution_count": null,
   "id": "88203837",
   "metadata": {},
   "outputs": [],
   "source": [
    "X_train, X_validate, X_test = prepare.impute_mean_age(X_train, X_validate, X_test)\n"
   ]
  },
  {
   "cell_type": "code",
   "execution_count": null,
   "id": "7e17fa12",
   "metadata": {
    "scrolled": false
   },
   "outputs": [],
   "source": [
    "X_train.head()"
   ]
  },
  {
   "cell_type": "code",
   "execution_count": null,
   "id": "25ae19c1",
   "metadata": {},
   "outputs": [],
   "source": [
    "y_train.head()"
   ]
  },
  {
   "cell_type": "markdown",
   "id": "cd29bb0f",
   "metadata": {},
   "source": [
    "### 1. What is your baseline prediction? What is your baseline accuracy? remember: your baseline prediction for a classification problem is predicting the most prevelant class in the training dataset (the mode). When you make those predictions, what is your accuracy? This is your baseline accuracy."
   ]
  },
  {
   "cell_type": "code",
   "execution_count": null,
   "id": "85227035",
   "metadata": {},
   "outputs": [],
   "source": [
    "# set target variable survived baseline\n",
    "baseline = y_train.mode()\n",
    "baseline"
   ]
  },
  {
   "cell_type": "code",
   "execution_count": null,
   "id": "58ecedb2",
   "metadata": {},
   "outputs": [],
   "source": [
    "X_train['baseline_prediction'] = int(baseline)\n",
    "X_train"
   ]
  },
  {
   "cell_type": "code",
   "execution_count": null,
   "id": "12303279",
   "metadata": {},
   "outputs": [],
   "source": [
    "actual = y_train\n",
    "predictions = X_train.baseline_prediction"
   ]
  },
  {
   "cell_type": "code",
   "execution_count": null,
   "id": "0a5cacde",
   "metadata": {},
   "outputs": [],
   "source": [
    "pd.crosstab(actual, predictions)"
   ]
  },
  {
   "cell_type": "code",
   "execution_count": null,
   "id": "ac5e478b",
   "metadata": {},
   "outputs": [],
   "source": [
    "print('baseline accuracy :',(298)/(200+298))"
   ]
  },
  {
   "cell_type": "code",
   "execution_count": null,
   "id": "776cdbeb",
   "metadata": {},
   "outputs": [],
   "source": [
    "X_train = X_train.drop(columns = ['baseline_prediction'])\n"
   ]
  },
  {
   "cell_type": "code",
   "execution_count": null,
   "id": "5d7efefd",
   "metadata": {},
   "outputs": [],
   "source": [
    "X_train.info()"
   ]
  },
  {
   "cell_type": "markdown",
   "id": "abdae292",
   "metadata": {},
   "source": [
    "### 2. Fit the decision tree classifier to your training sample and transform (i.e. make predictions on the training sample)\n"
   ]
  },
  {
   "cell_type": "code",
   "execution_count": null,
   "id": "0fc5af2f",
   "metadata": {},
   "outputs": [],
   "source": [
    "# Create the decision tree object and specify hyperparams\n",
    "tree_1 = DecisionTreeClassifier(max_depth = 5,min_samples_split = 5)"
   ]
  },
  {
   "cell_type": "code",
   "execution_count": null,
   "id": "234e4c71",
   "metadata": {
    "scrolled": true
   },
   "outputs": [],
   "source": [
    "tree_1.fit(X_train, y_train)\n",
    "\n",
    "# Rudimentary visualization of model structure\n",
    "print(export_text(tree_1, feature_names=X_train.columns.tolist()))"
   ]
  },
  {
   "cell_type": "code",
   "execution_count": null,
   "id": "77667965",
   "metadata": {},
   "outputs": [],
   "source": [
    "# Use the model\n",
    "# We'll evaluate the model's performance on train, first\n",
    "y_predictions = tree_1.predict(X_train)"
   ]
  },
  {
   "cell_type": "code",
   "execution_count": null,
   "id": "6c4d16e1",
   "metadata": {},
   "outputs": [],
   "source": [
    "# Visualize the tree\n",
    "plt.figure(figsize=(12, 7))\n",
    "plot_tree(tree_1, feature_names=X_train.columns, class_names=['0','1'])\n",
    "plt.show()"
   ]
  },
  {
   "cell_type": "markdown",
   "id": "1693c9fc",
   "metadata": {},
   "source": [
    "### 3. Evaluate your in-sample results using the model score, confusion matrix, and classification report.\n"
   ]
  },
  {
   "cell_type": "code",
   "execution_count": null,
   "id": "03cd7a80",
   "metadata": {},
   "outputs": [],
   "source": [
    "predictions = tree_1.predict(X_train)\n",
    "actual = y_train"
   ]
  },
  {
   "cell_type": "code",
   "execution_count": null,
   "id": "4b386d2a",
   "metadata": {},
   "outputs": [],
   "source": [
    "pd.crosstab(actual, predictions)"
   ]
  },
  {
   "cell_type": "code",
   "execution_count": null,
   "id": "b6977572",
   "metadata": {},
   "outputs": [],
   "source": [
    "print(classification_report(actual, predictions))"
   ]
  },
  {
   "cell_type": "markdown",
   "id": "261dc44b",
   "metadata": {},
   "source": [
    "### 4. Compute: Accuracy, true positive rate, false positive rate, true negative rate, false negative rate, precision, recall, f1-score, and support.\n"
   ]
  },
  {
   "cell_type": "code",
   "execution_count": null,
   "id": "b5359eef",
   "metadata": {},
   "outputs": [],
   "source": [
    "TN, FP, FN, TP = confusion_matrix(y_train, y_predictions).ravel()\n",
    "TN, FP, FN, TP "
   ]
  },
  {
   "cell_type": "code",
   "execution_count": null,
   "id": "8e8b52c9",
   "metadata": {},
   "outputs": [],
   "source": [
    "# create crosstab from tree_1 model after train\n",
    "pd.crosstab(actual, predictions)"
   ]
  },
  {
   "cell_type": "code",
   "execution_count": null,
   "id": "a28ed2aa",
   "metadata": {},
   "outputs": [],
   "source": [
    "# look at accuracy of tree_1 Model\n",
    "print(classification_report(actual, predictions))"
   ]
  },
  {
   "cell_type": "markdown",
   "id": "15451617",
   "metadata": {},
   "source": [
    "### Accuracy is 0.84 for tree_1 Model"
   ]
  },
  {
   "cell_type": "markdown",
   "id": "633fbeb2",
   "metadata": {},
   "source": [
    "### 5.Run through steps 2-4 using a different max_depth value.\n"
   ]
  },
  {
   "cell_type": "code",
   "execution_count": null,
   "id": "cbdabfb6",
   "metadata": {},
   "outputs": [],
   "source": [
    "# Create the decision tree object and specify hyperparams\n",
    "tree_2 = DecisionTreeClassifier(max_depth = 7,min_samples_split = 13)"
   ]
  },
  {
   "cell_type": "code",
   "execution_count": null,
   "id": "5406011f",
   "metadata": {
    "scrolled": true
   },
   "outputs": [],
   "source": [
    "tree_2.fit(X_train, y_train)\n",
    "\n",
    "# Rudimentary visualization of model structure\n",
    "print(export_text(tree_2, feature_names=X_train.columns.tolist()))"
   ]
  },
  {
   "cell_type": "code",
   "execution_count": null,
   "id": "da153fce",
   "metadata": {
    "scrolled": true
   },
   "outputs": [],
   "source": [
    "# model predictions using tree\n",
    "tree_2.predict(X_train)"
   ]
  },
  {
   "cell_type": "code",
   "execution_count": null,
   "id": "80097938",
   "metadata": {},
   "outputs": [],
   "source": [
    "predictions = tree_2.predict(X_train)\n",
    "actual = y_train"
   ]
  },
  {
   "cell_type": "code",
   "execution_count": null,
   "id": "9c645360",
   "metadata": {},
   "outputs": [],
   "source": [
    "# create crosstab from tree_1 model after train\n",
    "pd.crosstab(actual, predictions)"
   ]
  },
  {
   "cell_type": "code",
   "execution_count": null,
   "id": "3cf74efc",
   "metadata": {
    "scrolled": true
   },
   "outputs": [],
   "source": [
    "# look at accuracy of tree_2 Model\n",
    "print(classification_report(actual, predictions))"
   ]
  },
  {
   "cell_type": "markdown",
   "id": "a063edf3",
   "metadata": {},
   "source": [
    "### Accuracy for tree_2 Model is 0.88"
   ]
  },
  {
   "cell_type": "markdown",
   "id": "84c26c4b",
   "metadata": {},
   "source": [
    "### 6. Which model performs better on your in-sample data?\n"
   ]
  },
  {
   "cell_type": "markdown",
   "id": "ce30b3f4",
   "metadata": {},
   "source": [
    "Tree_2 Model performed slightly better by 4%.\n"
   ]
  },
  {
   "cell_type": "markdown",
   "id": "6f516333",
   "metadata": {},
   "source": [
    "### 7. Which model performs best on your out-of-sample data, the validate set?"
   ]
  },
  {
   "cell_type": "code",
   "execution_count": null,
   "id": "f9160581",
   "metadata": {
    "scrolled": true
   },
   "outputs": [],
   "source": [
    "predictions = tree_1.predict(X_validate)\n",
    "actual = y_validate\n",
    "\n",
    "print(classification_report(actual, predictions))"
   ]
  },
  {
   "cell_type": "code",
   "execution_count": null,
   "id": "2db64988",
   "metadata": {
    "scrolled": true
   },
   "outputs": [],
   "source": [
    "predictions = tree_2.predict(X_validate)\n",
    "actual = y_validate\n",
    "\n",
    "print(classification_report(actual, predictions))"
   ]
  },
  {
   "cell_type": "markdown",
   "id": "33e7bc30",
   "metadata": {},
   "source": [
    "### In terms of accuracy tree_1 Model performed better by 5%."
   ]
  },
  {
   "cell_type": "markdown",
   "id": "f96e7ad8",
   "metadata": {},
   "source": [
    "# Test Data"
   ]
  },
  {
   "cell_type": "code",
   "execution_count": null,
   "id": "8eb30772",
   "metadata": {
    "scrolled": true
   },
   "outputs": [],
   "source": [
    "predictions = tree_1.predict(X_test)\n",
    "actual = y_test\n",
    "\n",
    "print(classification_report(actual, predictions))"
   ]
  },
  {
   "cell_type": "markdown",
   "id": "055e4b74",
   "metadata": {},
   "source": [
    "### Tree_1 Model had an 87% accuracy in test data"
   ]
  },
  {
   "cell_type": "markdown",
   "id": "336e3b29",
   "metadata": {},
   "source": [
    "# Work through these same exercises using the Telco dataset.\n",
    "## Experiment with this model on other datasets with a higher number of output classes."
   ]
  },
  {
   "cell_type": "markdown",
   "id": "a9f25460",
   "metadata": {},
   "source": [
    "### Acquire"
   ]
  },
  {
   "cell_type": "code",
   "execution_count": null,
   "id": "26600963",
   "metadata": {},
   "outputs": [],
   "source": [
    "telco_df =acquire.new_telco_data()"
   ]
  },
  {
   "cell_type": "code",
   "execution_count": null,
   "id": "b704a297",
   "metadata": {},
   "outputs": [],
   "source": [
    "telco_df=prepare.prep_telco(telco_df)"
   ]
  },
  {
   "cell_type": "code",
   "execution_count": null,
   "id": "d3a405d9",
   "metadata": {},
   "outputs": [],
   "source": [
    "telco_df.head()"
   ]
  },
  {
   "cell_type": "code",
   "execution_count": null,
   "id": "01c8284c",
   "metadata": {},
   "outputs": [],
   "source": [
    "telco_df.columns"
   ]
  },
  {
   "cell_type": "code",
   "execution_count": null,
   "id": "646f1c87",
   "metadata": {},
   "outputs": [],
   "source": [
    "telco_process = telco_df.drop(columns={'customer_id','gender','partner',\n",
    "                                    'dependents',\n",
    "                                    'phone_service',\n",
    "                                    'multiple_lines',\n",
    "                                    'online_security',\n",
    "                                    'online_backup',\n",
    "                                    'device_protection', \n",
    "                                    'tech_support',\n",
    "                                    'streaming_tv',\n",
    "                                    'streaming_movies',\n",
    "                                    'paperless_billing',  \n",
    "                                    'contract_type',\n",
    "                                    'internet_service_type',\n",
    "                                    'payment_type',\n",
    "                                      'churn',\n",
    "                                       'churn_No'})"
   ]
  },
  {
   "cell_type": "code",
   "execution_count": null,
   "id": "8ca6feea",
   "metadata": {},
   "outputs": [],
   "source": [
    "telco_process.columns.to_list()"
   ]
  },
  {
   "cell_type": "code",
   "execution_count": null,
   "id": "ff676e1a",
   "metadata": {
    "scrolled": true
   },
   "outputs": [],
   "source": [
    "# drop customer_id,gender,  \n",
    "telco_process.dtypes "
   ]
  },
  {
   "cell_type": "code",
   "execution_count": null,
   "id": "32b89bcb",
   "metadata": {},
   "outputs": [],
   "source": [
    "telco_process.shape"
   ]
  },
  {
   "cell_type": "code",
   "execution_count": null,
   "id": "9459fbf1",
   "metadata": {},
   "outputs": [],
   "source": [
    "# Splitting dataset into X and y components before doing the train/validate/test split\n",
    "X = telco_process[['senior_citizen',\n",
    " 'tenure',\n",
    " 'monthly_charges',\n",
    " 'total_charges',\n",
    " 'gender_Female',\n",
    " 'gender_Male',\n",
    " 'partner_No',\n",
    " 'partner_Yes',\n",
    " 'dependents_No',\n",
    " 'dependents_Yes',\n",
    " 'phone_service_No',\n",
    " 'phone_service_Yes',\n",
    " 'multiple_lines_No',\n",
    " 'multiple_lines_No phone service',\n",
    " 'multiple_lines_Yes',\n",
    " 'online_security_No',\n",
    " 'online_security_No internet service',\n",
    " 'online_security_Yes',\n",
    " 'online_backup_No',\n",
    " 'online_backup_No internet service',\n",
    " 'online_backup_Yes',\n",
    " 'device_protection_No',\n",
    " 'device_protection_No internet service',\n",
    " 'device_protection_Yes',\n",
    " 'tech_support_No',\n",
    " 'tech_support_No internet service',\n",
    " 'tech_support_Yes',\n",
    " 'streaming_tv_No',\n",
    " 'streaming_tv_No internet service',\n",
    " 'streaming_tv_Yes',\n",
    " 'streaming_movies_No',\n",
    " 'streaming_movies_No internet service',\n",
    " 'streaming_movies_Yes',\n",
    " 'paperless_billing_No',\n",
    " 'paperless_billing_Yes',\n",
    " 'contract_type_Month-to-month',\n",
    " 'contract_type_One year',\n",
    " 'contract_type_Two year',\n",
    " 'internet_service_type_DSL',\n",
    " 'internet_service_type_Fiber optic',\n",
    " 'internet_service_type_None',\n",
    " 'payment_type_Bank transfer (automatic)',\n",
    " 'payment_type_Credit card (automatic)',\n",
    " 'payment_type_Electronic check',\n",
    " 'payment_type_Mailed check']]\n",
    "\n",
    "y = telco_process.churn_Yes\n",
    "\n",
    "X_train_and_validate, X_test, y_train_and_validate, y_test = train_test_split(X, y, random_state=123, test_size=.2)\n",
    "X_train, X_validate, y_train, y_validate = train_test_split(X_train_and_validate, y_train_and_validate, random_state=123, test_size=.3)"
   ]
  },
  {
   "cell_type": "code",
   "execution_count": null,
   "id": "90807be3",
   "metadata": {},
   "outputs": [],
   "source": [
    "X_train, X_validate, X_test = prepare.impute_mean_total_charges(X_train, X_validate, X_test)"
   ]
  },
  {
   "cell_type": "code",
   "execution_count": null,
   "id": "5c56351f",
   "metadata": {},
   "outputs": [],
   "source": [
    "X_train.shape, X_validate.shape,X_test.shape"
   ]
  },
  {
   "cell_type": "code",
   "execution_count": null,
   "id": "fbcd2366",
   "metadata": {},
   "outputs": [],
   "source": [
    "X_train.info()"
   ]
  },
  {
   "cell_type": "code",
   "execution_count": null,
   "id": "ff3dc044",
   "metadata": {
    "scrolled": true
   },
   "outputs": [],
   "source": [
    "X_train.head(), y_train.head()"
   ]
  },
  {
   "cell_type": "markdown",
   "id": "558bd0c6",
   "metadata": {},
   "source": [
    "### 1. What is your baseline prediction? What is your baseline accuracy? remember: your baseline prediction for a classification problem is predicting the most prevelant class in the training dataset (the mode). When you make those predictions, what is your accuracy? This is your baseline accuracy."
   ]
  },
  {
   "cell_type": "code",
   "execution_count": null,
   "id": "cd6bee40",
   "metadata": {
    "scrolled": true
   },
   "outputs": [],
   "source": [
    "# 0 is the largest value count which represents customers who have not churn\n",
    "y_train.value_counts()[0]"
   ]
  },
  {
   "cell_type": "code",
   "execution_count": null,
   "id": "93f320dc",
   "metadata": {},
   "outputs": [],
   "source": [
    "baseline = y_train.value_counts()[0]/(y_train.value_counts()[0]+y_train.value_counts()[1])\n",
    "print('baseline accuracy:',baseline)"
   ]
  },
  {
   "cell_type": "markdown",
   "id": "06219545",
   "metadata": {},
   "source": [
    "### 2. Fit the decision tree classifier to your training sample and transform (i.e. make predictions on the training sample)"
   ]
  },
  {
   "cell_type": "code",
   "execution_count": null,
   "id": "de352f22",
   "metadata": {},
   "outputs": [],
   "source": [
    "# Create the decision tree object and specify hyperparams\n",
    "tree_1 = DecisionTreeClassifier(max_depth = 3,min_samples_split = 5)\n",
    "\n",
    "tree_1.fit(X_train, y_train)\n",
    "\n",
    "# Rudimentary visualization of model structure\n",
    "print(export_text(tree_1, feature_names=X_train.columns.tolist()))"
   ]
  },
  {
   "cell_type": "code",
   "execution_count": null,
   "id": "df9e4865",
   "metadata": {},
   "outputs": [],
   "source": [
    "# Use the model\n",
    "# We'll evaluate the model's performance on train, first\n",
    "y_predictions = tree_1.predict(X_train)"
   ]
  },
  {
   "cell_type": "code",
   "execution_count": null,
   "id": "29cbbf9a",
   "metadata": {
    "scrolled": true
   },
   "outputs": [],
   "source": [
    "# Visualize the tree\n",
    "plt.figure(figsize=(20, 20))\n",
    "plot_tree(tree_1, feature_names=X_train.columns, class_names=['0','1'])\n",
    "plt.show()"
   ]
  },
  {
   "cell_type": "markdown",
   "id": "7e1ef6a6",
   "metadata": {},
   "source": [
    "### 3. Evaluate your in-sample results using the model score, confusion matrix, and classification report."
   ]
  },
  {
   "cell_type": "code",
   "execution_count": null,
   "id": "a42fa93a",
   "metadata": {
    "scrolled": true
   },
   "outputs": [],
   "source": [
    "print('Accuracy of tree_1:',tree_1.score(X_train, y_train))"
   ]
  },
  {
   "cell_type": "code",
   "execution_count": null,
   "id": "b5f69666",
   "metadata": {},
   "outputs": [],
   "source": [
    "# plot_confusion_matrix(tree_1, X_train, y_train, cmap='Purples')"
   ]
  },
  {
   "cell_type": "code",
   "execution_count": null,
   "id": "b0ab2614",
   "metadata": {},
   "outputs": [],
   "source": [
    "print(classification_report(y_train, y_predictions))"
   ]
  },
  {
   "cell_type": "code",
   "execution_count": null,
   "id": "3259c96c",
   "metadata": {
    "scrolled": true
   },
   "outputs": [],
   "source": [
    "# Produce the classification report on the actual y values and this model's predicted y values\n",
    "report = classification_report(y_train, y_predictions, output_dict=True)\n",
    "print(\"Tree of max_depth = 3,min_samples_split = 5\")\n",
    "pd.DataFrame(report)"
   ]
  },
  {
   "cell_type": "markdown",
   "id": "075c9bba",
   "metadata": {},
   "source": [
    "### 4. Compute: Accuracy, true positive rate, false positive rate, true negative rate, false negative rate, precision, recall, f1-score, and support."
   ]
  },
  {
   "cell_type": "markdown",
   "id": "1b620b9c",
   "metadata": {},
   "source": [
    "Create a confusion matrix\n",
    "\n",
    "* True Positive: number of occurrences where y is true and y is predicted true.\n",
    "* True Negative: number of occurrences where y is false and y is predicted false.\n",
    "* False Positive: number of occurrences where y is false and y is predicted true.\n",
    "* False Negative: number of occurrences where y is true and y is predicted false."
   ]
  },
  {
   "cell_type": "code",
   "execution_count": null,
   "id": "27638f06",
   "metadata": {},
   "outputs": [],
   "source": [
    "TN, FP, FN, TP = confusion_matrix(y_train, y_predictions).ravel()\n",
    "print(f'True Negative: {TN}')\n",
    "print(f'False Positive: {FP}')\n",
    "print(f'False Negative:  {FN}')\n",
    "print(f'True Positive: {TP}')\n"
   ]
  },
  {
   "cell_type": "code",
   "execution_count": null,
   "id": "68939018",
   "metadata": {
    "scrolled": false
   },
   "outputs": [],
   "source": [
    " confusion_matrix(y_train, y_predictions)"
   ]
  },
  {
   "cell_type": "code",
   "execution_count": null,
   "id": "16e56027",
   "metadata": {},
   "outputs": [],
   "source": [
    "negative_cases = TN + FP\n",
    "positive_cases = FN + TP\n",
    "print(f\"Negative Cases: {negative_cases}\")\n",
    "print(f\"Positive Cases: {positive_cases}\")\n",
    "print(y_train.value_counts())"
   ]
  },
  {
   "cell_type": "markdown",
   "id": "64deff8c",
   "metadata": {},
   "source": [
    "### churn_Yes (1) is the positive case"
   ]
  },
  {
   "cell_type": "code",
   "execution_count": null,
   "id": "4bc4bbd8",
   "metadata": {},
   "outputs": [],
   "source": [
    "# look at classification report of tree_1 Model\n",
    "print(classification_report(actual, predictions))"
   ]
  },
  {
   "cell_type": "code",
   "execution_count": null,
   "id": "23738ced",
   "metadata": {},
   "outputs": [],
   "source": [
    "ALL = TP + FP + FN + TN\n",
    "\n",
    "accuracy = (TP + TN)/ALL\n",
    "\n",
    "true_positive_rate = sensitivity = recall = power = TP/(TP+FN)\n",
    "\n",
    "false_positive_rate = false_alarm_ratio = fallout = FP/(FP+TN)\n",
    "\n",
    "true_negative_rate = specificity = selectivity = TN/(TN+FP)\n",
    "\n",
    "false_negative_rate = miss_rate = FN/(FN+TP)\n",
    "\n",
    "precision = PPV = TP/(TP+FP)\n",
    "\n",
    "f1_score = 2*(precision*recall)/(precision+recall)\n",
    "\n",
    "support_pos = TP + FN\n",
    "\n",
    "support_neg = FP + TN\n",
    "\n"
   ]
  },
  {
   "cell_type": "code",
   "execution_count": null,
   "id": "3e4b48d5",
   "metadata": {
    "scrolled": true
   },
   "outputs": [],
   "source": [
    "print(f\"Accuracy: {accuracy}\", '\\n')\n",
    "print(f\"True Positive Rate/Sensitivity/Recall/Power: {true_positive_rate}\", '\\n')\n",
    "print(f\"False Positive Rate/False Alarm Ratio/Fall-out: {false_positive_rate}\", '\\n')\n",
    "print(f\"True Negative Rate/Specificity/Selectivity: {true_negative_rate}\", '\\n')\n",
    "print(f\"False Negative Rate/Miss Rate: {false_negative_rate}\", '\\n')\n",
    "print(f\"Precision/PPV: {precision}\", '\\n')\n",
    "print(f\"F1 Score: {f1_score}\", '\\n')\n",
    "print(f\"Support (0): {support_neg}\", '\\n')\n",
    "print(f\"Support (1): {support_pos}\")"
   ]
  },
  {
   "cell_type": "markdown",
   "id": "3321a73d",
   "metadata": {},
   "source": [
    "### 5. Run through steps 2-4 using a different max_depth value."
   ]
  },
  {
   "cell_type": "code",
   "execution_count": null,
   "id": "cc2bee3a",
   "metadata": {},
   "outputs": [],
   "source": [
    "# Let's get loopy\n",
    "for i in range(1, 21):\n",
    "    # Make the model\n",
    "    tree = DecisionTreeClassifier(max_depth=i,min_samples_split = 5, random_state=123)\n",
    "\n",
    "    # Fit the model (on train and only train)\n",
    "    tree = tree.fit(X_train, y_train)\n",
    "\n",
    "    # Use the model\n",
    "    # We'll evaluate the model's performance on train, first\n",
    "    y_predictions = tree.predict(X_train)\n",
    "\n",
    "    # Produce the classification report on the actual y values and this model's predicted y values\n",
    "    report = classification_report(y_train, y_predictions, output_dict=True)\n",
    "    print(f\"Tree with max depth of {i}\")\n",
    "    print(pd.DataFrame(report))\n",
    "    print()"
   ]
  },
  {
   "cell_type": "code",
   "execution_count": null,
   "id": "413ff266",
   "metadata": {},
   "outputs": [],
   "source": [
    "# Let's continue getting loopy, so we can compare in-sample to out-of-sample\n",
    "metrics = []\n",
    "\n",
    "for i in range(1, 25):\n",
    "    # Make the model\n",
    "    tree = DecisionTreeClassifier(max_depth=i, random_state=123)\n",
    "\n",
    "    # Fit the model (on train and only train)\n",
    "    tree = tree.fit(X_train, y_train)\n",
    "\n",
    "    # Use the model\n",
    "    # We'll evaluate the model's performance on train, first\n",
    "    in_sample_accuracy = tree.score(X_train, y_train)\n",
    "    \n",
    "    out_of_sample_accuracy = tree.score(X_validate, y_validate)\n",
    "\n",
    "    output = {\n",
    "        \"max_depth\": i,\n",
    "        \"train_accuracy\": in_sample_accuracy,\n",
    "        \"validate_accuracy\": out_of_sample_accuracy\n",
    "    }\n",
    "    \n",
    "    metrics.append(output)\n",
    "    \n",
    "df = pd.DataFrame(metrics)\n",
    "df[\"difference\"] = df.train_accuracy - df.validate_accuracy\n",
    "df"
   ]
  },
  {
   "cell_type": "code",
   "execution_count": null,
   "id": "73c77619",
   "metadata": {
    "scrolled": false
   },
   "outputs": [],
   "source": [
    "plt.figure(figsize=(12, 6))\n",
    "plt.plot(df.max_depth, df.train_accuracy, marker = 'o', label = 'Train')\n",
    "plt.plot(df.max_depth, df.validate_accuracy, marker = 'o', label = 'Validate')\n",
    "\n",
    "\n",
    "#plt.plot(df_2.max_depth, df_2.validate_accuracy, marker = 'x', label = 'Validate')\n",
    "\n",
    "plt.title('Overfitting Occurs at Higher Values for Max Depth')\n",
    "plt.xlabel('Max Depth')\n",
    "plt.ylabel('Accuracy')\n",
    "plt.legend()\n",
    "plt.show()"
   ]
  },
  {
   "cell_type": "code",
   "execution_count": null,
   "id": "5d479c2c",
   "metadata": {},
   "outputs": [],
   "source": [
    "# Let's continue getting loopy, so we can compare in-sample to out-of-sample\n",
    "metrics = []\n",
    "\n",
    "for i in range(1, 25):\n",
    "    # Make the model\n",
    "    tree = DecisionTreeClassifier(max_depth=i,min_samples_leaf= 11, random_state=123)\n",
    "\n",
    "    # Fit the model (on train and only train)\n",
    "    tree = tree.fit(X_train, y_train)\n",
    "\n",
    "    # Use the model\n",
    "    # We'll evaluate the model's performance on train, first\n",
    "    in_sample_accuracy = tree.score(X_train, y_train)\n",
    "    \n",
    "    out_of_sample_accuracy = tree.score(X_validate, y_validate)\n",
    "\n",
    "    output = {\n",
    "        \"max_depth\": i,\n",
    "        \"train_accuracy\": in_sample_accuracy,\n",
    "        \"validate_accuracy\": out_of_sample_accuracy\n",
    "    }\n",
    "    \n",
    "    metrics.append(output)\n",
    "    \n",
    "df_2 = pd.DataFrame(metrics)\n",
    "df_2[\"difference\"] = df_2.train_accuracy - df_2.validate_accuracy\n",
    "df_2"
   ]
  },
  {
   "cell_type": "markdown",
   "id": "6a9953ca",
   "metadata": {},
   "source": [
    "# $ Random Forest$\n",
    "\n",
    "Use titanic data:"
   ]
  },
  {
   "cell_type": "code",
   "execution_count": null,
   "id": "801753ed",
   "metadata": {
    "scrolled": false
   },
   "outputs": [],
   "source": [
    "titanic_df = acquire.get_titanic_data()\n",
    "titanic_df"
   ]
  },
  {
   "cell_type": "code",
   "execution_count": null,
   "id": "45e4a296",
   "metadata": {
    "scrolled": true
   },
   "outputs": [],
   "source": [
    "titanic_prep = prepare.prep_titanic(titanic_df)"
   ]
  },
  {
   "cell_type": "code",
   "execution_count": null,
   "id": "594f193e",
   "metadata": {},
   "outputs": [],
   "source": [
    "titanic_prep.head()"
   ]
  },
  {
   "cell_type": "code",
   "execution_count": null,
   "id": "1bdf0976",
   "metadata": {
    "scrolled": true
   },
   "outputs": [],
   "source": [
    "titanic_prep.dtypes"
   ]
  },
  {
   "cell_type": "code",
   "execution_count": null,
   "id": "3d389a66",
   "metadata": {},
   "outputs": [],
   "source": [
    "titanic_prep = titanic_prep.drop(columns = {'sex', 'class','embark_town'})"
   ]
  },
  {
   "cell_type": "code",
   "execution_count": null,
   "id": "ec440f5b",
   "metadata": {
    "scrolled": true
   },
   "outputs": [],
   "source": [
    "titanic_prep.info()"
   ]
  },
  {
   "cell_type": "markdown",
   "id": "c941cdfd",
   "metadata": {},
   "source": [
    "help(prepare.train_validate_test(titanic_df,'survived'))"
   ]
  },
  {
   "cell_type": "code",
   "execution_count": null,
   "id": "91db441b",
   "metadata": {},
   "outputs": [],
   "source": [
    "def train_validate_test_split(df, target, seed=123):\n",
    "    '''\n",
    "    This function takes in a dataframe, the name of the target variable\n",
    "    (for stratification purposes), and an integer for a setting a seed\n",
    "    and splits the data into train, validate and test. \n",
    "    Test is 20% of the original dataset, validate is .30*.80= 24% of the \n",
    "    original dataset, and train is .70*.80= 56% of the original dataset. \n",
    "    The function returns, in this order, train, validate and test dataframes. \n",
    "    '''\n",
    "    train_validate, test = train_test_split(df, test_size=0.2, \n",
    "                                            random_state=seed, \n",
    "                                            stratify=df[target])\n",
    "    train, validate = train_test_split(train_validate, test_size=0.3, \n",
    "                                       random_state=seed,\n",
    "                                       stratify=train_validate[target])\n",
    "    return train, validate, test"
   ]
  },
  {
   "cell_type": "code",
   "execution_count": null,
   "id": "093fa41c",
   "metadata": {},
   "outputs": [],
   "source": [
    "# split into train, validate, test\n",
    "train, validate, test = train_validate_test_split(titanic_prep, target='survived', seed=123)\n",
    "\n",
    "# create X & y version of train, where y is a series with just the target variable and X are all the features. \n",
    "\n",
    "X_train = train.drop(columns=['survived'])\n",
    "y_train = train.survived\n",
    "\n",
    "X_validate = validate.drop(columns=['survived'])\n",
    "y_validate = validate.survived\n",
    "\n",
    "X_test = test.drop(columns=['survived'])\n",
    "y_test = test.survived"
   ]
  },
  {
   "cell_type": "code",
   "execution_count": null,
   "id": "0acba375",
   "metadata": {},
   "outputs": [],
   "source": [
    "# take care of null values in age variable\n",
    "X_train, X_validate, X_test = prepare.impute_mean_age(X_train, X_validate, X_test)"
   ]
  },
  {
   "cell_type": "code",
   "execution_count": null,
   "id": "c9118728",
   "metadata": {},
   "outputs": [],
   "source": [
    "X_train.sample(10)"
   ]
  },
  {
   "cell_type": "code",
   "execution_count": null,
   "id": "800f14cf",
   "metadata": {},
   "outputs": [],
   "source": [
    "pd.DataFrame(y_train).sample(10)"
   ]
  },
  {
   "cell_type": "code",
   "execution_count": null,
   "id": "4a58efaf",
   "metadata": {},
   "outputs": [],
   "source": [
    "pd.DataFrame(y_train.value_counts())"
   ]
  },
  {
   "cell_type": "code",
   "execution_count": null,
   "id": "93589d63",
   "metadata": {
    "scrolled": true
   },
   "outputs": [],
   "source": [
    "baseline = y_train.mode()\n",
    "baseline"
   ]
  },
  {
   "cell_type": "markdown",
   "id": "d0a180e4",
   "metadata": {},
   "source": [
    "*** Baseline is set to 0 which represents not survived ***"
   ]
  },
  {
   "cell_type": "code",
   "execution_count": null,
   "id": "3720decb",
   "metadata": {
    "scrolled": true
   },
   "outputs": [],
   "source": [
    "X_train['baseline_prediction'] = int(baseline)\n"
   ]
  },
  {
   "cell_type": "code",
   "execution_count": null,
   "id": "96430888",
   "metadata": {},
   "outputs": [],
   "source": [
    "actual = y_train\n",
    "predictions = X_train.baseline_prediction"
   ]
  },
  {
   "cell_type": "code",
   "execution_count": null,
   "id": "b0f58233",
   "metadata": {
    "scrolled": true
   },
   "outputs": [],
   "source": [
    "pd.crosstab(actual, predictions)"
   ]
  },
  {
   "cell_type": "code",
   "execution_count": null,
   "id": "0fb4b0ed",
   "metadata": {},
   "outputs": [],
   "source": [
    "X_train = X_train.drop(columns = ['baseline_prediction'])"
   ]
  },
  {
   "cell_type": "code",
   "execution_count": null,
   "id": "ec104bcd",
   "metadata": {},
   "outputs": [],
   "source": [
    "X_train.columns"
   ]
  },
  {
   "cell_type": "markdown",
   "id": "5699d18f",
   "metadata": {},
   "source": [
    "### 1. Fit the Random Forest classifier to your training sample and transform (i.e. make predictions on the training sample) setting the random_state accordingly and setting min_samples_leaf = 1 and max_depth = 10."
   ]
  },
  {
   "cell_type": "code",
   "execution_count": null,
   "id": "3de16a61",
   "metadata": {
    "scrolled": true
   },
   "outputs": [],
   "source": [
    "random_forest = RandomForestClassifier(max_depth=10, min_samples_leaf = 1 , random_state=123)"
   ]
  },
  {
   "cell_type": "code",
   "execution_count": null,
   "id": "bf0b8909",
   "metadata": {},
   "outputs": [],
   "source": [
    "random_forest.fit(X_train, y_train)"
   ]
  },
  {
   "cell_type": "code",
   "execution_count": null,
   "id": "9923b6b6",
   "metadata": {},
   "outputs": [],
   "source": [
    "print(random_forest.feature_importances_)"
   ]
  },
  {
   "cell_type": "code",
   "execution_count": null,
   "id": "595d4de1",
   "metadata": {
    "scrolled": true
   },
   "outputs": [],
   "source": [
    "\n",
    "plt.figure(figsize=(20, 8))\n",
    "plt.bar(X_train.columns, random_forest.feature_importances_)\n",
    "\n",
    "plt.show()\n"
   ]
  },
  {
   "cell_type": "markdown",
   "id": "e3c63171",
   "metadata": {},
   "source": [
    "* The higher number the feature importance == more important the feature.\n",
    "* The importance of a feature is computed as the (normalized) total reduction of the criterion brought by that feature."
   ]
  },
  {
   "cell_type": "code",
   "execution_count": null,
   "id": "63d6d02d",
   "metadata": {
    "scrolled": false
   },
   "outputs": [],
   "source": [
    "y_pred = random_forest.predict(X_train)\n",
    "y_pred"
   ]
  },
  {
   "cell_type": "code",
   "execution_count": null,
   "id": "d9a7adf1",
   "metadata": {},
   "outputs": [],
   "source": [
    "# this is the match of the values to the votes\n",
    "random_forest.classes_\n",
    "# [0] not survived, [1] survived"
   ]
  },
  {
   "cell_type": "code",
   "execution_count": null,
   "id": "25ca322f",
   "metadata": {},
   "outputs": [],
   "source": [
    "y_pred_proba = random_forest.predict_proba(X_train)\n",
    "y_pred_proba"
   ]
  },
  {
   "cell_type": "markdown",
   "id": "c9971087",
   "metadata": {},
   "source": [
    "### 2. Evaluate your results using the model score, confusion matrix, and classification report."
   ]
  },
  {
   "cell_type": "markdown",
   "id": "58570e53",
   "metadata": {},
   "source": [
    "Evaluate model using **model score**"
   ]
  },
  {
   "cell_type": "code",
   "execution_count": null,
   "id": "7d6b2489",
   "metadata": {},
   "outputs": [],
   "source": [
    "print('Accuracy of random forest classifier on training set: {:.2f}'\n",
    "     .format(random_forest.score(X_train, y_train)))"
   ]
  },
  {
   "cell_type": "markdown",
   "id": "8ee53a2a",
   "metadata": {},
   "source": [
    "Evaluate model using **confusion matrix**"
   ]
  },
  {
   "cell_type": "code",
   "execution_count": null,
   "id": "3abb0f12",
   "metadata": {},
   "outputs": [],
   "source": [
    "cm = confusion_matrix(y_train, y_pred)\n",
    "print(cm)"
   ]
  },
  {
   "cell_type": "code",
   "execution_count": null,
   "id": "145300ab",
   "metadata": {
    "scrolled": true
   },
   "outputs": [],
   "source": [
    "# disp = ConfusionMatrixDisplay(confusion_matrix=cm,display_labels=random_forest.classes_)\n",
    "disp = ConfusionMatrixDisplay(confusion_matrix=cm, display_labels=random_forest.classes_)\n",
    "disp = disp.plot(cmap=plt.cm.Blues,values_format='g')\n",
    "\n",
    "disp.plot()\n"
   ]
  },
  {
   "cell_type": "markdown",
   "id": "935b47e1",
   "metadata": {},
   "source": [
    "Evaluate using **classification report**"
   ]
  },
  {
   "cell_type": "code",
   "execution_count": null,
   "id": "67f6e5e4",
   "metadata": {},
   "outputs": [],
   "source": [
    "print(classification_report(y_train, y_pred))"
   ]
  },
  {
   "cell_type": "markdown",
   "id": "2400bedc",
   "metadata": {},
   "source": [
    "### 3. Print and clearly label the following: Accuracy, true positive rate, false positive rate, true nega"
   ]
  },
  {
   "cell_type": "code",
   "execution_count": null,
   "id": "47e81627",
   "metadata": {},
   "outputs": [],
   "source": [
    "TN, FP, FN, TP = confusion_matrix(y_train, y_pred).ravel()\n",
    "print(f'True Negative: {TN}')\n",
    "print(f'False Positive: {FP}')\n",
    "print(f'False Negative:  {FN}')\n",
    "print(f'True Positive: {TP}')"
   ]
  },
  {
   "cell_type": "code",
   "execution_count": null,
   "id": "4e96c19f",
   "metadata": {
    "scrolled": true
   },
   "outputs": [],
   "source": [
    " confusion_matrix(y_train, y_pred)"
   ]
  },
  {
   "cell_type": "code",
   "execution_count": null,
   "id": "2e29185c",
   "metadata": {},
   "outputs": [],
   "source": [
    "negative_cases = TN + FP\n",
    "positive_cases = FN + TP\n",
    "print(f\"Negative Cases: {negative_cases}\")\n",
    "print(f\"Positive Cases: {positive_cases}\")\n",
    "print(y_train.value_counts())"
   ]
  },
  {
   "cell_type": "code",
   "execution_count": null,
   "id": "2f4849f1",
   "metadata": {},
   "outputs": [],
   "source": [
    "ALL = TP + FP + FN + TN\n",
    "\n",
    "accuracy = (TP + TN)/ALL\n",
    "\n",
    "true_positive_rate = sensitivity = recall = power = TP/(TP+FN)\n",
    "\n",
    "false_positive_rate = false_alarm_ratio = fallout = FP/(FP+TN)\n",
    "\n",
    "true_negative_rate = specificity = selectivity = TN/(TN+FP)\n",
    "\n",
    "false_negative_rate = miss_rate = FN/(FN+TP)\n",
    "\n",
    "precision = PPV = TP/(TP+FP)\n",
    "\n",
    "f1_score = 2*(precision*recall)/(precision+recall)\n",
    "\n",
    "support_pos = TP + FN\n",
    "\n",
    "support_neg = FP + TN"
   ]
  },
  {
   "cell_type": "code",
   "execution_count": null,
   "id": "13bef599",
   "metadata": {},
   "outputs": [],
   "source": [
    "print(f\"Accuracy: {accuracy}\", '\\n')\n",
    "print(f\"True Positive Rate/Sensitivity/Recall/Power: {true_positive_rate}\", '\\n')\n",
    "print(f\"False Positive Rate/False Alarm Ratio/Fall-out: {false_positive_rate}\", '\\n')\n",
    "print(f\"True Negative Rate/Specificity/Selectivity: {true_negative_rate}\", '\\n')\n",
    "print(f\"False Negative Rate/Miss Rate: {false_negative_rate}\", '\\n')\n",
    "print(f\"Precision/PPV: {precision}\", '\\n')\n",
    "print(f\"F1 Score: {f1_score}\", '\\n')\n",
    "print(f\"Support (0): {support_neg}\", '\\n')\n",
    "print(f\"Support (1): {support_pos}\")"
   ]
  },
  {
   "cell_type": "markdown",
   "id": "339af5b2",
   "metadata": {},
   "source": [
    "### 4. Run through steps increasing your min_samples_leaf and decreasing your max_depth."
   ]
  },
  {
   "cell_type": "code",
   "execution_count": null,
   "id": "fbc6ffdf",
   "metadata": {},
   "outputs": [],
   "source": [
    "y_train.copy = y_train"
   ]
  },
  {
   "cell_type": "code",
   "execution_count": null,
   "id": "c60656e5",
   "metadata": {},
   "outputs": [],
   "source": [
    "y_train.copy"
   ]
  },
  {
   "cell_type": "code",
   "execution_count": null,
   "id": "3e1eba10",
   "metadata": {},
   "outputs": [],
   "source": [
    "# Let's get loopy\n",
    "\n",
    "for i in range(1, 21):\n",
    "  \n",
    "    # Make the model\n",
    "    random_forest = RandomForestClassifier(max_depth=10, min_samples_leaf = i , random_state=123)\n",
    "\n",
    "    # Fit the model (on train and only train)\n",
    "    random_forest = random_forest.fit(X_train, y_train)\n",
    "\n",
    "    # Use the model\n",
    "    # We'll evaluate the model's performance on train, first\n",
    "    y_pred = random_forest.predict(X_train)\n",
    "\n",
    "    # Produce the classification report on the actual y values and this model's predicted y values\n",
    "    report = classification_report(y_train, y_pred, output_dict=True)\n",
    "    print(f\"Tree with min sample leaf {i}\")\n",
    "    print(pd.DataFrame(report))\n",
    "    print()\n",
    " "
   ]
  },
  {
   "cell_type": "code",
   "execution_count": null,
   "id": "4c485a75",
   "metadata": {},
   "outputs": [],
   "source": [
    "for h in range(10,0,-1):\n",
    "    print(f'max depth {h}')\n",
    "    for i in range(1, 21):\n",
    "  \n",
    "    # Make the model\n",
    "        random_forest = RandomForestClassifier(max_depth=h, min_samples_leaf = i , random_state=123)\n",
    "\n",
    "    # Fit the model (on train and only train)\n",
    "        random_forest = random_forest.fit(X_train, y_train)\n",
    "\n",
    "    # Use the model\n",
    "    # We'll evaluate the model's performance on train, first\n",
    "        y_pred = random_forest.predict(X_train)\n",
    "\n",
    "    # Produce the classification report on the actual y values and this model's predicted y values\n",
    "        report = classification_report(y_train, y_pred, output_dict=True)\n",
    "        print(f\"Tree with min sample leaf {i}\")\n",
    "        print(f'max depth {h}')\n",
    "        print(pd.DataFrame(report))\n",
    "        print()\n",
    " "
   ]
  },
  {
   "cell_type": "code",
   "execution_count": null,
   "id": "d36e3238",
   "metadata": {
    "scrolled": false
   },
   "outputs": [],
   "source": [
    "metrics=[]\n",
    "for h in range(10,0,-1):\n",
    "   \n",
    "    print(f'max depth {h}')\n",
    "    \n",
    "    for i in range(1, 21):\n",
    "  \n",
    "    # Make the model\n",
    "        random_forest = RandomForestClassifier(max_depth=h, min_samples_leaf = i , random_state=123)\n",
    "    \n",
    "    # Fit the model (on train and only train)\n",
    "        random_forest.fit(X_train, y_train)\n",
    "        \n",
    "         # Use the model\n",
    "    # We'll evaluate the model's performance on train, first\n",
    "        in_sample_accuracy = random_forest.score(X_train, y_train)\n",
    "\n",
    "    # Use the model\n",
    "    # We'll evaluate the model's performance on train, first\n",
    "        y_pred = random_forest.predict(X_train)\n",
    "        \n",
    "        output = {\n",
    "        \"max_depth\": h,\n",
    "        \"min_samples_leaf\": i,\n",
    "        \"train_accuracy\": in_sample_accuracy,\n",
    "        #\"validate_accuracy\": y_pred\n",
    "    }\n",
    "\n",
    "        metrics.append(output)\n",
    "        \n",
    "        df = pd.DataFrame(metrics)\n",
    "df\n",
    "  \n",
    " \n"
   ]
  },
  {
   "cell_type": "markdown",
   "id": "35fafbc4",
   "metadata": {},
   "source": [
    "### 5. What are the differences in the evaluation metrics? Which performs better on your in-sample data? Why?"
   ]
  },
  {
   "cell_type": "code",
   "execution_count": null,
   "id": "919ccbd6",
   "metadata": {},
   "outputs": [],
   "source": [
    "# differences in the train_accuracy\n",
    "df"
   ]
  },
  {
   "cell_type": "code",
   "execution_count": null,
   "id": "90ff72a6",
   "metadata": {
    "scrolled": true
   },
   "outputs": [],
   "source": [
    "df[df.train_accuracy.sort_values(ascending = False)==df.train_accuracy.max()]"
   ]
  },
  {
   "cell_type": "markdown",
   "id": "39a58ee4",
   "metadata": {},
   "source": [
    "max_depth of 10 with a min_sample leaf of 1 was the best model in train accuracy with 96% accuracy"
   ]
  },
  {
   "cell_type": "markdown",
   "id": "3bce4424",
   "metadata": {},
   "source": [
    "# After making a few models, which one has the best performance (or closest metrics) on both train and validate?"
   ]
  },
  {
   "cell_type": "markdown",
   "id": "556ebaef",
   "metadata": {},
   "source": [
    "## Validate"
   ]
  },
  {
   "cell_type": "code",
   "execution_count": null,
   "id": "4a7e40b3",
   "metadata": {},
   "outputs": [],
   "source": [
    "# Make the model\n",
    "random_forest = RandomForestClassifier(max_depth=9, min_samples_leaf = 1 , random_state=123)\n",
    "    \n",
    "    # Fit the model (on train and only train)\n",
    "random_forest.fit(X_train, y_train)\n",
    "        \n",
    "print('Accuracy of random forest classifier on validate set: {:.2f}'\n",
    "     .format(random_forest.score(X_validate, y_validate)))"
   ]
  },
  {
   "cell_type": "code",
   "execution_count": null,
   "id": "bbe8a26b",
   "metadata": {},
   "outputs": [],
   "source": [
    "# Make the model\n",
    "random_forest = RandomForestClassifier(max_depth=10, min_samples_leaf = 1 , random_state=123)\n",
    "    \n",
    "    # Fit the model (on train and only train)\n",
    "random_forest.fit(X_train, y_train)\n",
    "        \n",
    "print('Accuracy of random forest classifier on validate set: {:.2f}'\n",
    "     .format(random_forest.score(X_validate, y_validate)))"
   ]
  },
  {
   "cell_type": "code",
   "execution_count": null,
   "id": "8567f774",
   "metadata": {},
   "outputs": [],
   "source": [
    "metrics=[]\n",
    "for h in range(10,0,-1):\n",
    "   \n",
    "    print(f'max depth {h}')\n",
    "    \n",
    "    for i in range(1, 21):\n",
    "  \n",
    "    # Make the model\n",
    "        random_forest = RandomForestClassifier(max_depth=h, min_samples_leaf = i , random_state=123)\n",
    "    \n",
    "    # Fit the model (on train and only train)\n",
    "        random_forest = random_forest.fit(X_train, y_train)\n",
    "        \n",
    "         # Use the model\n",
    "    # We'll evaluate the model's performance on train, first\n",
    "        in_sample_accuracy = random_forest.score(X_train, y_train)\n",
    "        \n",
    "    \n",
    "        out_of_sample_accuracy = random_forest.score(X_validate, y_validate)\n",
    "\n",
    "\n",
    "    # Use the model\n",
    "    # We'll evaluate the model's performance on train, first\n",
    "        y_pred = random_forest.predict(X_train)\n",
    "        \n",
    "        output = {\n",
    "        \"max_depth\": h,\n",
    "        \"min_samples_leaf\": i,\n",
    "        \"train_accuracy\": in_sample_accuracy,\n",
    "         \"validate_accuracy\": out_of_sample_accuracy   \n",
    "      \n",
    "    }\n",
    "\n",
    "        metrics.append(output)\n",
    "        \n",
    "        df_2 = pd.DataFrame(metrics)\n",
    "\n",
    "\n",
    "\n",
    "        df_2[\"difference\"] = df_2.train_accuracy - df_2.validate_accuracy\n",
    "df_2"
   ]
  },
  {
   "cell_type": "code",
   "execution_count": null,
   "id": "bd6948d5",
   "metadata": {
    "scrolled": true
   },
   "outputs": [],
   "source": [
    "df_2[df_2.difference.sort_values(ascending = False)==df_2.difference.max()]"
   ]
  },
  {
   "cell_type": "markdown",
   "id": "f74a4006",
   "metadata": {},
   "source": [
    "# $KNN$\n",
    "Use titanic data:"
   ]
  },
  {
   "cell_type": "code",
   "execution_count": null,
   "id": "c9ba7eff",
   "metadata": {},
   "outputs": [],
   "source": [
    "def train_validate_test_split(df, target, seed=123):\n",
    "    '''\n",
    "    This function takes in a dataframe, the name of the target variable\n",
    "    (for stratification purposes), and an integer for a setting a seed\n",
    "    and splits the data into train, validate and test. \n",
    "    Test is 20% of the original dataset, validate is .30*.80= 24% of the \n",
    "    original dataset, and train is .70*.80= 56% of the original dataset. \n",
    "    The function returns, in this order, train, validate and test dataframes. \n",
    "    '''\n",
    "    train_validate, test = train_test_split(df, test_size=0.2, \n",
    "                                            random_state=seed, \n",
    "                                            stratify=df[target])\n",
    "    train, validate = train_test_split(train_validate, test_size=0.3, \n",
    "                                       random_state=seed,\n",
    "                                       stratify=train_validate[target])\n",
    "    return train, validate, test"
   ]
  },
  {
   "cell_type": "code",
   "execution_count": null,
   "id": "2881647c",
   "metadata": {},
   "outputs": [],
   "source": [
    "# acqurire titanic data\n",
    "titanic_df = acquire.get_titanic_data()\n",
    "\n",
    "\n",
    "# prep titanic\n",
    "titanic_prep = prepare.prep_titanic(titanic_df)\n",
    "\n",
    "# drop columns 'sex''class''embark_town'\n",
    "titanic_prep = titanic_prep.drop(columns = {'sex', 'class','embark_town'})\n",
    "\n",
    "# split into train, validate, test\n",
    "train, validate, test = train_validate_test_split(titanic_prep, target='survived', seed=123)\n",
    "\n",
    "# create X & y version of train, where y is a series with just the target variable and X are all the features. \n",
    "\n",
    "X_train = train.drop(columns=['survived'])\n",
    "y_train = train.survived\n",
    "\n",
    "X_validate = validate.drop(columns=['survived'])\n",
    "y_validate = validate.survived\n",
    "\n",
    "X_test = test.drop(columns=['survived'])\n",
    "y_test = test.survived\n",
    "\n",
    "# take care of null values in age variable\n",
    "X_train, X_validate, X_test = prepare.impute_mean_age(X_train, X_validate, X_test)"
   ]
  },
  {
   "cell_type": "code",
   "execution_count": null,
   "id": "0e3c8407",
   "metadata": {},
   "outputs": [],
   "source": [
    "# look into what would a baseline would look like\n",
    "y_train.sum(), len(y_train), y_train.value_counts()"
   ]
  },
  {
   "cell_type": "markdown",
   "id": "7af8eb5d",
   "metadata": {},
   "source": [
    "### 1. Fit a K-Nearest Neighbors classifier to your training sample and transform (i.e. make predictions on the training sample)\n"
   ]
  },
  {
   "cell_type": "code",
   "execution_count": null,
   "id": "a450d521",
   "metadata": {},
   "outputs": [],
   "source": [
    "knn1 = KNeighborsClassifier()"
   ]
  },
  {
   "cell_type": "code",
   "execution_count": null,
   "id": "0515a29d",
   "metadata": {},
   "outputs": [],
   "source": [
    "knn1.fit(X_train, y_train)"
   ]
  },
  {
   "cell_type": "code",
   "execution_count": null,
   "id": "913acdad",
   "metadata": {},
   "outputs": [],
   "source": [
    "y_pred = knn1.predict(X_train)\n",
    "y_pred[:10]"
   ]
  },
  {
   "cell_type": "code",
   "execution_count": null,
   "id": "73abda77",
   "metadata": {},
   "outputs": [],
   "source": [
    "# Actual data\n",
    "pd.DataFrame(y_train[:10]).T"
   ]
  },
  {
   "cell_type": "code",
   "execution_count": null,
   "id": "b1f6beba",
   "metadata": {},
   "outputs": [],
   "source": [
    "# gives the probability of beign any given class\n",
    "y_pred_proba = knn1.predict_proba(X_train)\n",
    "y_pred_proba[:5]"
   ]
  },
  {
   "cell_type": "markdown",
   "id": "eb335c0c",
   "metadata": {},
   "source": [
    "### 2.. Evaluate your results using the model score, confusion matrix, and classification report."
   ]
  },
  {
   "cell_type": "code",
   "execution_count": null,
   "id": "dd509361",
   "metadata": {},
   "outputs": [],
   "source": [
    "# Model score\n",
    "print('Accuracy of KNN 1 classifier on training set: {:.2f}'\n",
    "     .format(knn1.score(X_train, y_train)))"
   ]
  },
  {
   "cell_type": "code",
   "execution_count": null,
   "id": "de12c213",
   "metadata": {},
   "outputs": [],
   "source": [
    "# confusion matrix\n",
    "print(confusion_matrix(y_train, y_pred))"
   ]
  },
  {
   "cell_type": "code",
   "execution_count": null,
   "id": "7bf40939",
   "metadata": {
    "scrolled": true
   },
   "outputs": [],
   "source": [
    "# 0= not survived, 1= survived\n",
    "pd.crosstab(y_train, y_pred)"
   ]
  },
  {
   "cell_type": "code",
   "execution_count": null,
   "id": "609c8245",
   "metadata": {
    "scrolled": true
   },
   "outputs": [],
   "source": [
    "# Classification Report 0 = not survived, 1= survived\n",
    "print(classification_report(y_train, y_pred))"
   ]
  },
  {
   "cell_type": "markdown",
   "id": "5576c0d9",
   "metadata": {},
   "source": [
    "### 3. Print and clearly label the following: Accuracy, true positive rate, false positive rate, true negative rate, false negative rate, precision, recall, f1-score, and support.\n"
   ]
  },
  {
   "cell_type": "code",
   "execution_count": null,
   "id": "b96c238a",
   "metadata": {},
   "outputs": [],
   "source": [
    "# use confusion matrix to set: tn, fp, fn, fp \n",
    "tn, fp, fn, tp = confusion_matrix(y_train, y_pred).ravel()\n"
   ]
  },
  {
   "cell_type": "code",
   "execution_count": null,
   "id": "d3cc68db",
   "metadata": {},
   "outputs": [],
   "source": [
    "\n",
    "print(\"True Positives\", tp)\n",
    "print(\"False Positives\", fp)\n",
    "print(\"False Negatives\", fn)\n",
    "print(\"True Negatives\", tn)\n",
    "\n",
    "print(\"-------------\")\n",
    "\n",
    "accuracy = (tp + tn) / (tp + tn + fp + fn)\n",
    "\n",
    "precision = tp / (tp + fp)\n",
    "\n",
    "recall = tp / (tp + fn)\n",
    "\n",
    "\n",
    "f1_score = 2*(precision*recall)/(precision+recall)\n",
    "\n",
    "print(\"Accuracy is\", accuracy)\n",
    "print(\"Recall is\", round(recall,2))\n",
    "print(\"Precision is\", round(precision,2))\n",
    "\n",
    "print(f\"F1 Score: {f1_score}\")"
   ]
  },
  {
   "cell_type": "markdown",
   "id": "9759cf86",
   "metadata": {},
   "source": [
    "### 4. Run through steps 2-4 setting k to 10"
   ]
  },
  {
   "cell_type": "code",
   "execution_count": null,
   "id": "dc6763f9",
   "metadata": {},
   "outputs": [],
   "source": [
    "knn2 = KNeighborsClassifier(n_neighbors=10, weights='uniform')\n",
    "knn2.fit(X_train, y_train)\n",
    "y_pred = knn2.predict(X_train)\n",
    "print('Accuracy of KNN2 classifier on training set: {:.2f}'\n",
    "     .format(knn2.score(X_train, y_train)))\n",
    "print(confusion_matrix(y_train, y_pred))\n",
    "print(classification_report(y_train, y_pred))"
   ]
  },
  {
   "cell_type": "code",
   "execution_count": null,
   "id": "5a0fd3dd",
   "metadata": {},
   "outputs": [],
   "source": [
    "# use confusion matrix to set: tn, fp, fn, fp \n",
    "tn, fp, fn, tp = confusion_matrix(y_train, y_pred).ravel()\n"
   ]
  },
  {
   "cell_type": "code",
   "execution_count": null,
   "id": "e2cd2bf4",
   "metadata": {
    "scrolled": true
   },
   "outputs": [],
   "source": [
    "print(\"True Positives\", tp)\n",
    "print(\"False Positives\", fp)\n",
    "print(\"False Negatives\", fn)\n",
    "print(\"True Negatives\", tn)\n",
    "\n",
    "print(\"-------------\")\n",
    "\n",
    "accuracy = (tp + tn) / (tp + tn + fp + fn)\n",
    "\n",
    "precision = tp / (tp + fp)\n",
    "\n",
    "recall = tp / (tp + fn)\n",
    "\n",
    "\n",
    "f1_score = 2*(precision*recall)/(precision+recall)\n",
    "\n",
    "print(\"Accuracy is\", accuracy)\n",
    "print(\"Recall is\", round(recall,2))\n",
    "print(\"Precision is\", round(precision,2))\n",
    "\n",
    "print(f\"F1 Score: {f1_score}\")"
   ]
  },
  {
   "cell_type": "markdown",
   "id": "febb4a25",
   "metadata": {},
   "source": [
    "### 5. Run through steps 2-4 setting k to 20"
   ]
  },
  {
   "cell_type": "code",
   "execution_count": null,
   "id": "c191a943",
   "metadata": {},
   "outputs": [],
   "source": [
    "knn3 = KNeighborsClassifier(n_neighbors=20, weights='uniform')\n",
    "knn3.fit(X_train, y_train)\n",
    "y_pred = knn3.predict(X_train)\n",
    "print('Accuracy of KNN 3 classifier on training set: {:.2f}'\n",
    "     .format(knn3.score(X_train, y_train)))\n",
    "print(confusion_matrix(y_train, y_pred))\n",
    "print(classification_report(y_train, y_pred))"
   ]
  },
  {
   "cell_type": "code",
   "execution_count": null,
   "id": "e39480a8",
   "metadata": {},
   "outputs": [],
   "source": [
    "# use confusion matrix to set: tn, fp, fn, fp \n",
    "tn, fp, fn, tp = confusion_matrix(y_train, y_pred).ravel()\n"
   ]
  },
  {
   "cell_type": "code",
   "execution_count": null,
   "id": "1457d300",
   "metadata": {
    "scrolled": true
   },
   "outputs": [],
   "source": [
    "print(\"True Positives\", tp)\n",
    "print(\"False Positives\", fp)\n",
    "print(\"False Negatives\", fn)\n",
    "print(\"True Negatives\", tn)\n",
    "\n",
    "print(\"-------------\")\n",
    "\n",
    "accuracy = (tp + tn) / (tp + tn + fp + fn)\n",
    "\n",
    "precision = tp / (tp + fp)\n",
    "\n",
    "recall = tp / (tp + fn)\n",
    "\n",
    "\n",
    "f1_score = 2*(precision*recall)/(precision+recall)\n",
    "\n",
    "print(\"Accuracy is\", accuracy)\n",
    "print(\"Recall is\", round(recall,2))\n",
    "print(\"Precision is\", round(precision,2))\n",
    "\n",
    "print(f\"F1 Score: {f1_score}\")"
   ]
  },
  {
   "cell_type": "markdown",
   "id": "b5c729d0",
   "metadata": {},
   "source": [
    "### 6. What are the differences in the evaluation metrics? Which performs better on your in-sample data? Why?\n"
   ]
  },
  {
   "cell_type": "markdown",
   "id": "0a8a628e",
   "metadata": {},
   "source": [
    "Model 1 accuracy is .79, Model 2 accuracy is 0.74 and Model 3 accuracy is 0.72."
   ]
  },
  {
   "cell_type": "markdown",
   "id": "a164dbd8",
   "metadata": {},
   "source": [
    "The first model with K5 neighbors performed better by far. I suppose it is because accuracy increases by proximity."
   ]
  },
  {
   "cell_type": "markdown",
   "id": "c946aa08",
   "metadata": {},
   "source": [
    "### 7. Which model performs best on our out-of-sample data from validate?"
   ]
  },
  {
   "cell_type": "code",
   "execution_count": null,
   "id": "82051c5f",
   "metadata": {},
   "outputs": [],
   "source": [
    "\n",
    "print('Accuracy of KNN 1 classifier on training set: {:.2f}'\n",
    "     .format(knn1.score(X_validate, y_validate)))\n"
   ]
  },
  {
   "cell_type": "code",
   "execution_count": null,
   "id": "62df9396",
   "metadata": {
    "scrolled": true
   },
   "outputs": [],
   "source": [
    "\n",
    "print('Accuracy of KNN2 classifier on training set: {:.2f}'\n",
    "     .format(knn2.score(X_validate, y_validate)))\n"
   ]
  },
  {
   "cell_type": "code",
   "execution_count": null,
   "id": "dbae1e07",
   "metadata": {},
   "outputs": [],
   "source": [
    "\n",
    "print('Accuracy of KNN3 classifier on validate set: {:.2f}'\n",
    "     .format(knn3.score(X_validate, y_validate)))\n"
   ]
  },
  {
   "cell_type": "markdown",
   "id": "0bf7c5b7",
   "metadata": {},
   "source": [
    "Model KNN3 and Mode; KNN2 are about the same. Model KNN1 did better by on percentage point."
   ]
  },
  {
   "cell_type": "code",
   "execution_count": null,
   "id": "20e2fc7c",
   "metadata": {},
   "outputs": [],
   "source": [
    "import matplotlib.pyplot as plt\n",
    "k_range = range(1, 20)\n",
    "scores = []\n",
    "for k in k_range:\n",
    "    knn = KNeighborsClassifier(n_neighbors = k)\n",
    "    knn.fit(X_train, y_train)\n",
    "    scores.append(knn.score(X_test, y_test))\n",
    "plt.figure()\n",
    "plt.xlabel('k')\n",
    "plt.ylabel('accuracy')\n",
    "plt.scatter(k_range, scores)\n",
    "plt.xticks([0,5,10,15,20])\n",
    "plt.show()"
   ]
  },
  {
   "cell_type": "code",
   "execution_count": null,
   "id": "e2abcc54",
   "metadata": {
    "scrolled": true
   },
   "outputs": [],
   "source": [
    "# K = 8 would give the highest score.\n",
    "scores = pd.DataFrame(scores)\n",
    "scores[scores == scores.max()]"
   ]
  },
  {
   "cell_type": "markdown",
   "id": "1a6061e1",
   "metadata": {},
   "source": [
    "# Use Telco Data"
   ]
  },
  {
   "cell_type": "code",
   "execution_count": 3,
   "id": "2b392457",
   "metadata": {},
   "outputs": [],
   "source": [
    "# to see all columns in wide datasets\n",
    "pd.set_option('display.max_columns', None)"
   ]
  },
  {
   "cell_type": "code",
   "execution_count": 21,
   "id": "e0220153",
   "metadata": {},
   "outputs": [],
   "source": [
    "# acquire data using \n",
    "df = acquire.get_telco_data()\n",
    "# prepare data\n",
    "telco_df = prepare.prep_telco(df)\n",
    "\n",
    "# drop columns\n",
    "telco_df =telco_df.drop(columns={'customer_id',\n",
    "                                    'dependents',\n",
    "                                    'phone_service',\n",
    "                                    'multiple_lines',\n",
    "                                    'online_security',\n",
    "                                    'online_backup',\n",
    "                                    'device_protection', \n",
    "                                    'tech_support',\n",
    "                                    'streaming_tv',\n",
    "                                    'streaming_movies',\n",
    "                                    'paperless_billing',\n",
    "                                     'gender',\n",
    "                                     'partner',\n",
    "            \n",
    "                                    'contract_type',\n",
    "                                    'internet_service_type',\n",
    "                                    'payment_type'})\n",
    "# split data\n",
    "telco_train, validate, test = prepare.split_telco_data(telco_df)\n",
    "telco_train.shape,validate.shape, test.shape\n",
    "\n",
    "#seperate target\n",
    "X_train = telco_train.drop(columns=['churn','churn_No','churn_Yes'])\n",
    "y_train = telco_train.churn_Yes\n",
    "\n",
    "X_validate = validate.drop(columns=['churn','churn_No','churn_Yes'])\n",
    "y_validate = validate.churn_Yes\n",
    "\n",
    "X_test = test.drop(columns=['churn','churn_No','churn_Yes'])\n",
    "y_test = test.churn_Yes\n",
    "\n",
    "X_train, X_validate, X_test = prepare.impute_mean_total_charges(X_train, X_validate, X_test)"
   ]
  },
  {
   "cell_type": "code",
   "execution_count": 25,
   "id": "e9a9ab7a",
   "metadata": {
    "scrolled": false
   },
   "outputs": [
    {
     "data": {
      "text/html": [
       "<div>\n",
       "<style scoped>\n",
       "    .dataframe tbody tr th:only-of-type {\n",
       "        vertical-align: middle;\n",
       "    }\n",
       "\n",
       "    .dataframe tbody tr th {\n",
       "        vertical-align: top;\n",
       "    }\n",
       "\n",
       "    .dataframe thead th {\n",
       "        text-align: right;\n",
       "    }\n",
       "</style>\n",
       "<table border=\"1\" class=\"dataframe\">\n",
       "  <thead>\n",
       "    <tr style=\"text-align: right;\">\n",
       "      <th></th>\n",
       "      <th>senior_citizen</th>\n",
       "      <th>tenure</th>\n",
       "      <th>monthly_charges</th>\n",
       "      <th>total_charges</th>\n",
       "      <th>gender_Female</th>\n",
       "      <th>gender_Male</th>\n",
       "      <th>partner_No</th>\n",
       "      <th>partner_Yes</th>\n",
       "      <th>dependents_No</th>\n",
       "      <th>dependents_Yes</th>\n",
       "      <th>phone_service_No</th>\n",
       "      <th>phone_service_Yes</th>\n",
       "      <th>multiple_lines_No</th>\n",
       "      <th>multiple_lines_No phone service</th>\n",
       "      <th>multiple_lines_Yes</th>\n",
       "      <th>online_security_No</th>\n",
       "      <th>online_security_No internet service</th>\n",
       "      <th>online_security_Yes</th>\n",
       "      <th>online_backup_No</th>\n",
       "      <th>online_backup_No internet service</th>\n",
       "      <th>online_backup_Yes</th>\n",
       "      <th>device_protection_No</th>\n",
       "      <th>device_protection_No internet service</th>\n",
       "      <th>device_protection_Yes</th>\n",
       "      <th>tech_support_No</th>\n",
       "      <th>tech_support_No internet service</th>\n",
       "      <th>tech_support_Yes</th>\n",
       "      <th>streaming_tv_No</th>\n",
       "      <th>streaming_tv_No internet service</th>\n",
       "      <th>streaming_tv_Yes</th>\n",
       "      <th>streaming_movies_No</th>\n",
       "      <th>streaming_movies_No internet service</th>\n",
       "      <th>streaming_movies_Yes</th>\n",
       "      <th>paperless_billing_No</th>\n",
       "      <th>paperless_billing_Yes</th>\n",
       "      <th>contract_type_Month-to-month</th>\n",
       "      <th>contract_type_One year</th>\n",
       "      <th>contract_type_Two year</th>\n",
       "      <th>internet_service_type_DSL</th>\n",
       "      <th>internet_service_type_Fiber optic</th>\n",
       "      <th>internet_service_type_None</th>\n",
       "      <th>payment_type_Bank transfer (automatic)</th>\n",
       "      <th>payment_type_Credit card (automatic)</th>\n",
       "      <th>payment_type_Electronic check</th>\n",
       "      <th>payment_type_Mailed check</th>\n",
       "    </tr>\n",
       "  </thead>\n",
       "  <tbody>\n",
       "    <tr>\n",
       "      <th>5982</th>\n",
       "      <td>0</td>\n",
       "      <td>61</td>\n",
       "      <td>20.55</td>\n",
       "      <td>1305.95</td>\n",
       "      <td>0</td>\n",
       "      <td>1</td>\n",
       "      <td>0</td>\n",
       "      <td>1</td>\n",
       "      <td>0</td>\n",
       "      <td>1</td>\n",
       "      <td>0</td>\n",
       "      <td>1</td>\n",
       "      <td>1</td>\n",
       "      <td>0</td>\n",
       "      <td>0</td>\n",
       "      <td>0</td>\n",
       "      <td>1</td>\n",
       "      <td>0</td>\n",
       "      <td>0</td>\n",
       "      <td>1</td>\n",
       "      <td>0</td>\n",
       "      <td>0</td>\n",
       "      <td>1</td>\n",
       "      <td>0</td>\n",
       "      <td>0</td>\n",
       "      <td>1</td>\n",
       "      <td>0</td>\n",
       "      <td>0</td>\n",
       "      <td>1</td>\n",
       "      <td>0</td>\n",
       "      <td>0</td>\n",
       "      <td>1</td>\n",
       "      <td>0</td>\n",
       "      <td>1</td>\n",
       "      <td>0</td>\n",
       "      <td>0</td>\n",
       "      <td>0</td>\n",
       "      <td>1</td>\n",
       "      <td>0</td>\n",
       "      <td>0</td>\n",
       "      <td>1</td>\n",
       "      <td>0</td>\n",
       "      <td>1</td>\n",
       "      <td>0</td>\n",
       "      <td>0</td>\n",
       "    </tr>\n",
       "    <tr>\n",
       "      <th>5759</th>\n",
       "      <td>0</td>\n",
       "      <td>48</td>\n",
       "      <td>111.80</td>\n",
       "      <td>5443.65</td>\n",
       "      <td>0</td>\n",
       "      <td>1</td>\n",
       "      <td>0</td>\n",
       "      <td>1</td>\n",
       "      <td>0</td>\n",
       "      <td>1</td>\n",
       "      <td>0</td>\n",
       "      <td>1</td>\n",
       "      <td>0</td>\n",
       "      <td>0</td>\n",
       "      <td>1</td>\n",
       "      <td>0</td>\n",
       "      <td>0</td>\n",
       "      <td>1</td>\n",
       "      <td>0</td>\n",
       "      <td>0</td>\n",
       "      <td>1</td>\n",
       "      <td>0</td>\n",
       "      <td>0</td>\n",
       "      <td>1</td>\n",
       "      <td>0</td>\n",
       "      <td>0</td>\n",
       "      <td>1</td>\n",
       "      <td>0</td>\n",
       "      <td>0</td>\n",
       "      <td>1</td>\n",
       "      <td>0</td>\n",
       "      <td>0</td>\n",
       "      <td>1</td>\n",
       "      <td>1</td>\n",
       "      <td>0</td>\n",
       "      <td>0</td>\n",
       "      <td>0</td>\n",
       "      <td>1</td>\n",
       "      <td>0</td>\n",
       "      <td>1</td>\n",
       "      <td>0</td>\n",
       "      <td>0</td>\n",
       "      <td>1</td>\n",
       "      <td>0</td>\n",
       "      <td>0</td>\n",
       "    </tr>\n",
       "    <tr>\n",
       "      <th>707</th>\n",
       "      <td>0</td>\n",
       "      <td>71</td>\n",
       "      <td>113.15</td>\n",
       "      <td>7993.30</td>\n",
       "      <td>1</td>\n",
       "      <td>0</td>\n",
       "      <td>1</td>\n",
       "      <td>0</td>\n",
       "      <td>1</td>\n",
       "      <td>0</td>\n",
       "      <td>0</td>\n",
       "      <td>1</td>\n",
       "      <td>0</td>\n",
       "      <td>0</td>\n",
       "      <td>1</td>\n",
       "      <td>0</td>\n",
       "      <td>0</td>\n",
       "      <td>1</td>\n",
       "      <td>0</td>\n",
       "      <td>0</td>\n",
       "      <td>1</td>\n",
       "      <td>0</td>\n",
       "      <td>0</td>\n",
       "      <td>1</td>\n",
       "      <td>0</td>\n",
       "      <td>0</td>\n",
       "      <td>1</td>\n",
       "      <td>0</td>\n",
       "      <td>0</td>\n",
       "      <td>1</td>\n",
       "      <td>0</td>\n",
       "      <td>0</td>\n",
       "      <td>1</td>\n",
       "      <td>0</td>\n",
       "      <td>1</td>\n",
       "      <td>0</td>\n",
       "      <td>0</td>\n",
       "      <td>1</td>\n",
       "      <td>0</td>\n",
       "      <td>1</td>\n",
       "      <td>0</td>\n",
       "      <td>0</td>\n",
       "      <td>1</td>\n",
       "      <td>0</td>\n",
       "      <td>0</td>\n",
       "    </tr>\n",
       "    <tr>\n",
       "      <th>3900</th>\n",
       "      <td>0</td>\n",
       "      <td>22</td>\n",
       "      <td>93.20</td>\n",
       "      <td>2157.30</td>\n",
       "      <td>0</td>\n",
       "      <td>1</td>\n",
       "      <td>1</td>\n",
       "      <td>0</td>\n",
       "      <td>1</td>\n",
       "      <td>0</td>\n",
       "      <td>0</td>\n",
       "      <td>1</td>\n",
       "      <td>1</td>\n",
       "      <td>0</td>\n",
       "      <td>0</td>\n",
       "      <td>1</td>\n",
       "      <td>0</td>\n",
       "      <td>0</td>\n",
       "      <td>0</td>\n",
       "      <td>0</td>\n",
       "      <td>1</td>\n",
       "      <td>1</td>\n",
       "      <td>0</td>\n",
       "      <td>0</td>\n",
       "      <td>1</td>\n",
       "      <td>0</td>\n",
       "      <td>0</td>\n",
       "      <td>0</td>\n",
       "      <td>0</td>\n",
       "      <td>1</td>\n",
       "      <td>0</td>\n",
       "      <td>0</td>\n",
       "      <td>1</td>\n",
       "      <td>0</td>\n",
       "      <td>1</td>\n",
       "      <td>1</td>\n",
       "      <td>0</td>\n",
       "      <td>0</td>\n",
       "      <td>0</td>\n",
       "      <td>1</td>\n",
       "      <td>0</td>\n",
       "      <td>0</td>\n",
       "      <td>0</td>\n",
       "      <td>0</td>\n",
       "      <td>1</td>\n",
       "    </tr>\n",
       "    <tr>\n",
       "      <th>4648</th>\n",
       "      <td>0</td>\n",
       "      <td>71</td>\n",
       "      <td>49.35</td>\n",
       "      <td>3515.25</td>\n",
       "      <td>0</td>\n",
       "      <td>1</td>\n",
       "      <td>0</td>\n",
       "      <td>1</td>\n",
       "      <td>1</td>\n",
       "      <td>0</td>\n",
       "      <td>1</td>\n",
       "      <td>0</td>\n",
       "      <td>0</td>\n",
       "      <td>1</td>\n",
       "      <td>0</td>\n",
       "      <td>1</td>\n",
       "      <td>0</td>\n",
       "      <td>0</td>\n",
       "      <td>0</td>\n",
       "      <td>0</td>\n",
       "      <td>1</td>\n",
       "      <td>1</td>\n",
       "      <td>0</td>\n",
       "      <td>0</td>\n",
       "      <td>1</td>\n",
       "      <td>0</td>\n",
       "      <td>0</td>\n",
       "      <td>0</td>\n",
       "      <td>0</td>\n",
       "      <td>1</td>\n",
       "      <td>0</td>\n",
       "      <td>0</td>\n",
       "      <td>1</td>\n",
       "      <td>1</td>\n",
       "      <td>0</td>\n",
       "      <td>0</td>\n",
       "      <td>0</td>\n",
       "      <td>1</td>\n",
       "      <td>1</td>\n",
       "      <td>0</td>\n",
       "      <td>0</td>\n",
       "      <td>0</td>\n",
       "      <td>0</td>\n",
       "      <td>1</td>\n",
       "      <td>0</td>\n",
       "    </tr>\n",
       "    <tr>\n",
       "      <th>4261</th>\n",
       "      <td>0</td>\n",
       "      <td>26</td>\n",
       "      <td>80.50</td>\n",
       "      <td>2088.80</td>\n",
       "      <td>0</td>\n",
       "      <td>1</td>\n",
       "      <td>1</td>\n",
       "      <td>0</td>\n",
       "      <td>1</td>\n",
       "      <td>0</td>\n",
       "      <td>0</td>\n",
       "      <td>1</td>\n",
       "      <td>0</td>\n",
       "      <td>0</td>\n",
       "      <td>1</td>\n",
       "      <td>1</td>\n",
       "      <td>0</td>\n",
       "      <td>0</td>\n",
       "      <td>1</td>\n",
       "      <td>0</td>\n",
       "      <td>0</td>\n",
       "      <td>1</td>\n",
       "      <td>0</td>\n",
       "      <td>0</td>\n",
       "      <td>0</td>\n",
       "      <td>0</td>\n",
       "      <td>1</td>\n",
       "      <td>1</td>\n",
       "      <td>0</td>\n",
       "      <td>0</td>\n",
       "      <td>1</td>\n",
       "      <td>0</td>\n",
       "      <td>0</td>\n",
       "      <td>0</td>\n",
       "      <td>1</td>\n",
       "      <td>1</td>\n",
       "      <td>0</td>\n",
       "      <td>0</td>\n",
       "      <td>0</td>\n",
       "      <td>1</td>\n",
       "      <td>0</td>\n",
       "      <td>0</td>\n",
       "      <td>0</td>\n",
       "      <td>1</td>\n",
       "      <td>0</td>\n",
       "    </tr>\n",
       "    <tr>\n",
       "      <th>6721</th>\n",
       "      <td>0</td>\n",
       "      <td>19</td>\n",
       "      <td>24.70</td>\n",
       "      <td>465.85</td>\n",
       "      <td>1</td>\n",
       "      <td>0</td>\n",
       "      <td>1</td>\n",
       "      <td>0</td>\n",
       "      <td>1</td>\n",
       "      <td>0</td>\n",
       "      <td>0</td>\n",
       "      <td>1</td>\n",
       "      <td>0</td>\n",
       "      <td>0</td>\n",
       "      <td>1</td>\n",
       "      <td>0</td>\n",
       "      <td>1</td>\n",
       "      <td>0</td>\n",
       "      <td>0</td>\n",
       "      <td>1</td>\n",
       "      <td>0</td>\n",
       "      <td>0</td>\n",
       "      <td>1</td>\n",
       "      <td>0</td>\n",
       "      <td>0</td>\n",
       "      <td>1</td>\n",
       "      <td>0</td>\n",
       "      <td>0</td>\n",
       "      <td>1</td>\n",
       "      <td>0</td>\n",
       "      <td>0</td>\n",
       "      <td>1</td>\n",
       "      <td>0</td>\n",
       "      <td>1</td>\n",
       "      <td>0</td>\n",
       "      <td>1</td>\n",
       "      <td>0</td>\n",
       "      <td>0</td>\n",
       "      <td>0</td>\n",
       "      <td>0</td>\n",
       "      <td>1</td>\n",
       "      <td>1</td>\n",
       "      <td>0</td>\n",
       "      <td>0</td>\n",
       "      <td>0</td>\n",
       "    </tr>\n",
       "    <tr>\n",
       "      <th>4458</th>\n",
       "      <td>0</td>\n",
       "      <td>1</td>\n",
       "      <td>19.95</td>\n",
       "      <td>19.95</td>\n",
       "      <td>0</td>\n",
       "      <td>1</td>\n",
       "      <td>1</td>\n",
       "      <td>0</td>\n",
       "      <td>1</td>\n",
       "      <td>0</td>\n",
       "      <td>0</td>\n",
       "      <td>1</td>\n",
       "      <td>1</td>\n",
       "      <td>0</td>\n",
       "      <td>0</td>\n",
       "      <td>0</td>\n",
       "      <td>1</td>\n",
       "      <td>0</td>\n",
       "      <td>0</td>\n",
       "      <td>1</td>\n",
       "      <td>0</td>\n",
       "      <td>0</td>\n",
       "      <td>1</td>\n",
       "      <td>0</td>\n",
       "      <td>0</td>\n",
       "      <td>1</td>\n",
       "      <td>0</td>\n",
       "      <td>0</td>\n",
       "      <td>1</td>\n",
       "      <td>0</td>\n",
       "      <td>0</td>\n",
       "      <td>1</td>\n",
       "      <td>0</td>\n",
       "      <td>1</td>\n",
       "      <td>0</td>\n",
       "      <td>1</td>\n",
       "      <td>0</td>\n",
       "      <td>0</td>\n",
       "      <td>0</td>\n",
       "      <td>0</td>\n",
       "      <td>1</td>\n",
       "      <td>0</td>\n",
       "      <td>0</td>\n",
       "      <td>0</td>\n",
       "      <td>1</td>\n",
       "    </tr>\n",
       "    <tr>\n",
       "      <th>564</th>\n",
       "      <td>0</td>\n",
       "      <td>20</td>\n",
       "      <td>89.40</td>\n",
       "      <td>1871.15</td>\n",
       "      <td>1</td>\n",
       "      <td>0</td>\n",
       "      <td>1</td>\n",
       "      <td>0</td>\n",
       "      <td>1</td>\n",
       "      <td>0</td>\n",
       "      <td>0</td>\n",
       "      <td>1</td>\n",
       "      <td>1</td>\n",
       "      <td>0</td>\n",
       "      <td>0</td>\n",
       "      <td>0</td>\n",
       "      <td>0</td>\n",
       "      <td>1</td>\n",
       "      <td>1</td>\n",
       "      <td>0</td>\n",
       "      <td>0</td>\n",
       "      <td>0</td>\n",
       "      <td>0</td>\n",
       "      <td>1</td>\n",
       "      <td>1</td>\n",
       "      <td>0</td>\n",
       "      <td>0</td>\n",
       "      <td>0</td>\n",
       "      <td>0</td>\n",
       "      <td>1</td>\n",
       "      <td>1</td>\n",
       "      <td>0</td>\n",
       "      <td>0</td>\n",
       "      <td>0</td>\n",
       "      <td>1</td>\n",
       "      <td>1</td>\n",
       "      <td>0</td>\n",
       "      <td>0</td>\n",
       "      <td>0</td>\n",
       "      <td>1</td>\n",
       "      <td>0</td>\n",
       "      <td>1</td>\n",
       "      <td>0</td>\n",
       "      <td>0</td>\n",
       "      <td>0</td>\n",
       "    </tr>\n",
       "    <tr>\n",
       "      <th>4116</th>\n",
       "      <td>0</td>\n",
       "      <td>57</td>\n",
       "      <td>19.90</td>\n",
       "      <td>1115.60</td>\n",
       "      <td>1</td>\n",
       "      <td>0</td>\n",
       "      <td>0</td>\n",
       "      <td>1</td>\n",
       "      <td>1</td>\n",
       "      <td>0</td>\n",
       "      <td>0</td>\n",
       "      <td>1</td>\n",
       "      <td>1</td>\n",
       "      <td>0</td>\n",
       "      <td>0</td>\n",
       "      <td>0</td>\n",
       "      <td>1</td>\n",
       "      <td>0</td>\n",
       "      <td>0</td>\n",
       "      <td>1</td>\n",
       "      <td>0</td>\n",
       "      <td>0</td>\n",
       "      <td>1</td>\n",
       "      <td>0</td>\n",
       "      <td>0</td>\n",
       "      <td>1</td>\n",
       "      <td>0</td>\n",
       "      <td>0</td>\n",
       "      <td>1</td>\n",
       "      <td>0</td>\n",
       "      <td>0</td>\n",
       "      <td>1</td>\n",
       "      <td>0</td>\n",
       "      <td>1</td>\n",
       "      <td>0</td>\n",
       "      <td>0</td>\n",
       "      <td>0</td>\n",
       "      <td>1</td>\n",
       "      <td>0</td>\n",
       "      <td>0</td>\n",
       "      <td>1</td>\n",
       "      <td>1</td>\n",
       "      <td>0</td>\n",
       "      <td>0</td>\n",
       "      <td>0</td>\n",
       "    </tr>\n",
       "  </tbody>\n",
       "</table>\n",
       "</div>"
      ],
      "text/plain": [
       "      senior_citizen  tenure  monthly_charges  total_charges  gender_Female  \\\n",
       "5982               0      61            20.55        1305.95              0   \n",
       "5759               0      48           111.80        5443.65              0   \n",
       "707                0      71           113.15        7993.30              1   \n",
       "3900               0      22            93.20        2157.30              0   \n",
       "4648               0      71            49.35        3515.25              0   \n",
       "4261               0      26            80.50        2088.80              0   \n",
       "6721               0      19            24.70         465.85              1   \n",
       "4458               0       1            19.95          19.95              0   \n",
       "564                0      20            89.40        1871.15              1   \n",
       "4116               0      57            19.90        1115.60              1   \n",
       "\n",
       "      gender_Male  partner_No  partner_Yes  dependents_No  dependents_Yes  \\\n",
       "5982            1           0            1              0               1   \n",
       "5759            1           0            1              0               1   \n",
       "707             0           1            0              1               0   \n",
       "3900            1           1            0              1               0   \n",
       "4648            1           0            1              1               0   \n",
       "4261            1           1            0              1               0   \n",
       "6721            0           1            0              1               0   \n",
       "4458            1           1            0              1               0   \n",
       "564             0           1            0              1               0   \n",
       "4116            0           0            1              1               0   \n",
       "\n",
       "      phone_service_No  phone_service_Yes  multiple_lines_No  \\\n",
       "5982                 0                  1                  1   \n",
       "5759                 0                  1                  0   \n",
       "707                  0                  1                  0   \n",
       "3900                 0                  1                  1   \n",
       "4648                 1                  0                  0   \n",
       "4261                 0                  1                  0   \n",
       "6721                 0                  1                  0   \n",
       "4458                 0                  1                  1   \n",
       "564                  0                  1                  1   \n",
       "4116                 0                  1                  1   \n",
       "\n",
       "      multiple_lines_No phone service  multiple_lines_Yes  online_security_No  \\\n",
       "5982                                0                   0                   0   \n",
       "5759                                0                   1                   0   \n",
       "707                                 0                   1                   0   \n",
       "3900                                0                   0                   1   \n",
       "4648                                1                   0                   1   \n",
       "4261                                0                   1                   1   \n",
       "6721                                0                   1                   0   \n",
       "4458                                0                   0                   0   \n",
       "564                                 0                   0                   0   \n",
       "4116                                0                   0                   0   \n",
       "\n",
       "      online_security_No internet service  online_security_Yes  \\\n",
       "5982                                    1                    0   \n",
       "5759                                    0                    1   \n",
       "707                                     0                    1   \n",
       "3900                                    0                    0   \n",
       "4648                                    0                    0   \n",
       "4261                                    0                    0   \n",
       "6721                                    1                    0   \n",
       "4458                                    1                    0   \n",
       "564                                     0                    1   \n",
       "4116                                    1                    0   \n",
       "\n",
       "      online_backup_No  online_backup_No internet service  online_backup_Yes  \\\n",
       "5982                 0                                  1                  0   \n",
       "5759                 0                                  0                  1   \n",
       "707                  0                                  0                  1   \n",
       "3900                 0                                  0                  1   \n",
       "4648                 0                                  0                  1   \n",
       "4261                 1                                  0                  0   \n",
       "6721                 0                                  1                  0   \n",
       "4458                 0                                  1                  0   \n",
       "564                  1                                  0                  0   \n",
       "4116                 0                                  1                  0   \n",
       "\n",
       "      device_protection_No  device_protection_No internet service  \\\n",
       "5982                     0                                      1   \n",
       "5759                     0                                      0   \n",
       "707                      0                                      0   \n",
       "3900                     1                                      0   \n",
       "4648                     1                                      0   \n",
       "4261                     1                                      0   \n",
       "6721                     0                                      1   \n",
       "4458                     0                                      1   \n",
       "564                      0                                      0   \n",
       "4116                     0                                      1   \n",
       "\n",
       "      device_protection_Yes  tech_support_No  \\\n",
       "5982                      0                0   \n",
       "5759                      1                0   \n",
       "707                       1                0   \n",
       "3900                      0                1   \n",
       "4648                      0                1   \n",
       "4261                      0                0   \n",
       "6721                      0                0   \n",
       "4458                      0                0   \n",
       "564                       1                1   \n",
       "4116                      0                0   \n",
       "\n",
       "      tech_support_No internet service  tech_support_Yes  streaming_tv_No  \\\n",
       "5982                                 1                 0                0   \n",
       "5759                                 0                 1                0   \n",
       "707                                  0                 1                0   \n",
       "3900                                 0                 0                0   \n",
       "4648                                 0                 0                0   \n",
       "4261                                 0                 1                1   \n",
       "6721                                 1                 0                0   \n",
       "4458                                 1                 0                0   \n",
       "564                                  0                 0                0   \n",
       "4116                                 1                 0                0   \n",
       "\n",
       "      streaming_tv_No internet service  streaming_tv_Yes  streaming_movies_No  \\\n",
       "5982                                 1                 0                    0   \n",
       "5759                                 0                 1                    0   \n",
       "707                                  0                 1                    0   \n",
       "3900                                 0                 1                    0   \n",
       "4648                                 0                 1                    0   \n",
       "4261                                 0                 0                    1   \n",
       "6721                                 1                 0                    0   \n",
       "4458                                 1                 0                    0   \n",
       "564                                  0                 1                    1   \n",
       "4116                                 1                 0                    0   \n",
       "\n",
       "      streaming_movies_No internet service  streaming_movies_Yes  \\\n",
       "5982                                     1                     0   \n",
       "5759                                     0                     1   \n",
       "707                                      0                     1   \n",
       "3900                                     0                     1   \n",
       "4648                                     0                     1   \n",
       "4261                                     0                     0   \n",
       "6721                                     1                     0   \n",
       "4458                                     1                     0   \n",
       "564                                      0                     0   \n",
       "4116                                     1                     0   \n",
       "\n",
       "      paperless_billing_No  paperless_billing_Yes  \\\n",
       "5982                     1                      0   \n",
       "5759                     1                      0   \n",
       "707                      0                      1   \n",
       "3900                     0                      1   \n",
       "4648                     1                      0   \n",
       "4261                     0                      1   \n",
       "6721                     1                      0   \n",
       "4458                     1                      0   \n",
       "564                      0                      1   \n",
       "4116                     1                      0   \n",
       "\n",
       "      contract_type_Month-to-month  contract_type_One year  \\\n",
       "5982                             0                       0   \n",
       "5759                             0                       0   \n",
       "707                              0                       0   \n",
       "3900                             1                       0   \n",
       "4648                             0                       0   \n",
       "4261                             1                       0   \n",
       "6721                             1                       0   \n",
       "4458                             1                       0   \n",
       "564                              1                       0   \n",
       "4116                             0                       0   \n",
       "\n",
       "      contract_type_Two year  internet_service_type_DSL  \\\n",
       "5982                       1                          0   \n",
       "5759                       1                          0   \n",
       "707                        1                          0   \n",
       "3900                       0                          0   \n",
       "4648                       1                          1   \n",
       "4261                       0                          0   \n",
       "6721                       0                          0   \n",
       "4458                       0                          0   \n",
       "564                        0                          0   \n",
       "4116                       1                          0   \n",
       "\n",
       "      internet_service_type_Fiber optic  internet_service_type_None  \\\n",
       "5982                                  0                           1   \n",
       "5759                                  1                           0   \n",
       "707                                   1                           0   \n",
       "3900                                  1                           0   \n",
       "4648                                  0                           0   \n",
       "4261                                  1                           0   \n",
       "6721                                  0                           1   \n",
       "4458                                  0                           1   \n",
       "564                                   1                           0   \n",
       "4116                                  0                           1   \n",
       "\n",
       "      payment_type_Bank transfer (automatic)  \\\n",
       "5982                                       0   \n",
       "5759                                       0   \n",
       "707                                        0   \n",
       "3900                                       0   \n",
       "4648                                       0   \n",
       "4261                                       0   \n",
       "6721                                       1   \n",
       "4458                                       0   \n",
       "564                                        1   \n",
       "4116                                       1   \n",
       "\n",
       "      payment_type_Credit card (automatic)  payment_type_Electronic check  \\\n",
       "5982                                     1                              0   \n",
       "5759                                     1                              0   \n",
       "707                                      1                              0   \n",
       "3900                                     0                              0   \n",
       "4648                                     0                              1   \n",
       "4261                                     0                              1   \n",
       "6721                                     0                              0   \n",
       "4458                                     0                              0   \n",
       "564                                      0                              0   \n",
       "4116                                     0                              0   \n",
       "\n",
       "      payment_type_Mailed check  \n",
       "5982                          0  \n",
       "5759                          0  \n",
       "707                           0  \n",
       "3900                          1  \n",
       "4648                          0  \n",
       "4261                          0  \n",
       "6721                          0  \n",
       "4458                          1  \n",
       "564                           0  \n",
       "4116                          0  "
      ]
     },
     "execution_count": 25,
     "metadata": {},
     "output_type": "execute_result"
    }
   ],
   "source": [
    "X_train.sample(10)"
   ]
  },
  {
   "cell_type": "code",
   "execution_count": 26,
   "id": "2202a89b",
   "metadata": {},
   "outputs": [
    {
     "data": {
      "text/plain": [
       "5310    0\n",
       "3790    0\n",
       "4398    0\n",
       "2635    0\n",
       "2986    0\n",
       "       ..\n",
       "6230    1\n",
       "356     0\n",
       "2128    1\n",
       "3586    0\n",
       "6817    0\n",
       "Name: churn_Yes, Length: 3943, dtype: uint8"
      ]
     },
     "execution_count": 26,
     "metadata": {},
     "output_type": "execute_result"
    }
   ],
   "source": [
    "y_train"
   ]
  },
  {
   "cell_type": "code",
   "execution_count": 36,
   "id": "833d0d3e",
   "metadata": {},
   "outputs": [
    {
     "name": "stdout",
     "output_type": "stream",
     "text": [
      "Accuracy of KNN 1 classifier on training set: 0.83\n",
      "[[2666  231]\n",
      " [ 427  619]]\n",
      "              precision    recall  f1-score   support\n",
      "\n",
      "           0       0.86      0.92      0.89      2897\n",
      "           1       0.73      0.59      0.65      1046\n",
      "\n",
      "    accuracy                           0.83      3943\n",
      "   macro avg       0.80      0.76      0.77      3943\n",
      "weighted avg       0.83      0.83      0.83      3943\n",
      "\n"
     ]
    }
   ],
   "source": [
    "# create first KNN model KNN1, with k=5 and weights set to uniform\n",
    "knn1 = KNeighborsClassifier(n_neighbors=5, weights='uniform')\n",
    "knn1.fit(X_train, y_train)\n",
    "\n",
    "#create y_pred to run confusion_matrix\n",
    "y_pred = knn1.predict(X_train)\n",
    "\n",
    "# Accuracy score\n",
    "print('Accuracy of KNN 1 classifier on training set: {:.2f}'\n",
    "     .format(knn1.score(X_train, y_train)))\n",
    "\n",
    "# confusion matrix train data vs predicted data\n",
    "print(confusion_matrix(y_train, y_pred))\n",
    "\n",
    "# classification report\n",
    "print(classification_report(y_train, y_pred))"
   ]
  },
  {
   "cell_type": "code",
   "execution_count": 37,
   "id": "3b70a7f7",
   "metadata": {},
   "outputs": [
    {
     "name": "stdout",
     "output_type": "stream",
     "text": [
      "Accuracy of KNN 2 classifier on training set: 1.00\n",
      "[[2896    1]\n",
      " [   5 1041]]\n",
      "              precision    recall  f1-score   support\n",
      "\n",
      "           0       1.00      1.00      1.00      2897\n",
      "           1       1.00      1.00      1.00      1046\n",
      "\n",
      "    accuracy                           1.00      3943\n",
      "   macro avg       1.00      1.00      1.00      3943\n",
      "weighted avg       1.00      1.00      1.00      3943\n",
      "\n"
     ]
    }
   ],
   "source": [
    "# Second model KNN2, with k=5 and weights set to distance\n",
    "knn2 = KNeighborsClassifier(n_neighbors=5, weights='distance')\n",
    "knn2.fit(X_train, y_train)\n",
    "\n",
    "#create y_pred to run confusion_matrix\n",
    "y_pred2 = knn2.predict(X_train)\n",
    "\n",
    "# Accuracy score\n",
    "print('Accuracy of KNN 2 classifier on training set: {:.2f}'\n",
    "     .format(knn2.score(X_train, y_train)))\n",
    "\n",
    "# confusion matrix train data vs predicted data\n",
    "print(confusion_matrix(y_train, y_pred2))\n",
    "\n",
    "# classification report\n",
    "print(classification_report(y_train, y_pred2))"
   ]
  },
  {
   "cell_type": "code",
   "execution_count": null,
   "id": "c611ca7d",
   "metadata": {},
   "outputs": [],
   "source": []
  },
  {
   "cell_type": "code",
   "execution_count": 42,
   "id": "0cad216b",
   "metadata": {},
   "outputs": [
    {
     "name": "stdout",
     "output_type": "stream",
     "text": [
      "KNN weights set to Uniform\n"
     ]
    }
   ],
   "source": [
    "pred_dict = {\n",
    "    'model': [],\n",
    "    'accuracy': [],\n",
    "    'true_positive_rate': [],\n",
    "    'false_positive_rate': [],\n",
    "    'true_negative_rate': [],\n",
    "    'false_negative_rate': [],\n",
    "    'precision': [],\n",
    "    'recall': [],\n",
    "    'f1_score': [],\n",
    "    'support_0': [],\n",
    "    'support_1': []\n",
    "}\n",
    "print('KNN weights set to Uniform')\n",
    "for n in [5, 10, 20]:\n",
    "    knn = KNeighborsClassifier(n_neighbors=n,weights='uniform')\n",
    "    \n",
    "    knn.fit(X_train, y_train)\n",
    "    \n",
    "    y_preds = knn.predict(X_train)\n",
    "    \n",
    "    TN, FP, FN, TP = confusion_matrix(y_train, y_preds).ravel()\n",
    "    ALL = TP + TN + FP + FN\n",
    "    \n",
    "    accuracy = (TP + TN)/ALL\n",
    "    true_positive_rate = TP/(TP+FN)\n",
    "    false_positive_rate = FP/(FP+TN)\n",
    "    true_negative_rate = TN/(TN+FP)\n",
    "    false_negative_rate = FN/(FN+TP)\n",
    "    precision = TP/(TP+FP)\n",
    "    recall = TP/(TP+FN)\n",
    "    f1_score = 2*(precision*recall)/(precision+recall)\n",
    "    support_pos = TP + FN\n",
    "    support_neg = FP + TN\n",
    "    \n",
    "    pred_dict['model'].append(f'knn_n_{n}')\n",
    "    pred_dict['accuracy'].append(accuracy)\n",
    "    pred_dict['true_positive_rate'].append(true_positive_rate)\n",
    "    pred_dict['false_positive_rate'].append(false_positive_rate)\n",
    "    pred_dict['true_negative_rate'].append(true_negative_rate)\n",
    "    pred_dict['false_negative_rate'].append(false_negative_rate)\n",
    "    pred_dict['precision'].append(precision)\n",
    "    pred_dict['recall'].append(recall)\n",
    "    pred_dict['f1_score'].append(f1_score)\n",
    "    pred_dict['support_0'].append(support_pos)\n",
    "    pred_dict['support_1'].append(support_neg)"
   ]
  },
  {
   "cell_type": "code",
   "execution_count": 43,
   "id": "fa08b5f5",
   "metadata": {
    "scrolled": true
   },
   "outputs": [
    {
     "data": {
      "text/html": [
       "<div>\n",
       "<style scoped>\n",
       "    .dataframe tbody tr th:only-of-type {\n",
       "        vertical-align: middle;\n",
       "    }\n",
       "\n",
       "    .dataframe tbody tr th {\n",
       "        vertical-align: top;\n",
       "    }\n",
       "\n",
       "    .dataframe thead th {\n",
       "        text-align: right;\n",
       "    }\n",
       "</style>\n",
       "<table border=\"1\" class=\"dataframe\">\n",
       "  <thead>\n",
       "    <tr style=\"text-align: right;\">\n",
       "      <th></th>\n",
       "      <th>model</th>\n",
       "      <th>accuracy</th>\n",
       "      <th>true_positive_rate</th>\n",
       "      <th>false_positive_rate</th>\n",
       "      <th>true_negative_rate</th>\n",
       "      <th>false_negative_rate</th>\n",
       "      <th>precision</th>\n",
       "      <th>recall</th>\n",
       "      <th>f1_score</th>\n",
       "      <th>support_0</th>\n",
       "      <th>support_1</th>\n",
       "    </tr>\n",
       "  </thead>\n",
       "  <tbody>\n",
       "    <tr>\n",
       "      <th>0</th>\n",
       "      <td>knn_n_5</td>\n",
       "      <td>0.833122</td>\n",
       "      <td>0.591778</td>\n",
       "      <td>0.079738</td>\n",
       "      <td>0.920262</td>\n",
       "      <td>0.408222</td>\n",
       "      <td>0.728235</td>\n",
       "      <td>0.591778</td>\n",
       "      <td>0.652954</td>\n",
       "      <td>1046</td>\n",
       "      <td>2897</td>\n",
       "    </tr>\n",
       "    <tr>\n",
       "      <th>1</th>\n",
       "      <td>knn_n_10</td>\n",
       "      <td>0.807507</td>\n",
       "      <td>0.412046</td>\n",
       "      <td>0.049707</td>\n",
       "      <td>0.950293</td>\n",
       "      <td>0.587954</td>\n",
       "      <td>0.749565</td>\n",
       "      <td>0.412046</td>\n",
       "      <td>0.531771</td>\n",
       "      <td>1046</td>\n",
       "      <td>2897</td>\n",
       "    </tr>\n",
       "    <tr>\n",
       "      <th>2</th>\n",
       "      <td>knn_n_20</td>\n",
       "      <td>0.794319</td>\n",
       "      <td>0.379541</td>\n",
       "      <td>0.055920</td>\n",
       "      <td>0.944080</td>\n",
       "      <td>0.620459</td>\n",
       "      <td>0.710197</td>\n",
       "      <td>0.379541</td>\n",
       "      <td>0.494704</td>\n",
       "      <td>1046</td>\n",
       "      <td>2897</td>\n",
       "    </tr>\n",
       "  </tbody>\n",
       "</table>\n",
       "</div>"
      ],
      "text/plain": [
       "      model  accuracy  true_positive_rate  false_positive_rate  \\\n",
       "0   knn_n_5  0.833122            0.591778             0.079738   \n",
       "1  knn_n_10  0.807507            0.412046             0.049707   \n",
       "2  knn_n_20  0.794319            0.379541             0.055920   \n",
       "\n",
       "   true_negative_rate  false_negative_rate  precision    recall  f1_score  \\\n",
       "0            0.920262             0.408222   0.728235  0.591778  0.652954   \n",
       "1            0.950293             0.587954   0.749565  0.412046  0.531771   \n",
       "2            0.944080             0.620459   0.710197  0.379541  0.494704   \n",
       "\n",
       "   support_0  support_1  \n",
       "0       1046       2897  \n",
       "1       1046       2897  \n",
       "2       1046       2897  "
      ]
     },
     "execution_count": 43,
     "metadata": {},
     "output_type": "execute_result"
    }
   ],
   "source": [
    "uniform = pd.DataFrame(pred_dict)\n",
    "uniform"
   ]
  },
  {
   "cell_type": "code",
   "execution_count": 44,
   "id": "207f10da",
   "metadata": {},
   "outputs": [
    {
     "name": "stdout",
     "output_type": "stream",
     "text": [
      "KNN weights set to Distance\n"
     ]
    }
   ],
   "source": [
    "pred_dict = {\n",
    "    'model': [],\n",
    "    'accuracy': [],\n",
    "    'true_positive_rate': [],\n",
    "    'false_positive_rate': [],\n",
    "    'true_negative_rate': [],\n",
    "    'false_negative_rate': [],\n",
    "    'precision': [],\n",
    "    'recall': [],\n",
    "    'f1_score': [],\n",
    "    'support_0': [],\n",
    "    'support_1': []\n",
    "}\n",
    "print('KNN weights set to Distance')\n",
    "for n in [5, 10, 20]:\n",
    "    knn = KNeighborsClassifier(n_neighbors=n,weights='distance')\n",
    "    \n",
    "    knn.fit(X_train, y_train)\n",
    "    \n",
    "    y_preds = knn.predict(X_train)\n",
    "    \n",
    "    TN, FP, FN, TP = confusion_matrix(y_train, y_preds).ravel()\n",
    "    ALL = TP + TN + FP + FN\n",
    "    \n",
    "    accuracy = (TP + TN)/ALL\n",
    "    true_positive_rate = TP/(TP+FN)\n",
    "    false_positive_rate = FP/(FP+TN)\n",
    "    true_negative_rate = TN/(TN+FP)\n",
    "    false_negative_rate = FN/(FN+TP)\n",
    "    precision = TP/(TP+FP)\n",
    "    recall = TP/(TP+FN)\n",
    "    f1_score = 2*(precision*recall)/(precision+recall)\n",
    "    support_pos = TP + FN\n",
    "    support_neg = FP + TN\n",
    "    \n",
    "    pred_dict['model'].append(f'knn_n_{n}')\n",
    "    pred_dict['accuracy'].append(accuracy)\n",
    "    pred_dict['true_positive_rate'].append(true_positive_rate)\n",
    "    pred_dict['false_positive_rate'].append(false_positive_rate)\n",
    "    pred_dict['true_negative_rate'].append(true_negative_rate)\n",
    "    pred_dict['false_negative_rate'].append(false_negative_rate)\n",
    "    pred_dict['precision'].append(precision)\n",
    "    pred_dict['recall'].append(recall)\n",
    "    pred_dict['f1_score'].append(f1_score)\n",
    "    pred_dict['support_0'].append(support_pos)\n",
    "    pred_dict['support_1'].append(support_neg)"
   ]
  },
  {
   "cell_type": "code",
   "execution_count": 45,
   "id": "bae93af2",
   "metadata": {},
   "outputs": [
    {
     "data": {
      "text/html": [
       "<div>\n",
       "<style scoped>\n",
       "    .dataframe tbody tr th:only-of-type {\n",
       "        vertical-align: middle;\n",
       "    }\n",
       "\n",
       "    .dataframe tbody tr th {\n",
       "        vertical-align: top;\n",
       "    }\n",
       "\n",
       "    .dataframe thead th {\n",
       "        text-align: right;\n",
       "    }\n",
       "</style>\n",
       "<table border=\"1\" class=\"dataframe\">\n",
       "  <thead>\n",
       "    <tr style=\"text-align: right;\">\n",
       "      <th></th>\n",
       "      <th>model</th>\n",
       "      <th>accuracy</th>\n",
       "      <th>true_positive_rate</th>\n",
       "      <th>false_positive_rate</th>\n",
       "      <th>true_negative_rate</th>\n",
       "      <th>false_negative_rate</th>\n",
       "      <th>precision</th>\n",
       "      <th>recall</th>\n",
       "      <th>f1_score</th>\n",
       "      <th>support_0</th>\n",
       "      <th>support_1</th>\n",
       "    </tr>\n",
       "  </thead>\n",
       "  <tbody>\n",
       "    <tr>\n",
       "      <th>0</th>\n",
       "      <td>knn_n_5</td>\n",
       "      <td>0.998478</td>\n",
       "      <td>0.99522</td>\n",
       "      <td>0.000345</td>\n",
       "      <td>0.999655</td>\n",
       "      <td>0.00478</td>\n",
       "      <td>0.99904</td>\n",
       "      <td>0.99522</td>\n",
       "      <td>0.997126</td>\n",
       "      <td>1046</td>\n",
       "      <td>2897</td>\n",
       "    </tr>\n",
       "    <tr>\n",
       "      <th>1</th>\n",
       "      <td>knn_n_10</td>\n",
       "      <td>0.998478</td>\n",
       "      <td>0.99522</td>\n",
       "      <td>0.000345</td>\n",
       "      <td>0.999655</td>\n",
       "      <td>0.00478</td>\n",
       "      <td>0.99904</td>\n",
       "      <td>0.99522</td>\n",
       "      <td>0.997126</td>\n",
       "      <td>1046</td>\n",
       "      <td>2897</td>\n",
       "    </tr>\n",
       "    <tr>\n",
       "      <th>2</th>\n",
       "      <td>knn_n_20</td>\n",
       "      <td>0.998478</td>\n",
       "      <td>0.99522</td>\n",
       "      <td>0.000345</td>\n",
       "      <td>0.999655</td>\n",
       "      <td>0.00478</td>\n",
       "      <td>0.99904</td>\n",
       "      <td>0.99522</td>\n",
       "      <td>0.997126</td>\n",
       "      <td>1046</td>\n",
       "      <td>2897</td>\n",
       "    </tr>\n",
       "  </tbody>\n",
       "</table>\n",
       "</div>"
      ],
      "text/plain": [
       "      model  accuracy  true_positive_rate  false_positive_rate  \\\n",
       "0   knn_n_5  0.998478             0.99522             0.000345   \n",
       "1  knn_n_10  0.998478             0.99522             0.000345   \n",
       "2  knn_n_20  0.998478             0.99522             0.000345   \n",
       "\n",
       "   true_negative_rate  false_negative_rate  precision   recall  f1_score  \\\n",
       "0            0.999655              0.00478    0.99904  0.99522  0.997126   \n",
       "1            0.999655              0.00478    0.99904  0.99522  0.997126   \n",
       "2            0.999655              0.00478    0.99904  0.99522  0.997126   \n",
       "\n",
       "   support_0  support_1  \n",
       "0       1046       2897  \n",
       "1       1046       2897  \n",
       "2       1046       2897  "
      ]
     },
     "execution_count": 45,
     "metadata": {},
     "output_type": "execute_result"
    }
   ],
   "source": [
    "distance = pd.DataFrame(pred_dict)\n",
    "distance"
   ]
  },
  {
   "cell_type": "code",
   "execution_count": 47,
   "id": "28b39f5c",
   "metadata": {},
   "outputs": [
    {
     "data": {
      "text/html": [
       "<div>\n",
       "<style scoped>\n",
       "    .dataframe tbody tr th:only-of-type {\n",
       "        vertical-align: middle;\n",
       "    }\n",
       "\n",
       "    .dataframe tbody tr th {\n",
       "        vertical-align: top;\n",
       "    }\n",
       "\n",
       "    .dataframe thead th {\n",
       "        text-align: right;\n",
       "    }\n",
       "</style>\n",
       "<table border=\"1\" class=\"dataframe\">\n",
       "  <thead>\n",
       "    <tr style=\"text-align: right;\">\n",
       "      <th></th>\n",
       "      <th>model</th>\n",
       "      <th>accuracy</th>\n",
       "      <th>true_positive_rate</th>\n",
       "      <th>false_positive_rate</th>\n",
       "      <th>true_negative_rate</th>\n",
       "      <th>false_negative_rate</th>\n",
       "      <th>precision</th>\n",
       "      <th>recall</th>\n",
       "      <th>f1_score</th>\n",
       "      <th>support_0</th>\n",
       "      <th>support_1</th>\n",
       "    </tr>\n",
       "  </thead>\n",
       "  <tbody>\n",
       "    <tr>\n",
       "      <th>0</th>\n",
       "      <td>knn_n_5knn_n_5</td>\n",
       "      <td>1.831600</td>\n",
       "      <td>1.586998</td>\n",
       "      <td>0.080083</td>\n",
       "      <td>1.919917</td>\n",
       "      <td>0.413002</td>\n",
       "      <td>1.727276</td>\n",
       "      <td>1.586998</td>\n",
       "      <td>1.650080</td>\n",
       "      <td>2092</td>\n",
       "      <td>5794</td>\n",
       "    </tr>\n",
       "    <tr>\n",
       "      <th>1</th>\n",
       "      <td>knn_n_10knn_n_10</td>\n",
       "      <td>1.805985</td>\n",
       "      <td>1.407266</td>\n",
       "      <td>0.050052</td>\n",
       "      <td>1.949948</td>\n",
       "      <td>0.592734</td>\n",
       "      <td>1.748606</td>\n",
       "      <td>1.407266</td>\n",
       "      <td>1.528897</td>\n",
       "      <td>2092</td>\n",
       "      <td>5794</td>\n",
       "    </tr>\n",
       "    <tr>\n",
       "      <th>2</th>\n",
       "      <td>knn_n_20knn_n_20</td>\n",
       "      <td>1.792797</td>\n",
       "      <td>1.374761</td>\n",
       "      <td>0.056265</td>\n",
       "      <td>1.943735</td>\n",
       "      <td>0.625239</td>\n",
       "      <td>1.709237</td>\n",
       "      <td>1.374761</td>\n",
       "      <td>1.491830</td>\n",
       "      <td>2092</td>\n",
       "      <td>5794</td>\n",
       "    </tr>\n",
       "  </tbody>\n",
       "</table>\n",
       "</div>"
      ],
      "text/plain": [
       "              model  accuracy  true_positive_rate  false_positive_rate  \\\n",
       "0    knn_n_5knn_n_5  1.831600            1.586998             0.080083   \n",
       "1  knn_n_10knn_n_10  1.805985            1.407266             0.050052   \n",
       "2  knn_n_20knn_n_20  1.792797            1.374761             0.056265   \n",
       "\n",
       "   true_negative_rate  false_negative_rate  precision    recall  f1_score  \\\n",
       "0            1.919917             0.413002   1.727276  1.586998  1.650080   \n",
       "1            1.949948             0.592734   1.748606  1.407266  1.528897   \n",
       "2            1.943735             0.625239   1.709237  1.374761  1.491830   \n",
       "\n",
       "   support_0  support_1  \n",
       "0       2092       5794  \n",
       "1       2092       5794  \n",
       "2       2092       5794  "
      ]
     },
     "execution_count": 47,
     "metadata": {},
     "output_type": "execute_result"
    }
   ],
   "source": [
    "distance  uniform"
   ]
  },
  {
   "cell_type": "code",
   "execution_count": 32,
   "id": "1f6ef8f9",
   "metadata": {},
   "outputs": [
    {
     "data": {
      "image/png": "[encoded data removed]",
      "text/plain": [
       "<Figure size 432x288 with 1 Axes>"
      ]
     },
     "metadata": {
      "needs_background": "light"
     },
     "output_type": "display_data"
    }
   ],
   "source": [
    "import matplotlib.pyplot as plt\n",
    "k_range = range(1, 20)\n",
    "scores = []\n",
    "for k in k_range:\n",
    "    knn = KNeighborsClassifier(n_neighbors = k)\n",
    "    knn.fit(X_train, y_train)\n",
    "    scores.append(knn.score(X_test, y_test))\n",
    "plt.figure()\n",
    "plt.xlabel('k')\n",
    "plt.ylabel('accuracy')\n",
    "plt.scatter(k_range, scores)\n",
    "plt.xticks([0,5,10,15,20])\n",
    "plt.show()"
   ]
  },
  {
   "cell_type": "code",
   "execution_count": null,
   "id": "5f3f98fe",
   "metadata": {},
   "outputs": [],
   "source": []
  }
 ],
 "metadata": {
  "kernelspec": {
   "display_name": "Python 3 (ipykernel)",
   "language": "python",
   "name": "python3"
  },
  "language_info": {
   "codemirror_mode": {
    "name": "ipython",
    "version": 3
   },
   "file_extension": ".py",
   "mimetype": "text/x-python",
   "name": "python",
   "nbconvert_exporter": "python",
   "pygments_lexer": "ipython3",
   "version": "3.9.12"
  }
 },
 "nbformat": 4,
 "nbformat_minor": 5
}
