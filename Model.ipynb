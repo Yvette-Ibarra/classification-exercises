{
 "cells": [
  {
   "cell_type": "markdown",
   "id": "9d470f64",
   "metadata": {},
   "source": [
    "# $Model$\n",
    "\n",
    "## Using the titanic data:\n",
    "\n"
   ]
  },
  {
   "cell_type": "markdown",
   "id": "f88107a1",
   "metadata": {},
   "source": [
    "### imports"
   ]
  },
  {
   "cell_type": "code",
   "execution_count": 1,
   "id": "7bb8d281",
   "metadata": {},
   "outputs": [],
   "source": [
    "# General DS Imports\n",
    "import matplotlib.pyplot as plt\n",
    "import numpy as np\n",
    "import pandas as pd\n",
    "import seaborn as sns\n",
    "\n",
    "import acquire\n",
    "import prepare\n",
    "\n",
    "np.random.seed(9)"
   ]
  },
  {
   "cell_type": "code",
   "execution_count": 2,
   "id": "89e0287a",
   "metadata": {},
   "outputs": [],
   "source": [
    "# Decision Tree and Model Evaluation Imports\n",
    "from sklearn.tree import DecisionTreeClassifier, plot_tree, export_text\n",
    "from sklearn.model_selection import train_test_split\n",
    "from sklearn.metrics import classification_report, confusion_matrix, plot_confusion_matrix"
   ]
  },
  {
   "cell_type": "markdown",
   "id": "a1ddcc6f",
   "metadata": {},
   "source": [
    "### Acquire"
   ]
  },
  {
   "cell_type": "code",
   "execution_count": 3,
   "id": "84805d3c",
   "metadata": {
    "scrolled": true
   },
   "outputs": [],
   "source": [
    "titanic_df =acquire.new_titanic_data()"
   ]
  },
  {
   "cell_type": "markdown",
   "id": "cbc440eb",
   "metadata": {},
   "source": [
    "### Prepare"
   ]
  },
  {
   "cell_type": "code",
   "execution_count": 4,
   "id": "46b4c28b",
   "metadata": {},
   "outputs": [],
   "source": [
    "titanic_df=prepare.prep_titanic(titanic_df)"
   ]
  },
  {
   "cell_type": "code",
   "execution_count": 5,
   "id": "d2599de1",
   "metadata": {
    "scrolled": true
   },
   "outputs": [
    {
     "data": {
      "text/html": [
       "<div>\n",
       "<style scoped>\n",
       "    .dataframe tbody tr th:only-of-type {\n",
       "        vertical-align: middle;\n",
       "    }\n",
       "\n",
       "    .dataframe tbody tr th {\n",
       "        vertical-align: top;\n",
       "    }\n",
       "\n",
       "    .dataframe thead th {\n",
       "        text-align: right;\n",
       "    }\n",
       "</style>\n",
       "<table border=\"1\" class=\"dataframe\">\n",
       "  <thead>\n",
       "    <tr style=\"text-align: right;\">\n",
       "      <th></th>\n",
       "      <th>survived</th>\n",
       "      <th>sex</th>\n",
       "      <th>age</th>\n",
       "      <th>sibsp</th>\n",
       "      <th>parch</th>\n",
       "      <th>fare</th>\n",
       "      <th>class</th>\n",
       "      <th>embark_town</th>\n",
       "      <th>alone</th>\n",
       "      <th>sex_male</th>\n",
       "      <th>class_Second</th>\n",
       "      <th>class_Third</th>\n",
       "      <th>embark_town_Queenstown</th>\n",
       "      <th>embark_town_Southampton</th>\n",
       "    </tr>\n",
       "  </thead>\n",
       "  <tbody>\n",
       "    <tr>\n",
       "      <th>0</th>\n",
       "      <td>0</td>\n",
       "      <td>male</td>\n",
       "      <td>22.0</td>\n",
       "      <td>1</td>\n",
       "      <td>0</td>\n",
       "      <td>7.2500</td>\n",
       "      <td>Third</td>\n",
       "      <td>Southampton</td>\n",
       "      <td>0</td>\n",
       "      <td>1</td>\n",
       "      <td>0</td>\n",
       "      <td>1</td>\n",
       "      <td>0</td>\n",
       "      <td>1</td>\n",
       "    </tr>\n",
       "    <tr>\n",
       "      <th>1</th>\n",
       "      <td>1</td>\n",
       "      <td>female</td>\n",
       "      <td>38.0</td>\n",
       "      <td>1</td>\n",
       "      <td>0</td>\n",
       "      <td>71.2833</td>\n",
       "      <td>First</td>\n",
       "      <td>Cherbourg</td>\n",
       "      <td>0</td>\n",
       "      <td>0</td>\n",
       "      <td>0</td>\n",
       "      <td>0</td>\n",
       "      <td>0</td>\n",
       "      <td>0</td>\n",
       "    </tr>\n",
       "    <tr>\n",
       "      <th>2</th>\n",
       "      <td>1</td>\n",
       "      <td>female</td>\n",
       "      <td>26.0</td>\n",
       "      <td>0</td>\n",
       "      <td>0</td>\n",
       "      <td>7.9250</td>\n",
       "      <td>Third</td>\n",
       "      <td>Southampton</td>\n",
       "      <td>1</td>\n",
       "      <td>0</td>\n",
       "      <td>0</td>\n",
       "      <td>1</td>\n",
       "      <td>0</td>\n",
       "      <td>1</td>\n",
       "    </tr>\n",
       "    <tr>\n",
       "      <th>3</th>\n",
       "      <td>1</td>\n",
       "      <td>female</td>\n",
       "      <td>35.0</td>\n",
       "      <td>1</td>\n",
       "      <td>0</td>\n",
       "      <td>53.1000</td>\n",
       "      <td>First</td>\n",
       "      <td>Southampton</td>\n",
       "      <td>0</td>\n",
       "      <td>0</td>\n",
       "      <td>0</td>\n",
       "      <td>0</td>\n",
       "      <td>0</td>\n",
       "      <td>1</td>\n",
       "    </tr>\n",
       "    <tr>\n",
       "      <th>4</th>\n",
       "      <td>0</td>\n",
       "      <td>male</td>\n",
       "      <td>35.0</td>\n",
       "      <td>0</td>\n",
       "      <td>0</td>\n",
       "      <td>8.0500</td>\n",
       "      <td>Third</td>\n",
       "      <td>Southampton</td>\n",
       "      <td>1</td>\n",
       "      <td>1</td>\n",
       "      <td>0</td>\n",
       "      <td>1</td>\n",
       "      <td>0</td>\n",
       "      <td>1</td>\n",
       "    </tr>\n",
       "  </tbody>\n",
       "</table>\n",
       "</div>"
      ],
      "text/plain": [
       "   survived     sex   age  sibsp  parch     fare  class  embark_town  alone  \\\n",
       "0         0    male  22.0      1      0   7.2500  Third  Southampton      0   \n",
       "1         1  female  38.0      1      0  71.2833  First    Cherbourg      0   \n",
       "2         1  female  26.0      0      0   7.9250  Third  Southampton      1   \n",
       "3         1  female  35.0      1      0  53.1000  First  Southampton      0   \n",
       "4         0    male  35.0      0      0   8.0500  Third  Southampton      1   \n",
       "\n",
       "   sex_male  class_Second  class_Third  embark_town_Queenstown  \\\n",
       "0         1             0            1                       0   \n",
       "1         0             0            0                       0   \n",
       "2         0             0            1                       0   \n",
       "3         0             0            0                       0   \n",
       "4         1             0            1                       0   \n",
       "\n",
       "   embark_town_Southampton  \n",
       "0                        1  \n",
       "1                        0  \n",
       "2                        1  \n",
       "3                        1  \n",
       "4                        1  "
      ]
     },
     "execution_count": 5,
     "metadata": {},
     "output_type": "execute_result"
    }
   ],
   "source": [
    "titanic_df.head()"
   ]
  },
  {
   "cell_type": "code",
   "execution_count": 6,
   "id": "5f73b6f6",
   "metadata": {},
   "outputs": [],
   "source": [
    "titanic_processing_df = titanic_df.drop(columns={'sex','class', 'embark_town'})"
   ]
  },
  {
   "cell_type": "code",
   "execution_count": 7,
   "id": "ea70084b",
   "metadata": {
    "scrolled": true
   },
   "outputs": [
    {
     "data": {
      "text/html": [
       "<div>\n",
       "<style scoped>\n",
       "    .dataframe tbody tr th:only-of-type {\n",
       "        vertical-align: middle;\n",
       "    }\n",
       "\n",
       "    .dataframe tbody tr th {\n",
       "        vertical-align: top;\n",
       "    }\n",
       "\n",
       "    .dataframe thead th {\n",
       "        text-align: right;\n",
       "    }\n",
       "</style>\n",
       "<table border=\"1\" class=\"dataframe\">\n",
       "  <thead>\n",
       "    <tr style=\"text-align: right;\">\n",
       "      <th></th>\n",
       "      <th>survived</th>\n",
       "      <th>age</th>\n",
       "      <th>sibsp</th>\n",
       "      <th>parch</th>\n",
       "      <th>fare</th>\n",
       "      <th>alone</th>\n",
       "      <th>sex_male</th>\n",
       "      <th>class_Second</th>\n",
       "      <th>class_Third</th>\n",
       "      <th>embark_town_Queenstown</th>\n",
       "      <th>embark_town_Southampton</th>\n",
       "    </tr>\n",
       "  </thead>\n",
       "  <tbody>\n",
       "    <tr>\n",
       "      <th>0</th>\n",
       "      <td>0</td>\n",
       "      <td>22.0</td>\n",
       "      <td>1</td>\n",
       "      <td>0</td>\n",
       "      <td>7.2500</td>\n",
       "      <td>0</td>\n",
       "      <td>1</td>\n",
       "      <td>0</td>\n",
       "      <td>1</td>\n",
       "      <td>0</td>\n",
       "      <td>1</td>\n",
       "    </tr>\n",
       "    <tr>\n",
       "      <th>1</th>\n",
       "      <td>1</td>\n",
       "      <td>38.0</td>\n",
       "      <td>1</td>\n",
       "      <td>0</td>\n",
       "      <td>71.2833</td>\n",
       "      <td>0</td>\n",
       "      <td>0</td>\n",
       "      <td>0</td>\n",
       "      <td>0</td>\n",
       "      <td>0</td>\n",
       "      <td>0</td>\n",
       "    </tr>\n",
       "    <tr>\n",
       "      <th>2</th>\n",
       "      <td>1</td>\n",
       "      <td>26.0</td>\n",
       "      <td>0</td>\n",
       "      <td>0</td>\n",
       "      <td>7.9250</td>\n",
       "      <td>1</td>\n",
       "      <td>0</td>\n",
       "      <td>0</td>\n",
       "      <td>1</td>\n",
       "      <td>0</td>\n",
       "      <td>1</td>\n",
       "    </tr>\n",
       "    <tr>\n",
       "      <th>3</th>\n",
       "      <td>1</td>\n",
       "      <td>35.0</td>\n",
       "      <td>1</td>\n",
       "      <td>0</td>\n",
       "      <td>53.1000</td>\n",
       "      <td>0</td>\n",
       "      <td>0</td>\n",
       "      <td>0</td>\n",
       "      <td>0</td>\n",
       "      <td>0</td>\n",
       "      <td>1</td>\n",
       "    </tr>\n",
       "    <tr>\n",
       "      <th>4</th>\n",
       "      <td>0</td>\n",
       "      <td>35.0</td>\n",
       "      <td>0</td>\n",
       "      <td>0</td>\n",
       "      <td>8.0500</td>\n",
       "      <td>1</td>\n",
       "      <td>1</td>\n",
       "      <td>0</td>\n",
       "      <td>1</td>\n",
       "      <td>0</td>\n",
       "      <td>1</td>\n",
       "    </tr>\n",
       "  </tbody>\n",
       "</table>\n",
       "</div>"
      ],
      "text/plain": [
       "   survived   age  sibsp  parch     fare  alone  sex_male  class_Second  \\\n",
       "0         0  22.0      1      0   7.2500      0         1             0   \n",
       "1         1  38.0      1      0  71.2833      0         0             0   \n",
       "2         1  26.0      0      0   7.9250      1         0             0   \n",
       "3         1  35.0      1      0  53.1000      0         0             0   \n",
       "4         0  35.0      0      0   8.0500      1         1             0   \n",
       "\n",
       "   class_Third  embark_town_Queenstown  embark_town_Southampton  \n",
       "0            1                       0                        1  \n",
       "1            0                       0                        0  \n",
       "2            1                       0                        1  \n",
       "3            0                       0                        1  \n",
       "4            1                       0                        1  "
      ]
     },
     "execution_count": 7,
     "metadata": {},
     "output_type": "execute_result"
    }
   ],
   "source": [
    "titanic_processing_df.head()"
   ]
  },
  {
   "cell_type": "code",
   "execution_count": 8,
   "id": "0ab9ab46",
   "metadata": {},
   "outputs": [
    {
     "data": {
      "text/plain": [
       "Index(['survived', 'age', 'sibsp', 'parch', 'fare', 'alone', 'sex_male',\n",
       "       'class_Second', 'class_Third', 'embark_town_Queenstown',\n",
       "       'embark_town_Southampton'],\n",
       "      dtype='object')"
      ]
     },
     "execution_count": 8,
     "metadata": {},
     "output_type": "execute_result"
    }
   ],
   "source": [
    "titanic_processing_df.columns"
   ]
  },
  {
   "cell_type": "code",
   "execution_count": 9,
   "id": "94b388e9",
   "metadata": {},
   "outputs": [],
   "source": [
    "# Splitting dataset into X and y components before doing the train/validate/test split\n",
    "X = titanic_processing_df[['age', 'sibsp', 'parch', 'fare', 'alone', 'sex_male',\n",
    "       'class_Second', 'class_Third', 'embark_town_Queenstown',\n",
    "       'embark_town_Southampton']]\n",
    "\n",
    "y = titanic_processing_df.survived\n",
    "\n",
    "X_train_and_validate, X_test, y_train_and_validate, y_test = train_test_split(X, y, random_state=123, test_size=.3)\n",
    "X_train, X_validate, y_train, y_validate = train_test_split(X_train_and_validate, y_train_and_validate, random_state=123, test_size=.2)"
   ]
  },
  {
   "cell_type": "code",
   "execution_count": 10,
   "id": "b5ddd0f2",
   "metadata": {},
   "outputs": [
    {
     "data": {
      "text/plain": [
       "((498, 10), (125, 10), (268, 10))"
      ]
     },
     "execution_count": 10,
     "metadata": {},
     "output_type": "execute_result"
    }
   ],
   "source": [
    "X_train.shape, X_validate.shape,X_test.shape"
   ]
  },
  {
   "cell_type": "code",
   "execution_count": 11,
   "id": "88203837",
   "metadata": {},
   "outputs": [],
   "source": [
    "X_train, X_validate, X_test = prepare.impute_mean_age(X_train, X_validate, X_test)\n"
   ]
  },
  {
   "cell_type": "code",
   "execution_count": 12,
   "id": "7e17fa12",
   "metadata": {
    "scrolled": false
   },
   "outputs": [
    {
     "data": {
      "text/html": [
       "<div>\n",
       "<style scoped>\n",
       "    .dataframe tbody tr th:only-of-type {\n",
       "        vertical-align: middle;\n",
       "    }\n",
       "\n",
       "    .dataframe tbody tr th {\n",
       "        vertical-align: top;\n",
       "    }\n",
       "\n",
       "    .dataframe thead th {\n",
       "        text-align: right;\n",
       "    }\n",
       "</style>\n",
       "<table border=\"1\" class=\"dataframe\">\n",
       "  <thead>\n",
       "    <tr style=\"text-align: right;\">\n",
       "      <th></th>\n",
       "      <th>age</th>\n",
       "      <th>sibsp</th>\n",
       "      <th>parch</th>\n",
       "      <th>fare</th>\n",
       "      <th>alone</th>\n",
       "      <th>sex_male</th>\n",
       "      <th>class_Second</th>\n",
       "      <th>class_Third</th>\n",
       "      <th>embark_town_Queenstown</th>\n",
       "      <th>embark_town_Southampton</th>\n",
       "    </tr>\n",
       "  </thead>\n",
       "  <tbody>\n",
       "    <tr>\n",
       "      <th>456</th>\n",
       "      <td>65.000000</td>\n",
       "      <td>0</td>\n",
       "      <td>0</td>\n",
       "      <td>26.5500</td>\n",
       "      <td>1</td>\n",
       "      <td>1</td>\n",
       "      <td>0</td>\n",
       "      <td>0</td>\n",
       "      <td>0</td>\n",
       "      <td>1</td>\n",
       "    </tr>\n",
       "    <tr>\n",
       "      <th>8</th>\n",
       "      <td>27.000000</td>\n",
       "      <td>0</td>\n",
       "      <td>2</td>\n",
       "      <td>11.1333</td>\n",
       "      <td>0</td>\n",
       "      <td>0</td>\n",
       "      <td>0</td>\n",
       "      <td>1</td>\n",
       "      <td>0</td>\n",
       "      <td>1</td>\n",
       "    </tr>\n",
       "    <tr>\n",
       "      <th>19</th>\n",
       "      <td>30.370693</td>\n",
       "      <td>0</td>\n",
       "      <td>0</td>\n",
       "      <td>7.2250</td>\n",
       "      <td>1</td>\n",
       "      <td>0</td>\n",
       "      <td>0</td>\n",
       "      <td>1</td>\n",
       "      <td>0</td>\n",
       "      <td>0</td>\n",
       "    </tr>\n",
       "    <tr>\n",
       "      <th>95</th>\n",
       "      <td>30.370693</td>\n",
       "      <td>0</td>\n",
       "      <td>0</td>\n",
       "      <td>8.0500</td>\n",
       "      <td>1</td>\n",
       "      <td>1</td>\n",
       "      <td>0</td>\n",
       "      <td>1</td>\n",
       "      <td>0</td>\n",
       "      <td>1</td>\n",
       "    </tr>\n",
       "    <tr>\n",
       "      <th>86</th>\n",
       "      <td>16.000000</td>\n",
       "      <td>1</td>\n",
       "      <td>3</td>\n",
       "      <td>34.3750</td>\n",
       "      <td>0</td>\n",
       "      <td>1</td>\n",
       "      <td>0</td>\n",
       "      <td>1</td>\n",
       "      <td>0</td>\n",
       "      <td>1</td>\n",
       "    </tr>\n",
       "  </tbody>\n",
       "</table>\n",
       "</div>"
      ],
      "text/plain": [
       "           age  sibsp  parch     fare  alone  sex_male  class_Second  \\\n",
       "456  65.000000      0      0  26.5500      1         1             0   \n",
       "8    27.000000      0      2  11.1333      0         0             0   \n",
       "19   30.370693      0      0   7.2250      1         0             0   \n",
       "95   30.370693      0      0   8.0500      1         1             0   \n",
       "86   16.000000      1      3  34.3750      0         1             0   \n",
       "\n",
       "     class_Third  embark_town_Queenstown  embark_town_Southampton  \n",
       "456            0                       0                        1  \n",
       "8              1                       0                        1  \n",
       "19             1                       0                        0  \n",
       "95             1                       0                        1  \n",
       "86             1                       0                        1  "
      ]
     },
     "execution_count": 12,
     "metadata": {},
     "output_type": "execute_result"
    }
   ],
   "source": [
    "X_train.head()"
   ]
  },
  {
   "cell_type": "code",
   "execution_count": 13,
   "id": "25ae19c1",
   "metadata": {},
   "outputs": [
    {
     "data": {
      "text/plain": [
       "456    0\n",
       "8      1\n",
       "19     1\n",
       "95     0\n",
       "86     0\n",
       "Name: survived, dtype: int64"
      ]
     },
     "execution_count": 13,
     "metadata": {},
     "output_type": "execute_result"
    }
   ],
   "source": [
    "y_train.head()"
   ]
  },
  {
   "cell_type": "markdown",
   "id": "cd29bb0f",
   "metadata": {},
   "source": [
    "### 1. What is your baseline prediction? What is your baseline accuracy? remember: your baseline prediction for a classification problem is predicting the most prevelant class in the training dataset (the mode). When you make those predictions, what is your accuracy? This is your baseline accuracy."
   ]
  },
  {
   "cell_type": "code",
   "execution_count": 14,
   "id": "85227035",
   "metadata": {},
   "outputs": [
    {
     "data": {
      "text/plain": [
       "0    0\n",
       "Name: survived, dtype: int64"
      ]
     },
     "execution_count": 14,
     "metadata": {},
     "output_type": "execute_result"
    }
   ],
   "source": [
    "# set target variable survived baseline\n",
    "baseline = y_train.mode()\n",
    "baseline"
   ]
  },
  {
   "cell_type": "code",
   "execution_count": 15,
   "id": "58ecedb2",
   "metadata": {},
   "outputs": [
    {
     "data": {
      "text/html": [
       "<div>\n",
       "<style scoped>\n",
       "    .dataframe tbody tr th:only-of-type {\n",
       "        vertical-align: middle;\n",
       "    }\n",
       "\n",
       "    .dataframe tbody tr th {\n",
       "        vertical-align: top;\n",
       "    }\n",
       "\n",
       "    .dataframe thead th {\n",
       "        text-align: right;\n",
       "    }\n",
       "</style>\n",
       "<table border=\"1\" class=\"dataframe\">\n",
       "  <thead>\n",
       "    <tr style=\"text-align: right;\">\n",
       "      <th></th>\n",
       "      <th>age</th>\n",
       "      <th>sibsp</th>\n",
       "      <th>parch</th>\n",
       "      <th>fare</th>\n",
       "      <th>alone</th>\n",
       "      <th>sex_male</th>\n",
       "      <th>class_Second</th>\n",
       "      <th>class_Third</th>\n",
       "      <th>embark_town_Queenstown</th>\n",
       "      <th>embark_town_Southampton</th>\n",
       "      <th>baseline_prediction</th>\n",
       "    </tr>\n",
       "  </thead>\n",
       "  <tbody>\n",
       "    <tr>\n",
       "      <th>456</th>\n",
       "      <td>65.000000</td>\n",
       "      <td>0</td>\n",
       "      <td>0</td>\n",
       "      <td>26.5500</td>\n",
       "      <td>1</td>\n",
       "      <td>1</td>\n",
       "      <td>0</td>\n",
       "      <td>0</td>\n",
       "      <td>0</td>\n",
       "      <td>1</td>\n",
       "      <td>0</td>\n",
       "    </tr>\n",
       "    <tr>\n",
       "      <th>8</th>\n",
       "      <td>27.000000</td>\n",
       "      <td>0</td>\n",
       "      <td>2</td>\n",
       "      <td>11.1333</td>\n",
       "      <td>0</td>\n",
       "      <td>0</td>\n",
       "      <td>0</td>\n",
       "      <td>1</td>\n",
       "      <td>0</td>\n",
       "      <td>1</td>\n",
       "      <td>0</td>\n",
       "    </tr>\n",
       "    <tr>\n",
       "      <th>19</th>\n",
       "      <td>30.370693</td>\n",
       "      <td>0</td>\n",
       "      <td>0</td>\n",
       "      <td>7.2250</td>\n",
       "      <td>1</td>\n",
       "      <td>0</td>\n",
       "      <td>0</td>\n",
       "      <td>1</td>\n",
       "      <td>0</td>\n",
       "      <td>0</td>\n",
       "      <td>0</td>\n",
       "    </tr>\n",
       "    <tr>\n",
       "      <th>95</th>\n",
       "      <td>30.370693</td>\n",
       "      <td>0</td>\n",
       "      <td>0</td>\n",
       "      <td>8.0500</td>\n",
       "      <td>1</td>\n",
       "      <td>1</td>\n",
       "      <td>0</td>\n",
       "      <td>1</td>\n",
       "      <td>0</td>\n",
       "      <td>1</td>\n",
       "      <td>0</td>\n",
       "    </tr>\n",
       "    <tr>\n",
       "      <th>86</th>\n",
       "      <td>16.000000</td>\n",
       "      <td>1</td>\n",
       "      <td>3</td>\n",
       "      <td>34.3750</td>\n",
       "      <td>0</td>\n",
       "      <td>1</td>\n",
       "      <td>0</td>\n",
       "      <td>1</td>\n",
       "      <td>0</td>\n",
       "      <td>1</td>\n",
       "      <td>0</td>\n",
       "    </tr>\n",
       "    <tr>\n",
       "      <th>...</th>\n",
       "      <td>...</td>\n",
       "      <td>...</td>\n",
       "      <td>...</td>\n",
       "      <td>...</td>\n",
       "      <td>...</td>\n",
       "      <td>...</td>\n",
       "      <td>...</td>\n",
       "      <td>...</td>\n",
       "      <td>...</td>\n",
       "      <td>...</td>\n",
       "      <td>...</td>\n",
       "    </tr>\n",
       "    <tr>\n",
       "      <th>430</th>\n",
       "      <td>28.000000</td>\n",
       "      <td>0</td>\n",
       "      <td>0</td>\n",
       "      <td>26.5500</td>\n",
       "      <td>1</td>\n",
       "      <td>1</td>\n",
       "      <td>0</td>\n",
       "      <td>0</td>\n",
       "      <td>0</td>\n",
       "      <td>1</td>\n",
       "      <td>0</td>\n",
       "    </tr>\n",
       "    <tr>\n",
       "      <th>361</th>\n",
       "      <td>29.000000</td>\n",
       "      <td>1</td>\n",
       "      <td>0</td>\n",
       "      <td>27.7208</td>\n",
       "      <td>0</td>\n",
       "      <td>1</td>\n",
       "      <td>1</td>\n",
       "      <td>0</td>\n",
       "      <td>0</td>\n",
       "      <td>0</td>\n",
       "      <td>0</td>\n",
       "    </tr>\n",
       "    <tr>\n",
       "      <th>519</th>\n",
       "      <td>32.000000</td>\n",
       "      <td>0</td>\n",
       "      <td>0</td>\n",
       "      <td>7.8958</td>\n",
       "      <td>1</td>\n",
       "      <td>1</td>\n",
       "      <td>0</td>\n",
       "      <td>1</td>\n",
       "      <td>0</td>\n",
       "      <td>1</td>\n",
       "      <td>0</td>\n",
       "    </tr>\n",
       "    <tr>\n",
       "      <th>383</th>\n",
       "      <td>35.000000</td>\n",
       "      <td>1</td>\n",
       "      <td>0</td>\n",
       "      <td>52.0000</td>\n",
       "      <td>0</td>\n",
       "      <td>0</td>\n",
       "      <td>0</td>\n",
       "      <td>0</td>\n",
       "      <td>0</td>\n",
       "      <td>1</td>\n",
       "      <td>0</td>\n",
       "    </tr>\n",
       "    <tr>\n",
       "      <th>438</th>\n",
       "      <td>64.000000</td>\n",
       "      <td>1</td>\n",
       "      <td>4</td>\n",
       "      <td>263.0000</td>\n",
       "      <td>0</td>\n",
       "      <td>1</td>\n",
       "      <td>0</td>\n",
       "      <td>0</td>\n",
       "      <td>0</td>\n",
       "      <td>1</td>\n",
       "      <td>0</td>\n",
       "    </tr>\n",
       "  </tbody>\n",
       "</table>\n",
       "<p>498 rows × 11 columns</p>\n",
       "</div>"
      ],
      "text/plain": [
       "           age  sibsp  parch      fare  alone  sex_male  class_Second  \\\n",
       "456  65.000000      0      0   26.5500      1         1             0   \n",
       "8    27.000000      0      2   11.1333      0         0             0   \n",
       "19   30.370693      0      0    7.2250      1         0             0   \n",
       "95   30.370693      0      0    8.0500      1         1             0   \n",
       "86   16.000000      1      3   34.3750      0         1             0   \n",
       "..         ...    ...    ...       ...    ...       ...           ...   \n",
       "430  28.000000      0      0   26.5500      1         1             0   \n",
       "361  29.000000      1      0   27.7208      0         1             1   \n",
       "519  32.000000      0      0    7.8958      1         1             0   \n",
       "383  35.000000      1      0   52.0000      0         0             0   \n",
       "438  64.000000      1      4  263.0000      0         1             0   \n",
       "\n",
       "     class_Third  embark_town_Queenstown  embark_town_Southampton  \\\n",
       "456            0                       0                        1   \n",
       "8              1                       0                        1   \n",
       "19             1                       0                        0   \n",
       "95             1                       0                        1   \n",
       "86             1                       0                        1   \n",
       "..           ...                     ...                      ...   \n",
       "430            0                       0                        1   \n",
       "361            0                       0                        0   \n",
       "519            1                       0                        1   \n",
       "383            0                       0                        1   \n",
       "438            0                       0                        1   \n",
       "\n",
       "     baseline_prediction  \n",
       "456                    0  \n",
       "8                      0  \n",
       "19                     0  \n",
       "95                     0  \n",
       "86                     0  \n",
       "..                   ...  \n",
       "430                    0  \n",
       "361                    0  \n",
       "519                    0  \n",
       "383                    0  \n",
       "438                    0  \n",
       "\n",
       "[498 rows x 11 columns]"
      ]
     },
     "execution_count": 15,
     "metadata": {},
     "output_type": "execute_result"
    }
   ],
   "source": [
    "X_train['baseline_prediction'] = int(baseline)\n",
    "X_train"
   ]
  },
  {
   "cell_type": "code",
   "execution_count": 16,
   "id": "12303279",
   "metadata": {},
   "outputs": [],
   "source": [
    "actual = y_train\n",
    "predictions = X_train.baseline_prediction"
   ]
  },
  {
   "cell_type": "code",
   "execution_count": 17,
   "id": "0a5cacde",
   "metadata": {},
   "outputs": [
    {
     "data": {
      "text/html": [
       "<div>\n",
       "<style scoped>\n",
       "    .dataframe tbody tr th:only-of-type {\n",
       "        vertical-align: middle;\n",
       "    }\n",
       "\n",
       "    .dataframe tbody tr th {\n",
       "        vertical-align: top;\n",
       "    }\n",
       "\n",
       "    .dataframe thead th {\n",
       "        text-align: right;\n",
       "    }\n",
       "</style>\n",
       "<table border=\"1\" class=\"dataframe\">\n",
       "  <thead>\n",
       "    <tr style=\"text-align: right;\">\n",
       "      <th>baseline_prediction</th>\n",
       "      <th>0</th>\n",
       "    </tr>\n",
       "    <tr>\n",
       "      <th>survived</th>\n",
       "      <th></th>\n",
       "    </tr>\n",
       "  </thead>\n",
       "  <tbody>\n",
       "    <tr>\n",
       "      <th>0</th>\n",
       "      <td>298</td>\n",
       "    </tr>\n",
       "    <tr>\n",
       "      <th>1</th>\n",
       "      <td>200</td>\n",
       "    </tr>\n",
       "  </tbody>\n",
       "</table>\n",
       "</div>"
      ],
      "text/plain": [
       "baseline_prediction    0\n",
       "survived                \n",
       "0                    298\n",
       "1                    200"
      ]
     },
     "execution_count": 17,
     "metadata": {},
     "output_type": "execute_result"
    }
   ],
   "source": [
    "pd.crosstab(actual, predictions)"
   ]
  },
  {
   "cell_type": "code",
   "execution_count": 18,
   "id": "ac5e478b",
   "metadata": {},
   "outputs": [
    {
     "name": "stdout",
     "output_type": "stream",
     "text": [
      "baseline accuracy : 0.5983935742971888\n"
     ]
    }
   ],
   "source": [
    "print('baseline accuracy :',(298)/(200+298))"
   ]
  },
  {
   "cell_type": "code",
   "execution_count": 19,
   "id": "776cdbeb",
   "metadata": {},
   "outputs": [],
   "source": [
    "X_train = X_train.drop(columns = ['baseline_prediction'])\n"
   ]
  },
  {
   "cell_type": "code",
   "execution_count": 20,
   "id": "5d7efefd",
   "metadata": {},
   "outputs": [
    {
     "name": "stdout",
     "output_type": "stream",
     "text": [
      "<class 'pandas.core.frame.DataFrame'>\n",
      "Int64Index: 498 entries, 456 to 438\n",
      "Data columns (total 10 columns):\n",
      " #   Column                   Non-Null Count  Dtype  \n",
      "---  ------                   --------------  -----  \n",
      " 0   age                      498 non-null    float64\n",
      " 1   sibsp                    498 non-null    int64  \n",
      " 2   parch                    498 non-null    int64  \n",
      " 3   fare                     498 non-null    float64\n",
      " 4   alone                    498 non-null    int64  \n",
      " 5   sex_male                 498 non-null    uint8  \n",
      " 6   class_Second             498 non-null    uint8  \n",
      " 7   class_Third              498 non-null    uint8  \n",
      " 8   embark_town_Queenstown   498 non-null    uint8  \n",
      " 9   embark_town_Southampton  498 non-null    uint8  \n",
      "dtypes: float64(2), int64(3), uint8(5)\n",
      "memory usage: 25.8 KB\n"
     ]
    }
   ],
   "source": [
    "X_train.info()"
   ]
  },
  {
   "cell_type": "markdown",
   "id": "abdae292",
   "metadata": {},
   "source": [
    "### 2. Fit the decision tree classifier to your training sample and transform (i.e. make predictions on the training sample)\n"
   ]
  },
  {
   "cell_type": "code",
   "execution_count": 21,
   "id": "0fc5af2f",
   "metadata": {},
   "outputs": [],
   "source": [
    "# Create the decision tree object and specify hyperparams\n",
    "tree_1 = DecisionTreeClassifier(max_depth = 5,min_samples_split = 5)"
   ]
  },
  {
   "cell_type": "code",
   "execution_count": 22,
   "id": "234e4c71",
   "metadata": {
    "scrolled": true
   },
   "outputs": [
    {
     "name": "stdout",
     "output_type": "stream",
     "text": [
      "|--- sex_male <= 0.50\n",
      "|   |--- class_Third <= 0.50\n",
      "|   |   |--- age <= 56.00\n",
      "|   |   |   |--- fare <= 26.12\n",
      "|   |   |   |   |--- age <= 37.00\n",
      "|   |   |   |   |   |--- class: 1\n",
      "|   |   |   |   |--- age >  37.00\n",
      "|   |   |   |   |   |--- class: 1\n",
      "|   |   |   |--- fare >  26.12\n",
      "|   |   |   |   |--- class: 1\n",
      "|   |   |--- age >  56.00\n",
      "|   |   |   |--- class: 1\n",
      "|   |--- class_Third >  0.50\n",
      "|   |   |--- fare <= 24.81\n",
      "|   |   |   |--- age <= 31.50\n",
      "|   |   |   |   |--- age <= 6.00\n",
      "|   |   |   |   |   |--- class: 1\n",
      "|   |   |   |   |--- age >  6.00\n",
      "|   |   |   |   |   |--- class: 1\n",
      "|   |   |   |--- age >  31.50\n",
      "|   |   |   |   |--- class: 0\n",
      "|   |   |--- fare >  24.81\n",
      "|   |   |   |--- class: 0\n",
      "|--- sex_male >  0.50\n",
      "|   |--- age <= 6.50\n",
      "|   |   |--- sibsp <= 2.00\n",
      "|   |   |   |--- class: 1\n",
      "|   |   |--- sibsp >  2.00\n",
      "|   |   |   |--- class: 0\n",
      "|   |--- age >  6.50\n",
      "|   |   |--- fare <= 26.27\n",
      "|   |   |   |--- age <= 13.50\n",
      "|   |   |   |   |--- class: 1\n",
      "|   |   |   |--- age >  13.50\n",
      "|   |   |   |   |--- embark_town_Southampton <= 0.50\n",
      "|   |   |   |   |   |--- class: 0\n",
      "|   |   |   |   |--- embark_town_Southampton >  0.50\n",
      "|   |   |   |   |   |--- class: 0\n",
      "|   |   |--- fare >  26.27\n",
      "|   |   |   |--- parch <= 0.50\n",
      "|   |   |   |   |--- class_Second <= 0.50\n",
      "|   |   |   |   |   |--- class: 0\n",
      "|   |   |   |   |--- class_Second >  0.50\n",
      "|   |   |   |   |   |--- class: 0\n",
      "|   |   |   |--- parch >  0.50\n",
      "|   |   |   |   |--- fare <= 387.66\n",
      "|   |   |   |   |   |--- class: 0\n",
      "|   |   |   |   |--- fare >  387.66\n",
      "|   |   |   |   |   |--- class: 1\n",
      "\n"
     ]
    }
   ],
   "source": [
    "tree_1.fit(X_train, y_train)\n",
    "\n",
    "# Rudimentary visualization of model structure\n",
    "print(export_text(tree_1, feature_names=X_train.columns.tolist()))"
   ]
  },
  {
   "cell_type": "code",
   "execution_count": 23,
   "id": "77667965",
   "metadata": {},
   "outputs": [],
   "source": [
    "# Use the model\n",
    "# We'll evaluate the model's performance on train, first\n",
    "y_predictions = tree_1.predict(X_train)"
   ]
  },
  {
   "cell_type": "code",
   "execution_count": 24,
   "id": "6c4d16e1",
   "metadata": {},
   "outputs": [
    {
     "data": {
      "image/png": "[encoded data removed]",
      "text/plain": [
       "<Figure size 864x504 with 1 Axes>"
      ]
     },
     "metadata": {
      "needs_background": "light"
     },
     "output_type": "display_data"
    }
   ],
   "source": [
    "# Visualize the tree\n",
    "plt.figure(figsize=(12, 7))\n",
    "plot_tree(tree_1, feature_names=X_train.columns, class_names=['0','1'])\n",
    "plt.show()"
   ]
  },
  {
   "cell_type": "markdown",
   "id": "1693c9fc",
   "metadata": {},
   "source": [
    "### 3. Evaluate your in-sample results using the model score, confusion matrix, and classification report.\n"
   ]
  },
  {
   "cell_type": "code",
   "execution_count": 25,
   "id": "03cd7a80",
   "metadata": {},
   "outputs": [],
   "source": [
    "predictions = tree_1.predict(X_train)\n",
    "actual = y_train"
   ]
  },
  {
   "cell_type": "code",
   "execution_count": 26,
   "id": "4b386d2a",
   "metadata": {},
   "outputs": [
    {
     "data": {
      "text/html": [
       "<div>\n",
       "<style scoped>\n",
       "    .dataframe tbody tr th:only-of-type {\n",
       "        vertical-align: middle;\n",
       "    }\n",
       "\n",
       "    .dataframe tbody tr th {\n",
       "        vertical-align: top;\n",
       "    }\n",
       "\n",
       "    .dataframe thead th {\n",
       "        text-align: right;\n",
       "    }\n",
       "</style>\n",
       "<table border=\"1\" class=\"dataframe\">\n",
       "  <thead>\n",
       "    <tr style=\"text-align: right;\">\n",
       "      <th>col_0</th>\n",
       "      <th>0</th>\n",
       "      <th>1</th>\n",
       "    </tr>\n",
       "    <tr>\n",
       "      <th>survived</th>\n",
       "      <th></th>\n",
       "      <th></th>\n",
       "    </tr>\n",
       "  </thead>\n",
       "  <tbody>\n",
       "    <tr>\n",
       "      <th>0</th>\n",
       "      <td>273</td>\n",
       "      <td>25</td>\n",
       "    </tr>\n",
       "    <tr>\n",
       "      <th>1</th>\n",
       "      <td>56</td>\n",
       "      <td>144</td>\n",
       "    </tr>\n",
       "  </tbody>\n",
       "</table>\n",
       "</div>"
      ],
      "text/plain": [
       "col_0       0    1\n",
       "survived          \n",
       "0         273   25\n",
       "1          56  144"
      ]
     },
     "execution_count": 26,
     "metadata": {},
     "output_type": "execute_result"
    }
   ],
   "source": [
    "pd.crosstab(actual, predictions)"
   ]
  },
  {
   "cell_type": "code",
   "execution_count": 27,
   "id": "b6977572",
   "metadata": {},
   "outputs": [
    {
     "name": "stdout",
     "output_type": "stream",
     "text": [
      "              precision    recall  f1-score   support\n",
      "\n",
      "           0       0.83      0.92      0.87       298\n",
      "           1       0.85      0.72      0.78       200\n",
      "\n",
      "    accuracy                           0.84       498\n",
      "   macro avg       0.84      0.82      0.83       498\n",
      "weighted avg       0.84      0.84      0.83       498\n",
      "\n"
     ]
    }
   ],
   "source": [
    "print(classification_report(actual, predictions))"
   ]
  },
  {
   "cell_type": "markdown",
   "id": "261dc44b",
   "metadata": {},
   "source": [
    "### 4. Compute: Accuracy, true positive rate, false positive rate, true negative rate, false negative rate, precision, recall, f1-score, and support.\n"
   ]
  },
  {
   "cell_type": "code",
   "execution_count": 28,
   "id": "b5359eef",
   "metadata": {},
   "outputs": [
    {
     "data": {
      "text/plain": [
       "(273, 25, 56, 144)"
      ]
     },
     "execution_count": 28,
     "metadata": {},
     "output_type": "execute_result"
    }
   ],
   "source": [
    "TN, FP, FN, TP = confusion_matrix(y_train, y_predictions).ravel()\n",
    "TN, FP, FN, TP "
   ]
  },
  {
   "cell_type": "code",
   "execution_count": 29,
   "id": "8e8b52c9",
   "metadata": {},
   "outputs": [
    {
     "data": {
      "text/html": [
       "<div>\n",
       "<style scoped>\n",
       "    .dataframe tbody tr th:only-of-type {\n",
       "        vertical-align: middle;\n",
       "    }\n",
       "\n",
       "    .dataframe tbody tr th {\n",
       "        vertical-align: top;\n",
       "    }\n",
       "\n",
       "    .dataframe thead th {\n",
       "        text-align: right;\n",
       "    }\n",
       "</style>\n",
       "<table border=\"1\" class=\"dataframe\">\n",
       "  <thead>\n",
       "    <tr style=\"text-align: right;\">\n",
       "      <th>col_0</th>\n",
       "      <th>0</th>\n",
       "      <th>1</th>\n",
       "    </tr>\n",
       "    <tr>\n",
       "      <th>survived</th>\n",
       "      <th></th>\n",
       "      <th></th>\n",
       "    </tr>\n",
       "  </thead>\n",
       "  <tbody>\n",
       "    <tr>\n",
       "      <th>0</th>\n",
       "      <td>273</td>\n",
       "      <td>25</td>\n",
       "    </tr>\n",
       "    <tr>\n",
       "      <th>1</th>\n",
       "      <td>56</td>\n",
       "      <td>144</td>\n",
       "    </tr>\n",
       "  </tbody>\n",
       "</table>\n",
       "</div>"
      ],
      "text/plain": [
       "col_0       0    1\n",
       "survived          \n",
       "0         273   25\n",
       "1          56  144"
      ]
     },
     "execution_count": 29,
     "metadata": {},
     "output_type": "execute_result"
    }
   ],
   "source": [
    "# create crosstab from tree_1 model after train\n",
    "pd.crosstab(actual, predictions)"
   ]
  },
  {
   "cell_type": "code",
   "execution_count": 30,
   "id": "a28ed2aa",
   "metadata": {},
   "outputs": [
    {
     "name": "stdout",
     "output_type": "stream",
     "text": [
      "              precision    recall  f1-score   support\n",
      "\n",
      "           0       0.83      0.92      0.87       298\n",
      "           1       0.85      0.72      0.78       200\n",
      "\n",
      "    accuracy                           0.84       498\n",
      "   macro avg       0.84      0.82      0.83       498\n",
      "weighted avg       0.84      0.84      0.83       498\n",
      "\n"
     ]
    }
   ],
   "source": [
    "# look at accuracy of tree_1 Model\n",
    "print(classification_report(actual, predictions))"
   ]
  },
  {
   "cell_type": "markdown",
   "id": "15451617",
   "metadata": {},
   "source": [
    "### Accuracy is 0.84 for tree_1 Model"
   ]
  },
  {
   "cell_type": "markdown",
   "id": "633fbeb2",
   "metadata": {},
   "source": [
    "### 5.Run through steps 2-4 using a different max_depth value.\n"
   ]
  },
  {
   "cell_type": "code",
   "execution_count": 31,
   "id": "cbdabfb6",
   "metadata": {},
   "outputs": [],
   "source": [
    "# Create the decision tree object and specify hyperparams\n",
    "tree_2 = DecisionTreeClassifier(max_depth = 7,min_samples_split = 13)"
   ]
  },
  {
   "cell_type": "code",
   "execution_count": 32,
   "id": "5406011f",
   "metadata": {
    "scrolled": true
   },
   "outputs": [
    {
     "name": "stdout",
     "output_type": "stream",
     "text": [
      "|--- sex_male <= 0.50\n",
      "|   |--- class_Third <= 0.50\n",
      "|   |   |--- age <= 56.00\n",
      "|   |   |   |--- fare <= 26.12\n",
      "|   |   |   |   |--- age <= 37.00\n",
      "|   |   |   |   |   |--- parch <= 0.50\n",
      "|   |   |   |   |   |   |--- class: 1\n",
      "|   |   |   |   |   |--- parch >  0.50\n",
      "|   |   |   |   |   |   |--- class: 1\n",
      "|   |   |   |   |--- age >  37.00\n",
      "|   |   |   |   |   |--- class: 1\n",
      "|   |   |   |--- fare >  26.12\n",
      "|   |   |   |   |--- class: 1\n",
      "|   |   |--- age >  56.00\n",
      "|   |   |   |--- class: 1\n",
      "|   |--- class_Third >  0.50\n",
      "|   |   |--- fare <= 24.81\n",
      "|   |   |   |--- age <= 31.50\n",
      "|   |   |   |   |--- age <= 6.00\n",
      "|   |   |   |   |   |--- class: 1\n",
      "|   |   |   |   |--- age >  6.00\n",
      "|   |   |   |   |   |--- age <= 21.50\n",
      "|   |   |   |   |   |   |--- fare <= 9.59\n",
      "|   |   |   |   |   |   |   |--- class: 1\n",
      "|   |   |   |   |   |   |--- fare >  9.59\n",
      "|   |   |   |   |   |   |   |--- class: 0\n",
      "|   |   |   |   |   |--- age >  21.50\n",
      "|   |   |   |   |   |   |--- fare <= 15.37\n",
      "|   |   |   |   |   |   |   |--- class: 1\n",
      "|   |   |   |   |   |   |--- fare >  15.37\n",
      "|   |   |   |   |   |   |   |--- class: 1\n",
      "|   |   |   |--- age >  31.50\n",
      "|   |   |   |   |--- class: 0\n",
      "|   |   |--- fare >  24.81\n",
      "|   |   |   |--- class: 0\n",
      "|--- sex_male >  0.50\n",
      "|   |--- age <= 6.50\n",
      "|   |   |--- class: 1\n",
      "|   |--- age >  6.50\n",
      "|   |   |--- fare <= 26.27\n",
      "|   |   |   |--- age <= 13.50\n",
      "|   |   |   |   |--- class: 1\n",
      "|   |   |   |--- age >  13.50\n",
      "|   |   |   |   |--- embark_town_Southampton <= 0.50\n",
      "|   |   |   |   |   |--- fare <= 15.62\n",
      "|   |   |   |   |   |   |--- age <= 29.50\n",
      "|   |   |   |   |   |   |   |--- class: 0\n",
      "|   |   |   |   |   |   |--- age >  29.50\n",
      "|   |   |   |   |   |   |   |--- class: 0\n",
      "|   |   |   |   |   |--- fare >  15.62\n",
      "|   |   |   |   |   |   |--- class: 1\n",
      "|   |   |   |   |--- embark_town_Southampton >  0.50\n",
      "|   |   |   |   |   |--- fare <= 13.25\n",
      "|   |   |   |   |   |   |--- fare <= 7.91\n",
      "|   |   |   |   |   |   |   |--- class: 0\n",
      "|   |   |   |   |   |   |--- fare >  7.91\n",
      "|   |   |   |   |   |   |   |--- class: 0\n",
      "|   |   |   |   |   |--- fare >  13.25\n",
      "|   |   |   |   |   |   |--- class: 0\n",
      "|   |   |--- fare >  26.27\n",
      "|   |   |   |--- parch <= 0.50\n",
      "|   |   |   |   |--- class_Second <= 0.50\n",
      "|   |   |   |   |   |--- age <= 39.00\n",
      "|   |   |   |   |   |   |--- fare <= 30.60\n",
      "|   |   |   |   |   |   |   |--- class: 1\n",
      "|   |   |   |   |   |   |--- fare >  30.60\n",
      "|   |   |   |   |   |   |   |--- class: 0\n",
      "|   |   |   |   |   |--- age >  39.00\n",
      "|   |   |   |   |   |   |--- age <= 47.50\n",
      "|   |   |   |   |   |   |   |--- class: 0\n",
      "|   |   |   |   |   |   |--- age >  47.50\n",
      "|   |   |   |   |   |   |   |--- class: 0\n",
      "|   |   |   |   |--- class_Second >  0.50\n",
      "|   |   |   |   |   |--- class: 0\n",
      "|   |   |   |--- parch >  0.50\n",
      "|   |   |   |   |--- fare <= 387.66\n",
      "|   |   |   |   |   |--- age <= 37.50\n",
      "|   |   |   |   |   |   |--- age <= 33.50\n",
      "|   |   |   |   |   |   |   |--- class: 0\n",
      "|   |   |   |   |   |   |--- age >  33.50\n",
      "|   |   |   |   |   |   |   |--- class: 1\n",
      "|   |   |   |   |   |--- age >  37.50\n",
      "|   |   |   |   |   |   |--- class: 0\n",
      "|   |   |   |   |--- fare >  387.66\n",
      "|   |   |   |   |   |--- class: 1\n",
      "\n"
     ]
    }
   ],
   "source": [
    "tree_2.fit(X_train, y_train)\n",
    "\n",
    "# Rudimentary visualization of model structure\n",
    "print(export_text(tree_2, feature_names=X_train.columns.tolist()))"
   ]
  },
  {
   "cell_type": "code",
   "execution_count": 33,
   "id": "da153fce",
   "metadata": {
    "scrolled": true
   },
   "outputs": [
    {
     "data": {
      "text/plain": [
       "array([0, 1, 1, 0, 0, 0, 0, 1, 1, 0, 0, 0, 0, 0, 0, 0, 0, 0, 0, 0, 1, 1,\n",
       "       0, 0, 1, 0, 0, 0, 0, 1, 0, 1, 1, 1, 0, 0, 0, 0, 0, 1, 0, 0, 1, 0,\n",
       "       0, 0, 0, 0, 0, 0, 1, 0, 1, 0, 1, 0, 0, 0, 1, 0, 0, 1, 0, 1, 0, 1,\n",
       "       1, 1, 0, 1, 0, 0, 0, 0, 0, 1, 1, 0, 0, 1, 0, 0, 1, 0, 0, 0, 1, 1,\n",
       "       0, 0, 0, 0, 0, 0, 0, 1, 0, 1, 0, 1, 0, 0, 0, 0, 0, 0, 0, 0, 1, 1,\n",
       "       0, 0, 1, 0, 1, 0, 0, 0, 0, 0, 0, 0, 0, 1, 0, 1, 1, 0, 1, 0, 1, 0,\n",
       "       1, 1, 0, 1, 0, 0, 0, 0, 1, 0, 0, 0, 0, 1, 0, 0, 0, 1, 1, 0, 1, 0,\n",
       "       1, 0, 0, 1, 0, 1, 1, 0, 1, 0, 0, 1, 0, 1, 1, 1, 1, 0, 0, 0, 1, 1,\n",
       "       1, 0, 0, 0, 1, 0, 1, 0, 0, 0, 0, 0, 0, 1, 0, 1, 0, 0, 0, 0, 1, 1,\n",
       "       1, 1, 0, 1, 0, 0, 0, 1, 0, 0, 1, 1, 0, 0, 0, 0, 0, 1, 0, 1, 1, 1,\n",
       "       0, 1, 1, 0, 0, 0, 1, 0, 0, 0, 0, 0, 0, 1, 1, 1, 0, 1, 0, 1, 0, 0,\n",
       "       1, 1, 0, 0, 0, 1, 0, 0, 0, 0, 0, 0, 0, 0, 0, 1, 0, 0, 0, 1, 0, 1,\n",
       "       1, 1, 1, 1, 0, 0, 0, 0, 1, 1, 1, 0, 1, 1, 1, 0, 0, 0, 0, 1, 0, 0,\n",
       "       0, 0, 0, 1, 0, 0, 1, 0, 0, 0, 0, 0, 0, 0, 0, 1, 0, 1, 0, 0, 0, 0,\n",
       "       0, 0, 0, 0, 0, 0, 0, 1, 0, 1, 0, 0, 1, 0, 1, 1, 1, 0, 0, 0, 1, 0,\n",
       "       0, 1, 0, 0, 1, 1, 0, 0, 1, 0, 0, 1, 0, 0, 1, 0, 0, 1, 0, 1, 0, 1,\n",
       "       0, 1, 0, 0, 1, 1, 0, 0, 0, 1, 0, 0, 0, 1, 0, 1, 0, 1, 0, 1, 0, 1,\n",
       "       0, 0, 1, 0, 0, 1, 1, 0, 0, 1, 0, 0, 1, 1, 1, 1, 0, 0, 1, 0, 1, 0,\n",
       "       0, 0, 1, 0, 0, 0, 0, 1, 1, 0, 1, 0, 1, 1, 0, 0, 0, 0, 0, 1, 1, 0,\n",
       "       0, 1, 0, 0, 1, 1, 0, 1, 0, 1, 0, 0, 1, 0, 1, 0, 0, 0, 1, 0, 1, 1,\n",
       "       0, 0, 0, 0, 0, 0, 0, 0, 1, 1, 1, 0, 1, 1, 1, 1, 0, 0, 0, 1, 0, 0,\n",
       "       0, 0, 0, 0, 0, 0, 1, 1, 0, 0, 1, 1, 0, 0, 0, 0, 0, 0, 0, 0, 1, 0,\n",
       "       0, 0, 0, 1, 1, 0, 1, 1, 1, 1, 0, 0, 1, 0])"
      ]
     },
     "execution_count": 33,
     "metadata": {},
     "output_type": "execute_result"
    }
   ],
   "source": [
    "# model predictions using tree\n",
    "tree_2.predict(X_train)"
   ]
  },
  {
   "cell_type": "code",
   "execution_count": 34,
   "id": "80097938",
   "metadata": {},
   "outputs": [],
   "source": [
    "predictions = tree_2.predict(X_train)\n",
    "actual = y_train"
   ]
  },
  {
   "cell_type": "code",
   "execution_count": 35,
   "id": "9c645360",
   "metadata": {},
   "outputs": [
    {
     "data": {
      "text/html": [
       "<div>\n",
       "<style scoped>\n",
       "    .dataframe tbody tr th:only-of-type {\n",
       "        vertical-align: middle;\n",
       "    }\n",
       "\n",
       "    .dataframe tbody tr th {\n",
       "        vertical-align: top;\n",
       "    }\n",
       "\n",
       "    .dataframe thead th {\n",
       "        text-align: right;\n",
       "    }\n",
       "</style>\n",
       "<table border=\"1\" class=\"dataframe\">\n",
       "  <thead>\n",
       "    <tr style=\"text-align: right;\">\n",
       "      <th>col_0</th>\n",
       "      <th>0</th>\n",
       "      <th>1</th>\n",
       "    </tr>\n",
       "    <tr>\n",
       "      <th>survived</th>\n",
       "      <th></th>\n",
       "      <th></th>\n",
       "    </tr>\n",
       "  </thead>\n",
       "  <tbody>\n",
       "    <tr>\n",
       "      <th>0</th>\n",
       "      <td>276</td>\n",
       "      <td>22</td>\n",
       "    </tr>\n",
       "    <tr>\n",
       "      <th>1</th>\n",
       "      <td>42</td>\n",
       "      <td>158</td>\n",
       "    </tr>\n",
       "  </tbody>\n",
       "</table>\n",
       "</div>"
      ],
      "text/plain": [
       "col_0       0    1\n",
       "survived          \n",
       "0         276   22\n",
       "1          42  158"
      ]
     },
     "execution_count": 35,
     "metadata": {},
     "output_type": "execute_result"
    }
   ],
   "source": [
    "# create crosstab from tree_1 model after train\n",
    "pd.crosstab(actual, predictions)"
   ]
  },
  {
   "cell_type": "code",
   "execution_count": 36,
   "id": "3cf74efc",
   "metadata": {
    "scrolled": true
   },
   "outputs": [
    {
     "name": "stdout",
     "output_type": "stream",
     "text": [
      "              precision    recall  f1-score   support\n",
      "\n",
      "           0       0.87      0.93      0.90       298\n",
      "           1       0.88      0.79      0.83       200\n",
      "\n",
      "    accuracy                           0.87       498\n",
      "   macro avg       0.87      0.86      0.86       498\n",
      "weighted avg       0.87      0.87      0.87       498\n",
      "\n"
     ]
    }
   ],
   "source": [
    "# look at accuracy of tree_2 Model\n",
    "print(classification_report(actual, predictions))"
   ]
  },
  {
   "cell_type": "markdown",
   "id": "a063edf3",
   "metadata": {},
   "source": [
    "### Accuracy for tree_2 Model is 0.87"
   ]
  },
  {
   "cell_type": "markdown",
   "id": "84c26c4b",
   "metadata": {},
   "source": [
    "### 6. Which model performs better on your in-sample data?\n"
   ]
  },
  {
   "cell_type": "markdown",
   "id": "ce30b3f4",
   "metadata": {},
   "source": [
    "Tree_2 Model performed slightly better by 3%.\n"
   ]
  },
  {
   "cell_type": "markdown",
   "id": "6f516333",
   "metadata": {},
   "source": [
    "### 7. Which model performs best on your out-of-sample data, the validate set?"
   ]
  },
  {
   "cell_type": "code",
   "execution_count": 37,
   "id": "f9160581",
   "metadata": {},
   "outputs": [
    {
     "name": "stdout",
     "output_type": "stream",
     "text": [
      "              precision    recall  f1-score   support\n",
      "\n",
      "           0       0.87      0.84      0.86        81\n",
      "           1       0.72      0.77      0.75        44\n",
      "\n",
      "    accuracy                           0.82       125\n",
      "   macro avg       0.80      0.81      0.80       125\n",
      "weighted avg       0.82      0.82      0.82       125\n",
      "\n"
     ]
    }
   ],
   "source": [
    "predictions = tree_1.predict(X_validate)\n",
    "actual = y_validate\n",
    "\n",
    "print(classification_report(actual, predictions))"
   ]
  },
  {
   "cell_type": "code",
   "execution_count": 38,
   "id": "2db64988",
   "metadata": {
    "scrolled": true
   },
   "outputs": [
    {
     "name": "stdout",
     "output_type": "stream",
     "text": [
      "              precision    recall  f1-score   support\n",
      "\n",
      "           0       0.85      0.78      0.81        81\n",
      "           1       0.65      0.75      0.69        44\n",
      "\n",
      "    accuracy                           0.77       125\n",
      "   macro avg       0.75      0.76      0.75       125\n",
      "weighted avg       0.78      0.77      0.77       125\n",
      "\n"
     ]
    }
   ],
   "source": [
    "predictions = tree_2.predict(X_validate)\n",
    "actual = y_validate\n",
    "\n",
    "print(classification_report(actual, predictions))"
   ]
  },
  {
   "cell_type": "markdown",
   "id": "33e7bc30",
   "metadata": {},
   "source": [
    "### In terms of accuracy tree_1 Model performed better by 5%."
   ]
  },
  {
   "cell_type": "markdown",
   "id": "f96e7ad8",
   "metadata": {},
   "source": [
    "# Test Data"
   ]
  },
  {
   "cell_type": "code",
   "execution_count": 39,
   "id": "8eb30772",
   "metadata": {
    "scrolled": true
   },
   "outputs": [
    {
     "name": "stdout",
     "output_type": "stream",
     "text": [
      "              precision    recall  f1-score   support\n",
      "\n",
      "           0       0.84      0.91      0.87       170\n",
      "           1       0.81      0.69      0.75        98\n",
      "\n",
      "    accuracy                           0.83       268\n",
      "   macro avg       0.82      0.80      0.81       268\n",
      "weighted avg       0.83      0.83      0.83       268\n",
      "\n"
     ]
    }
   ],
   "source": [
    "predictions = tree_1.predict(X_test)\n",
    "actual = y_test\n",
    "\n",
    "print(classification_report(actual, predictions))"
   ]
  },
  {
   "cell_type": "markdown",
   "id": "055e4b74",
   "metadata": {},
   "source": [
    "### Tree_1 Model had an 83% accuracy in test data"
   ]
  },
  {
   "cell_type": "markdown",
   "id": "336e3b29",
   "metadata": {},
   "source": [
    "# Work through these same exercises using the Telco dataset.\n",
    "## Experiment with this model on other datasets with a higher number of output classes."
   ]
  },
  {
   "cell_type": "markdown",
   "id": "a9f25460",
   "metadata": {},
   "source": [
    "### Acquire"
   ]
  },
  {
   "cell_type": "code",
   "execution_count": 40,
   "id": "26600963",
   "metadata": {},
   "outputs": [],
   "source": [
    "telco_df =acquire.new_telco_data()"
   ]
  },
  {
   "cell_type": "code",
   "execution_count": 41,
   "id": "b704a297",
   "metadata": {},
   "outputs": [],
   "source": [
    "telco_df=prepare.prep_telco(telco_df)"
   ]
  },
  {
   "cell_type": "code",
   "execution_count": 42,
   "id": "d3a405d9",
   "metadata": {},
   "outputs": [
    {
     "data": {
      "text/html": [
       "<div>\n",
       "<style scoped>\n",
       "    .dataframe tbody tr th:only-of-type {\n",
       "        vertical-align: middle;\n",
       "    }\n",
       "\n",
       "    .dataframe tbody tr th {\n",
       "        vertical-align: top;\n",
       "    }\n",
       "\n",
       "    .dataframe thead th {\n",
       "        text-align: right;\n",
       "    }\n",
       "</style>\n",
       "<table border=\"1\" class=\"dataframe\">\n",
       "  <thead>\n",
       "    <tr style=\"text-align: right;\">\n",
       "      <th></th>\n",
       "      <th>customer_id</th>\n",
       "      <th>gender</th>\n",
       "      <th>senior_citizen</th>\n",
       "      <th>partner</th>\n",
       "      <th>dependents</th>\n",
       "      <th>tenure</th>\n",
       "      <th>phone_service</th>\n",
       "      <th>multiple_lines</th>\n",
       "      <th>online_security</th>\n",
       "      <th>online_backup</th>\n",
       "      <th>...</th>\n",
       "      <th>contract_type_Month-to-month</th>\n",
       "      <th>contract_type_One year</th>\n",
       "      <th>contract_type_Two year</th>\n",
       "      <th>internet_service_type_DSL</th>\n",
       "      <th>internet_service_type_Fiber optic</th>\n",
       "      <th>internet_service_type_None</th>\n",
       "      <th>payment_type_Bank transfer (automatic)</th>\n",
       "      <th>payment_type_Credit card (automatic)</th>\n",
       "      <th>payment_type_Electronic check</th>\n",
       "      <th>payment_type_Mailed check</th>\n",
       "    </tr>\n",
       "  </thead>\n",
       "  <tbody>\n",
       "    <tr>\n",
       "      <th>0</th>\n",
       "      <td>0002-ORFBO</td>\n",
       "      <td>Female</td>\n",
       "      <td>0</td>\n",
       "      <td>Yes</td>\n",
       "      <td>Yes</td>\n",
       "      <td>9</td>\n",
       "      <td>Yes</td>\n",
       "      <td>No</td>\n",
       "      <td>No</td>\n",
       "      <td>Yes</td>\n",
       "      <td>...</td>\n",
       "      <td>0</td>\n",
       "      <td>1</td>\n",
       "      <td>0</td>\n",
       "      <td>1</td>\n",
       "      <td>0</td>\n",
       "      <td>0</td>\n",
       "      <td>0</td>\n",
       "      <td>0</td>\n",
       "      <td>0</td>\n",
       "      <td>1</td>\n",
       "    </tr>\n",
       "    <tr>\n",
       "      <th>1</th>\n",
       "      <td>0003-MKNFE</td>\n",
       "      <td>Male</td>\n",
       "      <td>0</td>\n",
       "      <td>No</td>\n",
       "      <td>No</td>\n",
       "      <td>9</td>\n",
       "      <td>Yes</td>\n",
       "      <td>Yes</td>\n",
       "      <td>No</td>\n",
       "      <td>No</td>\n",
       "      <td>...</td>\n",
       "      <td>1</td>\n",
       "      <td>0</td>\n",
       "      <td>0</td>\n",
       "      <td>1</td>\n",
       "      <td>0</td>\n",
       "      <td>0</td>\n",
       "      <td>0</td>\n",
       "      <td>0</td>\n",
       "      <td>0</td>\n",
       "      <td>1</td>\n",
       "    </tr>\n",
       "    <tr>\n",
       "      <th>2</th>\n",
       "      <td>0004-TLHLJ</td>\n",
       "      <td>Male</td>\n",
       "      <td>0</td>\n",
       "      <td>No</td>\n",
       "      <td>No</td>\n",
       "      <td>4</td>\n",
       "      <td>Yes</td>\n",
       "      <td>No</td>\n",
       "      <td>No</td>\n",
       "      <td>No</td>\n",
       "      <td>...</td>\n",
       "      <td>1</td>\n",
       "      <td>0</td>\n",
       "      <td>0</td>\n",
       "      <td>0</td>\n",
       "      <td>1</td>\n",
       "      <td>0</td>\n",
       "      <td>0</td>\n",
       "      <td>0</td>\n",
       "      <td>1</td>\n",
       "      <td>0</td>\n",
       "    </tr>\n",
       "    <tr>\n",
       "      <th>3</th>\n",
       "      <td>0011-IGKFF</td>\n",
       "      <td>Male</td>\n",
       "      <td>1</td>\n",
       "      <td>Yes</td>\n",
       "      <td>No</td>\n",
       "      <td>13</td>\n",
       "      <td>Yes</td>\n",
       "      <td>No</td>\n",
       "      <td>No</td>\n",
       "      <td>Yes</td>\n",
       "      <td>...</td>\n",
       "      <td>1</td>\n",
       "      <td>0</td>\n",
       "      <td>0</td>\n",
       "      <td>0</td>\n",
       "      <td>1</td>\n",
       "      <td>0</td>\n",
       "      <td>0</td>\n",
       "      <td>0</td>\n",
       "      <td>1</td>\n",
       "      <td>0</td>\n",
       "    </tr>\n",
       "    <tr>\n",
       "      <th>4</th>\n",
       "      <td>0013-EXCHZ</td>\n",
       "      <td>Female</td>\n",
       "      <td>1</td>\n",
       "      <td>Yes</td>\n",
       "      <td>No</td>\n",
       "      <td>3</td>\n",
       "      <td>Yes</td>\n",
       "      <td>No</td>\n",
       "      <td>No</td>\n",
       "      <td>No</td>\n",
       "      <td>...</td>\n",
       "      <td>1</td>\n",
       "      <td>0</td>\n",
       "      <td>0</td>\n",
       "      <td>0</td>\n",
       "      <td>1</td>\n",
       "      <td>0</td>\n",
       "      <td>0</td>\n",
       "      <td>0</td>\n",
       "      <td>0</td>\n",
       "      <td>1</td>\n",
       "    </tr>\n",
       "  </tbody>\n",
       "</table>\n",
       "<p>5 rows × 64 columns</p>\n",
       "</div>"
      ],
      "text/plain": [
       "  customer_id  gender  senior_citizen partner dependents  tenure  \\\n",
       "0  0002-ORFBO  Female               0     Yes        Yes       9   \n",
       "1  0003-MKNFE    Male               0      No         No       9   \n",
       "2  0004-TLHLJ    Male               0      No         No       4   \n",
       "3  0011-IGKFF    Male               1     Yes         No      13   \n",
       "4  0013-EXCHZ  Female               1     Yes         No       3   \n",
       "\n",
       "  phone_service multiple_lines online_security online_backup  ...  \\\n",
       "0           Yes             No              No           Yes  ...   \n",
       "1           Yes            Yes              No            No  ...   \n",
       "2           Yes             No              No            No  ...   \n",
       "3           Yes             No              No           Yes  ...   \n",
       "4           Yes             No              No            No  ...   \n",
       "\n",
       "  contract_type_Month-to-month contract_type_One year contract_type_Two year  \\\n",
       "0                            0                      1                      0   \n",
       "1                            1                      0                      0   \n",
       "2                            1                      0                      0   \n",
       "3                            1                      0                      0   \n",
       "4                            1                      0                      0   \n",
       "\n",
       "  internet_service_type_DSL internet_service_type_Fiber optic  \\\n",
       "0                         1                                 0   \n",
       "1                         1                                 0   \n",
       "2                         0                                 1   \n",
       "3                         0                                 1   \n",
       "4                         0                                 1   \n",
       "\n",
       "   internet_service_type_None  payment_type_Bank transfer (automatic)  \\\n",
       "0                           0                                       0   \n",
       "1                           0                                       0   \n",
       "2                           0                                       0   \n",
       "3                           0                                       0   \n",
       "4                           0                                       0   \n",
       "\n",
       "  payment_type_Credit card (automatic) payment_type_Electronic check  \\\n",
       "0                                    0                             0   \n",
       "1                                    0                             0   \n",
       "2                                    0                             1   \n",
       "3                                    0                             1   \n",
       "4                                    0                             0   \n",
       "\n",
       "  payment_type_Mailed check  \n",
       "0                         1  \n",
       "1                         1  \n",
       "2                         0  \n",
       "3                         0  \n",
       "4                         1  \n",
       "\n",
       "[5 rows x 64 columns]"
      ]
     },
     "execution_count": 42,
     "metadata": {},
     "output_type": "execute_result"
    }
   ],
   "source": [
    "telco_df.head()"
   ]
  },
  {
   "cell_type": "code",
   "execution_count": 43,
   "id": "01c8284c",
   "metadata": {},
   "outputs": [
    {
     "data": {
      "text/plain": [
       "Index(['customer_id', 'gender', 'senior_citizen', 'partner', 'dependents',\n",
       "       'tenure', 'phone_service', 'multiple_lines', 'online_security',\n",
       "       'online_backup', 'device_protection', 'tech_support', 'streaming_tv',\n",
       "       'streaming_movies', 'paperless_billing', 'monthly_charges',\n",
       "       'total_charges', 'churn', 'contract_type', 'internet_service_type',\n",
       "       'payment_type', 'gender_Female', 'gender_Male', 'partner_No',\n",
       "       'partner_Yes', 'dependents_No', 'dependents_Yes', 'phone_service_No',\n",
       "       'phone_service_Yes', 'multiple_lines_No',\n",
       "       'multiple_lines_No phone service', 'multiple_lines_Yes',\n",
       "       'online_security_No', 'online_security_No internet service',\n",
       "       'online_security_Yes', 'online_backup_No',\n",
       "       'online_backup_No internet service', 'online_backup_Yes',\n",
       "       'device_protection_No', 'device_protection_No internet service',\n",
       "       'device_protection_Yes', 'tech_support_No',\n",
       "       'tech_support_No internet service', 'tech_support_Yes',\n",
       "       'streaming_tv_No', 'streaming_tv_No internet service',\n",
       "       'streaming_tv_Yes', 'streaming_movies_No',\n",
       "       'streaming_movies_No internet service', 'streaming_movies_Yes',\n",
       "       'paperless_billing_No', 'paperless_billing_Yes', 'churn_No',\n",
       "       'churn_Yes', 'contract_type_Month-to-month', 'contract_type_One year',\n",
       "       'contract_type_Two year', 'internet_service_type_DSL',\n",
       "       'internet_service_type_Fiber optic', 'internet_service_type_None',\n",
       "       'payment_type_Bank transfer (automatic)',\n",
       "       'payment_type_Credit card (automatic)', 'payment_type_Electronic check',\n",
       "       'payment_type_Mailed check'],\n",
       "      dtype='object')"
      ]
     },
     "execution_count": 43,
     "metadata": {},
     "output_type": "execute_result"
    }
   ],
   "source": [
    "telco_df.columns"
   ]
  },
  {
   "cell_type": "code",
   "execution_count": 44,
   "id": "646f1c87",
   "metadata": {},
   "outputs": [],
   "source": [
    "telco_process = telco_df.drop(columns={'customer_id','gender','partner',\n",
    "                                    'dependents',\n",
    "                                    'phone_service',\n",
    "                                    'multiple_lines',\n",
    "                                    'online_security',\n",
    "                                    'online_backup',\n",
    "                                    'device_protection', \n",
    "                                    'tech_support',\n",
    "                                    'streaming_tv',\n",
    "                                    'streaming_movies',\n",
    "                                    'paperless_billing',  \n",
    "                                    'contract_type',\n",
    "                                    'internet_service_type',\n",
    "                                    'payment_type',\n",
    "                                      'churn',\n",
    "                                       'churn_No'})"
   ]
  },
  {
   "cell_type": "code",
   "execution_count": 45,
   "id": "8ca6feea",
   "metadata": {},
   "outputs": [
    {
     "data": {
      "text/plain": [
       "['senior_citizen',\n",
       " 'tenure',\n",
       " 'monthly_charges',\n",
       " 'total_charges',\n",
       " 'gender_Female',\n",
       " 'gender_Male',\n",
       " 'partner_No',\n",
       " 'partner_Yes',\n",
       " 'dependents_No',\n",
       " 'dependents_Yes',\n",
       " 'phone_service_No',\n",
       " 'phone_service_Yes',\n",
       " 'multiple_lines_No',\n",
       " 'multiple_lines_No phone service',\n",
       " 'multiple_lines_Yes',\n",
       " 'online_security_No',\n",
       " 'online_security_No internet service',\n",
       " 'online_security_Yes',\n",
       " 'online_backup_No',\n",
       " 'online_backup_No internet service',\n",
       " 'online_backup_Yes',\n",
       " 'device_protection_No',\n",
       " 'device_protection_No internet service',\n",
       " 'device_protection_Yes',\n",
       " 'tech_support_No',\n",
       " 'tech_support_No internet service',\n",
       " 'tech_support_Yes',\n",
       " 'streaming_tv_No',\n",
       " 'streaming_tv_No internet service',\n",
       " 'streaming_tv_Yes',\n",
       " 'streaming_movies_No',\n",
       " 'streaming_movies_No internet service',\n",
       " 'streaming_movies_Yes',\n",
       " 'paperless_billing_No',\n",
       " 'paperless_billing_Yes',\n",
       " 'churn_Yes',\n",
       " 'contract_type_Month-to-month',\n",
       " 'contract_type_One year',\n",
       " 'contract_type_Two year',\n",
       " 'internet_service_type_DSL',\n",
       " 'internet_service_type_Fiber optic',\n",
       " 'internet_service_type_None',\n",
       " 'payment_type_Bank transfer (automatic)',\n",
       " 'payment_type_Credit card (automatic)',\n",
       " 'payment_type_Electronic check',\n",
       " 'payment_type_Mailed check']"
      ]
     },
     "execution_count": 45,
     "metadata": {},
     "output_type": "execute_result"
    }
   ],
   "source": [
    "telco_process.columns.to_list()"
   ]
  },
  {
   "cell_type": "code",
   "execution_count": 46,
   "id": "ff676e1a",
   "metadata": {
    "scrolled": true
   },
   "outputs": [
    {
     "data": {
      "text/plain": [
       "senior_citizen                              int64\n",
       "tenure                                      int64\n",
       "monthly_charges                           float64\n",
       "total_charges                             float64\n",
       "gender_Female                               uint8\n",
       "gender_Male                                 uint8\n",
       "partner_No                                  uint8\n",
       "partner_Yes                                 uint8\n",
       "dependents_No                               uint8\n",
       "dependents_Yes                              uint8\n",
       "phone_service_No                            uint8\n",
       "phone_service_Yes                           uint8\n",
       "multiple_lines_No                           uint8\n",
       "multiple_lines_No phone service             uint8\n",
       "multiple_lines_Yes                          uint8\n",
       "online_security_No                          uint8\n",
       "online_security_No internet service         uint8\n",
       "online_security_Yes                         uint8\n",
       "online_backup_No                            uint8\n",
       "online_backup_No internet service           uint8\n",
       "online_backup_Yes                           uint8\n",
       "device_protection_No                        uint8\n",
       "device_protection_No internet service       uint8\n",
       "device_protection_Yes                       uint8\n",
       "tech_support_No                             uint8\n",
       "tech_support_No internet service            uint8\n",
       "tech_support_Yes                            uint8\n",
       "streaming_tv_No                             uint8\n",
       "streaming_tv_No internet service            uint8\n",
       "streaming_tv_Yes                            uint8\n",
       "streaming_movies_No                         uint8\n",
       "streaming_movies_No internet service        uint8\n",
       "streaming_movies_Yes                        uint8\n",
       "paperless_billing_No                        uint8\n",
       "paperless_billing_Yes                       uint8\n",
       "churn_Yes                                   uint8\n",
       "contract_type_Month-to-month                uint8\n",
       "contract_type_One year                      uint8\n",
       "contract_type_Two year                      uint8\n",
       "internet_service_type_DSL                   uint8\n",
       "internet_service_type_Fiber optic           uint8\n",
       "internet_service_type_None                  uint8\n",
       "payment_type_Bank transfer (automatic)      uint8\n",
       "payment_type_Credit card (automatic)        uint8\n",
       "payment_type_Electronic check               uint8\n",
       "payment_type_Mailed check                   uint8\n",
       "dtype: object"
      ]
     },
     "execution_count": 46,
     "metadata": {},
     "output_type": "execute_result"
    }
   ],
   "source": [
    "# drop customer_id,gender,  \n",
    "telco_process.dtypes "
   ]
  },
  {
   "cell_type": "code",
   "execution_count": 47,
   "id": "32b89bcb",
   "metadata": {},
   "outputs": [
    {
     "data": {
      "text/plain": [
       "(7043, 46)"
      ]
     },
     "execution_count": 47,
     "metadata": {},
     "output_type": "execute_result"
    }
   ],
   "source": [
    "telco_process.shape"
   ]
  },
  {
   "cell_type": "code",
   "execution_count": 48,
   "id": "9459fbf1",
   "metadata": {},
   "outputs": [],
   "source": [
    "# Splitting dataset into X and y components before doing the train/validate/test split\n",
    "X = telco_process[['senior_citizen',\n",
    " 'tenure',\n",
    " 'monthly_charges',\n",
    " 'total_charges',\n",
    " 'gender_Female',\n",
    " 'gender_Male',\n",
    " 'partner_No',\n",
    " 'partner_Yes',\n",
    " 'dependents_No',\n",
    " 'dependents_Yes',\n",
    " 'phone_service_No',\n",
    " 'phone_service_Yes',\n",
    " 'multiple_lines_No',\n",
    " 'multiple_lines_No phone service',\n",
    " 'multiple_lines_Yes',\n",
    " 'online_security_No',\n",
    " 'online_security_No internet service',\n",
    " 'online_security_Yes',\n",
    " 'online_backup_No',\n",
    " 'online_backup_No internet service',\n",
    " 'online_backup_Yes',\n",
    " 'device_protection_No',\n",
    " 'device_protection_No internet service',\n",
    " 'device_protection_Yes',\n",
    " 'tech_support_No',\n",
    " 'tech_support_No internet service',\n",
    " 'tech_support_Yes',\n",
    " 'streaming_tv_No',\n",
    " 'streaming_tv_No internet service',\n",
    " 'streaming_tv_Yes',\n",
    " 'streaming_movies_No',\n",
    " 'streaming_movies_No internet service',\n",
    " 'streaming_movies_Yes',\n",
    " 'paperless_billing_No',\n",
    " 'paperless_billing_Yes',\n",
    " 'contract_type_Month-to-month',\n",
    " 'contract_type_One year',\n",
    " 'contract_type_Two year',\n",
    " 'internet_service_type_DSL',\n",
    " 'internet_service_type_Fiber optic',\n",
    " 'internet_service_type_None',\n",
    " 'payment_type_Bank transfer (automatic)',\n",
    " 'payment_type_Credit card (automatic)',\n",
    " 'payment_type_Electronic check',\n",
    " 'payment_type_Mailed check']]\n",
    "\n",
    "y = telco_process.churn_Yes\n",
    "\n",
    "X_train_and_validate, X_test, y_train_and_validate, y_test = train_test_split(X, y, random_state=123, test_size=.3)\n",
    "X_train, X_validate, y_train, y_validate = train_test_split(X_train_and_validate, y_train_and_validate, random_state=123, test_size=.2)"
   ]
  },
  {
   "cell_type": "code",
   "execution_count": 49,
   "id": "90807be3",
   "metadata": {},
   "outputs": [],
   "source": [
    "X_train, X_validate, X_test = prepare.impute_mean_total_charges(X_train, X_validate, X_test)"
   ]
  },
  {
   "cell_type": "code",
   "execution_count": 50,
   "id": "5c56351f",
   "metadata": {},
   "outputs": [
    {
     "data": {
      "text/plain": [
       "((3944, 45), (986, 45), (2113, 45))"
      ]
     },
     "execution_count": 50,
     "metadata": {},
     "output_type": "execute_result"
    }
   ],
   "source": [
    "X_train.shape, X_validate.shape,X_test.shape"
   ]
  },
  {
   "cell_type": "code",
   "execution_count": 51,
   "id": "fbcd2366",
   "metadata": {},
   "outputs": [
    {
     "name": "stdout",
     "output_type": "stream",
     "text": [
      "<class 'pandas.core.frame.DataFrame'>\n",
      "Int64Index: 3944 entries, 1853 to 6105\n",
      "Data columns (total 45 columns):\n",
      " #   Column                                  Non-Null Count  Dtype  \n",
      "---  ------                                  --------------  -----  \n",
      " 0   senior_citizen                          3944 non-null   int64  \n",
      " 1   tenure                                  3944 non-null   int64  \n",
      " 2   monthly_charges                         3944 non-null   float64\n",
      " 3   total_charges                           3944 non-null   float64\n",
      " 4   gender_Female                           3944 non-null   uint8  \n",
      " 5   gender_Male                             3944 non-null   uint8  \n",
      " 6   partner_No                              3944 non-null   uint8  \n",
      " 7   partner_Yes                             3944 non-null   uint8  \n",
      " 8   dependents_No                           3944 non-null   uint8  \n",
      " 9   dependents_Yes                          3944 non-null   uint8  \n",
      " 10  phone_service_No                        3944 non-null   uint8  \n",
      " 11  phone_service_Yes                       3944 non-null   uint8  \n",
      " 12  multiple_lines_No                       3944 non-null   uint8  \n",
      " 13  multiple_lines_No phone service         3944 non-null   uint8  \n",
      " 14  multiple_lines_Yes                      3944 non-null   uint8  \n",
      " 15  online_security_No                      3944 non-null   uint8  \n",
      " 16  online_security_No internet service     3944 non-null   uint8  \n",
      " 17  online_security_Yes                     3944 non-null   uint8  \n",
      " 18  online_backup_No                        3944 non-null   uint8  \n",
      " 19  online_backup_No internet service       3944 non-null   uint8  \n",
      " 20  online_backup_Yes                       3944 non-null   uint8  \n",
      " 21  device_protection_No                    3944 non-null   uint8  \n",
      " 22  device_protection_No internet service   3944 non-null   uint8  \n",
      " 23  device_protection_Yes                   3944 non-null   uint8  \n",
      " 24  tech_support_No                         3944 non-null   uint8  \n",
      " 25  tech_support_No internet service        3944 non-null   uint8  \n",
      " 26  tech_support_Yes                        3944 non-null   uint8  \n",
      " 27  streaming_tv_No                         3944 non-null   uint8  \n",
      " 28  streaming_tv_No internet service        3944 non-null   uint8  \n",
      " 29  streaming_tv_Yes                        3944 non-null   uint8  \n",
      " 30  streaming_movies_No                     3944 non-null   uint8  \n",
      " 31  streaming_movies_No internet service    3944 non-null   uint8  \n",
      " 32  streaming_movies_Yes                    3944 non-null   uint8  \n",
      " 33  paperless_billing_No                    3944 non-null   uint8  \n",
      " 34  paperless_billing_Yes                   3944 non-null   uint8  \n",
      " 35  contract_type_Month-to-month            3944 non-null   uint8  \n",
      " 36  contract_type_One year                  3944 non-null   uint8  \n",
      " 37  contract_type_Two year                  3944 non-null   uint8  \n",
      " 38  internet_service_type_DSL               3944 non-null   uint8  \n",
      " 39  internet_service_type_Fiber optic       3944 non-null   uint8  \n",
      " 40  internet_service_type_None              3944 non-null   uint8  \n",
      " 41  payment_type_Bank transfer (automatic)  3944 non-null   uint8  \n",
      " 42  payment_type_Credit card (automatic)    3944 non-null   uint8  \n",
      " 43  payment_type_Electronic check           3944 non-null   uint8  \n",
      " 44  payment_type_Mailed check               3944 non-null   uint8  \n",
      "dtypes: float64(2), int64(2), uint8(41)\n",
      "memory usage: 312.0 KB\n"
     ]
    }
   ],
   "source": [
    "X_train.info()"
   ]
  },
  {
   "cell_type": "code",
   "execution_count": 52,
   "id": "ff3dc044",
   "metadata": {
    "scrolled": true
   },
   "outputs": [
    {
     "data": {
      "text/plain": [
       "(      senior_citizen  tenure  monthly_charges  total_charges  gender_Female  \\\n",
       " 1853               0       5            20.55          99.45              0   \n",
       " 469                1       2            70.75         154.85              1   \n",
       " 1062               0      32            84.15        2585.95              1   \n",
       " 260                0      46            19.40         967.85              1   \n",
       " 6529               0       3            54.70         169.45              0   \n",
       " \n",
       "       gender_Male  partner_No  partner_Yes  dependents_No  dependents_Yes  \\\n",
       " 1853            1           0            1              0               1   \n",
       " 469             0           1            0              1               0   \n",
       " 1062            0           0            1              1               0   \n",
       " 260             0           0            1              0               1   \n",
       " 6529            1           1            0              0               1   \n",
       " \n",
       "       ...  contract_type_Month-to-month  contract_type_One year  \\\n",
       " 1853  ...                             0                       1   \n",
       " 469   ...                             1                       0   \n",
       " 1062  ...                             1                       0   \n",
       " 260   ...                             0                       0   \n",
       " 6529  ...                             1                       0   \n",
       " \n",
       "       contract_type_Two year  internet_service_type_DSL  \\\n",
       " 1853                       0                          0   \n",
       " 469                        0                          0   \n",
       " 1062                       0                          0   \n",
       " 260                        1                          0   \n",
       " 6529                       0                          1   \n",
       " \n",
       "       internet_service_type_Fiber optic  internet_service_type_None  \\\n",
       " 1853                                  0                           1   \n",
       " 469                                   1                           0   \n",
       " 1062                                  1                           0   \n",
       " 260                                   0                           1   \n",
       " 6529                                  0                           0   \n",
       " \n",
       "       payment_type_Bank transfer (automatic)  \\\n",
       " 1853                                       0   \n",
       " 469                                        0   \n",
       " 1062                                       1   \n",
       " 260                                        0   \n",
       " 6529                                       0   \n",
       " \n",
       "       payment_type_Credit card (automatic)  payment_type_Electronic check  \\\n",
       " 1853                                     0                              1   \n",
       " 469                                      0                              1   \n",
       " 1062                                     0                              0   \n",
       " 260                                      0                              0   \n",
       " 6529                                     1                              0   \n",
       " \n",
       "       payment_type_Mailed check  \n",
       " 1853                          0  \n",
       " 469                           0  \n",
       " 1062                          0  \n",
       " 260                           1  \n",
       " 6529                          0  \n",
       " \n",
       " [5 rows x 45 columns],\n",
       " 1853    0\n",
       " 469     1\n",
       " 1062    1\n",
       " 260     0\n",
       " 6529    1\n",
       " Name: churn_Yes, dtype: uint8)"
      ]
     },
     "execution_count": 52,
     "metadata": {},
     "output_type": "execute_result"
    }
   ],
   "source": [
    "X_train.head(), y_train.head()"
   ]
  },
  {
   "cell_type": "markdown",
   "id": "558bd0c6",
   "metadata": {},
   "source": [
    "### 1. What is your baseline prediction? What is your baseline accuracy? remember: your baseline prediction for a classification problem is predicting the most prevelant class in the training dataset (the mode). When you make those predictions, what is your accuracy? This is your baseline accuracy."
   ]
  },
  {
   "cell_type": "code",
   "execution_count": 53,
   "id": "cd6bee40",
   "metadata": {
    "scrolled": true
   },
   "outputs": [
    {
     "data": {
      "text/plain": [
       "2887"
      ]
     },
     "execution_count": 53,
     "metadata": {},
     "output_type": "execute_result"
    }
   ],
   "source": [
    "# 0 is the largest value count which represents customers who have not churn\n",
    "y_train.value_counts()[0]"
   ]
  },
  {
   "cell_type": "code",
   "execution_count": 54,
   "id": "93f320dc",
   "metadata": {},
   "outputs": [
    {
     "name": "stdout",
     "output_type": "stream",
     "text": [
      "baseline accuracy: 0.7319979716024341\n"
     ]
    }
   ],
   "source": [
    "baseline = y_train.value_counts()[0]/(y_train.value_counts()[0]+y_train.value_counts()[1])\n",
    "print('baseline accuracy:',baseline)"
   ]
  },
  {
   "cell_type": "markdown",
   "id": "06219545",
   "metadata": {},
   "source": [
    "### 2. Fit the decision tree classifier to your training sample and transform (i.e. make predictions on the training sample)"
   ]
  },
  {
   "cell_type": "code",
   "execution_count": 55,
   "id": "de352f22",
   "metadata": {},
   "outputs": [
    {
     "name": "stdout",
     "output_type": "stream",
     "text": [
      "|--- contract_type_Month-to-month <= 0.50\n",
      "|   |--- monthly_charges <= 94.08\n",
      "|   |   |--- online_security_No <= 0.50\n",
      "|   |   |   |--- class: 0\n",
      "|   |   |--- online_security_No >  0.50\n",
      "|   |   |   |--- class: 0\n",
      "|   |--- monthly_charges >  94.08\n",
      "|   |   |--- contract_type_One year <= 0.50\n",
      "|   |   |   |--- class: 0\n",
      "|   |   |--- contract_type_One year >  0.50\n",
      "|   |   |   |--- class: 0\n",
      "|--- contract_type_Month-to-month >  0.50\n",
      "|   |--- internet_service_type_Fiber optic <= 0.50\n",
      "|   |   |--- tenure <= 5.50\n",
      "|   |   |   |--- class: 0\n",
      "|   |   |--- tenure >  5.50\n",
      "|   |   |   |--- class: 0\n",
      "|   |--- internet_service_type_Fiber optic >  0.50\n",
      "|   |   |--- total_charges <= 1536.33\n",
      "|   |   |   |--- class: 1\n",
      "|   |   |--- total_charges >  1536.33\n",
      "|   |   |   |--- class: 0\n",
      "\n"
     ]
    }
   ],
   "source": [
    "# Create the decision tree object and specify hyperparams\n",
    "tree_1 = DecisionTreeClassifier(max_depth = 3,min_samples_split = 5)\n",
    "\n",
    "tree_1.fit(X_train, y_train)\n",
    "\n",
    "# Rudimentary visualization of model structure\n",
    "print(export_text(tree_1, feature_names=X_train.columns.tolist()))"
   ]
  },
  {
   "cell_type": "code",
   "execution_count": 56,
   "id": "df9e4865",
   "metadata": {},
   "outputs": [],
   "source": [
    "# Use the model\n",
    "# We'll evaluate the model's performance on train, first\n",
    "y_predictions = tree_1.predict(X_train)"
   ]
  },
  {
   "cell_type": "code",
   "execution_count": 57,
   "id": "29cbbf9a",
   "metadata": {
    "scrolled": true
   },
   "outputs": [
    {
     "data": {
      "image/png": "[encoded data removed]",
      "text/plain": [
       "<Figure size 1440x1440 with 1 Axes>"
      ]
     },
     "metadata": {
      "needs_background": "light"
     },
     "output_type": "display_data"
    }
   ],
   "source": [
    "# Visualize the tree\n",
    "plt.figure(figsize=(20, 20))\n",
    "plot_tree(tree_1, feature_names=X_train.columns, class_names=['0','1'])\n",
    "plt.show()"
   ]
  },
  {
   "cell_type": "markdown",
   "id": "7e1ef6a6",
   "metadata": {},
   "source": [
    "### 3. Evaluate your in-sample results using the model score, confusion matrix, and classification report."
   ]
  },
  {
   "cell_type": "code",
   "execution_count": 63,
   "id": "a42fa93a",
   "metadata": {
    "scrolled": true
   },
   "outputs": [
    {
     "name": "stdout",
     "output_type": "stream",
     "text": [
      "Accuracy of tree_1: 0.7877789046653144\n"
     ]
    }
   ],
   "source": [
    "print('Accuracy of tree_1:',tree_1.score(X_train, y_train))"
   ]
  },
  {
   "cell_type": "code",
   "execution_count": 59,
   "id": "b5f69666",
   "metadata": {},
   "outputs": [
    {
     "name": "stderr",
     "output_type": "stream",
     "text": [
      "/opt/homebrew/anaconda3/lib/python3.9/site-packages/sklearn/utils/deprecation.py:87: FutureWarning: Function plot_confusion_matrix is deprecated; Function `plot_confusion_matrix` is deprecated in 1.0 and will be removed in 1.2. Use one of the class methods: ConfusionMatrixDisplay.from_predictions or ConfusionMatrixDisplay.from_estimator.\n",
      "  warnings.warn(msg, category=FutureWarning)\n"
     ]
    },
    {
     "data": {
      "text/plain": [
       "<sklearn.metrics._plot.confusion_matrix.ConfusionMatrixDisplay at 0x12f0bd4f0>"
      ]
     },
     "execution_count": 59,
     "metadata": {},
     "output_type": "execute_result"
    },
    {
     "data": {
      "image/png": "[encoded data removed]",
      "text/plain": [
       "<Figure size 432x288 with 2 Axes>"
      ]
     },
     "metadata": {
      "needs_background": "light"
     },
     "output_type": "display_data"
    }
   ],
   "source": [
    "plot_confusion_matrix(tree_1, X_train, y_train, cmap='Purples')"
   ]
  },
  {
   "cell_type": "code",
   "execution_count": 60,
   "id": "b0ab2614",
   "metadata": {},
   "outputs": [
    {
     "name": "stdout",
     "output_type": "stream",
     "text": [
      "              precision    recall  f1-score   support\n",
      "\n",
      "           0       0.81      0.93      0.87      2887\n",
      "           1       0.68      0.40      0.50      1057\n",
      "\n",
      "    accuracy                           0.79      3944\n",
      "   macro avg       0.74      0.66      0.68      3944\n",
      "weighted avg       0.77      0.79      0.77      3944\n",
      "\n"
     ]
    }
   ],
   "source": [
    "print(classification_report(y_train, y_predictions))"
   ]
  },
  {
   "cell_type": "code",
   "execution_count": 61,
   "id": "3259c96c",
   "metadata": {
    "scrolled": true
   },
   "outputs": [
    {
     "name": "stdout",
     "output_type": "stream",
     "text": [
      "Tree of max_depth = 3,min_samples_split = 5\n"
     ]
    },
    {
     "data": {
      "text/html": [
       "<div>\n",
       "<style scoped>\n",
       "    .dataframe tbody tr th:only-of-type {\n",
       "        vertical-align: middle;\n",
       "    }\n",
       "\n",
       "    .dataframe tbody tr th {\n",
       "        vertical-align: top;\n",
       "    }\n",
       "\n",
       "    .dataframe thead th {\n",
       "        text-align: right;\n",
       "    }\n",
       "</style>\n",
       "<table border=\"1\" class=\"dataframe\">\n",
       "  <thead>\n",
       "    <tr style=\"text-align: right;\">\n",
       "      <th></th>\n",
       "      <th>0</th>\n",
       "      <th>1</th>\n",
       "      <th>accuracy</th>\n",
       "      <th>macro avg</th>\n",
       "      <th>weighted avg</th>\n",
       "    </tr>\n",
       "  </thead>\n",
       "  <tbody>\n",
       "    <tr>\n",
       "      <th>precision</th>\n",
       "      <td>0.808549</td>\n",
       "      <td>0.676849</td>\n",
       "      <td>0.787779</td>\n",
       "      <td>0.742699</td>\n",
       "      <td>0.773253</td>\n",
       "    </tr>\n",
       "    <tr>\n",
       "      <th>recall</th>\n",
       "      <td>0.930378</td>\n",
       "      <td>0.398297</td>\n",
       "      <td>0.787779</td>\n",
       "      <td>0.664337</td>\n",
       "      <td>0.787779</td>\n",
       "    </tr>\n",
       "    <tr>\n",
       "      <th>f1-score</th>\n",
       "      <td>0.865196</td>\n",
       "      <td>0.501489</td>\n",
       "      <td>0.787779</td>\n",
       "      <td>0.683342</td>\n",
       "      <td>0.767722</td>\n",
       "    </tr>\n",
       "    <tr>\n",
       "      <th>support</th>\n",
       "      <td>2887.000000</td>\n",
       "      <td>1057.000000</td>\n",
       "      <td>0.787779</td>\n",
       "      <td>3944.000000</td>\n",
       "      <td>3944.000000</td>\n",
       "    </tr>\n",
       "  </tbody>\n",
       "</table>\n",
       "</div>"
      ],
      "text/plain": [
       "                     0            1  accuracy    macro avg  weighted avg\n",
       "precision     0.808549     0.676849  0.787779     0.742699      0.773253\n",
       "recall        0.930378     0.398297  0.787779     0.664337      0.787779\n",
       "f1-score      0.865196     0.501489  0.787779     0.683342      0.767722\n",
       "support    2887.000000  1057.000000  0.787779  3944.000000   3944.000000"
      ]
     },
     "execution_count": 61,
     "metadata": {},
     "output_type": "execute_result"
    }
   ],
   "source": [
    "# Produce the classification report on the actual y values and this model's predicted y values\n",
    "report = classification_report(y_train, y_predictions, output_dict=True)\n",
    "print(\"Tree of max_depth = 3,min_samples_split = 5\")\n",
    "pd.DataFrame(report)"
   ]
  },
  {
   "cell_type": "markdown",
   "id": "98722117",
   "metadata": {},
   "source": [
    "### 4. Compute: Accuracy, true positive rate, false positive rate, true negative rate, false negative rate, precision, recall, f1-score, and support."
   ]
  },
  {
   "cell_type": "markdown",
   "id": "dd2c6f18",
   "metadata": {},
   "source": [
    "Create a confusion matrix\n",
    "\n",
    "* True Positive: number of occurrences where y is true and y is predicted true.\n",
    "* True Negative: number of occurrences where y is false and y is predicted false.\n",
    "* False Positive: number of occurrences where y is false and y is predicted true.\n",
    "* False Negative: number of occurrences where y is true and y is predicted false."
   ]
  },
  {
   "cell_type": "code",
   "execution_count": 74,
   "id": "27638f06",
   "metadata": {},
   "outputs": [
    {
     "name": "stdout",
     "output_type": "stream",
     "text": [
      "True Negative: 2686\n",
      "False Positive: 201\n",
      "False Negative:  636\n",
      "True Positive: 421\n"
     ]
    }
   ],
   "source": [
    "TN, FP, FN, TP = confusion_matrix(y_train, y_predictions).ravel()\n",
    "print(f'True Negative: {TN}')\n",
    "print(f'False Positive: {FP}')\n",
    "print(f'False Negative:  {FN}')\n",
    "print(f'True Positive: {TP}')\n"
   ]
  },
  {
   "cell_type": "code",
   "execution_count": 73,
   "id": "ffd8cee8",
   "metadata": {
    "scrolled": false
   },
   "outputs": [
    {
     "data": {
      "text/plain": [
       "array([[2686,  201],\n",
       "       [ 636,  421]])"
      ]
     },
     "execution_count": 73,
     "metadata": {},
     "output_type": "execute_result"
    }
   ],
   "source": [
    " confusion_matrix(y_train, y_predictions)"
   ]
  },
  {
   "cell_type": "code",
   "execution_count": 77,
   "id": "4380f3e8",
   "metadata": {},
   "outputs": [
    {
     "name": "stdout",
     "output_type": "stream",
     "text": [
      "Negative Cases: 2887\n",
      "Positive Cases: 1057\n",
      "0    2887\n",
      "1    1057\n",
      "Name: churn_Yes, dtype: int64\n"
     ]
    }
   ],
   "source": [
    "negative_cases = TN + FP\n",
    "positive_cases = FN + TP\n",
    "print(f\"Negative Cases: {negative_cases}\")\n",
    "print(f\"Positive Cases: {positive_cases}\")\n",
    "print(y_train.value_counts())"
   ]
  },
  {
   "cell_type": "markdown",
   "id": "5abe6915",
   "metadata": {},
   "source": [
    "### churn_Yes (1) is the positive case"
   ]
  },
  {
   "cell_type": "code",
   "execution_count": 84,
   "id": "0d988721",
   "metadata": {},
   "outputs": [
    {
     "name": "stdout",
     "output_type": "stream",
     "text": [
      "              precision    recall  f1-score   support\n",
      "\n",
      "           0       0.84      0.91      0.87       170\n",
      "           1       0.81      0.69      0.75        98\n",
      "\n",
      "    accuracy                           0.83       268\n",
      "   macro avg       0.82      0.80      0.81       268\n",
      "weighted avg       0.83      0.83      0.83       268\n",
      "\n"
     ]
    }
   ],
   "source": [
    "# look at classification report of tree_1 Model\n",
    "print(classification_report(actual, predictions))"
   ]
  },
  {
   "cell_type": "code",
   "execution_count": 85,
   "id": "a3a4b139",
   "metadata": {},
   "outputs": [],
   "source": [
    "ALL = TP + FP + FN + TN\n",
    "\n",
    "accuracy = (TP + TN)/ALL\n",
    "\n",
    "true_positive_rate = sensitivity = recall = power = TP/(TP+FN)\n",
    "\n",
    "false_positive_rate = false_alarm_ratio = fallout = FP/(FP+TN)\n",
    "\n",
    "true_negative_rate = specificity = selectivity = TN/(TN+FP)\n",
    "\n",
    "false_negative_rate = miss_rate = FN/(FN+TP)\n",
    "\n",
    "precision = PPV = TP/(TP+FP)\n",
    "\n",
    "f1_score = 2*(precision*recall)/(precision+recall)\n",
    "\n",
    "support_pos = TP + FN\n",
    "\n",
    "support_neg = FP + TN\n",
    "\n"
   ]
  },
  {
   "cell_type": "code",
   "execution_count": 86,
   "id": "b4a97fc7",
   "metadata": {
    "scrolled": true
   },
   "outputs": [
    {
     "name": "stdout",
     "output_type": "stream",
     "text": [
      "Accuracy: 0.7877789046653144 \n",
      "\n",
      "True Positive Rate/Sensitivity/Recall/Power: 0.39829706717123936 \n",
      "\n",
      "False Positive Rate/False Alarm Ratio/Fall-out: 0.06962244544509871 \n",
      "\n",
      "True Negative Rate/Specificity/Selectivity: 0.9303775545549012 \n",
      "\n",
      "False Negative Rate/Miss Rate: 0.6017029328287606 \n",
      "\n",
      "Precision/PPV: 0.6768488745980707 \n",
      "\n",
      "F1 Score: 0.5014889815366289 \n",
      "\n",
      "Support (0): 2887 \n",
      "\n",
      "Support (1): 1057\n"
     ]
    }
   ],
   "source": [
    "print(f\"Accuracy: {accuracy}\", '\\n')\n",
    "print(f\"True Positive Rate/Sensitivity/Recall/Power: {true_positive_rate}\", '\\n')\n",
    "print(f\"False Positive Rate/False Alarm Ratio/Fall-out: {false_positive_rate}\", '\\n')\n",
    "print(f\"True Negative Rate/Specificity/Selectivity: {true_negative_rate}\", '\\n')\n",
    "print(f\"False Negative Rate/Miss Rate: {false_negative_rate}\", '\\n')\n",
    "print(f\"Precision/PPV: {precision}\", '\\n')\n",
    "print(f\"F1 Score: {f1_score}\", '\\n')\n",
    "print(f\"Support (0): {support_neg}\", '\\n')\n",
    "print(f\"Support (1): {support_pos}\")"
   ]
  },
  {
   "cell_type": "markdown",
   "id": "56cc013b",
   "metadata": {},
   "source": [
    "### 5. Run through steps 2-4 using a different max_depth value."
   ]
  },
  {
   "cell_type": "code",
   "execution_count": 89,
   "id": "4ac8b806",
   "metadata": {},
   "outputs": [
    {
     "name": "stderr",
     "output_type": "stream",
     "text": [
      "/opt/homebrew/anaconda3/lib/python3.9/site-packages/sklearn/metrics/_classification.py:1318: UndefinedMetricWarning: Precision and F-score are ill-defined and being set to 0.0 in labels with no predicted samples. Use `zero_division` parameter to control this behavior.\n",
      "  _warn_prf(average, modifier, msg_start, len(result))\n",
      "/opt/homebrew/anaconda3/lib/python3.9/site-packages/sklearn/metrics/_classification.py:1318: UndefinedMetricWarning: Precision and F-score are ill-defined and being set to 0.0 in labels with no predicted samples. Use `zero_division` parameter to control this behavior.\n",
      "  _warn_prf(average, modifier, msg_start, len(result))\n",
      "/opt/homebrew/anaconda3/lib/python3.9/site-packages/sklearn/metrics/_classification.py:1318: UndefinedMetricWarning: Precision and F-score are ill-defined and being set to 0.0 in labels with no predicted samples. Use `zero_division` parameter to control this behavior.\n",
      "  _warn_prf(average, modifier, msg_start, len(result))\n"
     ]
    },
    {
     "name": "stdout",
     "output_type": "stream",
     "text": [
      "Tree with max depth of 1\n",
      "                     0       1  accuracy    macro avg  weighted avg\n",
      "precision     0.731998     0.0  0.731998     0.365999      0.535821\n",
      "recall        1.000000     0.0  0.731998     0.500000      0.731998\n",
      "f1-score      0.845264     0.0  0.731998     0.422632      0.618732\n",
      "support    2887.000000  1057.0  0.731998  3944.000000   3944.000000\n",
      "\n",
      "Tree with max depth of 2\n",
      "                     0            1  accuracy    macro avg  weighted avg\n",
      "precision     0.849673     0.540336  0.756339     0.695005      0.766770\n",
      "recall        0.810530     0.608325  0.756339     0.709428      0.756339\n",
      "f1-score      0.829640     0.572319  0.756339     0.700979      0.760677\n",
      "support    2887.000000  1057.000000  0.756339  3944.000000   3944.000000\n",
      "\n",
      "Tree with max depth of 3\n",
      "                     0            1  accuracy    macro avg  weighted avg\n",
      "precision     0.808549     0.676849  0.787779     0.742699      0.773253\n",
      "recall        0.930378     0.398297  0.787779     0.664337      0.787779\n",
      "f1-score      0.865196     0.501489  0.787779     0.683342      0.767722\n",
      "support    2887.000000  1057.000000  0.787779  3944.000000   3944.000000\n",
      "\n",
      "Tree with max depth of 4\n",
      "                     0            1  accuracy    macro avg  weighted avg\n",
      "precision     0.835656     0.640279  0.793103     0.737968      0.783295\n",
      "recall        0.892968     0.520341  0.793103     0.706655      0.793103\n",
      "f1-score      0.863362     0.574113  0.793103     0.718738      0.785843\n",
      "support    2887.000000  1057.000000  0.793103  3944.000000   3944.000000\n",
      "\n",
      "Tree with max depth of 5\n",
      "                     0            1  accuracy    macro avg  weighted avg\n",
      "precision     0.848576     0.630865  0.795639     0.739721      0.790229\n",
      "recall        0.877381     0.572375  0.795639     0.724878      0.795639\n",
      "f1-score      0.862738     0.600198  0.795639     0.731468      0.792377\n",
      "support    2887.000000  1057.000000  0.795639  3944.000000   3944.000000\n",
      "\n",
      "Tree with max depth of 6\n",
      "                     0            1  accuracy    macro avg  weighted avg\n",
      "precision     0.863111     0.654000  0.810091     0.758556      0.807069\n",
      "recall        0.880152     0.618732  0.810091     0.749442      0.810091\n",
      "f1-score      0.871549     0.635877  0.810091     0.753713      0.808388\n",
      "support    2887.000000  1057.000000  0.810091  3944.000000   3944.000000\n",
      "\n",
      "Tree with max depth of 7\n",
      "                     0            1  accuracy    macro avg  weighted avg\n",
      "precision     0.863817     0.697624  0.824797     0.780721      0.819277\n",
      "recall        0.903014     0.611164  0.824797     0.757089      0.824797\n",
      "f1-score      0.882981     0.651538  0.824797     0.767259      0.820953\n",
      "support    2887.000000  1057.000000  0.824797  3944.000000   3944.000000\n",
      "\n",
      "Tree with max depth of 8\n",
      "                     0            1  accuracy    macro avg  weighted avg\n",
      "precision     0.880486     0.715886  0.839503     0.798186      0.836373\n",
      "recall        0.903360     0.665090  0.839503     0.784225      0.839503\n",
      "f1-score      0.891776     0.689554  0.839503     0.790665      0.837580\n",
      "support    2887.000000  1057.000000  0.839503  3944.000000   3944.000000\n",
      "\n",
      "Tree with max depth of 9\n",
      "                     0            1  accuracy    macro avg  weighted avg\n",
      "precision     0.902388     0.734597  0.857505     0.818493      0.857420\n",
      "recall        0.903014     0.733207  0.857505     0.818110      0.857505\n",
      "f1-score      0.902701     0.733902  0.857505     0.818301      0.857462\n",
      "support    2887.000000  1057.000000  0.857505  3944.000000   3944.000000\n",
      "\n",
      "Tree with max depth of 10\n",
      "                     0            1  accuracy    macro avg  weighted avg\n",
      "precision     0.904698     0.786802  0.875254     0.845750      0.873101\n",
      "recall        0.927260     0.733207  0.875254     0.830234      0.875254\n",
      "f1-score      0.915840     0.759060  0.875254     0.837450      0.873822\n",
      "support    2887.000000  1057.000000  0.875254  3944.000000   3944.000000\n",
      "\n",
      "Tree with max depth of 11\n",
      "                     0            1  accuracy    macro avg  weighted avg\n",
      "precision     0.909061     0.832272   0.89072     0.870666      0.888481\n",
      "recall        0.945272     0.741722   0.89072     0.843497      0.890720\n",
      "f1-score      0.926813     0.784392   0.89072     0.855602      0.888644\n",
      "support    2887.000000  1057.000000   0.89072  3944.000000   3944.000000\n",
      "\n",
      "Tree with max depth of 12\n",
      "                     0            1  accuracy    macro avg  weighted avg\n",
      "precision     0.922509     0.857736  0.906694     0.890123      0.905150\n",
      "recall        0.952546     0.781457  0.906694     0.867001      0.906694\n",
      "f1-score      0.937287     0.817822  0.906694     0.877554      0.905270\n",
      "support    2887.000000  1057.000000  0.906694  3944.000000   3944.000000\n",
      "\n",
      "Tree with max depth of 13\n",
      "                     0            1  accuracy    macro avg  weighted avg\n",
      "precision     0.932232     0.875256  0.918103     0.903744      0.916962\n",
      "recall        0.957742     0.809839  0.918103     0.883790      0.918103\n",
      "f1-score      0.944815     0.841278  0.918103     0.893046      0.917067\n",
      "support    2887.000000  1057.000000  0.918103  3944.000000   3944.000000\n",
      "\n",
      "Tree with max depth of 14\n",
      "                     0            1  accuracy    macro avg  weighted avg\n",
      "precision     0.941554     0.898374  0.930781     0.919964      0.929982\n",
      "recall        0.965362     0.836329  0.930781     0.900846      0.930781\n",
      "f1-score      0.953309     0.866242  0.930781     0.909776      0.929975\n",
      "support    2887.000000  1057.000000  0.930781  3944.000000   3944.000000\n",
      "\n",
      "Tree with max depth of 15\n",
      "                     0            1  accuracy    macro avg  weighted avg\n",
      "precision     0.947547     0.912032  0.938641     0.929789      0.938029\n",
      "recall        0.969865     0.853359  0.938641     0.911612      0.938641\n",
      "f1-score      0.958576     0.881720  0.938641     0.920148      0.937978\n",
      "support    2887.000000  1057.000000  0.938641  3944.000000   3944.000000\n",
      "\n",
      "Tree with max depth of 16\n",
      "                     0            1  accuracy    macro avg  weighted avg\n",
      "precision     0.948253     0.932851  0.944473     0.940552      0.944125\n",
      "recall        0.977485     0.854305  0.944473     0.915895      0.944473\n",
      "f1-score      0.962647     0.891852  0.944473     0.927249      0.943674\n",
      "support    2887.000000  1057.000000  0.944473  3944.000000   3944.000000\n",
      "\n",
      "Tree with max depth of 17\n",
      "                     0            1  accuracy    macro avg  weighted avg\n",
      "precision     0.953622     0.929293  0.947515     0.941458      0.947102\n",
      "recall        0.975753     0.870388  0.947515     0.923071      0.947515\n",
      "f1-score      0.964561     0.898876  0.947515     0.931719      0.946957\n",
      "support    2887.000000  1057.000000  0.947515  3944.000000   3944.000000\n",
      "\n",
      "Tree with max depth of 18\n",
      "                     0            1  accuracy    macro avg  weighted avg\n",
      "precision     0.954499     0.943705  0.951826     0.949102      0.951607\n",
      "recall        0.980949     0.872280  0.951826     0.926615      0.951826\n",
      "f1-score      0.967544     0.906588  0.951826     0.937066      0.951207\n",
      "support    2887.000000  1057.000000  0.951826  3944.000000   3944.000000\n",
      "\n",
      "Tree with max depth of 19\n",
      "                     0            1  accuracy    macro avg  weighted avg\n",
      "precision     0.955630     0.954592  0.955375     0.955111      0.955352\n",
      "recall        0.984759     0.875118  0.955375     0.929939      0.955375\n",
      "f1-score      0.969976     0.913129  0.955375     0.941553      0.954741\n",
      "support    2887.000000  1057.000000  0.955375  3944.000000   3944.000000\n",
      "\n",
      "Tree with max depth of 20\n",
      "                     0            1  accuracy    macro avg  weighted avg\n",
      "precision     0.955705     0.959544  0.956643     0.957624      0.956734\n",
      "recall        0.986491     0.875118  0.956643     0.930805      0.956643\n",
      "f1-score      0.970854     0.915388  0.956643     0.943121      0.955989\n",
      "support    2887.000000  1057.000000  0.956643  3944.000000   3944.000000\n",
      "\n"
     ]
    }
   ],
   "source": [
    "# Let's get loopy\n",
    "for i in range(1, 21):\n",
    "    # Make the model\n",
    "    tree = DecisionTreeClassifier(max_depth=i,min_samples_split = 5, random_state=123)\n",
    "\n",
    "    # Fit the model (on train and only train)\n",
    "    tree = tree.fit(X_train, y_train)\n",
    "\n",
    "    # Use the model\n",
    "    # We'll evaluate the model's performance on train, first\n",
    "    y_predictions = tree.predict(X_train)\n",
    "\n",
    "    # Produce the classification report on the actual y values and this model's predicted y values\n",
    "    report = classification_report(y_train, y_predictions, output_dict=True)\n",
    "    print(f\"Tree with max depth of {i}\")\n",
    "    print(pd.DataFrame(report))\n",
    "    print()"
   ]
  },
  {
   "cell_type": "code",
   "execution_count": 90,
   "id": "e0d713fd",
   "metadata": {},
   "outputs": [
    {
     "data": {
      "text/html": [
       "<div>\n",
       "<style scoped>\n",
       "    .dataframe tbody tr th:only-of-type {\n",
       "        vertical-align: middle;\n",
       "    }\n",
       "\n",
       "    .dataframe tbody tr th {\n",
       "        vertical-align: top;\n",
       "    }\n",
       "\n",
       "    .dataframe thead th {\n",
       "        text-align: right;\n",
       "    }\n",
       "</style>\n",
       "<table border=\"1\" class=\"dataframe\">\n",
       "  <thead>\n",
       "    <tr style=\"text-align: right;\">\n",
       "      <th></th>\n",
       "      <th>max_depth</th>\n",
       "      <th>train_accuracy</th>\n",
       "      <th>validate_accuracy</th>\n",
       "      <th>difference</th>\n",
       "    </tr>\n",
       "  </thead>\n",
       "  <tbody>\n",
       "    <tr>\n",
       "      <th>0</th>\n",
       "      <td>1</td>\n",
       "      <td>0.731998</td>\n",
       "      <td>0.751521</td>\n",
       "      <td>-0.019523</td>\n",
       "    </tr>\n",
       "    <tr>\n",
       "      <th>1</th>\n",
       "      <td>2</td>\n",
       "      <td>0.756339</td>\n",
       "      <td>0.775862</td>\n",
       "      <td>-0.019523</td>\n",
       "    </tr>\n",
       "    <tr>\n",
       "      <th>2</th>\n",
       "      <td>3</td>\n",
       "      <td>0.787779</td>\n",
       "      <td>0.805274</td>\n",
       "      <td>-0.017495</td>\n",
       "    </tr>\n",
       "    <tr>\n",
       "      <th>3</th>\n",
       "      <td>4</td>\n",
       "      <td>0.793103</td>\n",
       "      <td>0.798174</td>\n",
       "      <td>-0.005071</td>\n",
       "    </tr>\n",
       "    <tr>\n",
       "      <th>4</th>\n",
       "      <td>5</td>\n",
       "      <td>0.795639</td>\n",
       "      <td>0.803245</td>\n",
       "      <td>-0.007606</td>\n",
       "    </tr>\n",
       "    <tr>\n",
       "      <th>5</th>\n",
       "      <td>6</td>\n",
       "      <td>0.810091</td>\n",
       "      <td>0.799189</td>\n",
       "      <td>0.010903</td>\n",
       "    </tr>\n",
       "    <tr>\n",
       "      <th>6</th>\n",
       "      <td>7</td>\n",
       "      <td>0.825051</td>\n",
       "      <td>0.783976</td>\n",
       "      <td>0.041075</td>\n",
       "    </tr>\n",
       "    <tr>\n",
       "      <th>7</th>\n",
       "      <td>8</td>\n",
       "      <td>0.840771</td>\n",
       "      <td>0.772819</td>\n",
       "      <td>0.067951</td>\n",
       "    </tr>\n",
       "    <tr>\n",
       "      <th>8</th>\n",
       "      <td>9</td>\n",
       "      <td>0.862576</td>\n",
       "      <td>0.768763</td>\n",
       "      <td>0.093813</td>\n",
       "    </tr>\n",
       "    <tr>\n",
       "      <th>9</th>\n",
       "      <td>10</td>\n",
       "      <td>0.884381</td>\n",
       "      <td>0.756592</td>\n",
       "      <td>0.127789</td>\n",
       "    </tr>\n",
       "    <tr>\n",
       "      <th>10</th>\n",
       "      <td>11</td>\n",
       "      <td>0.903144</td>\n",
       "      <td>0.747465</td>\n",
       "      <td>0.155680</td>\n",
       "    </tr>\n",
       "    <tr>\n",
       "      <th>11</th>\n",
       "      <td>12</td>\n",
       "      <td>0.923428</td>\n",
       "      <td>0.738337</td>\n",
       "      <td>0.185091</td>\n",
       "    </tr>\n",
       "    <tr>\n",
       "      <th>12</th>\n",
       "      <td>13</td>\n",
       "      <td>0.940669</td>\n",
       "      <td>0.741379</td>\n",
       "      <td>0.199290</td>\n",
       "    </tr>\n",
       "    <tr>\n",
       "      <th>13</th>\n",
       "      <td>14</td>\n",
       "      <td>0.955629</td>\n",
       "      <td>0.730223</td>\n",
       "      <td>0.225406</td>\n",
       "    </tr>\n",
       "    <tr>\n",
       "      <th>14</th>\n",
       "      <td>15</td>\n",
       "      <td>0.965010</td>\n",
       "      <td>0.727181</td>\n",
       "      <td>0.237830</td>\n",
       "    </tr>\n",
       "    <tr>\n",
       "      <th>15</th>\n",
       "      <td>16</td>\n",
       "      <td>0.975659</td>\n",
       "      <td>0.709939</td>\n",
       "      <td>0.265720</td>\n",
       "    </tr>\n",
       "    <tr>\n",
       "      <th>16</th>\n",
       "      <td>17</td>\n",
       "      <td>0.981998</td>\n",
       "      <td>0.720081</td>\n",
       "      <td>0.261917</td>\n",
       "    </tr>\n",
       "    <tr>\n",
       "      <th>17</th>\n",
       "      <td>18</td>\n",
       "      <td>0.987576</td>\n",
       "      <td>0.722110</td>\n",
       "      <td>0.265467</td>\n",
       "    </tr>\n",
       "    <tr>\n",
       "      <th>18</th>\n",
       "      <td>19</td>\n",
       "      <td>0.990872</td>\n",
       "      <td>0.727181</td>\n",
       "      <td>0.263692</td>\n",
       "    </tr>\n",
       "    <tr>\n",
       "      <th>19</th>\n",
       "      <td>20</td>\n",
       "      <td>0.993154</td>\n",
       "      <td>0.725152</td>\n",
       "      <td>0.268002</td>\n",
       "    </tr>\n",
       "    <tr>\n",
       "      <th>20</th>\n",
       "      <td>21</td>\n",
       "      <td>0.995436</td>\n",
       "      <td>0.719067</td>\n",
       "      <td>0.276369</td>\n",
       "    </tr>\n",
       "    <tr>\n",
       "      <th>21</th>\n",
       "      <td>22</td>\n",
       "      <td>0.996197</td>\n",
       "      <td>0.720081</td>\n",
       "      <td>0.276116</td>\n",
       "    </tr>\n",
       "    <tr>\n",
       "      <th>22</th>\n",
       "      <td>23</td>\n",
       "      <td>0.996957</td>\n",
       "      <td>0.715010</td>\n",
       "      <td>0.281947</td>\n",
       "    </tr>\n",
       "    <tr>\n",
       "      <th>23</th>\n",
       "      <td>24</td>\n",
       "      <td>0.997465</td>\n",
       "      <td>0.720081</td>\n",
       "      <td>0.277383</td>\n",
       "    </tr>\n",
       "  </tbody>\n",
       "</table>\n",
       "</div>"
      ],
      "text/plain": [
       "    max_depth  train_accuracy  validate_accuracy  difference\n",
       "0           1        0.731998           0.751521   -0.019523\n",
       "1           2        0.756339           0.775862   -0.019523\n",
       "2           3        0.787779           0.805274   -0.017495\n",
       "3           4        0.793103           0.798174   -0.005071\n",
       "4           5        0.795639           0.803245   -0.007606\n",
       "5           6        0.810091           0.799189    0.010903\n",
       "6           7        0.825051           0.783976    0.041075\n",
       "7           8        0.840771           0.772819    0.067951\n",
       "8           9        0.862576           0.768763    0.093813\n",
       "9          10        0.884381           0.756592    0.127789\n",
       "10         11        0.903144           0.747465    0.155680\n",
       "11         12        0.923428           0.738337    0.185091\n",
       "12         13        0.940669           0.741379    0.199290\n",
       "13         14        0.955629           0.730223    0.225406\n",
       "14         15        0.965010           0.727181    0.237830\n",
       "15         16        0.975659           0.709939    0.265720\n",
       "16         17        0.981998           0.720081    0.261917\n",
       "17         18        0.987576           0.722110    0.265467\n",
       "18         19        0.990872           0.727181    0.263692\n",
       "19         20        0.993154           0.725152    0.268002\n",
       "20         21        0.995436           0.719067    0.276369\n",
       "21         22        0.996197           0.720081    0.276116\n",
       "22         23        0.996957           0.715010    0.281947\n",
       "23         24        0.997465           0.720081    0.277383"
      ]
     },
     "execution_count": 90,
     "metadata": {},
     "output_type": "execute_result"
    }
   ],
   "source": [
    "# Let's continue getting loopy, so we can compare in-sample to out-of-sample\n",
    "metrics = []\n",
    "\n",
    "for i in range(1, 25):\n",
    "    # Make the model\n",
    "    tree = DecisionTreeClassifier(max_depth=i, random_state=123)\n",
    "\n",
    "    # Fit the model (on train and only train)\n",
    "    tree = tree.fit(X_train, y_train)\n",
    "\n",
    "    # Use the model\n",
    "    # We'll evaluate the model's performance on train, first\n",
    "    in_sample_accuracy = tree.score(X_train, y_train)\n",
    "    \n",
    "    out_of_sample_accuracy = tree.score(X_validate, y_validate)\n",
    "\n",
    "    output = {\n",
    "        \"max_depth\": i,\n",
    "        \"train_accuracy\": in_sample_accuracy,\n",
    "        \"validate_accuracy\": out_of_sample_accuracy\n",
    "    }\n",
    "    \n",
    "    metrics.append(output)\n",
    "    \n",
    "df = pd.DataFrame(metrics)\n",
    "df[\"difference\"] = df.train_accuracy - df.validate_accuracy\n",
    "df"
   ]
  },
  {
   "cell_type": "code",
   "execution_count": 105,
   "id": "7d3f704f",
   "metadata": {
    "scrolled": true
   },
   "outputs": [
    {
     "data": {
      "image/png": "[encoded data removed]",
      "text/plain": [
       "<Figure size 864x432 with 1 Axes>"
      ]
     },
     "metadata": {
      "needs_background": "light"
     },
     "output_type": "display_data"
    }
   ],
   "source": [
    "plt.figure(figsize=(12, 6))\n",
    "plt.plot(df.max_depth, df.train_accuracy, marker = 'o', label = 'Train')\n",
    "plt.plot(df.max_depth, df.validate_accuracy, marker = 'o', label = 'Validate')\n",
    "\n",
    "\n",
    "#plt.plot(df_2.max_depth, df_2.validate_accuracy, marker = 'x', label = 'Validate')\n",
    "\n",
    "plt.title('Overfitting Occurs at Higher Values for Max Depth')\n",
    "plt.xlabel('Max Depth')\n",
    "plt.ylabel('Accuracy')\n",
    "plt.legend()\n",
    "plt.show()"
   ]
  },
  {
   "cell_type": "code",
   "execution_count": 103,
   "id": "657fb3c0",
   "metadata": {},
   "outputs": [
    {
     "data": {
      "text/html": [
       "<div>\n",
       "<style scoped>\n",
       "    .dataframe tbody tr th:only-of-type {\n",
       "        vertical-align: middle;\n",
       "    }\n",
       "\n",
       "    .dataframe tbody tr th {\n",
       "        vertical-align: top;\n",
       "    }\n",
       "\n",
       "    .dataframe thead th {\n",
       "        text-align: right;\n",
       "    }\n",
       "</style>\n",
       "<table border=\"1\" class=\"dataframe\">\n",
       "  <thead>\n",
       "    <tr style=\"text-align: right;\">\n",
       "      <th></th>\n",
       "      <th>max_depth</th>\n",
       "      <th>train_accuracy</th>\n",
       "      <th>validate_accuracy</th>\n",
       "      <th>difference</th>\n",
       "    </tr>\n",
       "  </thead>\n",
       "  <tbody>\n",
       "    <tr>\n",
       "      <th>0</th>\n",
       "      <td>1</td>\n",
       "      <td>0.731998</td>\n",
       "      <td>0.751521</td>\n",
       "      <td>-0.019523</td>\n",
       "    </tr>\n",
       "    <tr>\n",
       "      <th>1</th>\n",
       "      <td>2</td>\n",
       "      <td>0.756339</td>\n",
       "      <td>0.775862</td>\n",
       "      <td>-0.019523</td>\n",
       "    </tr>\n",
       "    <tr>\n",
       "      <th>2</th>\n",
       "      <td>3</td>\n",
       "      <td>0.787779</td>\n",
       "      <td>0.805274</td>\n",
       "      <td>-0.017495</td>\n",
       "    </tr>\n",
       "    <tr>\n",
       "      <th>3</th>\n",
       "      <td>4</td>\n",
       "      <td>0.792343</td>\n",
       "      <td>0.800203</td>\n",
       "      <td>-0.007860</td>\n",
       "    </tr>\n",
       "    <tr>\n",
       "      <th>4</th>\n",
       "      <td>5</td>\n",
       "      <td>0.794371</td>\n",
       "      <td>0.806288</td>\n",
       "      <td>-0.011917</td>\n",
       "    </tr>\n",
       "    <tr>\n",
       "      <th>5</th>\n",
       "      <td>6</td>\n",
       "      <td>0.805781</td>\n",
       "      <td>0.811359</td>\n",
       "      <td>-0.005578</td>\n",
       "    </tr>\n",
       "    <tr>\n",
       "      <th>6</th>\n",
       "      <td>7</td>\n",
       "      <td>0.817191</td>\n",
       "      <td>0.787018</td>\n",
       "      <td>0.030172</td>\n",
       "    </tr>\n",
       "    <tr>\n",
       "      <th>7</th>\n",
       "      <td>8</td>\n",
       "      <td>0.822262</td>\n",
       "      <td>0.793103</td>\n",
       "      <td>0.029158</td>\n",
       "    </tr>\n",
       "    <tr>\n",
       "      <th>8</th>\n",
       "      <td>9</td>\n",
       "      <td>0.831643</td>\n",
       "      <td>0.773834</td>\n",
       "      <td>0.057809</td>\n",
       "    </tr>\n",
       "    <tr>\n",
       "      <th>9</th>\n",
       "      <td>10</td>\n",
       "      <td>0.837221</td>\n",
       "      <td>0.770791</td>\n",
       "      <td>0.066430</td>\n",
       "    </tr>\n",
       "    <tr>\n",
       "      <th>10</th>\n",
       "      <td>11</td>\n",
       "      <td>0.840771</td>\n",
       "      <td>0.778905</td>\n",
       "      <td>0.061866</td>\n",
       "    </tr>\n",
       "    <tr>\n",
       "      <th>11</th>\n",
       "      <td>12</td>\n",
       "      <td>0.840010</td>\n",
       "      <td>0.776876</td>\n",
       "      <td>0.063134</td>\n",
       "    </tr>\n",
       "    <tr>\n",
       "      <th>12</th>\n",
       "      <td>13</td>\n",
       "      <td>0.841531</td>\n",
       "      <td>0.778905</td>\n",
       "      <td>0.062627</td>\n",
       "    </tr>\n",
       "    <tr>\n",
       "      <th>13</th>\n",
       "      <td>14</td>\n",
       "      <td>0.840771</td>\n",
       "      <td>0.776876</td>\n",
       "      <td>0.063895</td>\n",
       "    </tr>\n",
       "    <tr>\n",
       "      <th>14</th>\n",
       "      <td>15</td>\n",
       "      <td>0.841531</td>\n",
       "      <td>0.776876</td>\n",
       "      <td>0.064655</td>\n",
       "    </tr>\n",
       "    <tr>\n",
       "      <th>15</th>\n",
       "      <td>16</td>\n",
       "      <td>0.841531</td>\n",
       "      <td>0.776876</td>\n",
       "      <td>0.064655</td>\n",
       "    </tr>\n",
       "    <tr>\n",
       "      <th>16</th>\n",
       "      <td>17</td>\n",
       "      <td>0.841531</td>\n",
       "      <td>0.776876</td>\n",
       "      <td>0.064655</td>\n",
       "    </tr>\n",
       "    <tr>\n",
       "      <th>17</th>\n",
       "      <td>18</td>\n",
       "      <td>0.841531</td>\n",
       "      <td>0.776876</td>\n",
       "      <td>0.064655</td>\n",
       "    </tr>\n",
       "    <tr>\n",
       "      <th>18</th>\n",
       "      <td>19</td>\n",
       "      <td>0.841531</td>\n",
       "      <td>0.776876</td>\n",
       "      <td>0.064655</td>\n",
       "    </tr>\n",
       "    <tr>\n",
       "      <th>19</th>\n",
       "      <td>20</td>\n",
       "      <td>0.841531</td>\n",
       "      <td>0.776876</td>\n",
       "      <td>0.064655</td>\n",
       "    </tr>\n",
       "    <tr>\n",
       "      <th>20</th>\n",
       "      <td>21</td>\n",
       "      <td>0.841531</td>\n",
       "      <td>0.776876</td>\n",
       "      <td>0.064655</td>\n",
       "    </tr>\n",
       "    <tr>\n",
       "      <th>21</th>\n",
       "      <td>22</td>\n",
       "      <td>0.841531</td>\n",
       "      <td>0.776876</td>\n",
       "      <td>0.064655</td>\n",
       "    </tr>\n",
       "    <tr>\n",
       "      <th>22</th>\n",
       "      <td>23</td>\n",
       "      <td>0.841531</td>\n",
       "      <td>0.776876</td>\n",
       "      <td>0.064655</td>\n",
       "    </tr>\n",
       "    <tr>\n",
       "      <th>23</th>\n",
       "      <td>24</td>\n",
       "      <td>0.841531</td>\n",
       "      <td>0.776876</td>\n",
       "      <td>0.064655</td>\n",
       "    </tr>\n",
       "  </tbody>\n",
       "</table>\n",
       "</div>"
      ],
      "text/plain": [
       "    max_depth  train_accuracy  validate_accuracy  difference\n",
       "0           1        0.731998           0.751521   -0.019523\n",
       "1           2        0.756339           0.775862   -0.019523\n",
       "2           3        0.787779           0.805274   -0.017495\n",
       "3           4        0.792343           0.800203   -0.007860\n",
       "4           5        0.794371           0.806288   -0.011917\n",
       "5           6        0.805781           0.811359   -0.005578\n",
       "6           7        0.817191           0.787018    0.030172\n",
       "7           8        0.822262           0.793103    0.029158\n",
       "8           9        0.831643           0.773834    0.057809\n",
       "9          10        0.837221           0.770791    0.066430\n",
       "10         11        0.840771           0.778905    0.061866\n",
       "11         12        0.840010           0.776876    0.063134\n",
       "12         13        0.841531           0.778905    0.062627\n",
       "13         14        0.840771           0.776876    0.063895\n",
       "14         15        0.841531           0.776876    0.064655\n",
       "15         16        0.841531           0.776876    0.064655\n",
       "16         17        0.841531           0.776876    0.064655\n",
       "17         18        0.841531           0.776876    0.064655\n",
       "18         19        0.841531           0.776876    0.064655\n",
       "19         20        0.841531           0.776876    0.064655\n",
       "20         21        0.841531           0.776876    0.064655\n",
       "21         22        0.841531           0.776876    0.064655\n",
       "22         23        0.841531           0.776876    0.064655\n",
       "23         24        0.841531           0.776876    0.064655"
      ]
     },
     "execution_count": 103,
     "metadata": {},
     "output_type": "execute_result"
    }
   ],
   "source": [
    "# Let's continue getting loopy, so we can compare in-sample to out-of-sample\n",
    "metrics = []\n",
    "\n",
    "for i in range(1, 25):\n",
    "    # Make the model\n",
    "    tree = DecisionTreeClassifier(max_depth=i,min_samples_leaf= 11, random_state=123)\n",
    "\n",
    "    # Fit the model (on train and only train)\n",
    "    tree = tree.fit(X_train, y_train)\n",
    "\n",
    "    # Use the model\n",
    "    # We'll evaluate the model's performance on train, first\n",
    "    in_sample_accuracy = tree.score(X_train, y_train)\n",
    "    \n",
    "    out_of_sample_accuracy = tree.score(X_validate, y_validate)\n",
    "\n",
    "    output = {\n",
    "        \"max_depth\": i,\n",
    "        \"train_accuracy\": in_sample_accuracy,\n",
    "        \"validate_accuracy\": out_of_sample_accuracy\n",
    "    }\n",
    "    \n",
    "    metrics.append(output)\n",
    "    \n",
    "df_2 = pd.DataFrame(metrics)\n",
    "df_2[\"difference\"] = df_2.train_accuracy - df_2.validate_accuracy\n",
    "df_2"
   ]
  }
 ],
 "metadata": {
  "kernelspec": {
   "display_name": "Python 3 (ipykernel)",
   "language": "python",
   "name": "python3"
  },
  "language_info": {
   "codemirror_mode": {
    "name": "ipython",
    "version": 3
   },
   "file_extension": ".py",
   "mimetype": "text/x-python",
   "name": "python",
   "nbconvert_exporter": "python",
   "pygments_lexer": "ipython3",
   "version": "3.9.12"
  }
 },
 "nbformat": 4,
 "nbformat_minor": 5
}
