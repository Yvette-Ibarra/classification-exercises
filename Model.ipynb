{
 "cells": [
  {
   "cell_type": "markdown",
   "id": "9d470f64",
   "metadata": {},
   "source": [
    "# $Model$\n",
    "\n",
    "## Using the titanic data:\n",
    "\n"
   ]
  },
  {
   "cell_type": "markdown",
   "id": "f88107a1",
   "metadata": {},
   "source": [
    "### imports"
   ]
  },
  {
   "cell_type": "code",
   "execution_count": 1,
   "id": "7bb8d281",
   "metadata": {},
   "outputs": [],
   "source": [
    "# General DS Imports\n",
    "import matplotlib.pyplot as plt\n",
    "import numpy as np\n",
    "import pandas as pd\n",
    "import seaborn as sns\n",
    "\n",
    "import acquire\n",
    "import prepare\n",
    "\n",
    "np.random.seed(9)"
   ]
  },
  {
   "cell_type": "code",
   "execution_count": 2,
   "id": "89e0287a",
   "metadata": {},
   "outputs": [],
   "source": [
    "# Decision Tree and Model Evaluation Imports\n",
    "from sklearn.tree import DecisionTreeClassifier, plot_tree, export_text\n",
    "from sklearn.model_selection import train_test_split\n",
    "from sklearn.metrics import classification_report, confusion_matrix, plot_confusion_matrix"
   ]
  },
  {
   "cell_type": "markdown",
   "id": "a1ddcc6f",
   "metadata": {},
   "source": [
    "### Acquire"
   ]
  },
  {
   "cell_type": "code",
   "execution_count": null,
   "id": "84805d3c",
   "metadata": {
    "scrolled": true
   },
   "outputs": [],
   "source": [
    "titanic_df =acquire.new_titanic_data()"
   ]
  },
  {
   "cell_type": "markdown",
   "id": "cbc440eb",
   "metadata": {},
   "source": [
    "### Prepare"
   ]
  },
  {
   "cell_type": "code",
   "execution_count": null,
   "id": "46b4c28b",
   "metadata": {},
   "outputs": [],
   "source": [
    "titanic_df=prepare.prep_titanic(titanic_df)"
   ]
  },
  {
   "cell_type": "code",
   "execution_count": null,
   "id": "d2599de1",
   "metadata": {
    "scrolled": true
   },
   "outputs": [],
   "source": [
    "titanic_df.head()"
   ]
  },
  {
   "cell_type": "code",
   "execution_count": null,
   "id": "5f73b6f6",
   "metadata": {},
   "outputs": [],
   "source": [
    "titanic_processing_df = titanic_df.drop(columns={'sex','class', 'embark_town'})"
   ]
  },
  {
   "cell_type": "code",
   "execution_count": null,
   "id": "ea70084b",
   "metadata": {
    "scrolled": true
   },
   "outputs": [],
   "source": [
    "titanic_processing_df.head()"
   ]
  },
  {
   "cell_type": "code",
   "execution_count": null,
   "id": "0ab9ab46",
   "metadata": {},
   "outputs": [],
   "source": [
    "titanic_processing_df.columns"
   ]
  },
  {
   "cell_type": "code",
   "execution_count": null,
   "id": "94b388e9",
   "metadata": {},
   "outputs": [],
   "source": [
    "# Splitting dataset into X and y components before doing the train/validate/test split\n",
    "X = titanic_processing_df[['age', 'sibsp', 'parch', 'fare', 'alone', 'sex_male',\n",
    "       'class_Second', 'class_Third', 'embark_town_Queenstown',\n",
    "       'embark_town_Southampton']]\n",
    "\n",
    "y = titanic_processing_df.survived\n",
    "\n",
    "X_train_and_validate, X_test, y_train_and_validate, y_test = train_test_split(X, y, random_state=123, test_size=.3)\n",
    "X_train, X_validate, y_train, y_validate = train_test_split(X_train_and_validate, y_train_and_validate, random_state=123, test_size=.2)"
   ]
  },
  {
   "cell_type": "code",
   "execution_count": null,
   "id": "b5ddd0f2",
   "metadata": {},
   "outputs": [],
   "source": [
    "X_train.shape, X_validate.shape,X_test.shape"
   ]
  },
  {
   "cell_type": "code",
   "execution_count": null,
   "id": "88203837",
   "metadata": {},
   "outputs": [],
   "source": [
    "X_train, X_validate, X_test = prepare.impute_mean_age(X_train, X_validate, X_test)\n"
   ]
  },
  {
   "cell_type": "code",
   "execution_count": null,
   "id": "7e17fa12",
   "metadata": {
    "scrolled": false
   },
   "outputs": [],
   "source": [
    "X_train.head()"
   ]
  },
  {
   "cell_type": "code",
   "execution_count": null,
   "id": "25ae19c1",
   "metadata": {},
   "outputs": [],
   "source": [
    "y_train.head()"
   ]
  },
  {
   "cell_type": "markdown",
   "id": "cd29bb0f",
   "metadata": {},
   "source": [
    "### 1. What is your baseline prediction? What is your baseline accuracy? remember: your baseline prediction for a classification problem is predicting the most prevelant class in the training dataset (the mode). When you make those predictions, what is your accuracy? This is your baseline accuracy."
   ]
  },
  {
   "cell_type": "code",
   "execution_count": null,
   "id": "85227035",
   "metadata": {},
   "outputs": [],
   "source": [
    "# set target variable survived baseline\n",
    "baseline = y_train.mode()\n",
    "baseline"
   ]
  },
  {
   "cell_type": "code",
   "execution_count": null,
   "id": "58ecedb2",
   "metadata": {},
   "outputs": [],
   "source": [
    "X_train['baseline_prediction'] = int(baseline)\n",
    "X_train"
   ]
  },
  {
   "cell_type": "code",
   "execution_count": null,
   "id": "12303279",
   "metadata": {},
   "outputs": [],
   "source": [
    "actual = y_train\n",
    "predictions = X_train.baseline_prediction"
   ]
  },
  {
   "cell_type": "code",
   "execution_count": null,
   "id": "0a5cacde",
   "metadata": {},
   "outputs": [],
   "source": [
    "pd.crosstab(actual, predictions)"
   ]
  },
  {
   "cell_type": "code",
   "execution_count": null,
   "id": "ac5e478b",
   "metadata": {},
   "outputs": [],
   "source": [
    "print('baseline accuracy :',(298)/(200+298))"
   ]
  },
  {
   "cell_type": "code",
   "execution_count": null,
   "id": "776cdbeb",
   "metadata": {},
   "outputs": [],
   "source": [
    "X_train = X_train.drop(columns = ['baseline_prediction'])\n"
   ]
  },
  {
   "cell_type": "code",
   "execution_count": null,
   "id": "5d7efefd",
   "metadata": {},
   "outputs": [],
   "source": [
    "X_train.info()"
   ]
  },
  {
   "cell_type": "markdown",
   "id": "abdae292",
   "metadata": {},
   "source": [
    "### 2. Fit the decision tree classifier to your training sample and transform (i.e. make predictions on the training sample)\n"
   ]
  },
  {
   "cell_type": "code",
   "execution_count": null,
   "id": "0fc5af2f",
   "metadata": {},
   "outputs": [],
   "source": [
    "# Create the decision tree object and specify hyperparams\n",
    "tree_1 = DecisionTreeClassifier(max_depth = 5,min_samples_split = 5)"
   ]
  },
  {
   "cell_type": "code",
   "execution_count": null,
   "id": "234e4c71",
   "metadata": {
    "scrolled": true
   },
   "outputs": [],
   "source": [
    "tree_1.fit(X_train, y_train)\n",
    "\n",
    "# Rudimentary visualization of model structure\n",
    "print(export_text(tree_1, feature_names=X_train.columns.tolist()))"
   ]
  },
  {
   "cell_type": "code",
   "execution_count": null,
   "id": "77667965",
   "metadata": {},
   "outputs": [],
   "source": [
    "# Use the model\n",
    "# We'll evaluate the model's performance on train, first\n",
    "y_predictions = tree_1.predict(X_train)"
   ]
  },
  {
   "cell_type": "code",
   "execution_count": null,
   "id": "6c4d16e1",
   "metadata": {},
   "outputs": [],
   "source": [
    "# Visualize the tree\n",
    "plt.figure(figsize=(12, 7))\n",
    "plot_tree(tree_1, feature_names=X_train.columns, class_names=['0','1'])\n",
    "plt.show()"
   ]
  },
  {
   "cell_type": "markdown",
   "id": "1693c9fc",
   "metadata": {},
   "source": [
    "### 3. Evaluate your in-sample results using the model score, confusion matrix, and classification report.\n"
   ]
  },
  {
   "cell_type": "code",
   "execution_count": null,
   "id": "b9499edd",
   "metadata": {},
   "outputs": [],
   "source": [
    "# model predictions using tree\n",
    "tree_1.predict(X_train)"
   ]
  },
  {
   "cell_type": "code",
   "execution_count": null,
   "id": "03cd7a80",
   "metadata": {},
   "outputs": [],
   "source": [
    "predictions = tree_1.predict(X_train)\n",
    "actual = y_train"
   ]
  },
  {
   "cell_type": "code",
   "execution_count": null,
   "id": "4b386d2a",
   "metadata": {},
   "outputs": [],
   "source": [
    "pd.crosstab(actual, predictions)"
   ]
  },
  {
   "cell_type": "code",
   "execution_count": null,
   "id": "b6977572",
   "metadata": {},
   "outputs": [],
   "source": [
    "print(classification_report(actual, predictions))"
   ]
  },
  {
   "cell_type": "markdown",
   "id": "261dc44b",
   "metadata": {},
   "source": [
    "### 4. Compute: Accuracy, true positive rate, false positive rate, true negative rate, false negative rate, precision, recall, f1-score, and support.\n"
   ]
  },
  {
   "cell_type": "code",
   "execution_count": null,
   "id": "b5359eef",
   "metadata": {},
   "outputs": [],
   "source": [
    "TN, FP, FN, TP = confusion_matrix(y_train, y_predictions).ravel()\n",
    "TN, FP, FN, TP "
   ]
  },
  {
   "cell_type": "code",
   "execution_count": null,
   "id": "8e8b52c9",
   "metadata": {},
   "outputs": [],
   "source": [
    "# create crosstab from tree_1 model after train\n",
    "pd.crosstab(actual, predictions)"
   ]
  },
  {
   "cell_type": "code",
   "execution_count": null,
   "id": "a28ed2aa",
   "metadata": {},
   "outputs": [],
   "source": [
    "# look at accuracy of tree_1 Model\n",
    "print(classification_report(actual, predictions))"
   ]
  },
  {
   "cell_type": "markdown",
   "id": "15451617",
   "metadata": {},
   "source": [
    "### Accuracy is 0.84 for tree_1 Model"
   ]
  },
  {
   "cell_type": "markdown",
   "id": "633fbeb2",
   "metadata": {},
   "source": [
    "### 5.Run through steps 2-4 using a different max_depth value.\n"
   ]
  },
  {
   "cell_type": "code",
   "execution_count": null,
   "id": "cbdabfb6",
   "metadata": {},
   "outputs": [],
   "source": [
    "# Create the decision tree object and specify hyperparams\n",
    "tree_2 = DecisionTreeClassifier(max_depth = 7,min_samples_split = 13)"
   ]
  },
  {
   "cell_type": "code",
   "execution_count": null,
   "id": "5406011f",
   "metadata": {
    "scrolled": true
   },
   "outputs": [],
   "source": [
    "tree_2.fit(X_train, y_train)\n",
    "\n",
    "# Rudimentary visualization of model structure\n",
    "print(export_text(tree_2, feature_names=X_train.columns.tolist()))"
   ]
  },
  {
   "cell_type": "code",
   "execution_count": null,
   "id": "da153fce",
   "metadata": {
    "scrolled": true
   },
   "outputs": [],
   "source": [
    "# model predictions using tree\n",
    "tree_2.predict(X_train)"
   ]
  },
  {
   "cell_type": "code",
   "execution_count": null,
   "id": "80097938",
   "metadata": {},
   "outputs": [],
   "source": [
    "predictions = tree_2.predict(X_train)\n",
    "actual = y_train"
   ]
  },
  {
   "cell_type": "code",
   "execution_count": null,
   "id": "9c645360",
   "metadata": {},
   "outputs": [],
   "source": [
    "# create crosstab from tree_1 model after train\n",
    "pd.crosstab(actual, predictions)"
   ]
  },
  {
   "cell_type": "code",
   "execution_count": null,
   "id": "3cf74efc",
   "metadata": {
    "scrolled": true
   },
   "outputs": [],
   "source": [
    "# look at accuracy of tree_2 Model\n",
    "print(classification_report(actual, predictions))"
   ]
  },
  {
   "cell_type": "markdown",
   "id": "a063edf3",
   "metadata": {},
   "source": [
    "### Accuracy for tree_2 Model is 0.87"
   ]
  },
  {
   "cell_type": "markdown",
   "id": "84c26c4b",
   "metadata": {},
   "source": [
    "### 6. Which model performs better on your in-sample data?\n"
   ]
  },
  {
   "cell_type": "markdown",
   "id": "ce30b3f4",
   "metadata": {},
   "source": [
    "Tree_2 Model performed slightly better by 3%.\n"
   ]
  },
  {
   "cell_type": "markdown",
   "id": "6f516333",
   "metadata": {},
   "source": [
    "### 7. Which model performs best on your out-of-sample data, the validate set?"
   ]
  },
  {
   "cell_type": "code",
   "execution_count": null,
   "id": "f9160581",
   "metadata": {},
   "outputs": [],
   "source": [
    "predictions = tree_1.predict(X_validate)\n",
    "actual = y_validate\n",
    "\n",
    "print(classification_report(actual, predictions))"
   ]
  },
  {
   "cell_type": "code",
   "execution_count": null,
   "id": "2db64988",
   "metadata": {
    "scrolled": true
   },
   "outputs": [],
   "source": [
    "predictions = tree_2.predict(X_validate)\n",
    "actual = y_validate\n",
    "\n",
    "print(classification_report(actual, predictions))"
   ]
  },
  {
   "cell_type": "markdown",
   "id": "33e7bc30",
   "metadata": {},
   "source": [
    "### In terms of accuracy tree_1 Model performed better by 5%."
   ]
  },
  {
   "cell_type": "markdown",
   "id": "f96e7ad8",
   "metadata": {},
   "source": [
    "# Test Data"
   ]
  },
  {
   "cell_type": "code",
   "execution_count": null,
   "id": "8eb30772",
   "metadata": {
    "scrolled": true
   },
   "outputs": [],
   "source": [
    "predictions = tree_1.predict(X_test)\n",
    "actual = y_test\n",
    "\n",
    "print(classification_report(actual, predictions))"
   ]
  },
  {
   "cell_type": "markdown",
   "id": "055e4b74",
   "metadata": {},
   "source": [
    "### Tree_1 Model had an 83% accuracy in test data"
   ]
  },
  {
   "cell_type": "markdown",
   "id": "336e3b29",
   "metadata": {},
   "source": [
    "# Work through these same exercises using the Telco dataset.\n",
    "## Experiment with this model on other datasets with a higher number of output classes."
   ]
  },
  {
   "cell_type": "markdown",
   "id": "a9f25460",
   "metadata": {},
   "source": [
    "### Acquire"
   ]
  },
  {
   "cell_type": "code",
   "execution_count": 3,
   "id": "26600963",
   "metadata": {},
   "outputs": [],
   "source": [
    "telco_df =acquire.new_telco_data()"
   ]
  },
  {
   "cell_type": "code",
   "execution_count": 4,
   "id": "b704a297",
   "metadata": {},
   "outputs": [],
   "source": [
    "telco_df=prepare.prep_telco(telco_df)"
   ]
  },
  {
   "cell_type": "code",
   "execution_count": 5,
   "id": "d3a405d9",
   "metadata": {},
   "outputs": [
    {
     "data": {
      "text/html": [
       "<div>\n",
       "<style scoped>\n",
       "    .dataframe tbody tr th:only-of-type {\n",
       "        vertical-align: middle;\n",
       "    }\n",
       "\n",
       "    .dataframe tbody tr th {\n",
       "        vertical-align: top;\n",
       "    }\n",
       "\n",
       "    .dataframe thead th {\n",
       "        text-align: right;\n",
       "    }\n",
       "</style>\n",
       "<table border=\"1\" class=\"dataframe\">\n",
       "  <thead>\n",
       "    <tr style=\"text-align: right;\">\n",
       "      <th></th>\n",
       "      <th>customer_id</th>\n",
       "      <th>gender</th>\n",
       "      <th>senior_citizen</th>\n",
       "      <th>partner</th>\n",
       "      <th>dependents</th>\n",
       "      <th>tenure</th>\n",
       "      <th>phone_service</th>\n",
       "      <th>multiple_lines</th>\n",
       "      <th>online_security</th>\n",
       "      <th>online_backup</th>\n",
       "      <th>...</th>\n",
       "      <th>contract_type_Month-to-month</th>\n",
       "      <th>contract_type_One year</th>\n",
       "      <th>contract_type_Two year</th>\n",
       "      <th>internet_service_type_DSL</th>\n",
       "      <th>internet_service_type_Fiber optic</th>\n",
       "      <th>internet_service_type_None</th>\n",
       "      <th>payment_type_Bank transfer (automatic)</th>\n",
       "      <th>payment_type_Credit card (automatic)</th>\n",
       "      <th>payment_type_Electronic check</th>\n",
       "      <th>payment_type_Mailed check</th>\n",
       "    </tr>\n",
       "  </thead>\n",
       "  <tbody>\n",
       "    <tr>\n",
       "      <th>0</th>\n",
       "      <td>0002-ORFBO</td>\n",
       "      <td>Female</td>\n",
       "      <td>0</td>\n",
       "      <td>Yes</td>\n",
       "      <td>Yes</td>\n",
       "      <td>9</td>\n",
       "      <td>Yes</td>\n",
       "      <td>No</td>\n",
       "      <td>No</td>\n",
       "      <td>Yes</td>\n",
       "      <td>...</td>\n",
       "      <td>0</td>\n",
       "      <td>1</td>\n",
       "      <td>0</td>\n",
       "      <td>1</td>\n",
       "      <td>0</td>\n",
       "      <td>0</td>\n",
       "      <td>0</td>\n",
       "      <td>0</td>\n",
       "      <td>0</td>\n",
       "      <td>1</td>\n",
       "    </tr>\n",
       "    <tr>\n",
       "      <th>1</th>\n",
       "      <td>0003-MKNFE</td>\n",
       "      <td>Male</td>\n",
       "      <td>0</td>\n",
       "      <td>No</td>\n",
       "      <td>No</td>\n",
       "      <td>9</td>\n",
       "      <td>Yes</td>\n",
       "      <td>Yes</td>\n",
       "      <td>No</td>\n",
       "      <td>No</td>\n",
       "      <td>...</td>\n",
       "      <td>1</td>\n",
       "      <td>0</td>\n",
       "      <td>0</td>\n",
       "      <td>1</td>\n",
       "      <td>0</td>\n",
       "      <td>0</td>\n",
       "      <td>0</td>\n",
       "      <td>0</td>\n",
       "      <td>0</td>\n",
       "      <td>1</td>\n",
       "    </tr>\n",
       "    <tr>\n",
       "      <th>2</th>\n",
       "      <td>0004-TLHLJ</td>\n",
       "      <td>Male</td>\n",
       "      <td>0</td>\n",
       "      <td>No</td>\n",
       "      <td>No</td>\n",
       "      <td>4</td>\n",
       "      <td>Yes</td>\n",
       "      <td>No</td>\n",
       "      <td>No</td>\n",
       "      <td>No</td>\n",
       "      <td>...</td>\n",
       "      <td>1</td>\n",
       "      <td>0</td>\n",
       "      <td>0</td>\n",
       "      <td>0</td>\n",
       "      <td>1</td>\n",
       "      <td>0</td>\n",
       "      <td>0</td>\n",
       "      <td>0</td>\n",
       "      <td>1</td>\n",
       "      <td>0</td>\n",
       "    </tr>\n",
       "    <tr>\n",
       "      <th>3</th>\n",
       "      <td>0011-IGKFF</td>\n",
       "      <td>Male</td>\n",
       "      <td>1</td>\n",
       "      <td>Yes</td>\n",
       "      <td>No</td>\n",
       "      <td>13</td>\n",
       "      <td>Yes</td>\n",
       "      <td>No</td>\n",
       "      <td>No</td>\n",
       "      <td>Yes</td>\n",
       "      <td>...</td>\n",
       "      <td>1</td>\n",
       "      <td>0</td>\n",
       "      <td>0</td>\n",
       "      <td>0</td>\n",
       "      <td>1</td>\n",
       "      <td>0</td>\n",
       "      <td>0</td>\n",
       "      <td>0</td>\n",
       "      <td>1</td>\n",
       "      <td>0</td>\n",
       "    </tr>\n",
       "    <tr>\n",
       "      <th>4</th>\n",
       "      <td>0013-EXCHZ</td>\n",
       "      <td>Female</td>\n",
       "      <td>1</td>\n",
       "      <td>Yes</td>\n",
       "      <td>No</td>\n",
       "      <td>3</td>\n",
       "      <td>Yes</td>\n",
       "      <td>No</td>\n",
       "      <td>No</td>\n",
       "      <td>No</td>\n",
       "      <td>...</td>\n",
       "      <td>1</td>\n",
       "      <td>0</td>\n",
       "      <td>0</td>\n",
       "      <td>0</td>\n",
       "      <td>1</td>\n",
       "      <td>0</td>\n",
       "      <td>0</td>\n",
       "      <td>0</td>\n",
       "      <td>0</td>\n",
       "      <td>1</td>\n",
       "    </tr>\n",
       "  </tbody>\n",
       "</table>\n",
       "<p>5 rows × 64 columns</p>\n",
       "</div>"
      ],
      "text/plain": [
       "  customer_id  gender  senior_citizen partner dependents  tenure  \\\n",
       "0  0002-ORFBO  Female               0     Yes        Yes       9   \n",
       "1  0003-MKNFE    Male               0      No         No       9   \n",
       "2  0004-TLHLJ    Male               0      No         No       4   \n",
       "3  0011-IGKFF    Male               1     Yes         No      13   \n",
       "4  0013-EXCHZ  Female               1     Yes         No       3   \n",
       "\n",
       "  phone_service multiple_lines online_security online_backup  ...  \\\n",
       "0           Yes             No              No           Yes  ...   \n",
       "1           Yes            Yes              No            No  ...   \n",
       "2           Yes             No              No            No  ...   \n",
       "3           Yes             No              No           Yes  ...   \n",
       "4           Yes             No              No            No  ...   \n",
       "\n",
       "  contract_type_Month-to-month contract_type_One year contract_type_Two year  \\\n",
       "0                            0                      1                      0   \n",
       "1                            1                      0                      0   \n",
       "2                            1                      0                      0   \n",
       "3                            1                      0                      0   \n",
       "4                            1                      0                      0   \n",
       "\n",
       "  internet_service_type_DSL internet_service_type_Fiber optic  \\\n",
       "0                         1                                 0   \n",
       "1                         1                                 0   \n",
       "2                         0                                 1   \n",
       "3                         0                                 1   \n",
       "4                         0                                 1   \n",
       "\n",
       "   internet_service_type_None  payment_type_Bank transfer (automatic)  \\\n",
       "0                           0                                       0   \n",
       "1                           0                                       0   \n",
       "2                           0                                       0   \n",
       "3                           0                                       0   \n",
       "4                           0                                       0   \n",
       "\n",
       "  payment_type_Credit card (automatic) payment_type_Electronic check  \\\n",
       "0                                    0                             0   \n",
       "1                                    0                             0   \n",
       "2                                    0                             1   \n",
       "3                                    0                             1   \n",
       "4                                    0                             0   \n",
       "\n",
       "  payment_type_Mailed check  \n",
       "0                         1  \n",
       "1                         1  \n",
       "2                         0  \n",
       "3                         0  \n",
       "4                         1  \n",
       "\n",
       "[5 rows x 64 columns]"
      ]
     },
     "execution_count": 5,
     "metadata": {},
     "output_type": "execute_result"
    }
   ],
   "source": [
    "telco_df.head()"
   ]
  },
  {
   "cell_type": "code",
   "execution_count": 6,
   "id": "01c8284c",
   "metadata": {},
   "outputs": [
    {
     "data": {
      "text/plain": [
       "Index(['customer_id', 'gender', 'senior_citizen', 'partner', 'dependents',\n",
       "       'tenure', 'phone_service', 'multiple_lines', 'online_security',\n",
       "       'online_backup', 'device_protection', 'tech_support', 'streaming_tv',\n",
       "       'streaming_movies', 'paperless_billing', 'monthly_charges',\n",
       "       'total_charges', 'churn', 'contract_type', 'internet_service_type',\n",
       "       'payment_type', 'gender_Female', 'gender_Male', 'partner_No',\n",
       "       'partner_Yes', 'dependents_No', 'dependents_Yes', 'phone_service_No',\n",
       "       'phone_service_Yes', 'multiple_lines_No',\n",
       "       'multiple_lines_No phone service', 'multiple_lines_Yes',\n",
       "       'online_security_No', 'online_security_No internet service',\n",
       "       'online_security_Yes', 'online_backup_No',\n",
       "       'online_backup_No internet service', 'online_backup_Yes',\n",
       "       'device_protection_No', 'device_protection_No internet service',\n",
       "       'device_protection_Yes', 'tech_support_No',\n",
       "       'tech_support_No internet service', 'tech_support_Yes',\n",
       "       'streaming_tv_No', 'streaming_tv_No internet service',\n",
       "       'streaming_tv_Yes', 'streaming_movies_No',\n",
       "       'streaming_movies_No internet service', 'streaming_movies_Yes',\n",
       "       'paperless_billing_No', 'paperless_billing_Yes', 'churn_No',\n",
       "       'churn_Yes', 'contract_type_Month-to-month', 'contract_type_One year',\n",
       "       'contract_type_Two year', 'internet_service_type_DSL',\n",
       "       'internet_service_type_Fiber optic', 'internet_service_type_None',\n",
       "       'payment_type_Bank transfer (automatic)',\n",
       "       'payment_type_Credit card (automatic)', 'payment_type_Electronic check',\n",
       "       'payment_type_Mailed check'],\n",
       "      dtype='object')"
      ]
     },
     "execution_count": 6,
     "metadata": {},
     "output_type": "execute_result"
    }
   ],
   "source": [
    "telco_df.columns"
   ]
  },
  {
   "cell_type": "code",
   "execution_count": 7,
   "id": "646f1c87",
   "metadata": {},
   "outputs": [],
   "source": [
    "telco_process = telco_df.drop(columns={'customer_id','gender','partner',\n",
    "                                    'dependents',\n",
    "                                    'phone_service',\n",
    "                                    'multiple_lines',\n",
    "                                    'online_security',\n",
    "                                    'online_backup',\n",
    "                                    'device_protection', \n",
    "                                    'tech_support',\n",
    "                                    'streaming_tv',\n",
    "                                    'streaming_movies',\n",
    "                                    'paperless_billing',  \n",
    "                                    'contract_type',\n",
    "                                    'internet_service_type',\n",
    "                                    'payment_type',\n",
    "                                      'churn',\n",
    "                                       'churn_No'})"
   ]
  },
  {
   "cell_type": "code",
   "execution_count": 8,
   "id": "8ca6feea",
   "metadata": {},
   "outputs": [
    {
     "data": {
      "text/plain": [
       "['senior_citizen',\n",
       " 'tenure',\n",
       " 'monthly_charges',\n",
       " 'total_charges',\n",
       " 'gender_Female',\n",
       " 'gender_Male',\n",
       " 'partner_No',\n",
       " 'partner_Yes',\n",
       " 'dependents_No',\n",
       " 'dependents_Yes',\n",
       " 'phone_service_No',\n",
       " 'phone_service_Yes',\n",
       " 'multiple_lines_No',\n",
       " 'multiple_lines_No phone service',\n",
       " 'multiple_lines_Yes',\n",
       " 'online_security_No',\n",
       " 'online_security_No internet service',\n",
       " 'online_security_Yes',\n",
       " 'online_backup_No',\n",
       " 'online_backup_No internet service',\n",
       " 'online_backup_Yes',\n",
       " 'device_protection_No',\n",
       " 'device_protection_No internet service',\n",
       " 'device_protection_Yes',\n",
       " 'tech_support_No',\n",
       " 'tech_support_No internet service',\n",
       " 'tech_support_Yes',\n",
       " 'streaming_tv_No',\n",
       " 'streaming_tv_No internet service',\n",
       " 'streaming_tv_Yes',\n",
       " 'streaming_movies_No',\n",
       " 'streaming_movies_No internet service',\n",
       " 'streaming_movies_Yes',\n",
       " 'paperless_billing_No',\n",
       " 'paperless_billing_Yes',\n",
       " 'churn_Yes',\n",
       " 'contract_type_Month-to-month',\n",
       " 'contract_type_One year',\n",
       " 'contract_type_Two year',\n",
       " 'internet_service_type_DSL',\n",
       " 'internet_service_type_Fiber optic',\n",
       " 'internet_service_type_None',\n",
       " 'payment_type_Bank transfer (automatic)',\n",
       " 'payment_type_Credit card (automatic)',\n",
       " 'payment_type_Electronic check',\n",
       " 'payment_type_Mailed check']"
      ]
     },
     "execution_count": 8,
     "metadata": {},
     "output_type": "execute_result"
    }
   ],
   "source": [
    "telco_process.columns.to_list()"
   ]
  },
  {
   "cell_type": "code",
   "execution_count": 9,
   "id": "ff676e1a",
   "metadata": {
    "scrolled": true
   },
   "outputs": [
    {
     "data": {
      "text/plain": [
       "senior_citizen                              int64\n",
       "tenure                                      int64\n",
       "monthly_charges                           float64\n",
       "total_charges                             float64\n",
       "gender_Female                               uint8\n",
       "gender_Male                                 uint8\n",
       "partner_No                                  uint8\n",
       "partner_Yes                                 uint8\n",
       "dependents_No                               uint8\n",
       "dependents_Yes                              uint8\n",
       "phone_service_No                            uint8\n",
       "phone_service_Yes                           uint8\n",
       "multiple_lines_No                           uint8\n",
       "multiple_lines_No phone service             uint8\n",
       "multiple_lines_Yes                          uint8\n",
       "online_security_No                          uint8\n",
       "online_security_No internet service         uint8\n",
       "online_security_Yes                         uint8\n",
       "online_backup_No                            uint8\n",
       "online_backup_No internet service           uint8\n",
       "online_backup_Yes                           uint8\n",
       "device_protection_No                        uint8\n",
       "device_protection_No internet service       uint8\n",
       "device_protection_Yes                       uint8\n",
       "tech_support_No                             uint8\n",
       "tech_support_No internet service            uint8\n",
       "tech_support_Yes                            uint8\n",
       "streaming_tv_No                             uint8\n",
       "streaming_tv_No internet service            uint8\n",
       "streaming_tv_Yes                            uint8\n",
       "streaming_movies_No                         uint8\n",
       "streaming_movies_No internet service        uint8\n",
       "streaming_movies_Yes                        uint8\n",
       "paperless_billing_No                        uint8\n",
       "paperless_billing_Yes                       uint8\n",
       "churn_Yes                                   uint8\n",
       "contract_type_Month-to-month                uint8\n",
       "contract_type_One year                      uint8\n",
       "contract_type_Two year                      uint8\n",
       "internet_service_type_DSL                   uint8\n",
       "internet_service_type_Fiber optic           uint8\n",
       "internet_service_type_None                  uint8\n",
       "payment_type_Bank transfer (automatic)      uint8\n",
       "payment_type_Credit card (automatic)        uint8\n",
       "payment_type_Electronic check               uint8\n",
       "payment_type_Mailed check                   uint8\n",
       "dtype: object"
      ]
     },
     "execution_count": 9,
     "metadata": {},
     "output_type": "execute_result"
    }
   ],
   "source": [
    "# drop customer_id,gender,  \n",
    "telco_process.dtypes "
   ]
  },
  {
   "cell_type": "code",
   "execution_count": 10,
   "id": "32b89bcb",
   "metadata": {},
   "outputs": [
    {
     "data": {
      "text/plain": [
       "(7043, 46)"
      ]
     },
     "execution_count": 10,
     "metadata": {},
     "output_type": "execute_result"
    }
   ],
   "source": [
    "telco_process.shape"
   ]
  },
  {
   "cell_type": "code",
   "execution_count": 11,
   "id": "9459fbf1",
   "metadata": {},
   "outputs": [],
   "source": [
    "# Splitting dataset into X and y components before doing the train/validate/test split\n",
    "X = telco_process[['senior_citizen',\n",
    " 'tenure',\n",
    " 'monthly_charges',\n",
    " 'total_charges',\n",
    " 'gender_Female',\n",
    " 'gender_Male',\n",
    " 'partner_No',\n",
    " 'partner_Yes',\n",
    " 'dependents_No',\n",
    " 'dependents_Yes',\n",
    " 'phone_service_No',\n",
    " 'phone_service_Yes',\n",
    " 'multiple_lines_No',\n",
    " 'multiple_lines_No phone service',\n",
    " 'multiple_lines_Yes',\n",
    " 'online_security_No',\n",
    " 'online_security_No internet service',\n",
    " 'online_security_Yes',\n",
    " 'online_backup_No',\n",
    " 'online_backup_No internet service',\n",
    " 'online_backup_Yes',\n",
    " 'device_protection_No',\n",
    " 'device_protection_No internet service',\n",
    " 'device_protection_Yes',\n",
    " 'tech_support_No',\n",
    " 'tech_support_No internet service',\n",
    " 'tech_support_Yes',\n",
    " 'streaming_tv_No',\n",
    " 'streaming_tv_No internet service',\n",
    " 'streaming_tv_Yes',\n",
    " 'streaming_movies_No',\n",
    " 'streaming_movies_No internet service',\n",
    " 'streaming_movies_Yes',\n",
    " 'paperless_billing_No',\n",
    " 'paperless_billing_Yes',\n",
    " 'contract_type_Month-to-month',\n",
    " 'contract_type_One year',\n",
    " 'contract_type_Two year',\n",
    " 'internet_service_type_DSL',\n",
    " 'internet_service_type_Fiber optic',\n",
    " 'internet_service_type_None',\n",
    " 'payment_type_Bank transfer (automatic)',\n",
    " 'payment_type_Credit card (automatic)',\n",
    " 'payment_type_Electronic check',\n",
    " 'payment_type_Mailed check']]\n",
    "\n",
    "y = telco_process.churn_Yes\n",
    "\n",
    "X_train_and_validate, X_test, y_train_and_validate, y_test = train_test_split(X, y, random_state=123, test_size=.3)\n",
    "X_train, X_validate, y_train, y_validate = train_test_split(X_train_and_validate, y_train_and_validate, random_state=123, test_size=.2)"
   ]
  },
  {
   "cell_type": "code",
   "execution_count": 12,
   "id": "90807be3",
   "metadata": {},
   "outputs": [],
   "source": [
    "X_train, X_validate, X_test = prepare.impute_mean_total_charges(X_train, X_validate, X_test)"
   ]
  },
  {
   "cell_type": "code",
   "execution_count": 13,
   "id": "5c56351f",
   "metadata": {},
   "outputs": [
    {
     "data": {
      "text/plain": [
       "((3944, 45), (986, 45), (2113, 45))"
      ]
     },
     "execution_count": 13,
     "metadata": {},
     "output_type": "execute_result"
    }
   ],
   "source": [
    "X_train.shape, X_validate.shape,X_test.shape"
   ]
  },
  {
   "cell_type": "code",
   "execution_count": 14,
   "id": "fbcd2366",
   "metadata": {},
   "outputs": [
    {
     "name": "stdout",
     "output_type": "stream",
     "text": [
      "<class 'pandas.core.frame.DataFrame'>\n",
      "Int64Index: 3944 entries, 1853 to 6105\n",
      "Data columns (total 45 columns):\n",
      " #   Column                                  Non-Null Count  Dtype  \n",
      "---  ------                                  --------------  -----  \n",
      " 0   senior_citizen                          3944 non-null   int64  \n",
      " 1   tenure                                  3944 non-null   int64  \n",
      " 2   monthly_charges                         3944 non-null   float64\n",
      " 3   total_charges                           3944 non-null   float64\n",
      " 4   gender_Female                           3944 non-null   uint8  \n",
      " 5   gender_Male                             3944 non-null   uint8  \n",
      " 6   partner_No                              3944 non-null   uint8  \n",
      " 7   partner_Yes                             3944 non-null   uint8  \n",
      " 8   dependents_No                           3944 non-null   uint8  \n",
      " 9   dependents_Yes                          3944 non-null   uint8  \n",
      " 10  phone_service_No                        3944 non-null   uint8  \n",
      " 11  phone_service_Yes                       3944 non-null   uint8  \n",
      " 12  multiple_lines_No                       3944 non-null   uint8  \n",
      " 13  multiple_lines_No phone service         3944 non-null   uint8  \n",
      " 14  multiple_lines_Yes                      3944 non-null   uint8  \n",
      " 15  online_security_No                      3944 non-null   uint8  \n",
      " 16  online_security_No internet service     3944 non-null   uint8  \n",
      " 17  online_security_Yes                     3944 non-null   uint8  \n",
      " 18  online_backup_No                        3944 non-null   uint8  \n",
      " 19  online_backup_No internet service       3944 non-null   uint8  \n",
      " 20  online_backup_Yes                       3944 non-null   uint8  \n",
      " 21  device_protection_No                    3944 non-null   uint8  \n",
      " 22  device_protection_No internet service   3944 non-null   uint8  \n",
      " 23  device_protection_Yes                   3944 non-null   uint8  \n",
      " 24  tech_support_No                         3944 non-null   uint8  \n",
      " 25  tech_support_No internet service        3944 non-null   uint8  \n",
      " 26  tech_support_Yes                        3944 non-null   uint8  \n",
      " 27  streaming_tv_No                         3944 non-null   uint8  \n",
      " 28  streaming_tv_No internet service        3944 non-null   uint8  \n",
      " 29  streaming_tv_Yes                        3944 non-null   uint8  \n",
      " 30  streaming_movies_No                     3944 non-null   uint8  \n",
      " 31  streaming_movies_No internet service    3944 non-null   uint8  \n",
      " 32  streaming_movies_Yes                    3944 non-null   uint8  \n",
      " 33  paperless_billing_No                    3944 non-null   uint8  \n",
      " 34  paperless_billing_Yes                   3944 non-null   uint8  \n",
      " 35  contract_type_Month-to-month            3944 non-null   uint8  \n",
      " 36  contract_type_One year                  3944 non-null   uint8  \n",
      " 37  contract_type_Two year                  3944 non-null   uint8  \n",
      " 38  internet_service_type_DSL               3944 non-null   uint8  \n",
      " 39  internet_service_type_Fiber optic       3944 non-null   uint8  \n",
      " 40  internet_service_type_None              3944 non-null   uint8  \n",
      " 41  payment_type_Bank transfer (automatic)  3944 non-null   uint8  \n",
      " 42  payment_type_Credit card (automatic)    3944 non-null   uint8  \n",
      " 43  payment_type_Electronic check           3944 non-null   uint8  \n",
      " 44  payment_type_Mailed check               3944 non-null   uint8  \n",
      "dtypes: float64(2), int64(2), uint8(41)\n",
      "memory usage: 312.0 KB\n"
     ]
    }
   ],
   "source": [
    "X_train.info()"
   ]
  },
  {
   "cell_type": "code",
   "execution_count": 15,
   "id": "ff3dc044",
   "metadata": {
    "scrolled": true
   },
   "outputs": [
    {
     "data": {
      "text/plain": [
       "(      senior_citizen  tenure  monthly_charges  total_charges  gender_Female  \\\n",
       " 1853               0       5            20.55          99.45              0   \n",
       " 469                1       2            70.75         154.85              1   \n",
       " 1062               0      32            84.15        2585.95              1   \n",
       " 260                0      46            19.40         967.85              1   \n",
       " 6529               0       3            54.70         169.45              0   \n",
       " \n",
       "       gender_Male  partner_No  partner_Yes  dependents_No  dependents_Yes  \\\n",
       " 1853            1           0            1              0               1   \n",
       " 469             0           1            0              1               0   \n",
       " 1062            0           0            1              1               0   \n",
       " 260             0           0            1              0               1   \n",
       " 6529            1           1            0              0               1   \n",
       " \n",
       "       ...  contract_type_Month-to-month  contract_type_One year  \\\n",
       " 1853  ...                             0                       1   \n",
       " 469   ...                             1                       0   \n",
       " 1062  ...                             1                       0   \n",
       " 260   ...                             0                       0   \n",
       " 6529  ...                             1                       0   \n",
       " \n",
       "       contract_type_Two year  internet_service_type_DSL  \\\n",
       " 1853                       0                          0   \n",
       " 469                        0                          0   \n",
       " 1062                       0                          0   \n",
       " 260                        1                          0   \n",
       " 6529                       0                          1   \n",
       " \n",
       "       internet_service_type_Fiber optic  internet_service_type_None  \\\n",
       " 1853                                  0                           1   \n",
       " 469                                   1                           0   \n",
       " 1062                                  1                           0   \n",
       " 260                                   0                           1   \n",
       " 6529                                  0                           0   \n",
       " \n",
       "       payment_type_Bank transfer (automatic)  \\\n",
       " 1853                                       0   \n",
       " 469                                        0   \n",
       " 1062                                       1   \n",
       " 260                                        0   \n",
       " 6529                                       0   \n",
       " \n",
       "       payment_type_Credit card (automatic)  payment_type_Electronic check  \\\n",
       " 1853                                     0                              1   \n",
       " 469                                      0                              1   \n",
       " 1062                                     0                              0   \n",
       " 260                                      0                              0   \n",
       " 6529                                     1                              0   \n",
       " \n",
       "       payment_type_Mailed check  \n",
       " 1853                          0  \n",
       " 469                           0  \n",
       " 1062                          0  \n",
       " 260                           1  \n",
       " 6529                          0  \n",
       " \n",
       " [5 rows x 45 columns],\n",
       " 1853    0\n",
       " 469     1\n",
       " 1062    1\n",
       " 260     0\n",
       " 6529    1\n",
       " Name: churn_Yes, dtype: uint8)"
      ]
     },
     "execution_count": 15,
     "metadata": {},
     "output_type": "execute_result"
    }
   ],
   "source": [
    "X_train.head(), y_train.head()"
   ]
  },
  {
   "cell_type": "markdown",
   "id": "558bd0c6",
   "metadata": {},
   "source": [
    "### 1. What is your baseline prediction? What is your baseline accuracy? remember: your baseline prediction for a classification problem is predicting the most prevelant class in the training dataset (the mode). When you make those predictions, what is your accuracy? This is your baseline accuracy."
   ]
  },
  {
   "cell_type": "code",
   "execution_count": 16,
   "id": "cd6bee40",
   "metadata": {
    "scrolled": true
   },
   "outputs": [
    {
     "data": {
      "text/plain": [
       "2887"
      ]
     },
     "execution_count": 16,
     "metadata": {},
     "output_type": "execute_result"
    }
   ],
   "source": [
    "# 0 is the largest value count which represents customers who have not churn\n",
    "y_train.value_counts()[0]"
   ]
  },
  {
   "cell_type": "code",
   "execution_count": 17,
   "id": "93f320dc",
   "metadata": {},
   "outputs": [
    {
     "name": "stdout",
     "output_type": "stream",
     "text": [
      "baseline accuracy: 0.7319979716024341\n"
     ]
    }
   ],
   "source": [
    "baseline = y_train.value_counts()[0]/(y_train.value_counts()[0]+y_train.value_counts()[1])\n",
    "print('baseline accuracy:',baseline)"
   ]
  },
  {
   "cell_type": "markdown",
   "id": "06219545",
   "metadata": {},
   "source": [
    "### 2. Fit the decision tree classifier to your training sample and transform (i.e. make predictions on the training sample)"
   ]
  },
  {
   "cell_type": "code",
   "execution_count": 18,
   "id": "de352f22",
   "metadata": {},
   "outputs": [
    {
     "name": "stdout",
     "output_type": "stream",
     "text": [
      "|--- contract_type_Month-to-month <= 0.50\n",
      "|   |--- monthly_charges <= 94.08\n",
      "|   |   |--- online_security_No <= 0.50\n",
      "|   |   |   |--- class: 0\n",
      "|   |   |--- online_security_No >  0.50\n",
      "|   |   |   |--- class: 0\n",
      "|   |--- monthly_charges >  94.08\n",
      "|   |   |--- contract_type_One year <= 0.50\n",
      "|   |   |   |--- class: 0\n",
      "|   |   |--- contract_type_One year >  0.50\n",
      "|   |   |   |--- class: 0\n",
      "|--- contract_type_Month-to-month >  0.50\n",
      "|   |--- internet_service_type_Fiber optic <= 0.50\n",
      "|   |   |--- tenure <= 5.50\n",
      "|   |   |   |--- class: 0\n",
      "|   |   |--- tenure >  5.50\n",
      "|   |   |   |--- class: 0\n",
      "|   |--- internet_service_type_Fiber optic >  0.50\n",
      "|   |   |--- total_charges <= 1536.33\n",
      "|   |   |   |--- class: 1\n",
      "|   |   |--- total_charges >  1536.33\n",
      "|   |   |   |--- class: 0\n",
      "\n"
     ]
    }
   ],
   "source": [
    "# Create the decision tree object and specify hyperparams\n",
    "tree_1 = DecisionTreeClassifier(max_depth = 3,min_samples_split = 5)\n",
    "\n",
    "tree_1.fit(X_train, y_train)\n",
    "\n",
    "# Rudimentary visualization of model structure\n",
    "print(export_text(tree_1, feature_names=X_train.columns.tolist()))"
   ]
  },
  {
   "cell_type": "code",
   "execution_count": null,
   "id": "df9e4865",
   "metadata": {},
   "outputs": [],
   "source": []
  },
  {
   "cell_type": "code",
   "execution_count": null,
   "id": "29cbbf9a",
   "metadata": {},
   "outputs": [],
   "source": []
  }
 ],
 "metadata": {
  "kernelspec": {
   "display_name": "Python 3 (ipykernel)",
   "language": "python",
   "name": "python3"
  },
  "language_info": {
   "codemirror_mode": {
    "name": "ipython",
    "version": 3
   },
   "file_extension": ".py",
   "mimetype": "text/x-python",
   "name": "python",
   "nbconvert_exporter": "python",
   "pygments_lexer": "ipython3",
   "version": "3.9.12"
  }
 },
 "nbformat": 4,
 "nbformat_minor": 5
}
