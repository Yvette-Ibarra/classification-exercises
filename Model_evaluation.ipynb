{
 "cells": [
  {
   "cell_type": "markdown",
   "id": "cda31693",
   "metadata": {},
   "source": [
    "# $Model Evaluation $"
   ]
  },
  {
   "cell_type": "markdown",
   "id": "f5f212c8",
   "metadata": {},
   "source": [
    "### Imports"
   ]
  },
  {
   "cell_type": "code",
   "execution_count": 24,
   "id": "a66b4f5c",
   "metadata": {},
   "outputs": [],
   "source": [
    "import pandas as pd"
   ]
  },
  {
   "cell_type": "markdown",
   "id": "1e6896fb",
   "metadata": {},
   "source": [
    "# 2. \n",
    "Given the following confusion matrix, evaluate (by hand) the model's performance.\n",
    "\n",
    "|               | pred dog   | pred cat   |\n",
    "|:------------  |-----------:|-----------:|\n",
    "| actual dog    |         46 |         7  |\n",
    "| actual cat    |         13 |         34 |\n"
   ]
  },
  {
   "cell_type": "code",
   "execution_count": 20,
   "id": "3ccd8b7e",
   "metadata": {},
   "outputs": [],
   "source": [
    "def stuff (tp,fp,fn,tn):\n",
    "    \n",
    "    accuracy = (tp + tn) / (tp + fp + fn + tn)\n",
    "    recall = tp / (tp + fn)\n",
    "    precision = tp/ (tp + fp)\n",
    "    baseline = (tp+tn)/(tp + tp + fn + tn)\n",
    "    \n",
    "    print('Accuracy:', accuracy)\n",
    "    print('Recall:', recall)\n",
    "    print('Precision:', precision)\n",
    "    print('Baseline:',baseline)"
   ]
  },
  {
   "cell_type": "code",
   "execution_count": 21,
   "id": "d03e078d",
   "metadata": {
    "scrolled": true
   },
   "outputs": [
    {
     "name": "stdout",
     "output_type": "stream",
     "text": [
      "Accuracy: 0.8\n",
      "Recall: 0.8679245283018868\n",
      "Precision: 0.7796610169491526\n",
      "Baseline: 0.6015037593984962\n"
     ]
    }
   ],
   "source": [
    "stuff(46,13,7,34)\n"
   ]
  },
  {
   "cell_type": "code",
   "execution_count": null,
   "id": "a0bf88d4",
   "metadata": {},
   "outputs": [],
   "source": [
    "tp = 46\n",
    "tn = 34\n",
    "fp = 13\n",
    "fn = 7"
   ]
  },
  {
   "cell_type": "markdown",
   "id": "afe6b37a",
   "metadata": {},
   "source": [
    "In the context of this problem, what is a false positive?"
   ]
  },
  {
   "cell_type": "code",
   "execution_count": null,
   "id": "b00ebc41",
   "metadata": {},
   "outputs": [],
   "source": [
    "predicted dog, actual cat"
   ]
  },
  {
   "cell_type": "markdown",
   "id": "5c0397ff",
   "metadata": {},
   "source": [
    "In the context of this problem, what is a false negative?"
   ]
  },
  {
   "cell_type": "code",
   "execution_count": null,
   "id": "ea130c31",
   "metadata": {},
   "outputs": [],
   "source": [
    "predicted cat, actual dog"
   ]
  },
  {
   "cell_type": "markdown",
   "id": "dad38513",
   "metadata": {},
   "source": [
    "How would you describe this model?"
   ]
  },
  {
   "cell_type": "code",
   "execution_count": null,
   "id": "11114509",
   "metadata": {},
   "outputs": [],
   "source": [
    "The models accuracy, recall and precision is good because it is above the baseline."
   ]
  },
  {
   "cell_type": "markdown",
   "id": "2a7d0201",
   "metadata": {},
   "source": [
    "### 3. \n",
    "You are working as a datascientist working for Codeup Cody Creator (C3 for short), a rubber-duck manufacturing plant.\n",
    "\n",
    "Unfortunately, some of the rubber ducks that are produced will have defects. Your team has built several models that try to predict those defects, and the data from their predictions can be found here."
   ]
  },
  {
   "cell_type": "code",
   "execution_count": 26,
   "id": "505e1db1",
   "metadata": {},
   "outputs": [
    {
     "data": {
      "text/html": [
       "<div>\n",
       "<style scoped>\n",
       "    .dataframe tbody tr th:only-of-type {\n",
       "        vertical-align: middle;\n",
       "    }\n",
       "\n",
       "    .dataframe tbody tr th {\n",
       "        vertical-align: top;\n",
       "    }\n",
       "\n",
       "    .dataframe thead th {\n",
       "        text-align: right;\n",
       "    }\n",
       "</style>\n",
       "<table border=\"1\" class=\"dataframe\">\n",
       "  <thead>\n",
       "    <tr style=\"text-align: right;\">\n",
       "      <th></th>\n",
       "      <th>actual</th>\n",
       "      <th>model1</th>\n",
       "      <th>model2</th>\n",
       "      <th>model3</th>\n",
       "    </tr>\n",
       "  </thead>\n",
       "  <tbody>\n",
       "    <tr>\n",
       "      <th>50</th>\n",
       "      <td>No Defect</td>\n",
       "      <td>No Defect</td>\n",
       "      <td>Defect</td>\n",
       "      <td>Defect</td>\n",
       "    </tr>\n",
       "    <tr>\n",
       "      <th>142</th>\n",
       "      <td>No Defect</td>\n",
       "      <td>No Defect</td>\n",
       "      <td>No Defect</td>\n",
       "      <td>No Defect</td>\n",
       "    </tr>\n",
       "    <tr>\n",
       "      <th>141</th>\n",
       "      <td>No Defect</td>\n",
       "      <td>No Defect</td>\n",
       "      <td>Defect</td>\n",
       "      <td>Defect</td>\n",
       "    </tr>\n",
       "    <tr>\n",
       "      <th>107</th>\n",
       "      <td>No Defect</td>\n",
       "      <td>No Defect</td>\n",
       "      <td>No Defect</td>\n",
       "      <td>No Defect</td>\n",
       "    </tr>\n",
       "    <tr>\n",
       "      <th>159</th>\n",
       "      <td>No Defect</td>\n",
       "      <td>No Defect</td>\n",
       "      <td>Defect</td>\n",
       "      <td>No Defect</td>\n",
       "    </tr>\n",
       "    <tr>\n",
       "      <th>7</th>\n",
       "      <td>No Defect</td>\n",
       "      <td>No Defect</td>\n",
       "      <td>Defect</td>\n",
       "      <td>No Defect</td>\n",
       "    </tr>\n",
       "    <tr>\n",
       "      <th>85</th>\n",
       "      <td>No Defect</td>\n",
       "      <td>No Defect</td>\n",
       "      <td>No Defect</td>\n",
       "      <td>No Defect</td>\n",
       "    </tr>\n",
       "    <tr>\n",
       "      <th>194</th>\n",
       "      <td>Defect</td>\n",
       "      <td>Defect</td>\n",
       "      <td>No Defect</td>\n",
       "      <td>Defect</td>\n",
       "    </tr>\n",
       "    <tr>\n",
       "      <th>138</th>\n",
       "      <td>No Defect</td>\n",
       "      <td>No Defect</td>\n",
       "      <td>Defect</td>\n",
       "      <td>No Defect</td>\n",
       "    </tr>\n",
       "    <tr>\n",
       "      <th>49</th>\n",
       "      <td>No Defect</td>\n",
       "      <td>No Defect</td>\n",
       "      <td>No Defect</td>\n",
       "      <td>No Defect</td>\n",
       "    </tr>\n",
       "  </tbody>\n",
       "</table>\n",
       "</div>"
      ],
      "text/plain": [
       "        actual     model1     model2     model3\n",
       "50   No Defect  No Defect     Defect     Defect\n",
       "142  No Defect  No Defect  No Defect  No Defect\n",
       "141  No Defect  No Defect     Defect     Defect\n",
       "107  No Defect  No Defect  No Defect  No Defect\n",
       "159  No Defect  No Defect     Defect  No Defect\n",
       "7    No Defect  No Defect     Defect  No Defect\n",
       "85   No Defect  No Defect  No Defect  No Defect\n",
       "194     Defect     Defect  No Defect     Defect\n",
       "138  No Defect  No Defect     Defect  No Defect\n",
       "49   No Defect  No Defect  No Defect  No Defect"
      ]
     },
     "execution_count": 26,
     "metadata": {},
     "output_type": "execute_result"
    }
   ],
   "source": [
    "c3 = pd.read_csv('c3.csv')\n",
    "c3.sample(10)"
   ]
  },
  {
   "cell_type": "markdown",
   "id": "1a6c900d",
   "metadata": {},
   "source": [
    "* An internal team wants to investigate the cause of the manufacturing defects. They tell you that they want to identify as many of the ducks that have a defect as possible. Which evaluation metric would be appropriate here? Which model would be the best fit for this use case?"
   ]
  },
  {
   "cell_type": "markdown",
   "id": "7edb918a",
   "metadata": {},
   "source": [
    "Positive: duck is defect free\n",
    "\n",
    "Negative: duck has a defect\n",
    "\n",
    "TP: we predict duck is defect free and duck is defect free___\n",
    "FP: we predict duck is defect free and duck is has a defect\n",
    "\n",
    "TN: we predict duck has a defect and duck has a defect___\n",
    "FN: we predict duck has a defect and duck is defect free\n",
    "\n",
    "\n",
    "|           |    +       |     -      |\n",
    "|:----------|-----------:|-----------:|\n",
    "|      +    |            |            |\n",
    "|           |     TP     |     FP     |\n",
    "|           |            |            |\n",
    "|:----------|-----------:|-----------:|   \n",
    "|           |            |            |\n",
    "|      -    |      FN    |     TN     |\n",
    "|           |            |            |\n",
    "\n",
    "A false positive would be the worst situation. So the best the appropriate metric here would lessen type 1 errors which is ***precision***\n"
   ]
  },
  {
   "cell_type": "markdown",
   "id": "99a8ba07",
   "metadata": {},
   "source": [
    "* Recently several stories in the local news have come out highlighting customers who received a rubber duck with a defect, and portraying C3 in a bad light. The PR team has decided to launch a program that gives customers with a defective duck a vacation to Hawaii. They need you to predict which ducks will have defects, but tell you the really don't want to accidentally give out a vacation package when the duck really doesn't have a defect. Which evaluation metric would be appropriate here? Which model would be the best fit for this use case?"
   ]
  },
  {
   "cell_type": "code",
   "execution_count": null,
   "id": "370a24aa",
   "metadata": {},
   "outputs": [],
   "source": []
  }
 ],
 "metadata": {
  "kernelspec": {
   "display_name": "Python 3 (ipykernel)",
   "language": "python",
   "name": "python3"
  },
  "language_info": {
   "codemirror_mode": {
    "name": "ipython",
    "version": 3
   },
   "file_extension": ".py",
   "mimetype": "text/x-python",
   "name": "python",
   "nbconvert_exporter": "python",
   "pygments_lexer": "ipython3",
   "version": "3.9.12"
  }
 },
 "nbformat": 4,
 "nbformat_minor": 5
}
